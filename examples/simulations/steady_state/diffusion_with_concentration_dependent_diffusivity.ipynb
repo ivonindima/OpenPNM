{
 "cells": [
  {
   "cell_type": "markdown",
   "metadata": {},
   "source": [
    "# Fickian Diffusion with Variable Diffusivity\n",
    "\n",
    "In this example, we will implement a Fickian diffusion algorithm on a `Cubic` network assumming a variable diffusivity, such that diffusivity is significantly higher at high concentrations."
   ]
  },
  {
   "cell_type": "code",
   "execution_count": 1,
   "metadata": {
    "execution": {
     "iopub.execute_input": "2022-03-23T01:24:49.897929Z",
     "iopub.status.busy": "2022-03-23T01:24:49.897736Z",
     "iopub.status.idle": "2022-03-23T01:24:51.407915Z",
     "shell.execute_reply": "2022-03-23T01:24:51.407318Z"
    }
   },
   "outputs": [],
   "source": [
    "import numpy as np\n",
    "import openpnm as op\n",
    "%config InlineBackend.figure_formats = ['svg']\n",
    "import matplotlib.pyplot as plt\n",
    "np.random.seed(10)\n",
    "ws = op.Workspace()"
   ]
  },
  {
   "cell_type": "markdown",
   "metadata": {},
   "source": [
    "## Creating network, phase and geometry\n",
    "We create a `Cubic` network and add the geometry and phase objects. Note that the same procedure can be applied on extracted networks and 3D networks. Here for simplicity and visualization we chose a 2D cubic network."
   ]
  },
  {
   "cell_type": "code",
   "execution_count": 2,
   "metadata": {
    "execution": {
     "iopub.execute_input": "2022-03-23T01:24:51.411073Z",
     "iopub.status.busy": "2022-03-23T01:24:51.410838Z",
     "iopub.status.idle": "2022-03-23T01:24:51.894823Z",
     "shell.execute_reply": "2022-03-23T01:24:51.894292Z"
    }
   },
   "outputs": [
    {
     "ename": "AttributeError",
     "evalue": "module 'openpnm' has no attribute 'phases'",
     "output_type": "error",
     "traceback": [
      "\u001b[0;31m---------------------------------------------------------------------------\u001b[0m",
      "\u001b[0;31mAttributeError\u001b[0m                            Traceback (most recent call last)",
      "Input \u001b[0;32mIn [2]\u001b[0m, in \u001b[0;36m<cell line: 3>\u001b[0;34m()\u001b[0m\n\u001b[1;32m      1\u001b[0m net \u001b[38;5;241m=\u001b[39m op\u001b[38;5;241m.\u001b[39mnetwork\u001b[38;5;241m.\u001b[39mCubic([\u001b[38;5;241m1\u001b[39m, \u001b[38;5;241m15\u001b[39m, \u001b[38;5;241m15\u001b[39m], spacing\u001b[38;5;241m=\u001b[39m\u001b[38;5;241m1e-5\u001b[39m)\n\u001b[1;32m      2\u001b[0m geom \u001b[38;5;241m=\u001b[39m op\u001b[38;5;241m.\u001b[39mgeometry\u001b[38;5;241m.\u001b[39mSpheresAndCylinders(network\u001b[38;5;241m=\u001b[39mnet, pores\u001b[38;5;241m=\u001b[39mnet\u001b[38;5;241m.\u001b[39mPs, throats\u001b[38;5;241m=\u001b[39mnet\u001b[38;5;241m.\u001b[39mTs)\n\u001b[0;32m----> 3\u001b[0m air \u001b[38;5;241m=\u001b[39m \u001b[43mop\u001b[49m\u001b[38;5;241;43m.\u001b[39;49m\u001b[43mphases\u001b[49m\u001b[38;5;241m.\u001b[39mWater(network\u001b[38;5;241m=\u001b[39mnet)\n",
      "\u001b[0;31mAttributeError\u001b[0m: module 'openpnm' has no attribute 'phases'"
     ]
    }
   ],
   "source": [
    "net = op.network.Cubic([1, 15, 15], spacing=1e-5)\n",
    "geom = op.geometry.SpheresAndCylinders(network=net, pores=net.Ps, throats=net.Ts)\n",
    "air = op.phases.Water(network=net)"
   ]
  },
  {
   "cell_type": "markdown",
   "metadata": {},
   "source": [
    "## Adding the diffusivity model\n",
    "We assume that the diffusivity of the phase air is not constant and is a function of the concentration of the species. Therefore, we define a model to calculate the `pore.diffusivity` at each concentration."
   ]
  },
  {
   "cell_type": "code",
   "execution_count": 3,
   "metadata": {
    "execution": {
     "iopub.execute_input": "2022-03-23T01:24:51.897659Z",
     "iopub.status.busy": "2022-03-23T01:24:51.897382Z",
     "iopub.status.idle": "2022-03-23T01:24:51.900361Z",
     "shell.execute_reply": "2022-03-23T01:24:51.899864Z"
    }
   },
   "outputs": [],
   "source": [
    "def variable_diffusivity(target, c_ref, pore_concentration=\"pore.concentration\"):\n",
    "    X = target[pore_concentration]\n",
    "    val = 1e-9 * (1 + 5 * (X / c_ref) ** 2)\n",
    "    return val"
   ]
  },
  {
   "cell_type": "code",
   "execution_count": 4,
   "metadata": {
    "execution": {
     "iopub.execute_input": "2022-03-23T01:24:51.902691Z",
     "iopub.status.busy": "2022-03-23T01:24:51.902360Z",
     "iopub.status.idle": "2022-03-23T01:24:51.915385Z",
     "shell.execute_reply": "2022-03-23T01:24:51.914899Z"
    }
   },
   "outputs": [
    {
     "ename": "NameError",
     "evalue": "name 'air' is not defined",
     "output_type": "error",
     "traceback": [
      "\u001b[0;31m---------------------------------------------------------------------------\u001b[0m",
      "\u001b[0;31mNameError\u001b[0m                                 Traceback (most recent call last)",
      "Input \u001b[0;32mIn [4]\u001b[0m, in \u001b[0;36m<cell line: 1>\u001b[0;34m()\u001b[0m\n\u001b[0;32m----> 1\u001b[0m \u001b[43mair\u001b[49m\u001b[38;5;241m.\u001b[39madd_model(propname\u001b[38;5;241m=\u001b[39m\u001b[38;5;124m\"\u001b[39m\u001b[38;5;124mpore.diffusivity\u001b[39m\u001b[38;5;124m\"\u001b[39m, model\u001b[38;5;241m=\u001b[39mvariable_diffusivity, c_ref\u001b[38;5;241m=\u001b[39m\u001b[38;5;241m10.0\u001b[39m,\n\u001b[1;32m      2\u001b[0m               regen_mode\u001b[38;5;241m=\u001b[39m\u001b[38;5;124m\"\u001b[39m\u001b[38;5;124mdeferred\u001b[39m\u001b[38;5;124m\"\u001b[39m)\n\u001b[1;32m      3\u001b[0m phys \u001b[38;5;241m=\u001b[39m op\u001b[38;5;241m.\u001b[39mphysics\u001b[38;5;241m.\u001b[39mStandard(network\u001b[38;5;241m=\u001b[39mnet, geometry\u001b[38;5;241m=\u001b[39mgeom, phase\u001b[38;5;241m=\u001b[39mair)\n",
      "\u001b[0;31mNameError\u001b[0m: name 'air' is not defined"
     ]
    }
   ],
   "source": [
    "air.add_model(propname=\"pore.diffusivity\", model=variable_diffusivity, c_ref=10.0,\n",
    "              regen_mode=\"deferred\")\n",
    "phys = op.physics.Standard(network=net, geometry=geom, phase=air)"
   ]
  },
  {
   "cell_type": "markdown",
   "metadata": {},
   "source": [
    "## Performing Fickian diffusion\n",
    "We then add the the FickianDiffusion algorithm to our simulation and define \"Dirichlet\" boundary conditions assigned to the  pores that are on the top and the bottom face of the network. Note that values=10.0 for the first boundary condition means that the pore concentration of each pore (that is on the `top` boundary face) is equal to 10.0."
   ]
  },
  {
   "cell_type": "code",
   "execution_count": 5,
   "metadata": {
    "execution": {
     "iopub.execute_input": "2022-03-23T01:24:51.918131Z",
     "iopub.status.busy": "2022-03-23T01:24:51.917802Z",
     "iopub.status.idle": "2022-03-23T01:24:51.930510Z",
     "shell.execute_reply": "2022-03-23T01:24:51.930026Z"
    }
   },
   "outputs": [
    {
     "ename": "NameError",
     "evalue": "name 'air' is not defined",
     "output_type": "error",
     "traceback": [
      "\u001b[0;31m---------------------------------------------------------------------------\u001b[0m",
      "\u001b[0;31mNameError\u001b[0m                                 Traceback (most recent call last)",
      "Input \u001b[0;32mIn [5]\u001b[0m, in \u001b[0;36m<cell line: 1>\u001b[0;34m()\u001b[0m\n\u001b[0;32m----> 1\u001b[0m fd \u001b[38;5;241m=\u001b[39m op\u001b[38;5;241m.\u001b[39malgorithms\u001b[38;5;241m.\u001b[39mFickianDiffusion(network\u001b[38;5;241m=\u001b[39mnet, phase\u001b[38;5;241m=\u001b[39m\u001b[43mair\u001b[49m)\n\u001b[1;32m      2\u001b[0m fd\u001b[38;5;241m.\u001b[39mset_value_BC(pores\u001b[38;5;241m=\u001b[39mnet\u001b[38;5;241m.\u001b[39mpores(\u001b[38;5;124m'\u001b[39m\u001b[38;5;124mtop\u001b[39m\u001b[38;5;124m'\u001b[39m), values\u001b[38;5;241m=\u001b[39m\u001b[38;5;241m10.0\u001b[39m)\n\u001b[1;32m      3\u001b[0m fd\u001b[38;5;241m.\u001b[39mset_value_BC(pores\u001b[38;5;241m=\u001b[39mnet\u001b[38;5;241m.\u001b[39mpores(\u001b[38;5;124m'\u001b[39m\u001b[38;5;124mbottom\u001b[39m\u001b[38;5;124m'\u001b[39m), values\u001b[38;5;241m=\u001b[39m\u001b[38;5;241m0.0\u001b[39m)\n",
      "\u001b[0;31mNameError\u001b[0m: name 'air' is not defined"
     ]
    }
   ],
   "source": [
    "fd = op.algorithms.FickianDiffusion(network=net, phase=air)\n",
    "fd.set_value_BC(pores=net.pores('top'), values=10.0)\n",
    "fd.set_value_BC(pores=net.pores('bottom'), values=0.0)\n",
    "fd.run()"
   ]
  },
  {
   "cell_type": "markdown",
   "metadata": {},
   "source": [
    "## Visualizing\n",
    "\n",
    "We can visualize the average concentration distribution along the x direction (from the left boundary face towards the right boundary face)"
   ]
  },
  {
   "cell_type": "code",
   "execution_count": 6,
   "metadata": {
    "execution": {
     "iopub.execute_input": "2022-03-23T01:24:51.933495Z",
     "iopub.status.busy": "2022-03-23T01:24:51.933098Z",
     "iopub.status.idle": "2022-03-23T01:24:51.946826Z",
     "shell.execute_reply": "2022-03-23T01:24:51.946335Z"
    }
   },
   "outputs": [
    {
     "ename": "NameError",
     "evalue": "name 'air' is not defined",
     "output_type": "error",
     "traceback": [
      "\u001b[0;31m---------------------------------------------------------------------------\u001b[0m",
      "\u001b[0;31mNameError\u001b[0m                                 Traceback (most recent call last)",
      "Input \u001b[0;32mIn [6]\u001b[0m, in \u001b[0;36m<cell line: 1>\u001b[0;34m()\u001b[0m\n\u001b[0;32m----> 1\u001b[0m \u001b[43mair\u001b[49m\u001b[38;5;241m.\u001b[39mupdate(fd\u001b[38;5;241m.\u001b[39mresults())\n\u001b[1;32m      2\u001b[0m c\u001b[38;5;241m=\u001b[39mair[\u001b[38;5;124m'\u001b[39m\u001b[38;5;124mpore.concentration\u001b[39m\u001b[38;5;124m'\u001b[39m]\n\u001b[1;32m      3\u001b[0m fig, ax \u001b[38;5;241m=\u001b[39m plt\u001b[38;5;241m.\u001b[39msubplots()\n",
      "\u001b[0;31mNameError\u001b[0m: name 'air' is not defined"
     ]
    }
   ],
   "source": [
    "air.update(fd.results())\n",
    "c=air['pore.concentration']\n",
    "fig, ax = plt.subplots()\n",
    "c_xz_avg = c.reshape(op.topotools.get_shape(net)).mean(axis=(0, 1))\n",
    "ax.plot(c_xz_avg, \"ko-\")\n",
    "ax.set_xlabel(r\"z\")\n",
    "ax.set_ylabel(r\"c\")\n",
    "plt.show()"
   ]
  },
  {
   "cell_type": "markdown",
   "metadata": {},
   "source": [
    "The concentration of species throughout the network is:"
   ]
  },
  {
   "cell_type": "code",
   "execution_count": 7,
   "metadata": {
    "execution": {
     "iopub.execute_input": "2022-03-23T01:24:51.949069Z",
     "iopub.status.busy": "2022-03-23T01:24:51.948816Z",
     "iopub.status.idle": "2022-03-23T01:24:51.961188Z",
     "shell.execute_reply": "2022-03-23T01:24:51.960699Z"
    }
   },
   "outputs": [
    {
     "ename": "NameError",
     "evalue": "name 'c' is not defined",
     "output_type": "error",
     "traceback": [
      "\u001b[0;31m---------------------------------------------------------------------------\u001b[0m",
      "\u001b[0;31mNameError\u001b[0m                                 Traceback (most recent call last)",
      "Input \u001b[0;32mIn [7]\u001b[0m, in \u001b[0;36m<cell line: 1>\u001b[0;34m()\u001b[0m\n\u001b[0;32m----> 1\u001b[0m c2d \u001b[38;5;241m=\u001b[39m \u001b[43mc\u001b[49m\u001b[38;5;241m.\u001b[39mreshape(op\u001b[38;5;241m.\u001b[39mtopotools\u001b[38;5;241m.\u001b[39mget_shape(net))\u001b[38;5;241m.\u001b[39msqueeze()\n\u001b[1;32m      2\u001b[0m plt\u001b[38;5;241m.\u001b[39mimshow(np\u001b[38;5;241m.\u001b[39mrot90(c2d))\n\u001b[1;32m      3\u001b[0m plt\u001b[38;5;241m.\u001b[39mcolorbar()\n",
      "\u001b[0;31mNameError\u001b[0m: name 'c' is not defined"
     ]
    }
   ],
   "source": [
    "c2d = c.reshape(op.topotools.get_shape(net)).squeeze()\n",
    "plt.imshow(np.rot90(c2d))\n",
    "plt.colorbar()"
   ]
  }
 ],
 "metadata": {
  "@webio": {
   "lastCommId": null,
   "lastKernelId": null
  },
  "kernelspec": {
   "display_name": "Python 3",
   "language": "python",
   "name": "python3"
  },
  "language_info": {
   "codemirror_mode": {
    "name": "ipython",
    "version": 3
   },
   "file_extension": ".py",
   "mimetype": "text/x-python",
   "name": "python",
   "nbconvert_exporter": "python",
   "pygments_lexer": "ipython3",
   "version": "3.8.12"
  }
 },
 "nbformat": 4,
 "nbformat_minor": 4
}
