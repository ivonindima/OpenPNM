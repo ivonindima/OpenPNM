{
 "cells": [
  {
   "cell_type": "markdown",
   "metadata": {},
   "source": [
    "# Storage of Network Data and Topology"
   ]
  },
  {
   "cell_type": "code",
   "execution_count": 1,
   "metadata": {
    "execution": {
     "iopub.execute_input": "2022-04-20T03:06:07.067308Z",
     "iopub.status.busy": "2022-04-20T03:06:07.065082Z",
     "iopub.status.idle": "2022-04-20T03:06:08.395104Z",
     "shell.execute_reply": "2022-04-20T03:06:08.394455Z"
    }
   },
   "outputs": [],
   "source": [
    "import openpnm as op\n",
    "%config InlineBackend.figure_formats = ['svg']\n",
    "import numpy as np\n",
    "np.random.seed(0)"
   ]
  },
  {
   "cell_type": "markdown",
   "metadata": {},
   "source": [
    "## Spreadsheet Analogy\n",
    "\n",
    "The best analogy for explaining data storage in OpenPNM is the humble spreadsheet.  According to this analogy, each pore (or throat) corresponds to a row and each property corresponds to a column."
   ]
  },
  {
   "cell_type": "markdown",
   "metadata": {},
   "source": [
    "Consider the following network with 4 pores, 3 throats:"
   ]
  },
  {
   "cell_type": "code",
   "execution_count": 2,
   "metadata": {
    "execution": {
     "iopub.execute_input": "2022-04-20T03:06:08.400227Z",
     "iopub.status.busy": "2022-04-20T03:06:08.399178Z",
     "iopub.status.idle": "2022-04-20T03:06:08.486919Z",
     "shell.execute_reply": "2022-04-20T03:06:08.486410Z"
    }
   },
   "outputs": [],
   "source": [
    "pn = op.network.Cubic(shape=[4, 1, 1])\n",
    "geo = op.geometry.SpheresAndCylinders(network=pn, pores=pn.Ps, throats=pn.Ts)"
   ]
  },
  {
   "cell_type": "markdown",
   "metadata": {},
   "source": [
    "Let's use ``pandas`` to express the geometric properties as a 'spreadsheet':"
   ]
  },
  {
   "cell_type": "code",
   "execution_count": 3,
   "metadata": {
    "execution": {
     "iopub.execute_input": "2022-04-20T03:06:08.491599Z",
     "iopub.status.busy": "2022-04-20T03:06:08.490545Z",
     "iopub.status.idle": "2022-04-20T03:06:08.495866Z",
     "shell.execute_reply": "2022-04-20T03:06:08.495437Z"
    }
   },
   "outputs": [],
   "source": [
    "import pandas as pd\n",
    "# Let's pull out only the pore properties from the geometry\n",
    "pore_data_sheet = pd.DataFrame({i: geo[i] for i in geo.props(element='pore')})"
   ]
  },
  {
   "cell_type": "markdown",
   "metadata": {},
   "source": [
    "We can now view this 'spreadsheet':"
   ]
  },
  {
   "cell_type": "code",
   "execution_count": 4,
   "metadata": {
    "execution": {
     "iopub.execute_input": "2022-04-20T03:06:08.499869Z",
     "iopub.status.busy": "2022-04-20T03:06:08.498874Z",
     "iopub.status.idle": "2022-04-20T03:06:08.515751Z",
     "shell.execute_reply": "2022-04-20T03:06:08.515352Z"
    }
   },
   "outputs": [
    {
     "data": {
      "text/html": [
       "<div>\n",
       "<style scoped>\n",
       "    .dataframe tbody tr th:only-of-type {\n",
       "        vertical-align: middle;\n",
       "    }\n",
       "\n",
       "    .dataframe tbody tr th {\n",
       "        vertical-align: top;\n",
       "    }\n",
       "\n",
       "    .dataframe thead th {\n",
       "        text-align: right;\n",
       "    }\n",
       "</style>\n",
       "<table border=\"1\" class=\"dataframe\">\n",
       "  <thead>\n",
       "    <tr style=\"text-align: right;\">\n",
       "      <th></th>\n",
       "      <th>pore.diameter</th>\n",
       "      <th>pore.seed</th>\n",
       "      <th>pore.max_size</th>\n",
       "      <th>pore.volume</th>\n",
       "    </tr>\n",
       "  </thead>\n",
       "  <tbody>\n",
       "    <tr>\n",
       "      <th>0</th>\n",
       "      <td>0.474407</td>\n",
       "      <td>0.474407</td>\n",
       "      <td>1.0</td>\n",
       "      <td>0.055905</td>\n",
       "    </tr>\n",
       "    <tr>\n",
       "      <th>1</th>\n",
       "      <td>0.557595</td>\n",
       "      <td>0.557595</td>\n",
       "      <td>1.0</td>\n",
       "      <td>0.090773</td>\n",
       "    </tr>\n",
       "    <tr>\n",
       "      <th>2</th>\n",
       "      <td>0.501382</td>\n",
       "      <td>0.501382</td>\n",
       "      <td>1.0</td>\n",
       "      <td>0.065994</td>\n",
       "    </tr>\n",
       "    <tr>\n",
       "      <th>3</th>\n",
       "      <td>0.472442</td>\n",
       "      <td>0.472442</td>\n",
       "      <td>1.0</td>\n",
       "      <td>0.055213</td>\n",
       "    </tr>\n",
       "  </tbody>\n",
       "</table>\n",
       "</div>"
      ],
      "text/plain": [
       "   pore.diameter  pore.seed  pore.max_size  pore.volume\n",
       "0       0.474407   0.474407            1.0     0.055905\n",
       "1       0.557595   0.557595            1.0     0.090773\n",
       "2       0.501382   0.501382            1.0     0.065994\n",
       "3       0.472442   0.472442            1.0     0.055213"
      ]
     },
     "execution_count": 4,
     "metadata": {},
     "output_type": "execute_result"
    }
   ],
   "source": [
    "pore_data_sheet"
   ]
  },
  {
   "cell_type": "markdown",
   "metadata": {},
   "source": [
    "The properties are the 'column' names, such as 'pore.area', and the rows correspond to the pore index, so 'pore 0' has an area of 0.176763.  "
   ]
  },
  {
   "cell_type": "markdown",
   "metadata": {},
   "source": [
    "One could also extract an entire column using:"
   ]
  },
  {
   "cell_type": "code",
   "execution_count": 5,
   "metadata": {
    "execution": {
     "iopub.execute_input": "2022-04-20T03:06:08.519610Z",
     "iopub.status.busy": "2022-04-20T03:06:08.518634Z",
     "iopub.status.idle": "2022-04-20T03:06:10.911333Z",
     "shell.execute_reply": "2022-04-20T03:06:10.910790Z"
    }
   },
   "outputs": [
    {
     "ename": "KeyError",
     "evalue": "'pore.cross_sectional_area'",
     "output_type": "error",
     "traceback": [
      "\u001b[0;31m---------------------------------------------------------------------------\u001b[0m",
      "\u001b[0;31mKeyError\u001b[0m                                  Traceback (most recent call last)",
      "File \u001b[0;32m/usr/share/miniconda3/envs/test/lib/python3.8/site-packages/pandas/core/indexes/base.py:3621\u001b[0m, in \u001b[0;36mIndex.get_loc\u001b[0;34m(self, key, method, tolerance)\u001b[0m\n\u001b[1;32m   3620\u001b[0m \u001b[38;5;28;01mtry\u001b[39;00m:\n\u001b[0;32m-> 3621\u001b[0m     \u001b[38;5;28;01mreturn\u001b[39;00m \u001b[38;5;28;43mself\u001b[39;49m\u001b[38;5;241;43m.\u001b[39;49m\u001b[43m_engine\u001b[49m\u001b[38;5;241;43m.\u001b[39;49m\u001b[43mget_loc\u001b[49m\u001b[43m(\u001b[49m\u001b[43mcasted_key\u001b[49m\u001b[43m)\u001b[49m\n\u001b[1;32m   3622\u001b[0m \u001b[38;5;28;01mexcept\u001b[39;00m \u001b[38;5;167;01mKeyError\u001b[39;00m \u001b[38;5;28;01mas\u001b[39;00m err:\n",
      "File \u001b[0;32m/usr/share/miniconda3/envs/test/lib/python3.8/site-packages/pandas/_libs/index.pyx:136\u001b[0m, in \u001b[0;36mpandas._libs.index.IndexEngine.get_loc\u001b[0;34m()\u001b[0m\n",
      "File \u001b[0;32m/usr/share/miniconda3/envs/test/lib/python3.8/site-packages/pandas/_libs/index.pyx:163\u001b[0m, in \u001b[0;36mpandas._libs.index.IndexEngine.get_loc\u001b[0;34m()\u001b[0m\n",
      "File \u001b[0;32mpandas/_libs/hashtable_class_helper.pxi:5198\u001b[0m, in \u001b[0;36mpandas._libs.hashtable.PyObjectHashTable.get_item\u001b[0;34m()\u001b[0m\n",
      "File \u001b[0;32mpandas/_libs/hashtable_class_helper.pxi:5206\u001b[0m, in \u001b[0;36mpandas._libs.hashtable.PyObjectHashTable.get_item\u001b[0;34m()\u001b[0m\n",
      "\u001b[0;31mKeyError\u001b[0m: 'pore.cross_sectional_area'",
      "\nThe above exception was the direct cause of the following exception:\n",
      "\u001b[0;31mKeyError\u001b[0m                                  Traceback (most recent call last)",
      "Input \u001b[0;32mIn [5]\u001b[0m, in \u001b[0;36m<cell line: 1>\u001b[0;34m()\u001b[0m\n\u001b[0;32m----> 1\u001b[0m pore_area_column \u001b[38;5;241m=\u001b[39m \u001b[43mpore_data_sheet\u001b[49m\u001b[43m[\u001b[49m\u001b[38;5;124;43m'\u001b[39;49m\u001b[38;5;124;43mpore.cross_sectional_area\u001b[39;49m\u001b[38;5;124;43m'\u001b[39;49m\u001b[43m]\u001b[49m\n\u001b[1;32m      2\u001b[0m \u001b[38;5;28mprint\u001b[39m(pore_area_column)\n",
      "File \u001b[0;32m/usr/share/miniconda3/envs/test/lib/python3.8/site-packages/pandas/core/frame.py:3505\u001b[0m, in \u001b[0;36mDataFrame.__getitem__\u001b[0;34m(self, key)\u001b[0m\n\u001b[1;32m   3503\u001b[0m \u001b[38;5;28;01mif\u001b[39;00m \u001b[38;5;28mself\u001b[39m\u001b[38;5;241m.\u001b[39mcolumns\u001b[38;5;241m.\u001b[39mnlevels \u001b[38;5;241m>\u001b[39m \u001b[38;5;241m1\u001b[39m:\n\u001b[1;32m   3504\u001b[0m     \u001b[38;5;28;01mreturn\u001b[39;00m \u001b[38;5;28mself\u001b[39m\u001b[38;5;241m.\u001b[39m_getitem_multilevel(key)\n\u001b[0;32m-> 3505\u001b[0m indexer \u001b[38;5;241m=\u001b[39m \u001b[38;5;28;43mself\u001b[39;49m\u001b[38;5;241;43m.\u001b[39;49m\u001b[43mcolumns\u001b[49m\u001b[38;5;241;43m.\u001b[39;49m\u001b[43mget_loc\u001b[49m\u001b[43m(\u001b[49m\u001b[43mkey\u001b[49m\u001b[43m)\u001b[49m\n\u001b[1;32m   3506\u001b[0m \u001b[38;5;28;01mif\u001b[39;00m is_integer(indexer):\n\u001b[1;32m   3507\u001b[0m     indexer \u001b[38;5;241m=\u001b[39m [indexer]\n",
      "File \u001b[0;32m/usr/share/miniconda3/envs/test/lib/python3.8/site-packages/pandas/core/indexes/base.py:3623\u001b[0m, in \u001b[0;36mIndex.get_loc\u001b[0;34m(self, key, method, tolerance)\u001b[0m\n\u001b[1;32m   3621\u001b[0m     \u001b[38;5;28;01mreturn\u001b[39;00m \u001b[38;5;28mself\u001b[39m\u001b[38;5;241m.\u001b[39m_engine\u001b[38;5;241m.\u001b[39mget_loc(casted_key)\n\u001b[1;32m   3622\u001b[0m \u001b[38;5;28;01mexcept\u001b[39;00m \u001b[38;5;167;01mKeyError\u001b[39;00m \u001b[38;5;28;01mas\u001b[39;00m err:\n\u001b[0;32m-> 3623\u001b[0m     \u001b[38;5;28;01mraise\u001b[39;00m \u001b[38;5;167;01mKeyError\u001b[39;00m(key) \u001b[38;5;28;01mfrom\u001b[39;00m \u001b[38;5;21;01merr\u001b[39;00m\n\u001b[1;32m   3624\u001b[0m \u001b[38;5;28;01mexcept\u001b[39;00m \u001b[38;5;167;01mTypeError\u001b[39;00m:\n\u001b[1;32m   3625\u001b[0m     \u001b[38;5;66;03m# If we have a listlike key, _check_indexing_error will raise\u001b[39;00m\n\u001b[1;32m   3626\u001b[0m     \u001b[38;5;66;03m#  InvalidIndexError. Otherwise we fall through and re-raise\u001b[39;00m\n\u001b[1;32m   3627\u001b[0m     \u001b[38;5;66;03m#  the TypeError.\u001b[39;00m\n\u001b[1;32m   3628\u001b[0m     \u001b[38;5;28mself\u001b[39m\u001b[38;5;241m.\u001b[39m_check_indexing_error(key)\n",
      "\u001b[0;31mKeyError\u001b[0m: 'pore.cross_sectional_area'"
     ]
    }
   ],
   "source": [
    "pore_area_column = pore_data_sheet['pore.cross_sectional_area']\n",
    "print(pore_area_column)"
   ]
  },
  {
   "cell_type": "markdown",
   "metadata": {},
   "source": [
    "And then access individual elements:"
   ]
  },
  {
   "cell_type": "code",
   "execution_count": 6,
   "metadata": {
    "execution": {
     "iopub.execute_input": "2022-04-20T03:06:10.915753Z",
     "iopub.status.busy": "2022-04-20T03:06:10.914751Z",
     "iopub.status.idle": "2022-04-20T03:06:10.930400Z",
     "shell.execute_reply": "2022-04-20T03:06:10.929953Z"
    }
   },
   "outputs": [
    {
     "ename": "NameError",
     "evalue": "name 'pore_area_column' is not defined",
     "output_type": "error",
     "traceback": [
      "\u001b[0;31m---------------------------------------------------------------------------\u001b[0m",
      "\u001b[0;31mNameError\u001b[0m                                 Traceback (most recent call last)",
      "Input \u001b[0;32mIn [6]\u001b[0m, in \u001b[0;36m<cell line: 1>\u001b[0;34m()\u001b[0m\n\u001b[0;32m----> 1\u001b[0m \u001b[38;5;28mprint\u001b[39m(\u001b[43mpore_area_column\u001b[49m[\u001b[38;5;241m0\u001b[39m])\n",
      "\u001b[0;31mNameError\u001b[0m: name 'pore_area_column' is not defined"
     ]
    }
   ],
   "source": [
    "print(pore_area_column[0])"
   ]
  },
  {
   "cell_type": "markdown",
   "metadata": {},
   "source": [
    "## Numpy Arrays Stored in Dictionaries\n",
    "\n",
    "Although the spreadsheet analogy described above is very close to reality, OpenPNM does not actually use ``pandas`` DataFrames, or any other spreadsheet data structure.  Instead, it uses the basic Python *dictionary*, filled with Numpy arrays to accomplish a nearly identical behavior, but with a bit more flexibility.\n",
    "\n",
    "Each OpenPNM object (e.g. networks, algorithms, etc) is actually a customized (a.k.a. [subclassed](https://realpython.com/python-data-classes/#inheritance)) Python [*dictionary*](https://realpython.com/python-dicts/) which allows data to be stored and accessed by name, with a syntax like ``network['pore.diameter']``.  This is analogous (actually indistinguishable) to extracting a column from a spreadsheet as outlined above.  Once the data array is retrieved from the dictionary, it is then a simple matter of working with a Numpy array, which use familiar array indexing, so the diameter of pore 0 is found be accessing element 0 of the array stored under the 'pore.diameter' key.  This is elaborated upon below."
   ]
  },
  {
   "cell_type": "markdown",
   "metadata": {},
   "source": [
    "### Quick Overview of Dictionaries\n",
    "The internet contains many [tutorials](https://realpython.com/python-dicts/) on Python \"dicts\".  To summarize, they are general purpose data contains where *items* can be stored by name, as follows:"
   ]
  },
  {
   "cell_type": "code",
   "execution_count": 7,
   "metadata": {
    "execution": {
     "iopub.execute_input": "2022-04-20T03:06:10.934539Z",
     "iopub.status.busy": "2022-04-20T03:06:10.933549Z",
     "iopub.status.idle": "2022-04-20T03:06:10.939576Z",
     "shell.execute_reply": "2022-04-20T03:06:10.939138Z"
    }
   },
   "outputs": [
    {
     "name": "stdout",
     "output_type": "stream",
     "text": [
      "{'item 1': 'a string', 'item 2': 4, 'another item': {}}\n"
     ]
    }
   ],
   "source": [
    "a = {}  # Create an empty dict\n",
    "a['item 1'] = 'a string'\n",
    "a['item 2'] = 4  # a number\n",
    "a['another item'] = {}  # Even other dicts!\n",
    "print(a)"
   ]
  },
  {
   "cell_type": "markdown",
   "metadata": {},
   "source": [
    "Data can be accessed by name, which is called a \"key\":"
   ]
  },
  {
   "cell_type": "code",
   "execution_count": 8,
   "metadata": {
    "execution": {
     "iopub.execute_input": "2022-04-20T03:06:10.943387Z",
     "iopub.status.busy": "2022-04-20T03:06:10.942445Z",
     "iopub.status.idle": "2022-04-20T03:06:10.947754Z",
     "shell.execute_reply": "2022-04-20T03:06:10.947320Z"
    }
   },
   "outputs": [
    {
     "name": "stdout",
     "output_type": "stream",
     "text": [
      "4\n"
     ]
    }
   ],
   "source": [
    "print(a['item 2'])"
   ]
  },
  {
   "cell_type": "markdown",
   "metadata": {},
   "source": [
    "And all keys on a given dictionary can be retrieved as a list:"
   ]
  },
  {
   "cell_type": "code",
   "execution_count": 9,
   "metadata": {
    "execution": {
     "iopub.execute_input": "2022-04-20T03:06:10.951932Z",
     "iopub.status.busy": "2022-04-20T03:06:10.950936Z",
     "iopub.status.idle": "2022-04-20T03:06:10.956300Z",
     "shell.execute_reply": "2022-04-20T03:06:10.955863Z"
    }
   },
   "outputs": [
    {
     "name": "stdout",
     "output_type": "stream",
     "text": [
      "dict_keys(['item 1', 'item 2', 'another item'])\n"
     ]
    }
   ],
   "source": [
    "print(a.keys())"
   ]
  },
  {
   "cell_type": "markdown",
   "metadata": {},
   "source": [
    "> Following the spreadsheet analogy, the dictionary is the sheet and the keys are the column names."
   ]
  },
  {
   "cell_type": "markdown",
   "metadata": {},
   "source": [
    "### Quick Overview of Numpy Arrays\n",
    "\n",
    "OpenPNM uses *dictionaries* or `dict`'s to store an assortment of [Numpy arrays](https://docs.scipy.org/doc/numpy/user/) that each contain a specific type of pore or throat data.  \n",
    "\n",
    "There are many [tutorials](https://realpython.com/numpy-array-programming/) on the internet explaining the various features and benefits of Numpy arrays.  To summarize, they are familiar to numerical arrays in any other language.  "
   ]
  },
  {
   "cell_type": "markdown",
   "metadata": {},
   "source": [
    "Let's extract a Numpy array from the ``geo`` object and play with it:"
   ]
  },
  {
   "cell_type": "code",
   "execution_count": 10,
   "metadata": {
    "execution": {
     "iopub.execute_input": "2022-04-20T03:06:10.960219Z",
     "iopub.status.busy": "2022-04-20T03:06:10.959233Z",
     "iopub.status.idle": "2022-04-20T03:06:10.964814Z",
     "shell.execute_reply": "2022-04-20T03:06:10.964409Z"
    }
   },
   "outputs": [
    {
     "name": "stdout",
     "output_type": "stream",
     "text": [
      "[0.47440675 0.55759468 0.50138169 0.47244159]\n"
     ]
    }
   ],
   "source": [
    "a = geo['pore.diameter']\n",
    "print(a)"
   ]
  },
  {
   "cell_type": "markdown",
   "metadata": {},
   "source": [
    "It's possible to extract several elements at once:"
   ]
  },
  {
   "cell_type": "code",
   "execution_count": 11,
   "metadata": {
    "execution": {
     "iopub.execute_input": "2022-04-20T03:06:10.968539Z",
     "iopub.status.busy": "2022-04-20T03:06:10.967561Z",
     "iopub.status.idle": "2022-04-20T03:06:10.973855Z",
     "shell.execute_reply": "2022-04-20T03:06:10.973402Z"
    }
   },
   "outputs": [
    {
     "data": {
      "text/plain": [
       "array([0.55759468, 0.50138169])"
      ]
     },
     "execution_count": 11,
     "metadata": {},
     "output_type": "execute_result"
    }
   ],
   "source": [
    "a[1:3]"
   ]
  },
  {
   "cell_type": "markdown",
   "metadata": {},
   "source": [
    "And easy to multiply all values in the array by a scalar or by another array of the same size, which defaults to element-wise multiplication:"
   ]
  },
  {
   "cell_type": "code",
   "execution_count": 12,
   "metadata": {
    "execution": {
     "iopub.execute_input": "2022-04-20T03:06:10.977597Z",
     "iopub.status.busy": "2022-04-20T03:06:10.976489Z",
     "iopub.status.idle": "2022-04-20T03:06:10.982100Z",
     "shell.execute_reply": "2022-04-20T03:06:10.981655Z"
    }
   },
   "outputs": [
    {
     "name": "stdout",
     "output_type": "stream",
     "text": [
      "[0.9488135  1.11518937 1.00276338 0.94488318]\n"
     ]
    }
   ],
   "source": [
    "print(a*2)"
   ]
  },
  {
   "cell_type": "code",
   "execution_count": 13,
   "metadata": {
    "execution": {
     "iopub.execute_input": "2022-04-20T03:06:10.984868Z",
     "iopub.status.busy": "2022-04-20T03:06:10.984535Z",
     "iopub.status.idle": "2022-04-20T03:06:10.989361Z",
     "shell.execute_reply": "2022-04-20T03:06:10.988889Z"
    }
   },
   "outputs": [
    {
     "name": "stdout",
     "output_type": "stream",
     "text": [
      "[0.22506177 0.31091183 0.2513836  0.22320106]\n"
     ]
    }
   ],
   "source": [
    "print(a*a)"
   ]
  },
  {
   "cell_type": "markdown",
   "metadata": {},
   "source": [
    "> Referring back to the spreadsheet analogy, the Numpy arrays represent the actual cells of the sheet, with the array index corresponding to the row number."
   ]
  },
  {
   "cell_type": "markdown",
   "metadata": {},
   "source": [
    "### Rules to Maintain Data Integrity\n",
    "\n",
    "Several rules have been implemented to control the integrity of the data:\n",
    "\n",
    "#### All Values are Converted to Numpy Arrays\n",
    "Only Numpy arrays can be stored in an OpenPNM object, and any data that is written into one of the OpenPNM object dicionaries will be converted to a Numpy array.  This is done to ensure that all mathematically operations throughout the code can be consistently done using vectorization.  Note that any subclasses of Numpy arrays, such as Dask arrays or Unyt arrays are also acceptable."
   ]
  },
  {
   "cell_type": "code",
   "execution_count": 14,
   "metadata": {
    "execution": {
     "iopub.execute_input": "2022-04-20T03:06:10.992229Z",
     "iopub.status.busy": "2022-04-20T03:06:10.991893Z",
     "iopub.status.idle": "2022-04-20T03:06:10.995371Z",
     "shell.execute_reply": "2022-04-20T03:06:10.994973Z"
    }
   },
   "outputs": [
    {
     "name": "stdout",
     "output_type": "stream",
     "text": [
      "<class 'numpy.ndarray'>\n"
     ]
    }
   ],
   "source": [
    "pn['throat.list'] = [1, 2, 3]\n",
    "print(type(pn['throat.list']))"
   ]
  },
  {
   "cell_type": "markdown",
   "metadata": {},
   "source": [
    "This illustrates that the basic python list-type has been converted to a Numpy array when stored in the dictionary"
   ]
  },
  {
   "cell_type": "markdown",
   "metadata": {},
   "source": [
    "#### Any Scalars are Expanded to a Full-Length Vector\n",
    "For the sake of consistency only arrays of length *Np* or *Nt* are allowed in the dictionary. Assigning a scalar value to a dictionary results in the creation of a full length vector, either *Np* or *Nt* long, depending on the name of the array..  This effectively applies the scalar value to all locations in the network.**"
   ]
  },
  {
   "cell_type": "code",
   "execution_count": 15,
   "metadata": {
    "execution": {
     "iopub.execute_input": "2022-04-20T03:06:11.000044Z",
     "iopub.status.busy": "2022-04-20T03:06:10.999707Z",
     "iopub.status.idle": "2022-04-20T03:06:11.004572Z",
     "shell.execute_reply": "2022-04-20T03:06:11.004095Z"
    }
   },
   "outputs": [
    {
     "name": "stdout",
     "output_type": "stream",
     "text": [
      "[0 0 0 0]\n"
     ]
    }
   ],
   "source": [
    "pn['pore.test'] = 0\n",
    "print(pn['pore.test'])"
   ]
  },
  {
   "cell_type": "markdown",
   "metadata": {},
   "source": [
    "Note how the scalar value has been cast to an array of 4 elements long, one for each pore in the network. "
   ]
  },
  {
   "cell_type": "markdown",
   "metadata": {},
   "source": [
    "#### Dictionary Keys Must Start With 'pore' or 'throat'\n",
    "All array names must begin with either *'pore.'* or *'throat.'* which serves to identify the type of information they contain."
   ]
  },
  {
   "cell_type": "code",
   "execution_count": 16,
   "metadata": {
    "execution": {
     "iopub.execute_input": "2022-04-20T03:06:11.007469Z",
     "iopub.status.busy": "2022-04-20T03:06:11.007156Z",
     "iopub.status.idle": "2022-04-20T03:06:11.010404Z",
     "shell.execute_reply": "2022-04-20T03:06:11.009933Z"
    }
   },
   "outputs": [
    {
     "name": "stdout",
     "output_type": "stream",
     "text": [
      "This will throw an exception since the dict name cannot start with foo\n"
     ]
    }
   ],
   "source": [
    "try:\n",
    "    pn['foo.bar'] = 0\n",
    "except:\n",
    "    print('This will throw an exception since the dict name cannot start with foo')"
   ]
  },
  {
   "cell_type": "markdown",
   "metadata": {},
   "source": [
    "#### Nesting Dictionary Names are Allowed\n",
    "It's possible to create nested properties by assigning a dictionary containing numpy arrays"
   ]
  },
  {
   "cell_type": "code",
   "execution_count": 17,
   "metadata": {
    "execution": {
     "iopub.execute_input": "2022-04-20T03:06:11.014549Z",
     "iopub.status.busy": "2022-04-20T03:06:11.014097Z",
     "iopub.status.idle": "2022-04-20T03:06:11.018019Z",
     "shell.execute_reply": "2022-04-20T03:06:11.017547Z"
    }
   },
   "outputs": [
    {
     "name": "stdout",
     "output_type": "stream",
     "text": [
      "{'pore.concentration.species_A': array([0, 0, 0, 0]), 'pore.concentration.species_B': array([1, 1, 1, 1])}\n"
     ]
    }
   ],
   "source": [
    "pn['pore.concentration'] = {'species_A': 0, 'species_B': 1}\n",
    "print(pn['pore.concentration'])"
   ]
  },
  {
   "cell_type": "markdown",
   "metadata": {},
   "source": [
    "The above rule about expanding the scalar values to a numpy array have been applied.  \n",
    "\n",
    "Requesting the top level of dictionary key returns both concentrations, but they can accessed directly too:"
   ]
  },
  {
   "cell_type": "code",
   "execution_count": 18,
   "metadata": {
    "execution": {
     "iopub.execute_input": "2022-04-20T03:06:11.021945Z",
     "iopub.status.busy": "2022-04-20T03:06:11.021774Z",
     "iopub.status.idle": "2022-04-20T03:06:11.024831Z",
     "shell.execute_reply": "2022-04-20T03:06:11.024367Z"
    }
   },
   "outputs": [
    {
     "name": "stdout",
     "output_type": "stream",
     "text": [
      "[0 0 0 0]\n"
     ]
    }
   ],
   "source": [
    "print(pn['pore.concentration.species_A'])"
   ]
  },
  {
   "cell_type": "markdown",
   "metadata": {},
   "source": [
    "Unfortunately, the following does not work:"
   ]
  },
  {
   "cell_type": "code",
   "execution_count": 19,
   "metadata": {
    "execution": {
     "iopub.execute_input": "2022-04-20T03:06:11.028693Z",
     "iopub.status.busy": "2022-04-20T03:06:11.028523Z",
     "iopub.status.idle": "2022-04-20T03:06:11.031829Z",
     "shell.execute_reply": "2022-04-20T03:06:11.031355Z"
    }
   },
   "outputs": [
    {
     "name": "stdout",
     "output_type": "stream",
     "text": [
      "The request for pore.concentration returns a dictionary with both arrays, but the entire property name is still used as the key. \n"
     ]
    }
   ],
   "source": [
    "try:\n",
    "    pn['pore.concentration']['species_A']\n",
    "except:\n",
    "    print('The request for pore.concentration returns a dictionary with both arrays, '\n",
    "    + 'but the entire property name is still used as the key. ')"
   ]
  },
  {
   "cell_type": "markdown",
   "metadata": {},
   "source": [
    "#### Boolean Arrays are Treated as Labels\n",
    "Any Boolean data will be treated as a *label* while all other numerical data is treated as a *property*."
   ]
  },
  {
   "cell_type": "code",
   "execution_count": 20,
   "metadata": {
    "execution": {
     "iopub.execute_input": "2022-04-20T03:06:11.035771Z",
     "iopub.status.busy": "2022-04-20T03:06:11.035600Z",
     "iopub.status.idle": "2022-04-20T03:06:11.038925Z",
     "shell.execute_reply": "2022-04-20T03:06:11.038454Z"
    }
   },
   "outputs": [
    {
     "name": "stdout",
     "output_type": "stream",
     "text": [
      "――――――――――――――――――――――――――――――――――――――――――――――――――――――――――――――――――――――――――――――\n",
      "1     : pore.all\n",
      "2     : pore.geo_01\n",
      "3     : pore.internal\n",
      "4     : pore.label\n",
      "5     : pore.left\n",
      "6     : pore.right\n",
      "7     : pore.surface\n",
      "――――――――――――――――――――――――――――――――――――――――――――――――――――――――――――――――――――――――――――――\n"
     ]
    }
   ],
   "source": [
    "pn['pore.label'] = False\n",
    "print(pn.labels(element='pore'))"
   ]
  },
  {
   "cell_type": "markdown",
   "metadata": {},
   "source": [
    "You can see that ``'pore.label'`` shows up in this list automatically since it is of Boolean type.  For more information on using labels see [the tutorial on Using and Creating Labels](./using_and_creating_labels.ipynb)."
   ]
  },
  {
   "cell_type": "markdown",
   "metadata": {},
   "source": [
    "#### Dictionary Keys with a Leading Underscore are Hidden\n",
    "Following the Python convention, if a piece of data is not really meant to be seen or used by the user, it can be pre-pended with an underscore and it will no appear in any output."
   ]
  },
  {
   "cell_type": "code",
   "execution_count": 21,
   "metadata": {
    "execution": {
     "iopub.execute_input": "2022-04-20T03:06:11.042875Z",
     "iopub.status.busy": "2022-04-20T03:06:11.042717Z",
     "iopub.status.idle": "2022-04-20T03:06:11.045932Z",
     "shell.execute_reply": "2022-04-20T03:06:11.045468Z"
    }
   },
   "outputs": [
    {
     "name": "stdout",
     "output_type": "stream",
     "text": [
      "――――――――――――――――――――――――――――――――――――――――――――――――――――――――――――――――――――――――――――――\n",
      "1     : pore.concentration.species_A\n",
      "2     : pore.concentration.species_B\n",
      "3     : pore.coords\n",
      "4     : pore.test\n",
      "5     : throat.conns\n",
      "6     : throat.list\n",
      "7     : throat.spacing\n",
      "――――――――――――――――――――――――――――――――――――――――――――――――――――――――――――――――――――――――――――――\n"
     ]
    }
   ],
   "source": [
    "pn['pore._hidden'] = 1\n",
    "print(pn.props())"
   ]
  },
  {
   "cell_type": "markdown",
   "metadata": {},
   "source": [
    "The ``'pore._hidden'`` key does not show up in this list."
   ]
  },
  {
   "cell_type": "markdown",
   "metadata": {},
   "source": [
    "## Representing Topology\n",
    "\n",
    "Consider the following simple random network:"
   ]
  },
  {
   "cell_type": "code",
   "execution_count": 22,
   "metadata": {
    "execution": {
     "iopub.execute_input": "2022-04-20T03:06:11.049955Z",
     "iopub.status.busy": "2022-04-20T03:06:11.049686Z",
     "iopub.status.idle": "2022-04-20T03:06:11.061871Z",
     "shell.execute_reply": "2022-04-20T03:06:11.061247Z"
    }
   },
   "outputs": [],
   "source": [
    "np.random.seed(10)\n",
    "pts = np.random.rand(5, 2)*1.5\n",
    "pn = op.network.Delaunay(points=pts, shape=[1, 1, 0])"
   ]
  },
  {
   "cell_type": "code",
   "execution_count": 23,
   "metadata": {
    "execution": {
     "iopub.execute_input": "2022-04-20T03:06:11.065712Z",
     "iopub.status.busy": "2022-04-20T03:06:11.064489Z",
     "iopub.status.idle": "2022-04-20T03:06:11.760258Z",
     "shell.execute_reply": "2022-04-20T03:06:11.759606Z"
    }
   },
   "outputs": [
    {
     "data": {
      "text/plain": [
       "<matplotlib.collections.PathCollection at 0x7f1b24a59a90>"
      ]
     },
     "execution_count": 23,
     "metadata": {},
     "output_type": "execute_result"
    },
    {
     "data": {
      "image/svg+xml": [
       "<?xml version=\"1.0\" encoding=\"utf-8\" standalone=\"no\"?>\n",
       "<!DOCTYPE svg PUBLIC \"-//W3C//DTD SVG 1.1//EN\"\n",
       "  \"http://www.w3.org/Graphics/SVG/1.1/DTD/svg11.dtd\">\n",
       "<svg xmlns:xlink=\"http://www.w3.org/1999/xlink\" width=\"347.4pt\" height=\"281.490141pt\" viewBox=\"0 0 347.4 281.490141\" xmlns=\"http://www.w3.org/2000/svg\" version=\"1.1\">\n",
       " <metadata>\n",
       "  <rdf:RDF xmlns:dc=\"http://purl.org/dc/elements/1.1/\" xmlns:cc=\"http://creativecommons.org/ns#\" xmlns:rdf=\"http://www.w3.org/1999/02/22-rdf-syntax-ns#\">\n",
       "   <cc:Work>\n",
       "    <dc:type rdf:resource=\"http://purl.org/dc/dcmitype/StillImage\"/>\n",
       "    <dc:date>2022-04-20T03:06:11.714661</dc:date>\n",
       "    <dc:format>image/svg+xml</dc:format>\n",
       "    <dc:creator>\n",
       "     <cc:Agent>\n",
       "      <dc:title>Matplotlib v3.5.1, https://matplotlib.org/</dc:title>\n",
       "     </cc:Agent>\n",
       "    </dc:creator>\n",
       "   </cc:Work>\n",
       "  </rdf:RDF>\n",
       " </metadata>\n",
       " <defs>\n",
       "  <style type=\"text/css\">*{stroke-linejoin: round; stroke-linecap: butt}</style>\n",
       " </defs>\n",
       " <g id=\"figure_1\">\n",
       "  <g id=\"patch_1\">\n",
       "   <path d=\"M 0 281.490141 \n",
       "L 347.4 281.490141 \n",
       "L 347.4 0 \n",
       "L 0 0 \n",
       "L 0 281.490141 \n",
       "z\n",
       "\" style=\"fill: none\"/>\n",
       "  </g>\n",
       "  <g id=\"axes_1\">\n",
       "   <g id=\"LineCollection_1\">\n",
       "    <path d=\"M 299.836364 212.575066 \n",
       "L 219.974666 170.491972 \n",
       "\" clip-path=\"url(#pa719ef2db1)\" style=\"fill: none; stroke: #ff0000; stroke-width: 2\"/>\n",
       "    <path d=\"M 299.836364 212.575066 \n",
       "L 47.563636 241.915578 \n",
       "\" clip-path=\"url(#pa719ef2db1)\" style=\"fill: none; stroke: #ff0000; stroke-width: 2\"/>\n",
       "    <path d=\"M 289.258715 42.102308 \n",
       "L 219.974666 170.491972 \n",
       "\" clip-path=\"url(#pa719ef2db1)\" style=\"fill: none; stroke: #ff0000; stroke-width: 2\"/>\n",
       "    <path d=\"M 219.974666 170.491972 \n",
       "L 124.783743 39.574563 \n",
       "\" clip-path=\"url(#pa719ef2db1)\" style=\"fill: none; stroke: #ff0000; stroke-width: 2\"/>\n",
       "    <path d=\"M 219.974666 170.491972 \n",
       "L 47.563636 241.915578 \n",
       "\" clip-path=\"url(#pa719ef2db1)\" style=\"fill: none; stroke: #ff0000; stroke-width: 2\"/>\n",
       "    <path d=\"M 124.783743 39.574563 \n",
       "L 47.563636 241.915578 \n",
       "\" clip-path=\"url(#pa719ef2db1)\" style=\"fill: none; stroke: #ff0000; stroke-width: 2\"/>\n",
       "   </g>\n",
       "   <g id=\"text_1\">\n",
       "    <g id=\"patch_2\">\n",
       "     <path d=\"M 252.702516 198.687498 \n",
       "L 259.724971 201.683889 \n",
       "Q 263.036148 203.096725 264.448984 199.785548 \n",
       "L 269.006854 189.103553 \n",
       "Q 270.41969 185.792376 267.108513 184.37954 \n",
       "L 260.086058 181.383149 \n",
       "Q 256.774881 179.970313 255.362045 183.28149 \n",
       "L 250.804176 193.963485 \n",
       "Q 249.391339 197.274662 252.702516 198.687498 \n",
       "z\n",
       "\" clip-path=\"url(#pa719ef2db1)\" style=\"fill: #ffffff; stroke: #ffffff; stroke-linejoin: miter\"/>\n",
       "    </g>\n",
       "    <g clip-path=\"url(#pa719ef2db1)\">\n",
       "     <!-- 0 -->\n",
       "     <g transform=\"translate(255.094772 193.080917)rotate(-336.892684)scale(0.12 -0.12)\">\n",
       "      <defs>\n",
       "       <path id=\"DejaVuSans-30\" d=\"M 2034 4250 \n",
       "Q 1547 4250 1301 3770 \n",
       "Q 1056 3291 1056 2328 \n",
       "Q 1056 1369 1301 889 \n",
       "Q 1547 409 2034 409 \n",
       "Q 2525 409 2770 889 \n",
       "Q 3016 1369 3016 2328 \n",
       "Q 3016 3291 2770 3770 \n",
       "Q 2525 4250 2034 4250 \n",
       "z\n",
       "M 2034 4750 \n",
       "Q 2819 4750 3233 4129 \n",
       "Q 3647 3509 3647 2328 \n",
       "Q 3647 1150 3233 529 \n",
       "Q 2819 -91 2034 -91 \n",
       "Q 1250 -91 836 529 \n",
       "Q 422 1150 422 2328 \n",
       "Q 422 3509 836 4129 \n",
       "Q 1250 4750 2034 4750 \n",
       "z\n",
       "\" transform=\"scale(0.015625)\"/>\n",
       "      </defs>\n",
       "      <use xlink:href=\"#DejaVuSans-30\"/>\n",
       "     </g>\n",
       "    </g>\n",
       "   </g>\n",
       "   <g id=\"text_2\">\n",
       "    <g id=\"patch_3\">\n",
       "     <path d=\"M 170.781311 236.968689 \n",
       "L 178.382677 236.252827 \n",
       "Q 181.966818 235.915288 181.62928 232.331147 \n",
       "L 180.540368 220.768558 \n",
       "Q 180.20283 217.184417 176.618689 217.521955 \n",
       "L 169.017323 218.237818 \n",
       "Q 165.433182 218.575356 165.77072 222.159497 \n",
       "L 166.859632 233.722086 \n",
       "Q 167.19717 237.306227 170.781311 236.968689 \n",
       "z\n",
       "\" clip-path=\"url(#pa719ef2db1)\" style=\"fill: #ffffff; stroke: #ffffff; stroke-linejoin: miter\"/>\n",
       "    </g>\n",
       "    <g clip-path=\"url(#pa719ef2db1)\">\n",
       "     <!-- 1 -->\n",
       "     <g transform=\"translate(170.209782 230.899916)rotate(-5.379989)scale(0.12 -0.12)\">\n",
       "      <defs>\n",
       "       <path id=\"DejaVuSans-31\" d=\"M 794 531 \n",
       "L 1825 531 \n",
       "L 1825 4091 \n",
       "L 703 3866 \n",
       "L 703 4441 \n",
       "L 1819 4666 \n",
       "L 2450 4666 \n",
       "L 2450 531 \n",
       "L 3481 531 \n",
       "L 3481 0 \n",
       "L 794 0 \n",
       "L 794 531 \n",
       "z\n",
       "\" transform=\"scale(0.015625)\"/>\n",
       "      </defs>\n",
       "      <use xlink:href=\"#DejaVuSans-31\"/>\n",
       "     </g>\n",
       "    </g>\n",
       "   </g>\n",
       "   <g id=\"text_3\">\n",
       "    <g id=\"patch_4\">\n",
       "     <path d=\"M 260.327417 114.690602 \n",
       "L 264.561568 108.337241 \n",
       "Q 266.558024 105.341551 263.562333 103.345094 \n",
       "L 253.898111 96.904443 \n",
       "Q 250.90242 94.907987 248.905964 97.903678 \n",
       "L 244.671813 104.257038 \n",
       "Q 242.675356 107.252729 245.671047 109.249185 \n",
       "L 255.33527 115.689836 \n",
       "Q 258.330961 117.686292 260.327417 114.690602 \n",
       "z\n",
       "\" clip-path=\"url(#pa719ef2db1)\" style=\"fill: #ffffff; stroke: #ffffff; stroke-linejoin: miter\"/>\n",
       "    </g>\n",
       "    <g clip-path=\"url(#pa719ef2db1)\">\n",
       "     <!-- 2 -->\n",
       "     <g transform=\"translate(255.255026 111.310144)rotate(-56.318816)scale(0.12 -0.12)\">\n",
       "      <defs>\n",
       "       <path id=\"DejaVuSans-32\" d=\"M 1228 531 \n",
       "L 3431 531 \n",
       "L 3431 0 \n",
       "L 469 0 \n",
       "L 469 531 \n",
       "Q 828 903 1448 1529 \n",
       "Q 2069 2156 2228 2338 \n",
       "Q 2531 2678 2651 2914 \n",
       "Q 2772 3150 2772 3378 \n",
       "Q 2772 3750 2511 3984 \n",
       "Q 2250 4219 1831 4219 \n",
       "Q 1534 4219 1204 4116 \n",
       "Q 875 4013 500 3803 \n",
       "L 500 4441 \n",
       "Q 881 4594 1212 4672 \n",
       "Q 1544 4750 1819 4750 \n",
       "Q 2544 4750 2975 4387 \n",
       "Q 3406 4025 3406 3419 \n",
       "Q 3406 3131 3298 2873 \n",
       "Q 3191 2616 2906 2266 \n",
       "Q 2828 2175 2409 1742 \n",
       "Q 1991 1309 1228 531 \n",
       "z\n",
       "\" transform=\"scale(0.015625)\"/>\n",
       "      </defs>\n",
       "      <use xlink:href=\"#DejaVuSans-32\"/>\n",
       "     </g>\n",
       "    </g>\n",
       "   </g>\n",
       "   <g id=\"text_4\">\n",
       "    <g id=\"patch_5\">\n",
       "     <path d=\"M 162.829467 108.477846 \n",
       "L 167.930612 114.158651 \n",
       "Q 170.335867 116.837223 173.014439 114.431968 \n",
       "L 181.655624 106.672516 \n",
       "Q 184.334197 104.267261 181.928942 101.588689 \n",
       "L 176.827797 95.907884 \n",
       "Q 174.422542 93.229311 171.74397 95.634566 \n",
       "L 163.102784 103.394019 \n",
       "Q 160.424212 105.799274 162.829467 108.477846 \n",
       "z\n",
       "\" clip-path=\"url(#pa719ef2db1)\" style=\"fill: #ffffff; stroke: #ffffff; stroke-linejoin: miter\"/>\n",
       "    </g>\n",
       "    <g clip-path=\"url(#pa719ef2db1)\">\n",
       "     <!-- 3 -->\n",
       "     <g transform=\"translate(167.364904 104.405198)rotate(-311.922621)scale(0.12 -0.12)\">\n",
       "      <defs>\n",
       "       <path id=\"DejaVuSans-33\" d=\"M 2597 2516 \n",
       "Q 3050 2419 3304 2112 \n",
       "Q 3559 1806 3559 1356 \n",
       "Q 3559 666 3084 287 \n",
       "Q 2609 -91 1734 -91 \n",
       "Q 1441 -91 1130 -33 \n",
       "Q 819 25 488 141 \n",
       "L 488 750 \n",
       "Q 750 597 1062 519 \n",
       "Q 1375 441 1716 441 \n",
       "Q 2309 441 2620 675 \n",
       "Q 2931 909 2931 1356 \n",
       "Q 2931 1769 2642 2001 \n",
       "Q 2353 2234 1838 2234 \n",
       "L 1294 2234 \n",
       "L 1294 2753 \n",
       "L 1863 2753 \n",
       "Q 2328 2753 2575 2939 \n",
       "Q 2822 3125 2822 3475 \n",
       "Q 2822 3834 2567 4026 \n",
       "Q 2313 4219 1838 4219 \n",
       "Q 1578 4219 1281 4162 \n",
       "Q 984 4106 628 3988 \n",
       "L 628 4550 \n",
       "Q 988 4650 1302 4700 \n",
       "Q 1616 4750 1894 4750 \n",
       "Q 2613 4750 3031 4423 \n",
       "Q 3450 4097 3450 3541 \n",
       "Q 3450 3153 3228 2886 \n",
       "Q 3006 2619 2597 2516 \n",
       "z\n",
       "\" transform=\"scale(0.015625)\"/>\n",
       "      </defs>\n",
       "      <use xlink:href=\"#DejaVuSans-33\"/>\n",
       "     </g>\n",
       "    </g>\n",
       "   </g>\n",
       "   <g id=\"text_5\">\n",
       "    <g id=\"patch_6\">\n",
       "     <path d=\"M 133.141481 216.336328 \n",
       "L 140.380087 213.908198 \n",
       "Q 143.793182 212.763304 142.648287 209.350209 \n",
       "L 138.95481 198.339422 \n",
       "Q 137.809915 194.926327 134.396821 196.071222 \n",
       "L 127.158215 198.499352 \n",
       "Q 123.74512 199.644247 124.890015 203.057342 \n",
       "L 128.583492 214.068128 \n",
       "Q 129.728387 217.481223 133.141481 216.336328 \n",
       "z\n",
       "\" clip-path=\"url(#pa719ef2db1)\" style=\"fill: #ffffff; stroke: #ffffff; stroke-linejoin: miter\"/>\n",
       "    </g>\n",
       "    <g clip-path=\"url(#pa719ef2db1)\">\n",
       "     <!-- 4 -->\n",
       "     <g transform=\"translate(131.202913 210.557177)rotate(-18.543602)scale(0.12 -0.12)\">\n",
       "      <defs>\n",
       "       <path id=\"DejaVuSans-34\" d=\"M 2419 4116 \n",
       "L 825 1625 \n",
       "L 2419 1625 \n",
       "L 2419 4116 \n",
       "z\n",
       "M 2253 4666 \n",
       "L 3047 4666 \n",
       "L 3047 1625 \n",
       "L 3713 1625 \n",
       "L 3713 1100 \n",
       "L 3047 1100 \n",
       "L 3047 0 \n",
       "L 2419 0 \n",
       "L 2419 1100 \n",
       "L 313 1100 \n",
       "L 313 1709 \n",
       "L 2253 4666 \n",
       "z\n",
       "\" transform=\"scale(0.015625)\"/>\n",
       "      </defs>\n",
       "      <use xlink:href=\"#DejaVuSans-34\"/>\n",
       "     </g>\n",
       "    </g>\n",
       "   </g>\n",
       "   <g id=\"text_6\">\n",
       "    <g id=\"patch_7\">\n",
       "     <path d=\"M 93.055322 148.208698 \n",
       "L 96.310359 141.302328 \n",
       "Q 97.845151 138.045886 94.588709 136.511094 \n",
       "L 84.083291 131.559792 \n",
       "Q 80.826849 130.025 79.292058 133.281442 \n",
       "L 76.03702 140.187813 \n",
       "Q 74.502229 143.444255 77.758671 144.979047 \n",
       "L 88.264088 149.930349 \n",
       "Q 91.52053 151.46514 93.055322 148.208698 \n",
       "z\n",
       "\" clip-path=\"url(#pa719ef2db1)\" style=\"fill: #ffffff; stroke: #ffffff; stroke-linejoin: miter\"/>\n",
       "    </g>\n",
       "    <g clip-path=\"url(#pa719ef2db1)\">\n",
       "     <!-- 5 -->\n",
       "     <g transform=\"translate(87.541419 145.609944)rotate(-64.765057)scale(0.12 -0.12)\">\n",
       "      <defs>\n",
       "       <path id=\"DejaVuSans-35\" d=\"M 691 4666 \n",
       "L 3169 4666 \n",
       "L 3169 4134 \n",
       "L 1269 4134 \n",
       "L 1269 2991 \n",
       "Q 1406 3038 1543 3061 \n",
       "Q 1681 3084 1819 3084 \n",
       "Q 2600 3084 3056 2656 \n",
       "Q 3513 2228 3513 1497 \n",
       "Q 3513 744 3044 326 \n",
       "Q 2575 -91 1722 -91 \n",
       "Q 1428 -91 1123 -41 \n",
       "Q 819 9 494 109 \n",
       "L 494 744 \n",
       "Q 775 591 1075 516 \n",
       "Q 1375 441 1709 441 \n",
       "Q 2250 441 2565 725 \n",
       "Q 2881 1009 2881 1497 \n",
       "Q 2881 1984 2565 2268 \n",
       "Q 2250 2553 1709 2553 \n",
       "Q 1456 2553 1204 2497 \n",
       "Q 953 2441 691 2322 \n",
       "L 691 4666 \n",
       "z\n",
       "\" transform=\"scale(0.015625)\"/>\n",
       "      </defs>\n",
       "      <use xlink:href=\"#DejaVuSans-35\"/>\n",
       "     </g>\n",
       "    </g>\n",
       "   </g>\n",
       "   <g id=\"PathCollection_1\">\n",
       "    <defs>\n",
       "     <path id=\"m24cc646cc4\" d=\"M 0 11.18034 \n",
       "C 2.965061 11.18034 5.80908 10.002309 7.905694 7.905694 \n",
       "C 10.002309 5.80908 11.18034 2.965061 11.18034 0 \n",
       "C 11.18034 -2.965061 10.002309 -5.80908 7.905694 -7.905694 \n",
       "C 5.80908 -10.002309 2.965061 -11.18034 0 -11.18034 \n",
       "C -2.965061 -11.18034 -5.80908 -10.002309 -7.905694 -7.905694 \n",
       "C -10.002309 -5.80908 -11.18034 -2.965061 -11.18034 0 \n",
       "C -11.18034 2.965061 -10.002309 5.80908 -7.905694 7.905694 \n",
       "C -5.80908 10.002309 -2.965061 11.18034 0 11.18034 \n",
       "z\n",
       "\" style=\"stroke: #0000ff; stroke-width: 2\"/>\n",
       "    </defs>\n",
       "    <g clip-path=\"url(#pa719ef2db1)\">\n",
       "     <use xlink:href=\"#m24cc646cc4\" x=\"299.836364\" y=\"212.575066\" style=\"fill: #ffffff; stroke: #0000ff; stroke-width: 2\"/>\n",
       "     <use xlink:href=\"#m24cc646cc4\" x=\"289.258715\" y=\"42.102308\" style=\"fill: #ffffff; stroke: #0000ff; stroke-width: 2\"/>\n",
       "     <use xlink:href=\"#m24cc646cc4\" x=\"219.974666\" y=\"170.491972\" style=\"fill: #ffffff; stroke: #0000ff; stroke-width: 2\"/>\n",
       "     <use xlink:href=\"#m24cc646cc4\" x=\"124.783743\" y=\"39.574563\" style=\"fill: #ffffff; stroke: #0000ff; stroke-width: 2\"/>\n",
       "     <use xlink:href=\"#m24cc646cc4\" x=\"47.563636\" y=\"241.915578\" style=\"fill: #ffffff; stroke: #0000ff; stroke-width: 2\"/>\n",
       "    </g>\n",
       "   </g>\n",
       "   <g id=\"text_7\">\n",
       "    <g clip-path=\"url(#pa719ef2db1)\">\n",
       "     <!-- 0 -->\n",
       "     <g transform=\"translate(296.018864 215.886316)scale(0.12 -0.12)\">\n",
       "      <use xlink:href=\"#DejaVuSans-30\"/>\n",
       "     </g>\n",
       "    </g>\n",
       "   </g>\n",
       "   <g id=\"text_8\">\n",
       "    <g clip-path=\"url(#pa719ef2db1)\">\n",
       "     <!-- 1 -->\n",
       "     <g transform=\"translate(285.441215 45.413558)scale(0.12 -0.12)\">\n",
       "      <use xlink:href=\"#DejaVuSans-31\"/>\n",
       "     </g>\n",
       "    </g>\n",
       "   </g>\n",
       "   <g id=\"text_9\">\n",
       "    <g clip-path=\"url(#pa719ef2db1)\">\n",
       "     <!-- 2 -->\n",
       "     <g transform=\"translate(216.157166 173.803222)scale(0.12 -0.12)\">\n",
       "      <use xlink:href=\"#DejaVuSans-32\"/>\n",
       "     </g>\n",
       "    </g>\n",
       "   </g>\n",
       "   <g id=\"text_10\">\n",
       "    <g clip-path=\"url(#pa719ef2db1)\">\n",
       "     <!-- 3 -->\n",
       "     <g transform=\"translate(120.966243 42.885813)scale(0.12 -0.12)\">\n",
       "      <use xlink:href=\"#DejaVuSans-33\"/>\n",
       "     </g>\n",
       "    </g>\n",
       "   </g>\n",
       "   <g id=\"text_11\">\n",
       "    <g clip-path=\"url(#pa719ef2db1)\">\n",
       "     <!-- 4 -->\n",
       "     <g transform=\"translate(43.746136 245.226828)scale(0.12 -0.12)\">\n",
       "      <use xlink:href=\"#DejaVuSans-34\"/>\n",
       "     </g>\n",
       "    </g>\n",
       "   </g>\n",
       "  </g>\n",
       " </g>\n",
       " <defs>\n",
       "  <clipPath id=\"pa719ef2db1\">\n",
       "   <rect x=\"7.2\" y=\"7.2\" width=\"333\" height=\"267.090141\"/>\n",
       "  </clipPath>\n",
       " </defs>\n",
       "</svg>\n"
      ],
      "text/plain": [
       "<Figure size 360x288.746 with 1 Axes>"
      ]
     },
     "metadata": {},
     "output_type": "display_data"
    }
   ],
   "source": [
    "op.topotools.plot_tutorial(pn)"
   ]
  },
  {
   "cell_type": "markdown",
   "metadata": {},
   "source": [
    "The basic premise of how OpenPNM stores topology can be stated in 1 sentence:\n",
    "\n",
    "**The pores on either end of a throat are just another property to be stored, along with diameter, length, etc.**\n",
    "\n",
    "In other words, referring to the above diagram, throat No. 5 has pores 3 and 4 on it's ends.  Using the spreadsheet analogy, this implies a new colunm that stores the pair of pores connected by each throat.  OpenPNM calls this property ``'throat.conns'``: "
   ]
  },
  {
   "cell_type": "code",
   "execution_count": 24,
   "metadata": {
    "execution": {
     "iopub.execute_input": "2022-04-20T03:06:11.763817Z",
     "iopub.status.busy": "2022-04-20T03:06:11.763241Z",
     "iopub.status.idle": "2022-04-20T03:06:11.767809Z",
     "shell.execute_reply": "2022-04-20T03:06:11.767208Z"
    }
   },
   "outputs": [
    {
     "name": "stdout",
     "output_type": "stream",
     "text": [
      "[[0 2]\n",
      " [0 4]\n",
      " [1 2]\n",
      " [2 3]\n",
      " [2 4]\n",
      " [3 4]]\n"
     ]
    }
   ],
   "source": [
    "print(pn['throat.conns'])"
   ]
  },
  {
   "cell_type": "markdown",
   "metadata": {},
   "source": [
    "Inspection of this *Nt-by-2* array shows that each row contains the pore indices corresponding to that throat."
   ]
  },
  {
   "cell_type": "markdown",
   "metadata": {},
   "source": [
    "### Sparse Adjacency Matrices\n",
    "\n",
    "The topology storage scheme described above is actually an [adjacency matrix](http://en.wikipedia.org/wiki/Adjacency_matrix), in a [sparse storage format](http://en.wikipedia.org/wiki/Sparse_matrix) known as IJV or COO.  \n",
    "\n",
    "An adjacency matrix is a *Np*-by-*Np* matrix with non-zero values at location (*i*, *j*) indicating that pores *i* and *j* are connected.  \n",
    "\n",
    "An important feature of the adjacency matrix is that it is highly sparse (mostly zeros) and can be stored with a variety of [sparse storage schemes](https://docs.scipy.org/doc/scipy/reference/sparse.html) offered by Scipy.  OpenPNM stores the adjacency matrix in the 'COO' format, which essentially stores the coordinates (I,J) of the nonzero elements in an two-colume wide array.\n",
    "\n",
    "Thus the throat property called ``'throat.conns'`` is an *Nt*-by-2 array that gives the index of the two pores on either end of a given throat.  \n",
    "\n",
    "#### Additional Thoughts on Sparse Storage\n",
    "\n",
    "* In pore networks there is (usually) no difference between traversing from pore *i* to pore *j* or from pore *j* to pore *i*, so a 1 is also found at location (*j*, *i*) and the matrix is symmetrical.\n",
    "\n",
    "* Since the adjacency matrix is symmetric, it is redundant to store the entire matrix when only the upper triangular part is necessary.  The ``'throat.conns'`` array only stores the upper triangular information, and *i* is always less than *j*.\n",
    "\n",
    "* Although this storage scheme is widely known as *IJV*, the ``scipy.sparse`` module calls this the Coordinate or *COO* storage scheme.\n",
    "\n",
    "* Some tasks are best performed on other types of storages scheme, such as *CSR* or *LIL*.  OpenPNM converts between these internally as necessary, but users can generate a desired format using the ``create_adjacency_matrix`` method which accepts the storage type as an argument (i.e. ``'csr'``, ``'lil'``, etc).  For a discussion of sparse storage schemes and the respective merits, see this [Wikipedia article](http://en.wikipedia.org/wiki/Sparse_matrix)."
   ]
  },
  {
   "cell_type": "markdown",
   "metadata": {},
   "source": [
    "### Topology Rules\n",
    "\n",
    "The only topology definitions required by OpenPNM are:\n",
    "\n",
    "1. A throat connects exactly two pores, no more and no less\n",
    "\n",
    "2. Throats are non-directional, meaning that flow in either direction is equal\n",
    "\n",
    "Other general, but non-essential rules are:\n",
    "\n",
    "3. Pores can have an arbitrary number of throats, including zero; however, pores with zero throats lead to singular matrices and other problems so should be avoided.\n",
    "\n",
    "4. Two pores are generally connected by no more than one throat.  It is technically possible in OpenPNM to have multiple throats between a pair of pores, but it is not rigorosly supported so unintended results may arise."
   ]
  },
  {
   "cell_type": "markdown",
   "metadata": {},
   "source": [
    "### Historical Aside\n",
    "During the development of OpenPNM, it was debated whether existing Python graph theory packages (such as [graph-tool](http://graph-tool.skewed.de/) or [NetworkX](http://networkx.github.io/)) should be used to store the network topology.  It was decided that network property data should be simply stored as [Numpy ND-arrays](http://www.numpy.org/) as discussed above for the primary reason that this format makes the data storage very transparent and familiar since all engineers are used to working with arrays (i.e. vectors), and also very efficiently since this allows code vectorization.  Fortuitously, around the same time as this discussion, Scipy introduced the [compressed sparse graph library](http://docs.scipy.org/doc/scipy/reference/sparse.csgraph.html), which contains numerous graph theory algorithms that take Numpy arrays as arguments.  Therefore, OpenPNM's topology model is implemented using Numpy arrays, leveraging the ``scipy.sparse.csgraph`` library. Most importantly, this approach is perfectly in tune with the 'spreadsheet' model of data storage."
   ]
  }
 ],
 "metadata": {
  "@webio": {
   "lastCommId": null,
   "lastKernelId": null
  },
  "kernelspec": {
   "display_name": "Python 3",
   "language": "python",
   "name": "python3"
  },
  "language_info": {
   "codemirror_mode": {
    "name": "ipython",
    "version": 3
   },
   "file_extension": ".py",
   "mimetype": "text/x-python",
   "name": "python",
   "nbconvert_exporter": "python",
   "pygments_lexer": "ipython3",
   "version": "3.8.13"
  },
  "toc": {
   "base_numbering": 1,
   "nav_menu": {},
   "number_sections": false,
   "sideBar": true,
   "skip_h1_title": true,
   "title_cell": "",
   "title_sidebar": "Contents",
   "toc_cell": true,
   "toc_position": {},
   "toc_section_display": true,
   "toc_window_display": false
  }
 },
 "nbformat": 4,
 "nbformat_minor": 2
}
