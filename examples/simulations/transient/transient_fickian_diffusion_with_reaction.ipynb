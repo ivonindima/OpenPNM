{
 "cells": [
  {
   "cell_type": "markdown",
   "metadata": {},
   "source": [
    "# Transient Fickian Diffusion with Reaction\n",
    "`OpenPNM` supports adding reaction terms to both steady state and transient simulations. `OpenPNM` already includes many different source term models that can be added to simulate a reaction. In this example, we show how to add a `powerlaw` source term model to a transient fickian diffusion simulation."
   ]
  },
  {
   "cell_type": "markdown",
   "metadata": {},
   "source": [
    "Start by importing openpnm"
   ]
  },
  {
   "cell_type": "code",
   "execution_count": 1,
   "metadata": {
    "execution": {
     "iopub.execute_input": "2022-04-20T03:13:17.785521Z",
     "iopub.status.busy": "2022-04-20T03:13:17.784842Z",
     "iopub.status.idle": "2022-04-20T03:13:19.634461Z",
     "shell.execute_reply": "2022-04-20T03:13:19.633716Z"
    }
   },
   "outputs": [],
   "source": [
    "import openpnm as op\n",
    "%config InlineBackend.figure_formats = ['svg']\n",
    "import matplotlib.pyplot as plt\n",
    "import numpy as np\n",
    "ws = op.Workspace()\n",
    "proj = ws.new_project()\n",
    "np.random.seed(10)"
   ]
  },
  {
   "cell_type": "markdown",
   "metadata": {},
   "source": [
    "## Define network, geometry, and phase objects"
   ]
  },
  {
   "cell_type": "code",
   "execution_count": 2,
   "metadata": {
    "execution": {
     "iopub.execute_input": "2022-04-20T03:13:19.639542Z",
     "iopub.status.busy": "2022-04-20T03:13:19.638960Z",
     "iopub.status.idle": "2022-04-20T03:13:20.266528Z",
     "shell.execute_reply": "2022-04-20T03:13:20.265824Z"
    }
   },
   "outputs": [
    {
     "ename": "AttributeError",
     "evalue": "module 'openpnm' has no attribute 'phases'",
     "output_type": "error",
     "traceback": [
      "\u001b[0;31m---------------------------------------------------------------------------\u001b[0m",
      "\u001b[0;31mAttributeError\u001b[0m                            Traceback (most recent call last)",
      "Input \u001b[0;32mIn [2]\u001b[0m, in \u001b[0;36m<cell line: 4>\u001b[0;34m()\u001b[0m\n\u001b[1;32m      2\u001b[0m net \u001b[38;5;241m=\u001b[39m op\u001b[38;5;241m.\u001b[39mnetwork\u001b[38;5;241m.\u001b[39mCubic(shape\u001b[38;5;241m=\u001b[39mshape, spacing\u001b[38;5;241m=\u001b[39m\u001b[38;5;241m1e-2\u001b[39m)\n\u001b[1;32m      3\u001b[0m geo \u001b[38;5;241m=\u001b[39m op\u001b[38;5;241m.\u001b[39mgeometry\u001b[38;5;241m.\u001b[39mSpheresAndCylinders(network\u001b[38;5;241m=\u001b[39mnet, pores\u001b[38;5;241m=\u001b[39mnet\u001b[38;5;241m.\u001b[39mPs, throats\u001b[38;5;241m=\u001b[39mnet\u001b[38;5;241m.\u001b[39mTs)\n\u001b[0;32m----> 4\u001b[0m phase \u001b[38;5;241m=\u001b[39m \u001b[43mop\u001b[49m\u001b[38;5;241;43m.\u001b[39;49m\u001b[43mphases\u001b[49m\u001b[38;5;241m.\u001b[39mWater(network\u001b[38;5;241m=\u001b[39mnet)\n",
      "\u001b[0;31mAttributeError\u001b[0m: module 'openpnm' has no attribute 'phases'"
     ]
    }
   ],
   "source": [
    "shape = [25, 25, 1]\n",
    "net = op.network.Cubic(shape=shape, spacing=1e-2)\n",
    "geo = op.geometry.SpheresAndCylinders(network=net, pores=net.Ps, throats=net.Ts)\n",
    "phase = op.phases.Water(network=net)"
   ]
  },
  {
   "cell_type": "markdown",
   "metadata": {},
   "source": [
    "You can adjust the diffusion coefficient by calling the `pore.diffusivity` dictionary key on the phase object and then setting it's value."
   ]
  },
  {
   "cell_type": "code",
   "execution_count": 3,
   "metadata": {
    "execution": {
     "iopub.execute_input": "2022-04-20T03:13:20.270905Z",
     "iopub.status.busy": "2022-04-20T03:13:20.270704Z",
     "iopub.status.idle": "2022-04-20T03:13:20.287302Z",
     "shell.execute_reply": "2022-04-20T03:13:20.286782Z"
    }
   },
   "outputs": [
    {
     "ename": "NameError",
     "evalue": "name 'phase' is not defined",
     "output_type": "error",
     "traceback": [
      "\u001b[0;31m---------------------------------------------------------------------------\u001b[0m",
      "\u001b[0;31mNameError\u001b[0m                                 Traceback (most recent call last)",
      "Input \u001b[0;32mIn [3]\u001b[0m, in \u001b[0;36m<cell line: 1>\u001b[0;34m()\u001b[0m\n\u001b[0;32m----> 1\u001b[0m \u001b[43mphase\u001b[49m[\u001b[38;5;124m'\u001b[39m\u001b[38;5;124mpore.diffusivity\u001b[39m\u001b[38;5;124m'\u001b[39m] \u001b[38;5;241m=\u001b[39m \u001b[38;5;241m2e-07\u001b[39m\n",
      "\u001b[0;31mNameError\u001b[0m: name 'phase' is not defined"
     ]
    }
   ],
   "source": [
    "phase['pore.diffusivity'] = 2e-07"
   ]
  },
  {
   "cell_type": "markdown",
   "metadata": {},
   "source": [
    "## Define physics object \n",
    "Here, we will use `Standard` physics which already includes many standard models. You could also use `Generic` physics and add neccessary models like `throat.diffusive_conductance` after using `phys.add_model()` method."
   ]
  },
  {
   "cell_type": "code",
   "execution_count": 4,
   "metadata": {
    "execution": {
     "iopub.execute_input": "2022-04-20T03:13:20.290029Z",
     "iopub.status.busy": "2022-04-20T03:13:20.289576Z",
     "iopub.status.idle": "2022-04-20T03:13:20.304564Z",
     "shell.execute_reply": "2022-04-20T03:13:20.304087Z"
    }
   },
   "outputs": [
    {
     "ename": "NameError",
     "evalue": "name 'phase' is not defined",
     "output_type": "error",
     "traceback": [
      "\u001b[0;31m---------------------------------------------------------------------------\u001b[0m",
      "\u001b[0;31mNameError\u001b[0m                                 Traceback (most recent call last)",
      "Input \u001b[0;32mIn [4]\u001b[0m, in \u001b[0;36m<cell line: 1>\u001b[0;34m()\u001b[0m\n\u001b[0;32m----> 1\u001b[0m phys \u001b[38;5;241m=\u001b[39m op\u001b[38;5;241m.\u001b[39mphysics\u001b[38;5;241m.\u001b[39mStandard(network\u001b[38;5;241m=\u001b[39mnet, phase\u001b[38;5;241m=\u001b[39m\u001b[43mphase\u001b[49m, geometry\u001b[38;5;241m=\u001b[39mgeo)\n",
      "\u001b[0;31mNameError\u001b[0m: name 'phase' is not defined"
     ]
    }
   ],
   "source": [
    "phys = op.physics.Standard(network=net, phase=phase, geometry=geo)"
   ]
  },
  {
   "cell_type": "markdown",
   "metadata": {},
   "source": [
    "## Add reaction model \n",
    "Add reaction model to physics object. For this example we use the `powerlaw` reaction model which is of the form:\n",
    "\n",
    "\\begin{equation*}\n",
    "\\ A_1X^{A_2}\n",
    "\\end{equation*}"
   ]
  },
  {
   "cell_type": "code",
   "execution_count": 5,
   "metadata": {
    "execution": {
     "iopub.execute_input": "2022-04-20T03:13:20.307389Z",
     "iopub.status.busy": "2022-04-20T03:13:20.307118Z",
     "iopub.status.idle": "2022-04-20T03:13:20.323494Z",
     "shell.execute_reply": "2022-04-20T03:13:20.322962Z"
    }
   },
   "outputs": [
    {
     "ename": "NameError",
     "evalue": "name 'phase' is not defined",
     "output_type": "error",
     "traceback": [
      "\u001b[0;31m---------------------------------------------------------------------------\u001b[0m",
      "\u001b[0;31mNameError\u001b[0m                                 Traceback (most recent call last)",
      "Input \u001b[0;32mIn [5]\u001b[0m, in \u001b[0;36m<cell line: 1>\u001b[0;34m()\u001b[0m\n\u001b[0;32m----> 1\u001b[0m \u001b[43mphase\u001b[49m[\u001b[38;5;124m'\u001b[39m\u001b[38;5;124mpore.concentration\u001b[39m\u001b[38;5;124m'\u001b[39m] \u001b[38;5;241m=\u001b[39m \u001b[38;5;241m0\u001b[39m\n\u001b[1;32m      2\u001b[0m phys[\u001b[38;5;124m'\u001b[39m\u001b[38;5;124mpore.rxnA\u001b[39m\u001b[38;5;124m'\u001b[39m] \u001b[38;5;241m=\u001b[39m \u001b[38;5;241m-\u001b[39m\u001b[38;5;241m1e-10\u001b[39m\n\u001b[1;32m      3\u001b[0m phys[\u001b[38;5;124m'\u001b[39m\u001b[38;5;124mpore.rxnb\u001b[39m\u001b[38;5;124m'\u001b[39m] \u001b[38;5;241m=\u001b[39m \u001b[38;5;241m1\u001b[39m\n",
      "\u001b[0;31mNameError\u001b[0m: name 'phase' is not defined"
     ]
    }
   ],
   "source": [
    "phase['pore.concentration'] = 0\n",
    "phys['pore.rxnA'] = -1e-10\n",
    "phys['pore.rxnb'] = 1\n",
    "phys.add_model(propname='pore.reaction', model=op.models.physics.generic_source_term.power_law,\n",
    "               A1='pore.rxnA', A2='pore.rxnb', X='pore.concentration')"
   ]
  },
  {
   "cell_type": "markdown",
   "metadata": {},
   "source": [
    "## Define transient fickian diffusion object "
   ]
  },
  {
   "cell_type": "code",
   "execution_count": 6,
   "metadata": {
    "execution": {
     "iopub.execute_input": "2022-04-20T03:13:20.326269Z",
     "iopub.status.busy": "2022-04-20T03:13:20.325996Z",
     "iopub.status.idle": "2022-04-20T03:13:20.341616Z",
     "shell.execute_reply": "2022-04-20T03:13:20.341030Z"
    }
   },
   "outputs": [
    {
     "ename": "NameError",
     "evalue": "name 'phase' is not defined",
     "output_type": "error",
     "traceback": [
      "\u001b[0;31m---------------------------------------------------------------------------\u001b[0m",
      "\u001b[0;31mNameError\u001b[0m                                 Traceback (most recent call last)",
      "Input \u001b[0;32mIn [6]\u001b[0m, in \u001b[0;36m<cell line: 1>\u001b[0;34m()\u001b[0m\n\u001b[0;32m----> 1\u001b[0m tfd \u001b[38;5;241m=\u001b[39m op\u001b[38;5;241m.\u001b[39malgorithms\u001b[38;5;241m.\u001b[39mTransientFickianDiffusion(network\u001b[38;5;241m=\u001b[39mnet, phase\u001b[38;5;241m=\u001b[39m\u001b[43mphase\u001b[49m)\n",
      "\u001b[0;31mNameError\u001b[0m: name 'phase' is not defined"
     ]
    }
   ],
   "source": [
    "tfd = op.algorithms.TransientFickianDiffusion(network=net, phase=phase)"
   ]
  },
  {
   "cell_type": "markdown",
   "metadata": {},
   "source": [
    "## Setup the transient algorithm settings\n",
    "To do this you can call the `tfd.setup()` method and use it to set settings such as transient solver scheme, final time, time step, tolerance, etc. The `cranknicolson` scheme used here is the most accurate but slowest. Other time schemes are `implicit` which is faster but less accurate and `steady` which gives the steady state solution. "
   ]
  },
  {
   "cell_type": "code",
   "execution_count": 7,
   "metadata": {
    "execution": {
     "iopub.execute_input": "2022-04-20T03:13:20.344219Z",
     "iopub.status.busy": "2022-04-20T03:13:20.343914Z",
     "iopub.status.idle": "2022-04-20T03:13:20.347987Z",
     "shell.execute_reply": "2022-04-20T03:13:20.347465Z"
    }
   },
   "outputs": [],
   "source": [
    "x0 = 0\n",
    "tspan = (0, 2000)\n",
    "saveat = 100"
   ]
  },
  {
   "cell_type": "markdown",
   "metadata": {},
   "source": [
    "## Set value boundary conditions\n",
    "In this example we set the concentraton of the `front` pores to 1 and the concentration of the `back` pores to 0."
   ]
  },
  {
   "cell_type": "code",
   "execution_count": 8,
   "metadata": {
    "execution": {
     "iopub.execute_input": "2022-04-20T03:13:20.350512Z",
     "iopub.status.busy": "2022-04-20T03:13:20.350341Z",
     "iopub.status.idle": "2022-04-20T03:13:20.366871Z",
     "shell.execute_reply": "2022-04-20T03:13:20.366155Z"
    }
   },
   "outputs": [
    {
     "ename": "NameError",
     "evalue": "name 'tfd' is not defined",
     "output_type": "error",
     "traceback": [
      "\u001b[0;31m---------------------------------------------------------------------------\u001b[0m",
      "\u001b[0;31mNameError\u001b[0m                                 Traceback (most recent call last)",
      "Input \u001b[0;32mIn [8]\u001b[0m, in \u001b[0;36m<cell line: 1>\u001b[0;34m()\u001b[0m\n\u001b[0;32m----> 1\u001b[0m \u001b[43mtfd\u001b[49m\u001b[38;5;241m.\u001b[39mset_value_BC(pores\u001b[38;5;241m=\u001b[39mnet\u001b[38;5;241m.\u001b[39mpores(\u001b[38;5;124m'\u001b[39m\u001b[38;5;124mfront\u001b[39m\u001b[38;5;124m'\u001b[39m), values\u001b[38;5;241m=\u001b[39m\u001b[38;5;241m1\u001b[39m)\n\u001b[1;32m      2\u001b[0m tfd\u001b[38;5;241m.\u001b[39mset_value_BC(pores\u001b[38;5;241m=\u001b[39mnet\u001b[38;5;241m.\u001b[39mpores(\u001b[38;5;124m'\u001b[39m\u001b[38;5;124mback\u001b[39m\u001b[38;5;124m'\u001b[39m), values\u001b[38;5;241m=\u001b[39m\u001b[38;5;241m0\u001b[39m)\n",
      "\u001b[0;31mNameError\u001b[0m: name 'tfd' is not defined"
     ]
    }
   ],
   "source": [
    "tfd.set_value_BC(pores=net.pores('front'), values=1)\n",
    "tfd.set_value_BC(pores=net.pores('back'), values=0)"
   ]
  },
  {
   "cell_type": "markdown",
   "metadata": {},
   "source": [
    "## Set initial condition\n",
    "Initial conditions must be specified when `alg.run` is called as `alg.run(x0=x0)`, where `x0` could either be a scalar (in which case it'll be broadcasted to all pores), or an array."
   ]
  },
  {
   "cell_type": "markdown",
   "metadata": {},
   "source": [
    "## Set source term\n",
    "In this example, we apply the source term to pores 212 and 412. "
   ]
  },
  {
   "cell_type": "code",
   "execution_count": 9,
   "metadata": {
    "execution": {
     "iopub.execute_input": "2022-04-20T03:13:20.369458Z",
     "iopub.status.busy": "2022-04-20T03:13:20.369155Z",
     "iopub.status.idle": "2022-04-20T03:13:20.383319Z",
     "shell.execute_reply": "2022-04-20T03:13:20.382779Z"
    }
   },
   "outputs": [
    {
     "ename": "NameError",
     "evalue": "name 'tfd' is not defined",
     "output_type": "error",
     "traceback": [
      "\u001b[0;31m---------------------------------------------------------------------------\u001b[0m",
      "\u001b[0;31mNameError\u001b[0m                                 Traceback (most recent call last)",
      "Input \u001b[0;32mIn [9]\u001b[0m, in \u001b[0;36m<cell line: 1>\u001b[0;34m()\u001b[0m\n\u001b[0;32m----> 1\u001b[0m \u001b[43mtfd\u001b[49m\u001b[38;5;241m.\u001b[39mset_source(propname\u001b[38;5;241m=\u001b[39m\u001b[38;5;124m'\u001b[39m\u001b[38;5;124mpore.reaction\u001b[39m\u001b[38;5;124m'\u001b[39m, pores\u001b[38;5;241m=\u001b[39m[\u001b[38;5;241m212\u001b[39m, \u001b[38;5;241m412\u001b[39m])\n",
      "\u001b[0;31mNameError\u001b[0m: name 'tfd' is not defined"
     ]
    }
   ],
   "source": [
    "tfd.set_source(propname='pore.reaction', pores=[212, 412])"
   ]
  },
  {
   "cell_type": "markdown",
   "metadata": {},
   "source": [
    "## Run the simulation"
   ]
  },
  {
   "cell_type": "code",
   "execution_count": 10,
   "metadata": {
    "execution": {
     "iopub.execute_input": "2022-04-20T03:13:20.385948Z",
     "iopub.status.busy": "2022-04-20T03:13:20.385514Z",
     "iopub.status.idle": "2022-04-20T03:13:20.400521Z",
     "shell.execute_reply": "2022-04-20T03:13:20.399920Z"
    }
   },
   "outputs": [
    {
     "ename": "NameError",
     "evalue": "name 'tfd' is not defined",
     "output_type": "error",
     "traceback": [
      "\u001b[0;31m---------------------------------------------------------------------------\u001b[0m",
      "\u001b[0;31mNameError\u001b[0m                                 Traceback (most recent call last)",
      "Input \u001b[0;32mIn [10]\u001b[0m, in \u001b[0;36m<cell line: 1>\u001b[0;34m()\u001b[0m\n\u001b[0;32m----> 1\u001b[0m \u001b[43mtfd\u001b[49m\u001b[38;5;241m.\u001b[39mrun(x0\u001b[38;5;241m=\u001b[39mx0, tspan\u001b[38;5;241m=\u001b[39mtspan, saveat\u001b[38;5;241m=\u001b[39msaveat)\n",
      "\u001b[0;31mNameError\u001b[0m: name 'tfd' is not defined"
     ]
    }
   ],
   "source": [
    "tfd.run(x0=x0, tspan=tspan, saveat=saveat)"
   ]
  },
  {
   "cell_type": "markdown",
   "metadata": {},
   "source": [
    "## Visualize results\n",
    "Ater simulation runs we can visualize results using a colour plot from `matplotlib.pyplot`. Here we visualize the results at the final time `t_final` by using the `pore.concentration` key on the algorithm object."
   ]
  },
  {
   "cell_type": "code",
   "execution_count": 11,
   "metadata": {
    "execution": {
     "iopub.execute_input": "2022-04-20T03:13:20.403230Z",
     "iopub.status.busy": "2022-04-20T03:13:20.402800Z",
     "iopub.status.idle": "2022-04-20T03:13:20.471233Z",
     "shell.execute_reply": "2022-04-20T03:13:20.470419Z"
    }
   },
   "outputs": [
    {
     "ename": "NameError",
     "evalue": "name 'tfd' is not defined",
     "output_type": "error",
     "traceback": [
      "\u001b[0;31m---------------------------------------------------------------------------\u001b[0m",
      "\u001b[0;31mNameError\u001b[0m                                 Traceback (most recent call last)",
      "Input \u001b[0;32mIn [11]\u001b[0m, in \u001b[0;36m<cell line: 4>\u001b[0;34m()\u001b[0m\n\u001b[1;32m      1\u001b[0m \u001b[38;5;28;01mimport\u001b[39;00m \u001b[38;5;21;01mmatplotlib\u001b[39;00m\u001b[38;5;21;01m.\u001b[39;00m\u001b[38;5;21;01mpyplot\u001b[39;00m \u001b[38;5;28;01mas\u001b[39;00m \u001b[38;5;21;01mplt\u001b[39;00m\n\u001b[1;32m      2\u001b[0m \u001b[38;5;28;01mfrom\u001b[39;00m \u001b[38;5;21;01mmpl_toolkits\u001b[39;00m\u001b[38;5;21;01m.\u001b[39;00m\u001b[38;5;21;01maxes_grid1\u001b[39;00m \u001b[38;5;28;01mimport\u001b[39;00m make_axes_locatable\n\u001b[0;32m----> 4\u001b[0m c \u001b[38;5;241m=\u001b[39m \u001b[43mtfd\u001b[49m[\u001b[38;5;124m'\u001b[39m\u001b[38;5;124mpore.concentration\u001b[39m\u001b[38;5;124m'\u001b[39m]\u001b[38;5;241m.\u001b[39mreshape(shape)\n\u001b[1;32m      5\u001b[0m fig, ax \u001b[38;5;241m=\u001b[39m plt\u001b[38;5;241m.\u001b[39msubplots(figsize\u001b[38;5;241m=\u001b[39m(\u001b[38;5;241m5\u001b[39m, \u001b[38;5;241m5\u001b[39m))\n\u001b[1;32m      6\u001b[0m im \u001b[38;5;241m=\u001b[39m ax\u001b[38;5;241m.\u001b[39mimshow(c[:,:,\u001b[38;5;241m0\u001b[39m])\n",
      "\u001b[0;31mNameError\u001b[0m: name 'tfd' is not defined"
     ]
    }
   ],
   "source": [
    "import matplotlib.pyplot as plt\n",
    "from mpl_toolkits.axes_grid1 import make_axes_locatable\n",
    "\n",
    "c = tfd['pore.concentration'].reshape(shape)\n",
    "fig, ax = plt.subplots(figsize=(5, 5))\n",
    "im = ax.imshow(c[:,:,0])\n",
    "ax.set_title(f'concentration (mol/m$^3$) @ t = {tspan[1]}')\n",
    "divider = make_axes_locatable(ax)\n",
    "cax = divider.append_axes(\"right\", size=\"4%\", pad=0.1)\n",
    "plt.colorbar(im, cax=cax);"
   ]
  },
  {
   "cell_type": "markdown",
   "metadata": {},
   "source": [
    "If we print the `TransientFickianDiffusion` object we can see a list of the object's properties. Notice how the concentration is recorded here for each output concentration, `t_output`."
   ]
  },
  {
   "cell_type": "code",
   "execution_count": 12,
   "metadata": {
    "execution": {
     "iopub.execute_input": "2022-04-20T03:13:20.475087Z",
     "iopub.status.busy": "2022-04-20T03:13:20.474498Z",
     "iopub.status.idle": "2022-04-20T03:13:20.489225Z",
     "shell.execute_reply": "2022-04-20T03:13:20.488683Z"
    }
   },
   "outputs": [
    {
     "ename": "NameError",
     "evalue": "name 'tfd' is not defined",
     "output_type": "error",
     "traceback": [
      "\u001b[0;31m---------------------------------------------------------------------------\u001b[0m",
      "\u001b[0;31mNameError\u001b[0m                                 Traceback (most recent call last)",
      "Input \u001b[0;32mIn [12]\u001b[0m, in \u001b[0;36m<cell line: 1>\u001b[0;34m()\u001b[0m\n\u001b[0;32m----> 1\u001b[0m \u001b[38;5;28mprint\u001b[39m(\u001b[43mtfd\u001b[49m)\n",
      "\u001b[0;31mNameError\u001b[0m: name 'tfd' is not defined"
     ]
    }
   ],
   "source": [
    "print(tfd)"
   ]
  },
  {
   "cell_type": "markdown",
   "metadata": {},
   "source": [
    "We can visualize intermediate concentration profiles using a colour plot but use `pore.concentration@100` (or similar) as the dictionary key on the algorithm object."
   ]
  },
  {
   "cell_type": "code",
   "execution_count": 13,
   "metadata": {
    "execution": {
     "iopub.execute_input": "2022-04-20T03:13:20.492067Z",
     "iopub.status.busy": "2022-04-20T03:13:20.491614Z",
     "iopub.status.idle": "2022-04-20T03:13:20.509393Z",
     "shell.execute_reply": "2022-04-20T03:13:20.508713Z"
    }
   },
   "outputs": [
    {
     "ename": "NameError",
     "evalue": "name 'tfd' is not defined",
     "output_type": "error",
     "traceback": [
      "\u001b[0;31m---------------------------------------------------------------------------\u001b[0m",
      "\u001b[0;31mNameError\u001b[0m                                 Traceback (most recent call last)",
      "Input \u001b[0;32mIn [13]\u001b[0m, in \u001b[0;36m<cell line: 1>\u001b[0;34m()\u001b[0m\n\u001b[0;32m----> 1\u001b[0m c \u001b[38;5;241m=\u001b[39m \u001b[43mtfd\u001b[49m\u001b[38;5;241m.\u001b[39msoln(\u001b[38;5;241m100\u001b[39m)\u001b[38;5;241m.\u001b[39mreshape(shape)\n\u001b[1;32m      2\u001b[0m fig, ax \u001b[38;5;241m=\u001b[39m plt\u001b[38;5;241m.\u001b[39msubplots(figsize\u001b[38;5;241m=\u001b[39m(\u001b[38;5;241m5\u001b[39m, \u001b[38;5;241m5\u001b[39m))\n\u001b[1;32m      3\u001b[0m im \u001b[38;5;241m=\u001b[39m ax\u001b[38;5;241m.\u001b[39mimshow(c[:,:,\u001b[38;5;241m0\u001b[39m])\n",
      "\u001b[0;31mNameError\u001b[0m: name 'tfd' is not defined"
     ]
    }
   ],
   "source": [
    "c = tfd.soln(100).reshape(shape)\n",
    "fig, ax = plt.subplots(figsize=(5, 5))\n",
    "im = ax.imshow(c[:,:,0])\n",
    "ax.set_title(f'concentration (mol/m$^3$) @ t = 100')\n",
    "divider = make_axes_locatable(ax)\n",
    "cax = divider.append_axes(\"right\", size=\"4%\", pad=0.1)\n",
    "plt.colorbar(im, cax=cax);"
   ]
  }
 ],
 "metadata": {
  "kernelspec": {
   "display_name": "Python 3",
   "language": "python",
   "name": "python3"
  },
  "language_info": {
   "codemirror_mode": {
    "name": "ipython",
    "version": 3
   },
   "file_extension": ".py",
   "mimetype": "text/x-python",
   "name": "python",
   "nbconvert_exporter": "python",
   "pygments_lexer": "ipython3",
   "version": "3.8.13"
  }
 },
 "nbformat": 4,
 "nbformat_minor": 4
}
