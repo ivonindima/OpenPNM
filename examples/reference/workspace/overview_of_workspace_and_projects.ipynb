{
 "cells": [
  {
   "cell_type": "markdown",
   "metadata": {},
   "source": [
    "# The Workspace and Projects\n",
    "\n",
    "OpenPNM V2.0 implemented new ways to manage and control objects, specifically the *Workspace* and *Projects*. \n",
    "\n",
    "> You probably don't need to worry about these features until your simulations get large and complicated.\n",
    "\n",
    "The *Workspace* is equivalent to a web browser window, while a *Project* is like tabs inside the browser. Each *Project* is an isolated OpenPNM simulation with a single *Network* and all associated objects.  All *Projects* are stored in the same *Workspace*.  There can be only 1 *Workspace* open at a given time, so all new projects are registered in the same *Workspace*.  *Projects* and *Workspaces* can be saved and loaded.\n"
   ]
  },
  {
   "cell_type": "code",
   "execution_count": 1,
   "metadata": {
    "execution": {
     "iopub.execute_input": "2022-04-20T03:07:38.072369Z",
     "iopub.status.busy": "2022-04-20T03:07:38.071912Z",
     "iopub.status.idle": "2022-04-20T03:07:39.293891Z",
     "shell.execute_reply": "2022-04-20T03:07:39.293021Z"
    }
   },
   "outputs": [],
   "source": [
    "import openpnm as op"
   ]
  },
  {
   "cell_type": "markdown",
   "metadata": {},
   "source": [
    "## Usage of Projects and Workspace\n",
    "\n",
    "Initialize the *Workspace* and save in a variable called ``ws``, and print it to verify that it is currently empty:"
   ]
  },
  {
   "cell_type": "code",
   "execution_count": 2,
   "metadata": {
    "execution": {
     "iopub.execute_input": "2022-04-20T03:07:39.298049Z",
     "iopub.status.busy": "2022-04-20T03:07:39.297857Z",
     "iopub.status.idle": "2022-04-20T03:07:39.301713Z",
     "shell.execute_reply": "2022-04-20T03:07:39.301048Z"
    }
   },
   "outputs": [
    {
     "name": "stdout",
     "output_type": "stream",
     "text": [
      "――――――――――――――――――――――――――――――――――――――――――――――――――――――――――――――――――――――――――――――\n",
      "OpenPNM Version 2.8.2.dev1116 Workspace\n",
      "――――――――――――――――――――――――――――――――――――――――――――――――――――――――――――――――――――――――――――――\n"
     ]
    }
   ],
   "source": [
    "ws = op.Workspace()\n",
    "print(ws)"
   ]
  },
  {
   "cell_type": "markdown",
   "metadata": {},
   "source": [
    "Next, create a new *Project* and print:"
   ]
  },
  {
   "cell_type": "code",
   "execution_count": 3,
   "metadata": {
    "execution": {
     "iopub.execute_input": "2022-04-20T03:07:39.305569Z",
     "iopub.status.busy": "2022-04-20T03:07:39.305356Z",
     "iopub.status.idle": "2022-04-20T03:07:39.314468Z",
     "shell.execute_reply": "2022-04-20T03:07:39.313804Z"
    }
   },
   "outputs": [
    {
     "data": {
      "text/plain": [
       "――――――――――――――――――――――――――――――――――――――――――――――――――――――――――――――――――――――――――――――\n",
       " Object Name     Object ID                                                        \n",
       "――――――――――――――――――――――――――――――――――――――――――――――――――――――――――――――――――――――――――――――\n",
       "――――――――――――――――――――――――――――――――――――――――――――――――――――――――――――――――――――――――――――――"
      ]
     },
     "execution_count": 3,
     "metadata": {},
     "output_type": "execute_result"
    }
   ],
   "source": [
    "proj = ws.new_project()\n",
    "proj"
   ]
  },
  {
   "cell_type": "markdown",
   "metadata": {},
   "source": [
    "The project is an empty list since there have been no objects created yet.  \n",
    "\n",
    "Now create a new network object with passing in ``proj`` into the initialization:"
   ]
  },
  {
   "cell_type": "code",
   "execution_count": 4,
   "metadata": {
    "execution": {
     "iopub.execute_input": "2022-04-20T03:07:39.319067Z",
     "iopub.status.busy": "2022-04-20T03:07:39.317925Z",
     "iopub.status.idle": "2022-04-20T03:07:39.324959Z",
     "shell.execute_reply": "2022-04-20T03:07:39.324460Z"
    }
   },
   "outputs": [],
   "source": [
    "pn = op.network.Cubic(shape=[4, 4, 4], project=proj)"
   ]
  },
  {
   "cell_type": "markdown",
   "metadata": {},
   "source": [
    "Now printing the *Project* via `print(proj)` will include the newly created network:"
   ]
  },
  {
   "cell_type": "code",
   "execution_count": 5,
   "metadata": {
    "execution": {
     "iopub.execute_input": "2022-04-20T03:07:39.327870Z",
     "iopub.status.busy": "2022-04-20T03:07:39.327439Z",
     "iopub.status.idle": "2022-04-20T03:07:39.330763Z",
     "shell.execute_reply": "2022-04-20T03:07:39.330193Z"
    }
   },
   "outputs": [
    {
     "name": "stdout",
     "output_type": "stream",
     "text": [
      "――――――――――――――――――――――――――――――――――――――――――――――――――――――――――――――――――――――――――――――\n",
      " Object Name     Object ID                                                        \n",
      "――――――――――――――――――――――――――――――――――――――――――――――――――――――――――――――――――――――――――――――\n",
      " net_01          <openpnm.network.Cubic at 0x7fce3b18e720>                        \n",
      "――――――――――――――――――――――――――――――――――――――――――――――――――――――――――――――――――――――――――――――\n"
     ]
    }
   ],
   "source": [
    "print(proj)"
   ]
  },
  {
   "cell_type": "markdown",
   "metadata": {},
   "source": [
    "It is not necessary to create a project *before* creating a network.  Since a project can only have *one* network, then a new project is created each time a network is created if not specified as we did above:"
   ]
  },
  {
   "cell_type": "code",
   "execution_count": 6,
   "metadata": {
    "execution": {
     "iopub.execute_input": "2022-04-20T03:07:39.334178Z",
     "iopub.status.busy": "2022-04-20T03:07:39.333893Z",
     "iopub.status.idle": "2022-04-20T03:07:39.340365Z",
     "shell.execute_reply": "2022-04-20T03:07:39.339663Z"
    }
   },
   "outputs": [],
   "source": [
    "pn2 = op.network.Cubic(shape=[4, 4, 4])"
   ]
  },
  {
   "cell_type": "markdown",
   "metadata": {},
   "source": [
    "The project that each object belongs to can be found since each object has a ``project`` attribute. You can use this to see what other objects are defined in a project: "
   ]
  },
  {
   "cell_type": "code",
   "execution_count": 7,
   "metadata": {
    "execution": {
     "iopub.execute_input": "2022-04-20T03:07:39.343275Z",
     "iopub.status.busy": "2022-04-20T03:07:39.342891Z",
     "iopub.status.idle": "2022-04-20T03:07:39.346761Z",
     "shell.execute_reply": "2022-04-20T03:07:39.346280Z"
    },
    "scrolled": true
   },
   "outputs": [
    {
     "name": "stdout",
     "output_type": "stream",
     "text": [
      "――――――――――――――――――――――――――――――――――――――――――――――――――――――――――――――――――――――――――――――\n",
      " Object Name     Object ID                                                        \n",
      "――――――――――――――――――――――――――――――――――――――――――――――――――――――――――――――――――――――――――――――\n",
      " net_01          <openpnm.network.Cubic at 0x7fce3b18e590>                        \n",
      "――――――――――――――――――――――――――――――――――――――――――――――――――――――――――――――――――――――――――――――\n"
     ]
    }
   ],
   "source": [
    "print(pn2.project)"
   ]
  },
  {
   "cell_type": "markdown",
   "metadata": {},
   "source": [
    "Finally, you can view all active projects by printing the workspace via:"
   ]
  },
  {
   "cell_type": "code",
   "execution_count": 8,
   "metadata": {
    "execution": {
     "iopub.execute_input": "2022-04-20T03:07:39.349595Z",
     "iopub.status.busy": "2022-04-20T03:07:39.349077Z",
     "iopub.status.idle": "2022-04-20T03:07:39.352718Z",
     "shell.execute_reply": "2022-04-20T03:07:39.352090Z"
    }
   },
   "outputs": [
    {
     "name": "stdout",
     "output_type": "stream",
     "text": [
      "――――――――――――――――――――――――――――――――――――――――――――――――――――――――――――――――――――――――――――――\n",
      "OpenPNM Version 2.8.2.dev1116 Workspace\n",
      "――――――――――――――――――――――――――――――――――――――――――――――――――――――――――――――――――――――――――――――\n",
      " proj_01\n",
      "――――――――――――――――――――――――――――――――――――――――――――――――――――――――――――――――――――――――――――――\n",
      " Object Name     Object ID                                                        \n",
      "――――――――――――――――――――――――――――――――――――――――――――――――――――――――――――――――――――――――――――――\n",
      " net_01          <openpnm.network.Cubic at 0x7fce3b18e720>                        \n",
      "――――――――――――――――――――――――――――――――――――――――――――――――――――――――――――――――――――――――――――――\n",
      " proj_02\n",
      "――――――――――――――――――――――――――――――――――――――――――――――――――――――――――――――――――――――――――――――\n",
      " Object Name     Object ID                                                        \n",
      "――――――――――――――――――――――――――――――――――――――――――――――――――――――――――――――――――――――――――――――\n",
      " net_01          <openpnm.network.Cubic at 0x7fce3b18e590>                        \n",
      "――――――――――――――――――――――――――――――――――――――――――――――――――――――――――――――――――――――――――――――\n"
     ]
    }
   ],
   "source": [
    "print(ws)"
   ]
  },
  {
   "cell_type": "markdown",
   "metadata": {},
   "source": [
    "A project can be purged from the workspace via `ws.close_project(proj)`. Let's print workspace again,:"
   ]
  },
  {
   "cell_type": "code",
   "execution_count": 9,
   "metadata": {
    "execution": {
     "iopub.execute_input": "2022-04-20T03:07:39.355939Z",
     "iopub.status.busy": "2022-04-20T03:07:39.355458Z",
     "iopub.status.idle": "2022-04-20T03:07:39.360018Z",
     "shell.execute_reply": "2022-04-20T03:07:39.359111Z"
    }
   },
   "outputs": [
    {
     "name": "stdout",
     "output_type": "stream",
     "text": [
      "――――――――――――――――――――――――――――――――――――――――――――――――――――――――――――――――――――――――――――――\n",
      "OpenPNM Version 2.8.2.dev1116 Workspace\n",
      "――――――――――――――――――――――――――――――――――――――――――――――――――――――――――――――――――――――――――――――\n",
      " proj_02\n",
      "――――――――――――――――――――――――――――――――――――――――――――――――――――――――――――――――――――――――――――――\n",
      " Object Name     Object ID                                                        \n",
      "――――――――――――――――――――――――――――――――――――――――――――――――――――――――――――――――――――――――――――――\n",
      " net_01          <openpnm.network.Cubic at 0x7fce3b18e590>                        \n",
      "――――――――――――――――――――――――――――――――――――――――――――――――――――――――――――――――――――――――――――――\n"
     ]
    }
   ],
   "source": [
    "ws.close_project(proj)\n",
    "print(ws)"
   ]
  },
  {
   "cell_type": "markdown",
   "metadata": {},
   "source": [
    "## Design of Workspace and Project Classes\n",
    "\n",
    "It is worth describing the design of these classes to help explain how they work.  The workspace is a ``dict`` subclass while the project is a ``list`` subclass.  Each subclass has numerous methods added to aid in the management of the objects. \n",
    "\n",
    "In the Workspace ``dict`` each project object is stored by name in each 'key: value' pair.  Printing the workspace gives a nicely formatted output as shown above, but the basic command-line representation gives its true structure via running `ws` in the command-line:"
   ]
  },
  {
   "cell_type": "raw",
   "metadata": {},
   "source": [
    "{'sim_02': [<openpnm.network.Cubic object at 0x7f1fa5700830>]}\n"
   ]
  },
  {
   "cell_type": "markdown",
   "metadata": {},
   "source": [
    "Where the only project in the workspace is ``'sim_02'``, and it is a list that contains only a single Cubic network object."
   ]
  }
 ],
 "metadata": {
  "kernelspec": {
   "display_name": "Python 3",
   "language": "python",
   "name": "python3"
  },
  "language_info": {
   "codemirror_mode": {
    "name": "ipython",
    "version": 3
   },
   "file_extension": ".py",
   "mimetype": "text/x-python",
   "name": "python",
   "nbconvert_exporter": "python",
   "pygments_lexer": "ipython3",
   "version": "3.8.13"
  },
  "toc": {
   "base_numbering": 1,
   "nav_menu": {},
   "number_sections": false,
   "sideBar": true,
   "skip_h1_title": false,
   "title_cell": "Table of Contents",
   "title_sidebar": "Contents",
   "toc_cell": true,
   "toc_position": {},
   "toc_section_display": true,
   "toc_window_display": false
  }
 },
 "nbformat": 4,
 "nbformat_minor": 4
}
