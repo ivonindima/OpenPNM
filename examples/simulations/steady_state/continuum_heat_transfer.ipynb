{
 "cells": [
  {
   "cell_type": "markdown",
   "metadata": {},
   "source": [
    "# Fourier Conduction\n",
    "This examples shows how OpenPNM can be used to simulate thermal conduction on a generic grid of nodes. The result obtained from OpenPNM is compared to the analytical result. "
   ]
  },
  {
   "cell_type": "markdown",
   "metadata": {},
   "source": [
    "As usual, start by importing OpenPNM, and the SciPy library."
   ]
  },
  {
   "cell_type": "code",
   "execution_count": 1,
   "metadata": {
    "execution": {
     "iopub.execute_input": "2022-03-23T01:24:44.262988Z",
     "iopub.status.busy": "2022-03-23T01:24:44.262633Z",
     "iopub.status.idle": "2022-03-23T01:24:45.753601Z",
     "shell.execute_reply": "2022-03-23T01:24:45.753005Z"
    }
   },
   "outputs": [],
   "source": [
    "%matplotlib inline\n",
    "import numpy as np\n",
    "import scipy as sp\n",
    "import openpnm as op\n",
    "%config InlineBackend.figure_formats = ['svg']\n",
    "np.random.seed(10)\n",
    "ws = op.Workspace()\n",
    "ws.settings[\"loglevel\"] = 40\n",
    "np.set_printoptions(precision=5)"
   ]
  },
  {
   "cell_type": "markdown",
   "metadata": {},
   "source": [
    "## Generating the Network object\n",
    "\n",
    "Next, 2D a **Network** is generated with dimensions of 10x50 elements. The lattice spacing is given by *Lc*. Boundaries are added all around the edges of **Network** object using the ``add_boundariy_pores`` method. "
   ]
  },
  {
   "cell_type": "code",
   "execution_count": 2,
   "metadata": {
    "execution": {
     "iopub.execute_input": "2022-03-23T01:24:45.756951Z",
     "iopub.status.busy": "2022-03-23T01:24:45.756692Z",
     "iopub.status.idle": "2022-03-23T01:24:45.771200Z",
     "shell.execute_reply": "2022-03-23T01:24:45.770786Z"
    }
   },
   "outputs": [],
   "source": [
    "divs = [10, 50]\n",
    "Lc = 0.1  # cm\n",
    "pn = op.network.Cubic(shape=divs, spacing=Lc)\n",
    "pn.add_boundary_pores(['left', 'right', 'front', 'back'])"
   ]
  },
  {
   "cell_type": "markdown",
   "metadata": {},
   "source": [
    "## Creating a Phase object\n",
    "All simulations require a phase object which possess the thermosphysical properties of the system.  In this case, we'll create a generic phase object, call it copper, though it has no properties; we'll add these by hand later."
   ]
  },
  {
   "cell_type": "code",
   "execution_count": 3,
   "metadata": {
    "execution": {
     "iopub.execute_input": "2022-03-23T01:24:45.773562Z",
     "iopub.status.busy": "2022-03-23T01:24:45.773412Z",
     "iopub.status.idle": "2022-03-23T01:24:46.202710Z",
     "shell.execute_reply": "2022-03-23T01:24:46.202174Z"
    }
   },
   "outputs": [
    {
     "ename": "AttributeError",
     "evalue": "module 'openpnm' has no attribute 'phases'",
     "output_type": "error",
     "traceback": [
      "\u001b[0;31m---------------------------------------------------------------------------\u001b[0m",
      "\u001b[0;31mAttributeError\u001b[0m                            Traceback (most recent call last)",
      "Input \u001b[0;32mIn [3]\u001b[0m, in \u001b[0;36m<cell line: 2>\u001b[0;34m()\u001b[0m\n\u001b[1;32m      1\u001b[0m \u001b[38;5;66;03m# Create Phase object and associate with a Physics object\u001b[39;00m\n\u001b[0;32m----> 2\u001b[0m Cu \u001b[38;5;241m=\u001b[39m \u001b[43mop\u001b[49m\u001b[38;5;241;43m.\u001b[39;49m\u001b[43mphases\u001b[49m\u001b[38;5;241m.\u001b[39mGenericPhase(network\u001b[38;5;241m=\u001b[39mpn)\n",
      "\u001b[0;31mAttributeError\u001b[0m: module 'openpnm' has no attribute 'phases'"
     ]
    }
   ],
   "source": [
    "# Create Phase object and associate with a Physics object\n",
    "Cu = op.phases.GenericPhase(network=pn)"
   ]
  },
  {
   "cell_type": "markdown",
   "metadata": {},
   "source": [
    "## Assigning Thermal Conductance to Copper\n",
    "In a proper OpenPNM model we would create a Geometry object to manage all the geometrical properties, and a Physics object to calculate the thermal conductance based on the geometric information and the thermophysical properties of copper.  In the present case, however, we'll just calculate the conductance manually and assign it to ```Cu```."
   ]
  },
  {
   "cell_type": "code",
   "execution_count": 4,
   "metadata": {
    "execution": {
     "iopub.execute_input": "2022-03-23T01:24:46.205584Z",
     "iopub.status.busy": "2022-03-23T01:24:46.205228Z",
     "iopub.status.idle": "2022-03-23T01:24:46.218259Z",
     "shell.execute_reply": "2022-03-23T01:24:46.217786Z"
    }
   },
   "outputs": [
    {
     "ename": "NameError",
     "evalue": "name 'Cu' is not defined",
     "output_type": "error",
     "traceback": [
      "\u001b[0;31m---------------------------------------------------------------------------\u001b[0m",
      "\u001b[0;31mNameError\u001b[0m                                 Traceback (most recent call last)",
      "Input \u001b[0;32mIn [4]\u001b[0m, in \u001b[0;36m<cell line: 2>\u001b[0;34m()\u001b[0m\n\u001b[1;32m      1\u001b[0m \u001b[38;5;66;03m# Add a unit conductance to all connections\u001b[39;00m\n\u001b[0;32m----> 2\u001b[0m \u001b[43mCu\u001b[49m[\u001b[38;5;124m'\u001b[39m\u001b[38;5;124mthroat.thermal_conductance\u001b[39m\u001b[38;5;124m'\u001b[39m] \u001b[38;5;241m=\u001b[39m \u001b[38;5;241m1\u001b[39m\n\u001b[1;32m      3\u001b[0m \u001b[38;5;66;03m# Overwrite boundary conductances since those connections are half as long\u001b[39;00m\n\u001b[1;32m      4\u001b[0m Ps \u001b[38;5;241m=\u001b[39m pn\u001b[38;5;241m.\u001b[39mpores(\u001b[38;5;124m'\u001b[39m\u001b[38;5;124m*boundary\u001b[39m\u001b[38;5;124m'\u001b[39m)\n",
      "\u001b[0;31mNameError\u001b[0m: name 'Cu' is not defined"
     ]
    }
   ],
   "source": [
    "# Add a unit conductance to all connections\n",
    "Cu['throat.thermal_conductance'] = 1\n",
    "# Overwrite boundary conductances since those connections are half as long\n",
    "Ps = pn.pores('*boundary')\n",
    "Ts = pn.find_neighbor_throats(pores=Ps)\n",
    "Cu['throat.thermal_conductance'][Ts] = 2"
   ]
  },
  {
   "cell_type": "markdown",
   "metadata": {},
   "source": [
    "## Generating the algorithm objects and running the simulation\n",
    "The last step in the OpenPNM simulation involves the generation of a **Algorithm** object and running the simulation. "
   ]
  },
  {
   "cell_type": "code",
   "execution_count": 5,
   "metadata": {
    "execution": {
     "iopub.execute_input": "2022-03-23T01:24:46.220556Z",
     "iopub.status.busy": "2022-03-23T01:24:46.220235Z",
     "iopub.status.idle": "2022-03-23T01:24:46.234781Z",
     "shell.execute_reply": "2022-03-23T01:24:46.234304Z"
    }
   },
   "outputs": [
    {
     "ename": "NameError",
     "evalue": "name 'Cu' is not defined",
     "output_type": "error",
     "traceback": [
      "\u001b[0;31m---------------------------------------------------------------------------\u001b[0m",
      "\u001b[0;31mNameError\u001b[0m                                 Traceback (most recent call last)",
      "Input \u001b[0;32mIn [5]\u001b[0m, in \u001b[0;36m<cell line: 2>\u001b[0;34m()\u001b[0m\n\u001b[1;32m      1\u001b[0m \u001b[38;5;66;03m# Setup Algorithm object\u001b[39;00m\n\u001b[0;32m----> 2\u001b[0m alg \u001b[38;5;241m=\u001b[39m op\u001b[38;5;241m.\u001b[39malgorithms\u001b[38;5;241m.\u001b[39mFourierConduction(network\u001b[38;5;241m=\u001b[39mpn, phase\u001b[38;5;241m=\u001b[39m\u001b[43mCu\u001b[49m)\n\u001b[1;32m      3\u001b[0m inlets \u001b[38;5;241m=\u001b[39m pn\u001b[38;5;241m.\u001b[39mpores(\u001b[38;5;124m'\u001b[39m\u001b[38;5;124mright_boundary\u001b[39m\u001b[38;5;124m'\u001b[39m)\n\u001b[1;32m      4\u001b[0m outlets \u001b[38;5;241m=\u001b[39m pn\u001b[38;5;241m.\u001b[39mpores([\u001b[38;5;124m'\u001b[39m\u001b[38;5;124mfront_boundary\u001b[39m\u001b[38;5;124m'\u001b[39m, \u001b[38;5;124m'\u001b[39m\u001b[38;5;124mback_boundary\u001b[39m\u001b[38;5;124m'\u001b[39m, \u001b[38;5;124m'\u001b[39m\u001b[38;5;124mright_boundary\u001b[39m\u001b[38;5;124m'\u001b[39m])\n",
      "\u001b[0;31mNameError\u001b[0m: name 'Cu' is not defined"
     ]
    }
   ],
   "source": [
    "# Setup Algorithm object\n",
    "alg = op.algorithms.FourierConduction(network=pn, phase=Cu)\n",
    "inlets = pn.pores('right_boundary')\n",
    "outlets = pn.pores(['front_boundary', 'back_boundary', 'right_boundary'])\n",
    "T_in = 30*np.sin(np.pi*pn['pore.coords'][inlets, 1]/5)+50\n",
    "alg.set_value_BC(values=T_in, pores=inlets)\n",
    "alg.set_value_BC(values=50, pores=outlets)\n",
    "alg.run()"
   ]
  },
  {
   "cell_type": "markdown",
   "metadata": {},
   "source": [
    "This is the last step usually required in a OpenPNM simulation. The algorithm was run, and now the simulation data obtained can be analyzed. For illustrative purposes, the results obtained using OpenPNM shall be compared to an analytical solution of the problem in the following."
   ]
  },
  {
   "cell_type": "markdown",
   "metadata": {},
   "source": [
    "First let's rehape the 'pore.temperature' array into the shape of the network while also extracting only the internal pores to avoid showing the boundaries."
   ]
  },
  {
   "cell_type": "code",
   "execution_count": 6,
   "metadata": {
    "execution": {
     "iopub.execute_input": "2022-03-23T01:24:46.237487Z",
     "iopub.status.busy": "2022-03-23T01:24:46.237123Z",
     "iopub.status.idle": "2022-03-23T01:24:46.250605Z",
     "shell.execute_reply": "2022-03-23T01:24:46.250110Z"
    }
   },
   "outputs": [
    {
     "ename": "NameError",
     "evalue": "name 'alg' is not defined",
     "output_type": "error",
     "traceback": [
      "\u001b[0;31m---------------------------------------------------------------------------\u001b[0m",
      "\u001b[0;31mNameError\u001b[0m                                 Traceback (most recent call last)",
      "Input \u001b[0;32mIn [6]\u001b[0m, in \u001b[0;36m<cell line: 2>\u001b[0;34m()\u001b[0m\n\u001b[1;32m      1\u001b[0m \u001b[38;5;28;01mimport\u001b[39;00m \u001b[38;5;21;01mmatplotlib\u001b[39;00m\u001b[38;5;21;01m.\u001b[39;00m\u001b[38;5;21;01mpyplot\u001b[39;00m \u001b[38;5;28;01mas\u001b[39;00m \u001b[38;5;21;01mplt\u001b[39;00m\n\u001b[0;32m----> 2\u001b[0m sim \u001b[38;5;241m=\u001b[39m \u001b[43malg\u001b[49m[\u001b[38;5;124m'\u001b[39m\u001b[38;5;124mpore.temperature\u001b[39m\u001b[38;5;124m'\u001b[39m][pn\u001b[38;5;241m.\u001b[39mpores(\u001b[38;5;124m'\u001b[39m\u001b[38;5;124minternal\u001b[39m\u001b[38;5;124m'\u001b[39m)]\n\u001b[1;32m      3\u001b[0m temp_map \u001b[38;5;241m=\u001b[39m np\u001b[38;5;241m.\u001b[39mreshape(a\u001b[38;5;241m=\u001b[39msim, newshape\u001b[38;5;241m=\u001b[39mdivs)\n\u001b[1;32m      4\u001b[0m plt\u001b[38;5;241m.\u001b[39msubplots(\u001b[38;5;241m1\u001b[39m, \u001b[38;5;241m1\u001b[39m, figsize\u001b[38;5;241m=\u001b[39m(\u001b[38;5;241m10\u001b[39m, \u001b[38;5;241m5\u001b[39m))\n",
      "\u001b[0;31mNameError\u001b[0m: name 'alg' is not defined"
     ]
    }
   ],
   "source": [
    "import matplotlib.pyplot as plt\n",
    "sim = alg['pore.temperature'][pn.pores('internal')]\n",
    "temp_map = np.reshape(a=sim, newshape=divs)\n",
    "plt.subplots(1, 1, figsize=(10, 5))\n",
    "plt.imshow(temp_map, cmap=plt.cm.plasma);\n",
    "plt.colorbar();"
   ]
  },
  {
   "cell_type": "markdown",
   "metadata": {},
   "source": [
    "Also, let's take a look at the average temperature:"
   ]
  },
  {
   "cell_type": "code",
   "execution_count": 7,
   "metadata": {
    "execution": {
     "iopub.execute_input": "2022-03-23T01:24:46.253036Z",
     "iopub.status.busy": "2022-03-23T01:24:46.252631Z",
     "iopub.status.idle": "2022-03-23T01:24:46.263770Z",
     "shell.execute_reply": "2022-03-23T01:24:46.263285Z"
    }
   },
   "outputs": [
    {
     "ename": "NameError",
     "evalue": "name 'alg' is not defined",
     "output_type": "error",
     "traceback": [
      "\u001b[0;31m---------------------------------------------------------------------------\u001b[0m",
      "\u001b[0;31mNameError\u001b[0m                                 Traceback (most recent call last)",
      "Input \u001b[0;32mIn [7]\u001b[0m, in \u001b[0;36m<cell line: 1>\u001b[0;34m()\u001b[0m\n\u001b[0;32m----> 1\u001b[0m \u001b[38;5;28mprint\u001b[39m(\u001b[38;5;124mf\u001b[39m\u001b[38;5;124m\"\u001b[39m\u001b[38;5;124mT_average (numerical): \u001b[39m\u001b[38;5;132;01m{\u001b[39;00malg[\u001b[38;5;124m'\u001b[39m\u001b[38;5;124mpore.temperature\u001b[39m\u001b[38;5;124m'\u001b[39m][pn\u001b[38;5;241m.\u001b[39mpores(\u001b[38;5;124m'\u001b[39m\u001b[38;5;124minternal\u001b[39m\u001b[38;5;124m'\u001b[39m)]\u001b[38;5;241m.\u001b[39mmean()\u001b[38;5;132;01m:\u001b[39;00m\u001b[38;5;124m.5f\u001b[39m\u001b[38;5;132;01m}\u001b[39;00m\u001b[38;5;124m\"\u001b[39m)\n",
      "\u001b[0;31mNameError\u001b[0m: name 'alg' is not defined"
     ]
    }
   ],
   "source": [
    "print(f\"T_average (numerical): {alg['pore.temperature'][pn.pores('internal')].mean():.5f}\")"
   ]
  },
  {
   "cell_type": "markdown",
   "metadata": {},
   "source": [
    "The analytical solution is computed as well, and the result is the same shape as the network (including the boundary pores). "
   ]
  },
  {
   "cell_type": "code",
   "execution_count": 8,
   "metadata": {
    "execution": {
     "iopub.execute_input": "2022-03-23T01:24:46.266051Z",
     "iopub.status.busy": "2022-03-23T01:24:46.265677Z",
     "iopub.status.idle": "2022-03-23T01:24:46.269640Z",
     "shell.execute_reply": "2022-03-23T01:24:46.269186Z"
    }
   },
   "outputs": [],
   "source": [
    "# Calculate analytical solution over the same domain spacing\n",
    "X = pn['pore.coords'][:, 0]\n",
    "Y = pn['pore.coords'][:, 1]\n",
    "soln = 30*np.sinh(np.pi*X/5)/np.sinh(np.pi/5)*np.sin(np.pi*Y/5) + 50\n",
    "soln = soln[pn.pores('internal')]\n",
    "soln = np.reshape(soln, (divs[0], divs[1]))"
   ]
  },
  {
   "cell_type": "code",
   "execution_count": 9,
   "metadata": {
    "execution": {
     "iopub.execute_input": "2022-03-23T01:24:46.271611Z",
     "iopub.status.busy": "2022-03-23T01:24:46.271369Z",
     "iopub.status.idle": "2022-03-23T01:24:46.423799Z",
     "shell.execute_reply": "2022-03-23T01:24:46.423318Z"
    }
   },
   "outputs": [
    {
     "data": {
      "image/svg+xml": [
       "<?xml version=\"1.0\" encoding=\"utf-8\" standalone=\"no\"?>\n",
       "<!DOCTYPE svg PUBLIC \"-//W3C//DTD SVG 1.1//EN\"\n",
       "  \"http://www.w3.org/Graphics/SVG/1.1/DTD/svg11.dtd\">\n",
       "<svg xmlns:xlink=\"http://www.w3.org/1999/xlink\" width=\"544.918125pt\" height=\"286.2pt\" viewBox=\"0 0 544.918125 286.2\" xmlns=\"http://www.w3.org/2000/svg\" version=\"1.1\">\n",
       " <metadata>\n",
       "  <rdf:RDF xmlns:dc=\"http://purl.org/dc/elements/1.1/\" xmlns:cc=\"http://creativecommons.org/ns#\" xmlns:rdf=\"http://www.w3.org/1999/02/22-rdf-syntax-ns#\">\n",
       "   <cc:Work>\n",
       "    <dc:type rdf:resource=\"http://purl.org/dc/dcmitype/StillImage\"/>\n",
       "    <dc:date>2022-03-23T01:24:46.387196</dc:date>\n",
       "    <dc:format>image/svg+xml</dc:format>\n",
       "    <dc:creator>\n",
       "     <cc:Agent>\n",
       "      <dc:title>Matplotlib v3.5.1, https://matplotlib.org/</dc:title>\n",
       "     </cc:Agent>\n",
       "    </dc:creator>\n",
       "   </cc:Work>\n",
       "  </rdf:RDF>\n",
       " </metadata>\n",
       " <defs>\n",
       "  <style type=\"text/css\">*{stroke-linejoin: round; stroke-linecap: butt}</style>\n",
       " </defs>\n",
       " <g id=\"figure_1\">\n",
       "  <g id=\"patch_1\">\n",
       "   <path d=\"M -0 286.2 \n",
       "L 544.918125 286.2 \n",
       "L 544.918125 0 \n",
       "L -0 0 \n",
       "L -0 286.2 \n",
       "z\n",
       "\" style=\"fill: none\"/>\n",
       "  </g>\n",
       "  <g id=\"axes_1\">\n",
       "   <g id=\"patch_2\">\n",
       "    <path d=\"M 30.103125 187.74 \n",
       "L 476.503125 187.74 \n",
       "L 476.503125 98.46 \n",
       "L 30.103125 98.46 \n",
       "z\n",
       "\" style=\"fill: #ffffff\"/>\n",
       "   </g>\n",
       "   <g clip-path=\"url(#p4760c7e2a7)\">\n",
       "    <image xlink:href=\"data:image/png;base64,\n",
       "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\" id=\"image9757b593c4\" transform=\"scale(1 -1)translate(0 -90)\" x=\"30.103125\" y=\"-97.74\" width=\"447\" height=\"90\"/>\n",
       "   </g>\n",
       "   <g id=\"matplotlib.axis_1\">\n",
       "    <g id=\"xtick_1\">\n",
       "     <g id=\"line2d_1\">\n",
       "      <defs>\n",
       "       <path id=\"m5174421644\" d=\"M 0 0 \n",
       "L 0 3.5 \n",
       "\" style=\"stroke: #000000; stroke-width: 0.8\"/>\n",
       "      </defs>\n",
       "      <g>\n",
       "       <use xlink:href=\"#m5174421644\" x=\"34.567125\" y=\"187.74\" style=\"stroke: #000000; stroke-width: 0.8\"/>\n",
       "      </g>\n",
       "     </g>\n",
       "     <g id=\"text_1\">\n",
       "      <!-- 0 -->\n",
       "      <g transform=\"translate(31.385875 202.338438)scale(0.1 -0.1)\">\n",
       "       <defs>\n",
       "        <path id=\"DejaVuSans-30\" d=\"M 2034 4250 \n",
       "Q 1547 4250 1301 3770 \n",
       "Q 1056 3291 1056 2328 \n",
       "Q 1056 1369 1301 889 \n",
       "Q 1547 409 2034 409 \n",
       "Q 2525 409 2770 889 \n",
       "Q 3016 1369 3016 2328 \n",
       "Q 3016 3291 2770 3770 \n",
       "Q 2525 4250 2034 4250 \n",
       "z\n",
       "M 2034 4750 \n",
       "Q 2819 4750 3233 4129 \n",
       "Q 3647 3509 3647 2328 \n",
       "Q 3647 1150 3233 529 \n",
       "Q 2819 -91 2034 -91 \n",
       "Q 1250 -91 836 529 \n",
       "Q 422 1150 422 2328 \n",
       "Q 422 3509 836 4129 \n",
       "Q 1250 4750 2034 4750 \n",
       "z\n",
       "\" transform=\"scale(0.015625)\"/>\n",
       "       </defs>\n",
       "       <use xlink:href=\"#DejaVuSans-30\"/>\n",
       "      </g>\n",
       "     </g>\n",
       "    </g>\n",
       "    <g id=\"xtick_2\">\n",
       "     <g id=\"line2d_2\">\n",
       "      <g>\n",
       "       <use xlink:href=\"#m5174421644\" x=\"123.847125\" y=\"187.74\" style=\"stroke: #000000; stroke-width: 0.8\"/>\n",
       "      </g>\n",
       "     </g>\n",
       "     <g id=\"text_2\">\n",
       "      <!-- 10 -->\n",
       "      <g transform=\"translate(117.484625 202.338438)scale(0.1 -0.1)\">\n",
       "       <defs>\n",
       "        <path id=\"DejaVuSans-31\" d=\"M 794 531 \n",
       "L 1825 531 \n",
       "L 1825 4091 \n",
       "L 703 3866 \n",
       "L 703 4441 \n",
       "L 1819 4666 \n",
       "L 2450 4666 \n",
       "L 2450 531 \n",
       "L 3481 531 \n",
       "L 3481 0 \n",
       "L 794 0 \n",
       "L 794 531 \n",
       "z\n",
       "\" transform=\"scale(0.015625)\"/>\n",
       "       </defs>\n",
       "       <use xlink:href=\"#DejaVuSans-31\"/>\n",
       "       <use xlink:href=\"#DejaVuSans-30\" x=\"63.623047\"/>\n",
       "      </g>\n",
       "     </g>\n",
       "    </g>\n",
       "    <g id=\"xtick_3\">\n",
       "     <g id=\"line2d_3\">\n",
       "      <g>\n",
       "       <use xlink:href=\"#m5174421644\" x=\"213.127125\" y=\"187.74\" style=\"stroke: #000000; stroke-width: 0.8\"/>\n",
       "      </g>\n",
       "     </g>\n",
       "     <g id=\"text_3\">\n",
       "      <!-- 20 -->\n",
       "      <g transform=\"translate(206.764625 202.338438)scale(0.1 -0.1)\">\n",
       "       <defs>\n",
       "        <path id=\"DejaVuSans-32\" d=\"M 1228 531 \n",
       "L 3431 531 \n",
       "L 3431 0 \n",
       "L 469 0 \n",
       "L 469 531 \n",
       "Q 828 903 1448 1529 \n",
       "Q 2069 2156 2228 2338 \n",
       "Q 2531 2678 2651 2914 \n",
       "Q 2772 3150 2772 3378 \n",
       "Q 2772 3750 2511 3984 \n",
       "Q 2250 4219 1831 4219 \n",
       "Q 1534 4219 1204 4116 \n",
       "Q 875 4013 500 3803 \n",
       "L 500 4441 \n",
       "Q 881 4594 1212 4672 \n",
       "Q 1544 4750 1819 4750 \n",
       "Q 2544 4750 2975 4387 \n",
       "Q 3406 4025 3406 3419 \n",
       "Q 3406 3131 3298 2873 \n",
       "Q 3191 2616 2906 2266 \n",
       "Q 2828 2175 2409 1742 \n",
       "Q 1991 1309 1228 531 \n",
       "z\n",
       "\" transform=\"scale(0.015625)\"/>\n",
       "       </defs>\n",
       "       <use xlink:href=\"#DejaVuSans-32\"/>\n",
       "       <use xlink:href=\"#DejaVuSans-30\" x=\"63.623047\"/>\n",
       "      </g>\n",
       "     </g>\n",
       "    </g>\n",
       "    <g id=\"xtick_4\">\n",
       "     <g id=\"line2d_4\">\n",
       "      <g>\n",
       "       <use xlink:href=\"#m5174421644\" x=\"302.407125\" y=\"187.74\" style=\"stroke: #000000; stroke-width: 0.8\"/>\n",
       "      </g>\n",
       "     </g>\n",
       "     <g id=\"text_4\">\n",
       "      <!-- 30 -->\n",
       "      <g transform=\"translate(296.044625 202.338438)scale(0.1 -0.1)\">\n",
       "       <defs>\n",
       "        <path id=\"DejaVuSans-33\" d=\"M 2597 2516 \n",
       "Q 3050 2419 3304 2112 \n",
       "Q 3559 1806 3559 1356 \n",
       "Q 3559 666 3084 287 \n",
       "Q 2609 -91 1734 -91 \n",
       "Q 1441 -91 1130 -33 \n",
       "Q 819 25 488 141 \n",
       "L 488 750 \n",
       "Q 750 597 1062 519 \n",
       "Q 1375 441 1716 441 \n",
       "Q 2309 441 2620 675 \n",
       "Q 2931 909 2931 1356 \n",
       "Q 2931 1769 2642 2001 \n",
       "Q 2353 2234 1838 2234 \n",
       "L 1294 2234 \n",
       "L 1294 2753 \n",
       "L 1863 2753 \n",
       "Q 2328 2753 2575 2939 \n",
       "Q 2822 3125 2822 3475 \n",
       "Q 2822 3834 2567 4026 \n",
       "Q 2313 4219 1838 4219 \n",
       "Q 1578 4219 1281 4162 \n",
       "Q 984 4106 628 3988 \n",
       "L 628 4550 \n",
       "Q 988 4650 1302 4700 \n",
       "Q 1616 4750 1894 4750 \n",
       "Q 2613 4750 3031 4423 \n",
       "Q 3450 4097 3450 3541 \n",
       "Q 3450 3153 3228 2886 \n",
       "Q 3006 2619 2597 2516 \n",
       "z\n",
       "\" transform=\"scale(0.015625)\"/>\n",
       "       </defs>\n",
       "       <use xlink:href=\"#DejaVuSans-33\"/>\n",
       "       <use xlink:href=\"#DejaVuSans-30\" x=\"63.623047\"/>\n",
       "      </g>\n",
       "     </g>\n",
       "    </g>\n",
       "    <g id=\"xtick_5\">\n",
       "     <g id=\"line2d_5\">\n",
       "      <g>\n",
       "       <use xlink:href=\"#m5174421644\" x=\"391.687125\" y=\"187.74\" style=\"stroke: #000000; stroke-width: 0.8\"/>\n",
       "      </g>\n",
       "     </g>\n",
       "     <g id=\"text_5\">\n",
       "      <!-- 40 -->\n",
       "      <g transform=\"translate(385.324625 202.338438)scale(0.1 -0.1)\">\n",
       "       <defs>\n",
       "        <path id=\"DejaVuSans-34\" d=\"M 2419 4116 \n",
       "L 825 1625 \n",
       "L 2419 1625 \n",
       "L 2419 4116 \n",
       "z\n",
       "M 2253 4666 \n",
       "L 3047 4666 \n",
       "L 3047 1625 \n",
       "L 3713 1625 \n",
       "L 3713 1100 \n",
       "L 3047 1100 \n",
       "L 3047 0 \n",
       "L 2419 0 \n",
       "L 2419 1100 \n",
       "L 313 1100 \n",
       "L 313 1709 \n",
       "L 2253 4666 \n",
       "z\n",
       "\" transform=\"scale(0.015625)\"/>\n",
       "       </defs>\n",
       "       <use xlink:href=\"#DejaVuSans-34\"/>\n",
       "       <use xlink:href=\"#DejaVuSans-30\" x=\"63.623047\"/>\n",
       "      </g>\n",
       "     </g>\n",
       "    </g>\n",
       "   </g>\n",
       "   <g id=\"matplotlib.axis_2\">\n",
       "    <g id=\"ytick_1\">\n",
       "     <g id=\"line2d_6\">\n",
       "      <defs>\n",
       "       <path id=\"m67dc80cc4b\" d=\"M 0 0 \n",
       "L -3.5 0 \n",
       "\" style=\"stroke: #000000; stroke-width: 0.8\"/>\n",
       "      </defs>\n",
       "      <g>\n",
       "       <use xlink:href=\"#m67dc80cc4b\" x=\"30.103125\" y=\"102.924\" style=\"stroke: #000000; stroke-width: 0.8\"/>\n",
       "      </g>\n",
       "     </g>\n",
       "     <g id=\"text_6\">\n",
       "      <!-- 0.0 -->\n",
       "      <g transform=\"translate(7.2 106.723219)scale(0.1 -0.1)\">\n",
       "       <defs>\n",
       "        <path id=\"DejaVuSans-2e\" d=\"M 684 794 \n",
       "L 1344 794 \n",
       "L 1344 0 \n",
       "L 684 0 \n",
       "L 684 794 \n",
       "z\n",
       "\" transform=\"scale(0.015625)\"/>\n",
       "       </defs>\n",
       "       <use xlink:href=\"#DejaVuSans-30\"/>\n",
       "       <use xlink:href=\"#DejaVuSans-2e\" x=\"63.623047\"/>\n",
       "       <use xlink:href=\"#DejaVuSans-30\" x=\"95.410156\"/>\n",
       "      </g>\n",
       "     </g>\n",
       "    </g>\n",
       "    <g id=\"ytick_2\">\n",
       "     <g id=\"line2d_7\">\n",
       "      <g>\n",
       "       <use xlink:href=\"#m67dc80cc4b\" x=\"30.103125\" y=\"125.244\" style=\"stroke: #000000; stroke-width: 0.8\"/>\n",
       "      </g>\n",
       "     </g>\n",
       "     <g id=\"text_7\">\n",
       "      <!-- 2.5 -->\n",
       "      <g transform=\"translate(7.2 129.043219)scale(0.1 -0.1)\">\n",
       "       <defs>\n",
       "        <path id=\"DejaVuSans-35\" d=\"M 691 4666 \n",
       "L 3169 4666 \n",
       "L 3169 4134 \n",
       "L 1269 4134 \n",
       "L 1269 2991 \n",
       "Q 1406 3038 1543 3061 \n",
       "Q 1681 3084 1819 3084 \n",
       "Q 2600 3084 3056 2656 \n",
       "Q 3513 2228 3513 1497 \n",
       "Q 3513 744 3044 326 \n",
       "Q 2575 -91 1722 -91 \n",
       "Q 1428 -91 1123 -41 \n",
       "Q 819 9 494 109 \n",
       "L 494 744 \n",
       "Q 775 591 1075 516 \n",
       "Q 1375 441 1709 441 \n",
       "Q 2250 441 2565 725 \n",
       "Q 2881 1009 2881 1497 \n",
       "Q 2881 1984 2565 2268 \n",
       "Q 2250 2553 1709 2553 \n",
       "Q 1456 2553 1204 2497 \n",
       "Q 953 2441 691 2322 \n",
       "L 691 4666 \n",
       "z\n",
       "\" transform=\"scale(0.015625)\"/>\n",
       "       </defs>\n",
       "       <use xlink:href=\"#DejaVuSans-32\"/>\n",
       "       <use xlink:href=\"#DejaVuSans-2e\" x=\"63.623047\"/>\n",
       "       <use xlink:href=\"#DejaVuSans-35\" x=\"95.410156\"/>\n",
       "      </g>\n",
       "     </g>\n",
       "    </g>\n",
       "    <g id=\"ytick_3\">\n",
       "     <g id=\"line2d_8\">\n",
       "      <g>\n",
       "       <use xlink:href=\"#m67dc80cc4b\" x=\"30.103125\" y=\"147.564\" style=\"stroke: #000000; stroke-width: 0.8\"/>\n",
       "      </g>\n",
       "     </g>\n",
       "     <g id=\"text_8\">\n",
       "      <!-- 5.0 -->\n",
       "      <g transform=\"translate(7.2 151.363219)scale(0.1 -0.1)\">\n",
       "       <use xlink:href=\"#DejaVuSans-35\"/>\n",
       "       <use xlink:href=\"#DejaVuSans-2e\" x=\"63.623047\"/>\n",
       "       <use xlink:href=\"#DejaVuSans-30\" x=\"95.410156\"/>\n",
       "      </g>\n",
       "     </g>\n",
       "    </g>\n",
       "    <g id=\"ytick_4\">\n",
       "     <g id=\"line2d_9\">\n",
       "      <g>\n",
       "       <use xlink:href=\"#m67dc80cc4b\" x=\"30.103125\" y=\"169.884\" style=\"stroke: #000000; stroke-width: 0.8\"/>\n",
       "      </g>\n",
       "     </g>\n",
       "     <g id=\"text_9\">\n",
       "      <!-- 7.5 -->\n",
       "      <g transform=\"translate(7.2 173.683219)scale(0.1 -0.1)\">\n",
       "       <defs>\n",
       "        <path id=\"DejaVuSans-37\" d=\"M 525 4666 \n",
       "L 3525 4666 \n",
       "L 3525 4397 \n",
       "L 1831 0 \n",
       "L 1172 0 \n",
       "L 2766 4134 \n",
       "L 525 4134 \n",
       "L 525 4666 \n",
       "z\n",
       "\" transform=\"scale(0.015625)\"/>\n",
       "       </defs>\n",
       "       <use xlink:href=\"#DejaVuSans-37\"/>\n",
       "       <use xlink:href=\"#DejaVuSans-2e\" x=\"63.623047\"/>\n",
       "       <use xlink:href=\"#DejaVuSans-35\" x=\"95.410156\"/>\n",
       "      </g>\n",
       "     </g>\n",
       "    </g>\n",
       "   </g>\n",
       "   <g id=\"patch_3\">\n",
       "    <path d=\"M 30.103125 187.74 \n",
       "L 30.103125 98.46 \n",
       "\" style=\"fill: none; stroke: #000000; stroke-width: 0.8; stroke-linejoin: miter; stroke-linecap: square\"/>\n",
       "   </g>\n",
       "   <g id=\"patch_4\">\n",
       "    <path d=\"M 476.503125 187.74 \n",
       "L 476.503125 98.46 \n",
       "\" style=\"fill: none; stroke: #000000; stroke-width: 0.8; stroke-linejoin: miter; stroke-linecap: square\"/>\n",
       "   </g>\n",
       "   <g id=\"patch_5\">\n",
       "    <path d=\"M 30.103125 187.74 \n",
       "L 476.503125 187.74 \n",
       "\" style=\"fill: none; stroke: #000000; stroke-width: 0.8; stroke-linejoin: miter; stroke-linecap: square\"/>\n",
       "   </g>\n",
       "   <g id=\"patch_6\">\n",
       "    <path d=\"M 30.103125 98.46 \n",
       "L 476.503125 98.46 \n",
       "\" style=\"fill: none; stroke: #000000; stroke-width: 0.8; stroke-linejoin: miter; stroke-linecap: square\"/>\n",
       "   </g>\n",
       "  </g>\n",
       "  <g id=\"axes_2\">\n",
       "   <g id=\"patch_7\">\n",
       "    <path d=\"M 504.403125 279 \n",
       "L 517.993125 279 \n",
       "L 517.993125 7.2 \n",
       "L 504.403125 7.2 \n",
       "z\n",
       "\" style=\"fill: #ffffff\"/>\n",
       "   </g>\n",
       "   <g id=\"patch_8\">\n",
       "    <path clip-path=\"url(#p1bb392f886)\" style=\"fill: #ffffff; stroke: #ffffff; stroke-width: 0.01; stroke-linejoin: miter\"/>\n",
       "   </g>\n",
       "   <image xlink:href=\"data:image/png;base64,\n",
       "iVBORw0KGgoAAAANSUhEUgAAAA4AAAEQCAYAAACA40WOAAABe0lEQVR4nO2bQRLCMAwDkzQHLrybVzPhBxzWjISa9L5jW7acdKD9+XitBp55rU64Nq8mB9dAIKNaa3PQVDGIxdGnOtDAeVKVg92QKnvmoBvAIQ57kjYAw2pGzkmVRtT7sRvWI4wo9yOukRu50A4acYs+QrDzQ4dGpGBQO/Q16k9kQx9hyKQ+8ohUnD0islPHUiNLtWBkXCP2I6yxEhGC3ZBqUEQKwml1pKpWtWLklBork7NBjXIwaANsII5lA+j9eH9Qf5SfPv4TeIx8GxBxjlTb6ePvQYeRcy5ILaaPlr2KuKPqV5BuuaSX6yQj5xw68Lcgx80qaAMUJgdxDiMb2pE0OYhz3Ff14jju5IhLakdhA+TYqtAOxBVqzJkcwwDQaTWII+8jNzJOtWBkxDlSNYjDIyJuD1Xx6pD3sWDkHHEKA4C4QkT4mU6YOBhUp7pixKmcyBBc+g3AU5VH5EaG/3zmEZNUheI4alR/poEHIMgdhYWMT2S85d4I/ADyZqUnTnPqWwAAAABJRU5ErkJggg==\" id=\"imagef3f0b1b8cb\" transform=\"scale(1 -1)translate(0 -272)\" x=\"504\" y=\"-7\" width=\"14\" height=\"272\"/>\n",
       "   <g id=\"matplotlib.axis_3\">\n",
       "    <g id=\"ytick_5\">\n",
       "     <g id=\"line2d_10\">\n",
       "      <defs>\n",
       "       <path id=\"ma6ea55f40a\" d=\"M 0 0 \n",
       "L 3.5 0 \n",
       "\" style=\"stroke: #000000; stroke-width: 0.8\"/>\n",
       "      </defs>\n",
       "      <g>\n",
       "       <use xlink:href=\"#ma6ea55f40a\" x=\"517.993125\" y=\"231.342312\" style=\"stroke: #000000; stroke-width: 0.8\"/>\n",
       "      </g>\n",
       "     </g>\n",
       "     <g id=\"text_10\">\n",
       "      <!-- 55 -->\n",
       "      <g transform=\"translate(524.993125 235.141531)scale(0.1 -0.1)\">\n",
       "       <use xlink:href=\"#DejaVuSans-35\"/>\n",
       "       <use xlink:href=\"#DejaVuSans-35\" x=\"63.623047\"/>\n",
       "      </g>\n",
       "     </g>\n",
       "    </g>\n",
       "    <g id=\"ytick_6\">\n",
       "     <g id=\"line2d_11\">\n",
       "      <g>\n",
       "       <use xlink:href=\"#ma6ea55f40a\" x=\"517.993125\" y=\"183.259957\" style=\"stroke: #000000; stroke-width: 0.8\"/>\n",
       "      </g>\n",
       "     </g>\n",
       "     <g id=\"text_11\">\n",
       "      <!-- 60 -->\n",
       "      <g transform=\"translate(524.993125 187.059176)scale(0.1 -0.1)\">\n",
       "       <defs>\n",
       "        <path id=\"DejaVuSans-36\" d=\"M 2113 2584 \n",
       "Q 1688 2584 1439 2293 \n",
       "Q 1191 2003 1191 1497 \n",
       "Q 1191 994 1439 701 \n",
       "Q 1688 409 2113 409 \n",
       "Q 2538 409 2786 701 \n",
       "Q 3034 994 3034 1497 \n",
       "Q 3034 2003 2786 2293 \n",
       "Q 2538 2584 2113 2584 \n",
       "z\n",
       "M 3366 4563 \n",
       "L 3366 3988 \n",
       "Q 3128 4100 2886 4159 \n",
       "Q 2644 4219 2406 4219 \n",
       "Q 1781 4219 1451 3797 \n",
       "Q 1122 3375 1075 2522 \n",
       "Q 1259 2794 1537 2939 \n",
       "Q 1816 3084 2150 3084 \n",
       "Q 2853 3084 3261 2657 \n",
       "Q 3669 2231 3669 1497 \n",
       "Q 3669 778 3244 343 \n",
       "Q 2819 -91 2113 -91 \n",
       "Q 1303 -91 875 529 \n",
       "Q 447 1150 447 2328 \n",
       "Q 447 3434 972 4092 \n",
       "Q 1497 4750 2381 4750 \n",
       "Q 2619 4750 2861 4703 \n",
       "Q 3103 4656 3366 4563 \n",
       "z\n",
       "\" transform=\"scale(0.015625)\"/>\n",
       "       </defs>\n",
       "       <use xlink:href=\"#DejaVuSans-36\"/>\n",
       "       <use xlink:href=\"#DejaVuSans-30\" x=\"63.623047\"/>\n",
       "      </g>\n",
       "     </g>\n",
       "    </g>\n",
       "    <g id=\"ytick_7\">\n",
       "     <g id=\"line2d_12\">\n",
       "      <g>\n",
       "       <use xlink:href=\"#ma6ea55f40a\" x=\"517.993125\" y=\"135.177602\" style=\"stroke: #000000; stroke-width: 0.8\"/>\n",
       "      </g>\n",
       "     </g>\n",
       "     <g id=\"text_12\">\n",
       "      <!-- 65 -->\n",
       "      <g transform=\"translate(524.993125 138.976821)scale(0.1 -0.1)\">\n",
       "       <use xlink:href=\"#DejaVuSans-36\"/>\n",
       "       <use xlink:href=\"#DejaVuSans-35\" x=\"63.623047\"/>\n",
       "      </g>\n",
       "     </g>\n",
       "    </g>\n",
       "    <g id=\"ytick_8\">\n",
       "     <g id=\"line2d_13\">\n",
       "      <g>\n",
       "       <use xlink:href=\"#ma6ea55f40a\" x=\"517.993125\" y=\"87.095248\" style=\"stroke: #000000; stroke-width: 0.8\"/>\n",
       "      </g>\n",
       "     </g>\n",
       "     <g id=\"text_13\">\n",
       "      <!-- 70 -->\n",
       "      <g transform=\"translate(524.993125 90.894466)scale(0.1 -0.1)\">\n",
       "       <use xlink:href=\"#DejaVuSans-37\"/>\n",
       "       <use xlink:href=\"#DejaVuSans-30\" x=\"63.623047\"/>\n",
       "      </g>\n",
       "     </g>\n",
       "    </g>\n",
       "    <g id=\"ytick_9\">\n",
       "     <g id=\"line2d_14\">\n",
       "      <g>\n",
       "       <use xlink:href=\"#ma6ea55f40a\" x=\"517.993125\" y=\"39.012893\" style=\"stroke: #000000; stroke-width: 0.8\"/>\n",
       "      </g>\n",
       "     </g>\n",
       "     <g id=\"text_14\">\n",
       "      <!-- 75 -->\n",
       "      <g transform=\"translate(524.993125 42.812112)scale(0.1 -0.1)\">\n",
       "       <use xlink:href=\"#DejaVuSans-37\"/>\n",
       "       <use xlink:href=\"#DejaVuSans-35\" x=\"63.623047\"/>\n",
       "      </g>\n",
       "     </g>\n",
       "    </g>\n",
       "   </g>\n",
       "   <g id=\"LineCollection_1\"/>\n",
       "   <g id=\"patch_9\">\n",
       "    <path d=\"M 504.403125 279 \n",
       "L 511.198125 279 \n",
       "L 517.993125 279 \n",
       "L 517.993125 7.2 \n",
       "L 511.198125 7.2 \n",
       "L 504.403125 7.2 \n",
       "L 504.403125 279 \n",
       "z\n",
       "\" style=\"fill: none; stroke: #000000; stroke-width: 0.8; stroke-linejoin: miter; stroke-linecap: square\"/>\n",
       "   </g>\n",
       "  </g>\n",
       " </g>\n",
       " <defs>\n",
       "  <clipPath id=\"p4760c7e2a7\">\n",
       "   <rect x=\"30.103125\" y=\"98.46\" width=\"446.4\" height=\"89.28\"/>\n",
       "  </clipPath>\n",
       "  <clipPath id=\"p1bb392f886\">\n",
       "   <rect x=\"504.403125\" y=\"7.2\" width=\"13.59\" height=\"271.8\"/>\n",
       "  </clipPath>\n",
       " </defs>\n",
       "</svg>\n"
      ],
      "text/plain": [
       "<Figure size 720x360 with 2 Axes>"
      ]
     },
     "metadata": {
      "needs_background": "light"
     },
     "output_type": "display_data"
    }
   ],
   "source": [
    "plt.subplots(1, 1, figsize=(10, 5))\n",
    "plt.imshow(soln, cmap=plt.cm.plasma);\n",
    "plt.colorbar();"
   ]
  },
  {
   "cell_type": "markdown",
   "metadata": {},
   "source": [
    "Also, let's take a look at the average temperature:"
   ]
  },
  {
   "cell_type": "code",
   "execution_count": 10,
   "metadata": {
    "execution": {
     "iopub.execute_input": "2022-03-23T01:24:46.426690Z",
     "iopub.status.busy": "2022-03-23T01:24:46.426358Z",
     "iopub.status.idle": "2022-03-23T01:24:46.430712Z",
     "shell.execute_reply": "2022-03-23T01:24:46.430284Z"
    }
   },
   "outputs": [
    {
     "name": "stdout",
     "output_type": "stream",
     "text": [
      "T_average (analytical): 59.24706\n"
     ]
    }
   ],
   "source": [
    "print(f\"T_average (analytical): {soln.mean():.5f}\")"
   ]
  },
  {
   "cell_type": "markdown",
   "metadata": {},
   "source": [
    "Both the analytical solution and OpenPNM simulation can be subtracted from each other to yield the difference in both values."
   ]
  },
  {
   "cell_type": "code",
   "execution_count": 11,
   "metadata": {
    "execution": {
     "iopub.execute_input": "2022-03-23T01:24:46.432814Z",
     "iopub.status.busy": "2022-03-23T01:24:46.432667Z",
     "iopub.status.idle": "2022-03-23T01:24:46.446695Z",
     "shell.execute_reply": "2022-03-23T01:24:46.446271Z"
    }
   },
   "outputs": [
    {
     "ename": "NameError",
     "evalue": "name 'temp_map' is not defined",
     "output_type": "error",
     "traceback": [
      "\u001b[0;31m---------------------------------------------------------------------------\u001b[0m",
      "\u001b[0;31mNameError\u001b[0m                                 Traceback (most recent call last)",
      "Input \u001b[0;32mIn [11]\u001b[0m, in \u001b[0;36m<cell line: 1>\u001b[0;34m()\u001b[0m\n\u001b[0;32m----> 1\u001b[0m diff \u001b[38;5;241m=\u001b[39m soln \u001b[38;5;241m-\u001b[39m \u001b[43mtemp_map\u001b[49m\n\u001b[1;32m      2\u001b[0m plt\u001b[38;5;241m.\u001b[39msubplots(\u001b[38;5;241m1\u001b[39m, \u001b[38;5;241m1\u001b[39m, figsize\u001b[38;5;241m=\u001b[39m(\u001b[38;5;241m10\u001b[39m, \u001b[38;5;241m5\u001b[39m))\n\u001b[1;32m      3\u001b[0m plt\u001b[38;5;241m.\u001b[39mimshow(diff, cmap\u001b[38;5;241m=\u001b[39mplt\u001b[38;5;241m.\u001b[39mcm\u001b[38;5;241m.\u001b[39mplasma);\n",
      "\u001b[0;31mNameError\u001b[0m: name 'temp_map' is not defined"
     ]
    }
   ],
   "source": [
    "diff = soln - temp_map\n",
    "plt.subplots(1, 1, figsize=(10, 5))\n",
    "plt.imshow(diff, cmap=plt.cm.plasma);\n",
    "plt.colorbar();"
   ]
  },
  {
   "cell_type": "code",
   "execution_count": 12,
   "metadata": {
    "execution": {
     "iopub.execute_input": "2022-03-23T01:24:46.448780Z",
     "iopub.status.busy": "2022-03-23T01:24:46.448457Z",
     "iopub.status.idle": "2022-03-23T01:24:46.460691Z",
     "shell.execute_reply": "2022-03-23T01:24:46.460258Z"
    }
   },
   "outputs": [
    {
     "ename": "NameError",
     "evalue": "name 'diff' is not defined",
     "output_type": "error",
     "traceback": [
      "\u001b[0;31m---------------------------------------------------------------------------\u001b[0m",
      "\u001b[0;31mNameError\u001b[0m                                 Traceback (most recent call last)",
      "Input \u001b[0;32mIn [12]\u001b[0m, in \u001b[0;36m<cell line: 1>\u001b[0;34m()\u001b[0m\n\u001b[0;32m----> 1\u001b[0m \u001b[38;5;28mprint\u001b[39m(\u001b[38;5;124mf\u001b[39m\u001b[38;5;124m\"\u001b[39m\u001b[38;5;124mMinimum error: \u001b[39m\u001b[38;5;132;01m{\u001b[39;00mdiff\u001b[38;5;241m.\u001b[39mmin()\u001b[38;5;132;01m:\u001b[39;00m\u001b[38;5;124m.5f\u001b[39m\u001b[38;5;132;01m}\u001b[39;00m\u001b[38;5;124m, maximum error: \u001b[39m\u001b[38;5;132;01m{\u001b[39;00mdiff\u001b[38;5;241m.\u001b[39mmax()\u001b[38;5;132;01m:\u001b[39;00m\u001b[38;5;124m.5f\u001b[39m\u001b[38;5;132;01m}\u001b[39;00m\u001b[38;5;124m\"\u001b[39m)\n",
      "\u001b[0;31mNameError\u001b[0m: name 'diff' is not defined"
     ]
    }
   ],
   "source": [
    "print(f\"Minimum error: {diff.min():.5f}, maximum error: {diff.max():.5f}\")"
   ]
  },
  {
   "cell_type": "markdown",
   "metadata": {},
   "source": [
    "The maximum error is 0.01 degrees on a 50 degree profile, which is quite good and thus demonstrates that the OpenPNM finite difference approach is versatile despite being simple."
   ]
  }
 ],
 "metadata": {
  "kernelspec": {
   "display_name": "Python 3",
   "language": "python",
   "name": "python3"
  },
  "language_info": {
   "codemirror_mode": {
    "name": "ipython",
    "version": 3
   },
   "file_extension": ".py",
   "mimetype": "text/x-python",
   "name": "python",
   "nbconvert_exporter": "python",
   "pygments_lexer": "ipython3",
   "version": "3.8.12"
  }
 },
 "nbformat": 4,
 "nbformat_minor": 2
}
