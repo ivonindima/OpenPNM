{
 "cells": [
  {
   "cell_type": "markdown",
   "id": "ae1b9e3a",
   "metadata": {},
   "source": [
    "# Overview of the Settings Attribute\n",
    "\n",
    "OpenPNM objects all include a ``settings`` attribute which contains certain information used by OpenPNM. The best example is the ``algorithm`` classes, which often require numerous settings such as number of iterations and tolerance for iterative calculations.  This tutorial will provide an overview of how these settings work, both from the user perspective as well as for developers."
   ]
  },
  {
   "cell_type": "code",
   "execution_count": 1,
   "id": "fa396e99",
   "metadata": {
    "execution": {
     "iopub.execute_input": "2022-03-23T01:19:44.196209Z",
     "iopub.status.busy": "2022-03-23T01:19:44.195805Z",
     "iopub.status.idle": "2022-03-23T01:19:45.773096Z",
     "shell.execute_reply": "2022-03-23T01:19:45.772527Z"
    }
   },
   "outputs": [
    {
     "ename": "AttributeError",
     "evalue": "module 'openpnm' has no attribute 'phases'",
     "output_type": "error",
     "traceback": [
      "\u001b[0;31m---------------------------------------------------------------------------\u001b[0m",
      "\u001b[0;31mAttributeError\u001b[0m                            Traceback (most recent call last)",
      "Input \u001b[0;32mIn [1]\u001b[0m, in \u001b[0;36m<cell line: 4>\u001b[0;34m()\u001b[0m\n\u001b[1;32m      2\u001b[0m pn \u001b[38;5;241m=\u001b[39m op\u001b[38;5;241m.\u001b[39mnetwork\u001b[38;5;241m.\u001b[39mCubic([\u001b[38;5;241m4\u001b[39m, \u001b[38;5;241m4\u001b[39m,])\n\u001b[1;32m      3\u001b[0m geo \u001b[38;5;241m=\u001b[39m op\u001b[38;5;241m.\u001b[39mgeometry\u001b[38;5;241m.\u001b[39mSpheresAndCylinders(network\u001b[38;5;241m=\u001b[39mpn, pores\u001b[38;5;241m=\u001b[39mpn\u001b[38;5;241m.\u001b[39mPs, throats\u001b[38;5;241m=\u001b[39mpn\u001b[38;5;241m.\u001b[39mTs)\n\u001b[0;32m----> 4\u001b[0m air \u001b[38;5;241m=\u001b[39m \u001b[43mop\u001b[49m\u001b[38;5;241;43m.\u001b[39;49m\u001b[43mphases\u001b[49m\u001b[38;5;241m.\u001b[39mAir(network\u001b[38;5;241m=\u001b[39mpn)\n\u001b[1;32m      5\u001b[0m phys \u001b[38;5;241m=\u001b[39m op\u001b[38;5;241m.\u001b[39mphysics\u001b[38;5;241m.\u001b[39mBasic(network\u001b[38;5;241m=\u001b[39mpn, phase\u001b[38;5;241m=\u001b[39mair, geometry\u001b[38;5;241m=\u001b[39mgeo)\n",
      "\u001b[0;31mAttributeError\u001b[0m: module 'openpnm' has no attribute 'phases'"
     ]
    }
   ],
   "source": [
    "import openpnm as op\n",
    "pn = op.network.Cubic([4, 4,])\n",
    "geo = op.geometry.SpheresAndCylinders(network=pn, pores=pn.Ps, throats=pn.Ts)\n",
    "air = op.phases.Air(network=pn)\n",
    "phys = op.physics.Basic(network=pn, phase=air, geometry=geo)"
   ]
  },
  {
   "cell_type": "markdown",
   "id": "60a37480",
   "metadata": {},
   "source": [
    "## Normal Usage\n",
    "\n",
    "> This section is relevant to users of OpenPNM, while the next section is more relevant to developers\n",
    "\n",
    "Let's look an algorithm that has numerous settings:"
   ]
  },
  {
   "cell_type": "code",
   "execution_count": 2,
   "id": "d8273451",
   "metadata": {
    "execution": {
     "iopub.execute_input": "2022-03-23T01:19:45.775843Z",
     "iopub.status.busy": "2022-03-23T01:19:45.775544Z",
     "iopub.status.idle": "2022-03-23T01:19:45.788900Z",
     "shell.execute_reply": "2022-03-23T01:19:45.788427Z"
    }
   },
   "outputs": [
    {
     "ename": "NameError",
     "evalue": "name 'air' is not defined",
     "output_type": "error",
     "traceback": [
      "\u001b[0;31m---------------------------------------------------------------------------\u001b[0m",
      "\u001b[0;31mNameError\u001b[0m                                 Traceback (most recent call last)",
      "Input \u001b[0;32mIn [2]\u001b[0m, in \u001b[0;36m<cell line: 1>\u001b[0;34m()\u001b[0m\n\u001b[0;32m----> 1\u001b[0m alg \u001b[38;5;241m=\u001b[39m op\u001b[38;5;241m.\u001b[39malgorithms\u001b[38;5;241m.\u001b[39mReactiveTransport(network\u001b[38;5;241m=\u001b[39mpn, phase\u001b[38;5;241m=\u001b[39m\u001b[43mair\u001b[49m)\n",
      "\u001b[0;31mNameError\u001b[0m: name 'air' is not defined"
     ]
    }
   ],
   "source": [
    "alg = op.algorithms.ReactiveTransport(network=pn, phase=air)"
   ]
  },
  {
   "cell_type": "markdown",
   "id": "bd1b79d1",
   "metadata": {},
   "source": [
    "We can see that many default settings are already present by printing the ``settings`` attribute:"
   ]
  },
  {
   "cell_type": "code",
   "execution_count": 3,
   "id": "438f7320",
   "metadata": {
    "execution": {
     "iopub.execute_input": "2022-03-23T01:19:45.791404Z",
     "iopub.status.busy": "2022-03-23T01:19:45.791042Z",
     "iopub.status.idle": "2022-03-23T01:19:45.803334Z",
     "shell.execute_reply": "2022-03-23T01:19:45.802875Z"
    }
   },
   "outputs": [
    {
     "ename": "NameError",
     "evalue": "name 'alg' is not defined",
     "output_type": "error",
     "traceback": [
      "\u001b[0;31m---------------------------------------------------------------------------\u001b[0m",
      "\u001b[0;31mNameError\u001b[0m                                 Traceback (most recent call last)",
      "Input \u001b[0;32mIn [3]\u001b[0m, in \u001b[0;36m<cell line: 1>\u001b[0;34m()\u001b[0m\n\u001b[0;32m----> 1\u001b[0m \u001b[38;5;28mprint\u001b[39m(\u001b[43malg\u001b[49m\u001b[38;5;241m.\u001b[39msets)\n",
      "\u001b[0;31mNameError\u001b[0m: name 'alg' is not defined"
     ]
    }
   ],
   "source": [
    "print(alg.sets)"
   ]
  },
  {
   "cell_type": "markdown",
   "id": "7dfb11c1",
   "metadata": {},
   "source": [
    "We can override these settings manually:"
   ]
  },
  {
   "cell_type": "code",
   "execution_count": 4,
   "id": "002d0909",
   "metadata": {
    "execution": {
     "iopub.execute_input": "2022-03-23T01:19:45.805469Z",
     "iopub.status.busy": "2022-03-23T01:19:45.805231Z",
     "iopub.status.idle": "2022-03-23T01:19:45.817825Z",
     "shell.execute_reply": "2022-03-23T01:19:45.817360Z"
    }
   },
   "outputs": [
    {
     "ename": "NameError",
     "evalue": "name 'alg' is not defined",
     "output_type": "error",
     "traceback": [
      "\u001b[0;31m---------------------------------------------------------------------------\u001b[0m",
      "\u001b[0;31mNameError\u001b[0m                                 Traceback (most recent call last)",
      "Input \u001b[0;32mIn [4]\u001b[0m, in \u001b[0;36m<cell line: 1>\u001b[0;34m()\u001b[0m\n\u001b[0;32m----> 1\u001b[0m \u001b[43malg\u001b[49m\u001b[38;5;241m.\u001b[39msets\u001b[38;5;241m.\u001b[39mprefix \u001b[38;5;241m=\u001b[39m \u001b[38;5;124m'\u001b[39m\u001b[38;5;124mrxn\u001b[39m\u001b[38;5;124m'\u001b[39m\n\u001b[1;32m      2\u001b[0m \u001b[38;5;28mprint\u001b[39m(alg\u001b[38;5;241m.\u001b[39msets)\n",
      "\u001b[0;31mNameError\u001b[0m: name 'alg' is not defined"
     ]
    }
   ],
   "source": [
    "alg.sets.prefix = 'rxn'\n",
    "print(alg.sets)"
   ]
  },
  {
   "cell_type": "markdown",
   "id": "438ab19e",
   "metadata": {},
   "source": [
    "We could also have updated these settings when creating the algorithm object by passing in a set of arguments.  This can be in the form of a dictionary:"
   ]
  },
  {
   "cell_type": "code",
   "execution_count": 5,
   "id": "03083fe1",
   "metadata": {
    "execution": {
     "iopub.execute_input": "2022-03-23T01:19:45.820015Z",
     "iopub.status.busy": "2022-03-23T01:19:45.819765Z",
     "iopub.status.idle": "2022-03-23T01:19:45.831782Z",
     "shell.execute_reply": "2022-03-23T01:19:45.831282Z"
    }
   },
   "outputs": [
    {
     "ename": "NameError",
     "evalue": "name 'air' is not defined",
     "output_type": "error",
     "traceback": [
      "\u001b[0;31m---------------------------------------------------------------------------\u001b[0m",
      "\u001b[0;31mNameError\u001b[0m                                 Traceback (most recent call last)",
      "Input \u001b[0;32mIn [5]\u001b[0m, in \u001b[0;36m<cell line: 2>\u001b[0;34m()\u001b[0m\n\u001b[1;32m      1\u001b[0m s \u001b[38;5;241m=\u001b[39m {\u001b[38;5;124m\"\u001b[39m\u001b[38;5;124mprefix\u001b[39m\u001b[38;5;124m\"\u001b[39m: \u001b[38;5;124m\"\u001b[39m\u001b[38;5;124mrxn\u001b[39m\u001b[38;5;124m\"\u001b[39m}\n\u001b[0;32m----> 2\u001b[0m alg \u001b[38;5;241m=\u001b[39m op\u001b[38;5;241m.\u001b[39malgorithms\u001b[38;5;241m.\u001b[39mReactiveTransport(network\u001b[38;5;241m=\u001b[39mpn, phase\u001b[38;5;241m=\u001b[39m\u001b[43mair\u001b[49m, settings\u001b[38;5;241m=\u001b[39ms)\n\u001b[1;32m      3\u001b[0m \u001b[38;5;28mprint\u001b[39m(alg\u001b[38;5;241m.\u001b[39msets)\n",
      "\u001b[0;31mNameError\u001b[0m: name 'air' is not defined"
     ]
    }
   ],
   "source": [
    "s = {\"prefix\": \"rxn\"}\n",
    "alg = op.algorithms.ReactiveTransport(network=pn, phase=air, settings=s)\n",
    "print(alg.sets)"
   ]
  },
  {
   "cell_type": "markdown",
   "id": "d3319d86",
   "metadata": {},
   "source": [
    "Or as a 'dataclass' style, which is how things are done behind the scenes in OpenPNM as described in the section:"
   ]
  },
  {
   "cell_type": "code",
   "execution_count": 6,
   "id": "e8c80215",
   "metadata": {
    "execution": {
     "iopub.execute_input": "2022-03-23T01:19:45.834283Z",
     "iopub.status.busy": "2022-03-23T01:19:45.833923Z",
     "iopub.status.idle": "2022-03-23T01:19:45.836319Z",
     "shell.execute_reply": "2022-03-23T01:19:45.835881Z"
    }
   },
   "outputs": [],
   "source": [
    "class MySettings:\n",
    "    prefix = 'rxn'\n",
    "# alg = op.algorithms.ReactiveTransport(network=pn, phase=air, settings=MySettings())\n",
    "# print(alg.sets)"
   ]
  },
  {
   "cell_type": "markdown",
   "id": "878d53d3",
   "metadata": {},
   "source": [
    "One new feature on OpenPNM V3 is that the datatype of some settings is enforced.  For instance the ``'prefix'`` setting must be a ``str``, otherwise an error is raised:"
   ]
  },
  {
   "cell_type": "code",
   "execution_count": 7,
   "id": "f268636b",
   "metadata": {
    "execution": {
     "iopub.execute_input": "2022-03-23T01:19:45.838519Z",
     "iopub.status.busy": "2022-03-23T01:19:45.838163Z",
     "iopub.status.idle": "2022-03-23T01:19:45.871608Z",
     "shell.execute_reply": "2022-03-23T01:19:45.871058Z"
    }
   },
   "outputs": [
    {
     "ename": "NameError",
     "evalue": "name 'alg' is not defined",
     "output_type": "error",
     "traceback": [
      "\u001b[0;31m---------------------------------------------------------------------------\u001b[0m",
      "\u001b[0;31mNameError\u001b[0m                                 Traceback (most recent call last)",
      "Input \u001b[0;32mIn [7]\u001b[0m, in \u001b[0;36m<cell line: 2>\u001b[0;34m()\u001b[0m\n\u001b[1;32m      1\u001b[0m \u001b[38;5;28;01mfrom\u001b[39;00m \u001b[38;5;21;01mtraits\u001b[39;00m\u001b[38;5;21;01m.\u001b[39;00m\u001b[38;5;21;01mapi\u001b[39;00m \u001b[38;5;28;01mimport\u001b[39;00m TraitError\n\u001b[1;32m      2\u001b[0m \u001b[38;5;28;01mtry\u001b[39;00m:\n\u001b[0;32m----> 3\u001b[0m     \u001b[43malg\u001b[49m\u001b[38;5;241m.\u001b[39msets\u001b[38;5;241m.\u001b[39mphase \u001b[38;5;241m=\u001b[39m \u001b[38;5;241m1\u001b[39m\n\u001b[1;32m      4\u001b[0m \u001b[38;5;28;01mexcept\u001b[39;00m TraitError \u001b[38;5;28;01mas\u001b[39;00m e:\n\u001b[1;32m      5\u001b[0m     \u001b[38;5;28mprint\u001b[39m(e)\n",
      "\u001b[0;31mNameError\u001b[0m: name 'alg' is not defined"
     ]
    }
   ],
   "source": [
    "from traits.api import TraitError\n",
    "try:\n",
    "    alg.sets.phase = 1\n",
    "except TraitError as e:\n",
    "    print(e)"
   ]
  },
  {
   "cell_type": "markdown",
   "id": "e4ac25b2",
   "metadata": {},
   "source": [
    "OpenPNM uses the [traits package](https://docs.enthought.com/traits/traits_user_manual/index.html) to control this behavior, which will be explained in more detail in the next section."
   ]
  },
  {
   "cell_type": "markdown",
   "id": "48e93943",
   "metadata": {},
   "source": [
    "## Advanced Usage\n",
    "\n",
    "> The following sections are probably only relevant if you plan to do some development in OpenPN\n",
    "\n",
    "In the previous section we saw how to define settings, as well as the data-type protections of some settings.  In this section we'll demonstrate this mechanism in more detail.\n",
    "\n",
    "OpenPNM has two settings related classes:  ``SettingsData`` and ``SettingsAttr``.  The first is a subclass of the ``HasTraits`` class from the [traits package](https://docs.enthought.com/traits/traits_user_manual/index.html). It preceeded the [Python dataclass](https://docs.python.org/3/library/dataclasses.html) by many years and offers far more functionality.  For our purposes the main difference is that ``dataclasses`` allow developers to specify the type of attributes (i.e. ``obj.a`` must be an ``int``), but these are only enforced during object creation. Once the object is made, any value can be assigned to ``a``.  The ``traits`` package offers the same functionality but also enforces the type of ``a`` for all subsequent assignments.  We saw this in action in the previous section when we tried to assign an integer to ``alg.sets.prefix``. "
   ]
  },
  {
   "cell_type": "markdown",
   "id": "eeaa8f42",
   "metadata": {},
   "source": [
    "### The SettingsData and HasTraits Classes\n",
    "\n",
    "Let's dissect this process:"
   ]
  },
  {
   "cell_type": "code",
   "execution_count": 8,
   "id": "51f33e5a",
   "metadata": {
    "execution": {
     "iopub.execute_input": "2022-03-23T01:19:45.874740Z",
     "iopub.status.busy": "2022-03-23T01:19:45.874488Z",
     "iopub.status.idle": "2022-03-23T01:19:45.885738Z",
     "shell.execute_reply": "2022-03-23T01:19:45.885271Z"
    }
   },
   "outputs": [
    {
     "ename": "ImportError",
     "evalue": "cannot import name 'SettingsData' from 'openpnm.utils' (/home/runner/work/OpenPNM/OpenPNM/openpnm/utils/__init__.py)",
     "output_type": "error",
     "traceback": [
      "\u001b[0;31m---------------------------------------------------------------------------\u001b[0m",
      "\u001b[0;31mImportError\u001b[0m                               Traceback (most recent call last)",
      "Input \u001b[0;32mIn [8]\u001b[0m, in \u001b[0;36m<cell line: 1>\u001b[0;34m()\u001b[0m\n\u001b[0;32m----> 1\u001b[0m \u001b[38;5;28;01mfrom\u001b[39;00m \u001b[38;5;21;01mopenpnm\u001b[39;00m\u001b[38;5;21;01m.\u001b[39;00m\u001b[38;5;21;01mutils\u001b[39;00m \u001b[38;5;28;01mimport\u001b[39;00m SettingsData, SettingsAttr\n\u001b[1;32m      2\u001b[0m \u001b[38;5;28;01mfrom\u001b[39;00m \u001b[38;5;21;01mtraits\u001b[39;00m\u001b[38;5;21;01m.\u001b[39;00m\u001b[38;5;21;01mapi\u001b[39;00m \u001b[38;5;28;01mimport\u001b[39;00m Int, Str, Float, List, Set\n",
      "\u001b[0;31mImportError\u001b[0m: cannot import name 'SettingsData' from 'openpnm.utils' (/home/runner/work/OpenPNM/OpenPNM/openpnm/utils/__init__.py)"
     ]
    }
   ],
   "source": [
    "from openpnm.utils import SettingsData, SettingsAttr\n",
    "from traits.api import Int, Str, Float, List, Set"
   ]
  },
  {
   "cell_type": "code",
   "execution_count": 9,
   "id": "d9c6e2ce",
   "metadata": {
    "execution": {
     "iopub.execute_input": "2022-03-23T01:19:45.887907Z",
     "iopub.status.busy": "2022-03-23T01:19:45.887632Z",
     "iopub.status.idle": "2022-03-23T01:19:45.902743Z",
     "shell.execute_reply": "2022-03-23T01:19:45.902332Z"
    }
   },
   "outputs": [
    {
     "ename": "NameError",
     "evalue": "name 'SettingsData' is not defined",
     "output_type": "error",
     "traceback": [
      "\u001b[0;31m---------------------------------------------------------------------------\u001b[0m",
      "\u001b[0;31mNameError\u001b[0m                                 Traceback (most recent call last)",
      "Input \u001b[0;32mIn [9]\u001b[0m, in \u001b[0;36m<cell line: 1>\u001b[0;34m()\u001b[0m\n\u001b[0;32m----> 1\u001b[0m \u001b[38;5;28;01mclass\u001b[39;00m \u001b[38;5;21;01mCustomSettings\u001b[39;00m(\u001b[43mSettingsData\u001b[49m):\n\u001b[1;32m      2\u001b[0m     a \u001b[38;5;241m=\u001b[39m Int()\n\u001b[1;32m      3\u001b[0m     b \u001b[38;5;241m=\u001b[39m Float(\u001b[38;5;241m4.4\u001b[39m)\n",
      "\u001b[0;31mNameError\u001b[0m: name 'SettingsData' is not defined"
     ]
    }
   ],
   "source": [
    "class CustomSettings(SettingsData):\n",
    "    a = Int()\n",
    "    b = Float(4.4)\n",
    "    c = Set()\n",
    "    d = List(Str)\n",
    "    \n",
    "s = CustomSettings()"
   ]
  },
  {
   "cell_type": "markdown",
   "id": "38d5a884",
   "metadata": {},
   "source": [
    "Now we can print ``s`` to inspect the settings.  We'll see some default values for things that were not initialized like ``a``, while ``b`` is the specified value."
   ]
  },
  {
   "cell_type": "code",
   "execution_count": 10,
   "id": "cf1514f0",
   "metadata": {
    "execution": {
     "iopub.execute_input": "2022-03-23T01:19:45.905066Z",
     "iopub.status.busy": "2022-03-23T01:19:45.904754Z",
     "iopub.status.idle": "2022-03-23T01:19:45.908489Z",
     "shell.execute_reply": "2022-03-23T01:19:45.908025Z"
    }
   },
   "outputs": [
    {
     "name": "stdout",
     "output_type": "stream",
     "text": [
      "{'prefix': 'rxn'}\n"
     ]
    }
   ],
   "source": [
    "print(s)"
   ]
  },
  {
   "cell_type": "markdown",
   "id": "24c82096",
   "metadata": {},
   "source": [
    "The ``traits`` package enforces the datatype of each of these attributes:"
   ]
  },
  {
   "cell_type": "code",
   "execution_count": 11,
   "id": "14b6d875",
   "metadata": {
    "execution": {
     "iopub.execute_input": "2022-03-23T01:19:45.910614Z",
     "iopub.status.busy": "2022-03-23T01:19:45.910304Z",
     "iopub.status.idle": "2022-03-23T01:19:45.921023Z",
     "shell.execute_reply": "2022-03-23T01:19:45.920554Z"
    }
   },
   "outputs": [
    {
     "ename": "AttributeError",
     "evalue": "'dict' object has no attribute 'a'",
     "output_type": "error",
     "traceback": [
      "\u001b[0;31m---------------------------------------------------------------------------\u001b[0m",
      "\u001b[0;31mAttributeError\u001b[0m                            Traceback (most recent call last)",
      "Input \u001b[0;32mIn [11]\u001b[0m, in \u001b[0;36m<cell line: 1>\u001b[0;34m()\u001b[0m\n\u001b[0;32m----> 1\u001b[0m s\u001b[38;5;241m.\u001b[39ma \u001b[38;5;241m=\u001b[39m \u001b[38;5;241m2\u001b[39m\n\u001b[1;32m      2\u001b[0m s\u001b[38;5;241m.\u001b[39mb \u001b[38;5;241m=\u001b[39m \u001b[38;5;241m5.5\u001b[39m\n\u001b[1;32m      3\u001b[0m \u001b[38;5;28mprint\u001b[39m(s)\n",
      "\u001b[0;31mAttributeError\u001b[0m: 'dict' object has no attribute 'a'"
     ]
    }
   ],
   "source": [
    "s.a = 2\n",
    "s.b = 5.5\n",
    "print(s)"
   ]
  },
  {
   "cell_type": "markdown",
   "id": "637bd613",
   "metadata": {},
   "source": [
    "Let's look at the attribute protection in action again:"
   ]
  },
  {
   "cell_type": "code",
   "execution_count": 12,
   "id": "bab2fae9",
   "metadata": {
    "execution": {
     "iopub.execute_input": "2022-03-23T01:19:45.923614Z",
     "iopub.status.busy": "2022-03-23T01:19:45.923242Z",
     "iopub.status.idle": "2022-03-23T01:19:45.934145Z",
     "shell.execute_reply": "2022-03-23T01:19:45.933658Z"
    }
   },
   "outputs": [
    {
     "ename": "AttributeError",
     "evalue": "'dict' object has no attribute 'a'",
     "output_type": "error",
     "traceback": [
      "\u001b[0;31m---------------------------------------------------------------------------\u001b[0m",
      "\u001b[0;31mAttributeError\u001b[0m                            Traceback (most recent call last)",
      "Input \u001b[0;32mIn [12]\u001b[0m, in \u001b[0;36m<cell line: 1>\u001b[0;34m()\u001b[0m\n\u001b[1;32m      1\u001b[0m \u001b[38;5;28;01mtry\u001b[39;00m:\n\u001b[0;32m----> 2\u001b[0m     s\u001b[38;5;241m.\u001b[39ma \u001b[38;5;241m=\u001b[39m \u001b[38;5;241m1.1\u001b[39m\n\u001b[1;32m      3\u001b[0m \u001b[38;5;28;01mexcept\u001b[39;00m TraitError \u001b[38;5;28;01mas\u001b[39;00m e:\n\u001b[1;32m      4\u001b[0m     \u001b[38;5;28mprint\u001b[39m(e)\n",
      "\u001b[0;31mAttributeError\u001b[0m: 'dict' object has no attribute 'a'"
     ]
    }
   ],
   "source": [
    "try:\n",
    "    s.a = 1.1\n",
    "except TraitError as e:\n",
    "    print(e)"
   ]
  },
  {
   "cell_type": "markdown",
   "id": "0eddd95a",
   "metadata": {},
   "source": [
    "The ``traits`` package also enforces the type of values we can put into the list stored in ``d``:"
   ]
  },
  {
   "cell_type": "code",
   "execution_count": 13,
   "id": "dd8d62d3",
   "metadata": {
    "execution": {
     "iopub.execute_input": "2022-03-23T01:19:45.936566Z",
     "iopub.status.busy": "2022-03-23T01:19:45.936260Z",
     "iopub.status.idle": "2022-03-23T01:19:45.947744Z",
     "shell.execute_reply": "2022-03-23T01:19:45.947256Z"
    }
   },
   "outputs": [
    {
     "ename": "AttributeError",
     "evalue": "'dict' object has no attribute 'd'",
     "output_type": "error",
     "traceback": [
      "\u001b[0;31m---------------------------------------------------------------------------\u001b[0m",
      "\u001b[0;31mAttributeError\u001b[0m                            Traceback (most recent call last)",
      "Input \u001b[0;32mIn [13]\u001b[0m, in \u001b[0;36m<cell line: 1>\u001b[0;34m()\u001b[0m\n\u001b[0;32m----> 1\u001b[0m \u001b[43ms\u001b[49m\u001b[38;5;241;43m.\u001b[39;49m\u001b[43md\u001b[49m\u001b[38;5;241m.\u001b[39mappend(\u001b[38;5;124m'\u001b[39m\u001b[38;5;124mitem\u001b[39m\u001b[38;5;124m'\u001b[39m)\n\u001b[1;32m      2\u001b[0m \u001b[38;5;28;01mtry\u001b[39;00m:\n\u001b[1;32m      3\u001b[0m     s\u001b[38;5;241m.\u001b[39md\u001b[38;5;241m.\u001b[39mappend(\u001b[38;5;241m100\u001b[39m)\n",
      "\u001b[0;31mAttributeError\u001b[0m: 'dict' object has no attribute 'd'"
     ]
    }
   ],
   "source": [
    "s.d.append('item')\n",
    "try:\n",
    "    s.d.append(100)\n",
    "except TraitError as e:\n",
    "    print(e)"
   ]
  },
  {
   "cell_type": "markdown",
   "id": "dd799ee3",
   "metadata": {},
   "source": [
    "The first one works because we specified a list of strings, while the second fails because it is attempting to write an integer. "
   ]
  },
  {
   "cell_type": "markdown",
   "id": "ff42b601",
   "metadata": {},
   "source": [
    "Also, we can't accidentally overwrite an attribute that is supposed to be a list with a scalar:"
   ]
  },
  {
   "cell_type": "code",
   "execution_count": 14,
   "id": "cc6f6b84",
   "metadata": {
    "execution": {
     "iopub.execute_input": "2022-03-23T01:19:45.950180Z",
     "iopub.status.busy": "2022-03-23T01:19:45.949871Z",
     "iopub.status.idle": "2022-03-23T01:19:45.961694Z",
     "shell.execute_reply": "2022-03-23T01:19:45.961109Z"
    }
   },
   "outputs": [
    {
     "ename": "AttributeError",
     "evalue": "'dict' object has no attribute 'd'",
     "output_type": "error",
     "traceback": [
      "\u001b[0;31m---------------------------------------------------------------------------\u001b[0m",
      "\u001b[0;31mAttributeError\u001b[0m                            Traceback (most recent call last)",
      "Input \u001b[0;32mIn [14]\u001b[0m, in \u001b[0;36m<cell line: 1>\u001b[0;34m()\u001b[0m\n\u001b[1;32m      1\u001b[0m \u001b[38;5;28;01mtry\u001b[39;00m:\n\u001b[0;32m----> 2\u001b[0m     s\u001b[38;5;241m.\u001b[39md \u001b[38;5;241m=\u001b[39m \u001b[38;5;241m5\u001b[39m\n\u001b[1;32m      3\u001b[0m \u001b[38;5;28;01mexcept\u001b[39;00m TraitError \u001b[38;5;28;01mas\u001b[39;00m e:\n\u001b[1;32m      4\u001b[0m     \u001b[38;5;28mprint\u001b[39m(e)\n",
      "\u001b[0;31mAttributeError\u001b[0m: 'dict' object has no attribute 'd'"
     ]
    }
   ],
   "source": [
    "try:\n",
    "    s.d = 5\n",
    "except TraitError as e:\n",
    "    print(e)"
   ]
  },
  {
   "cell_type": "markdown",
   "id": "29e68304",
   "metadata": {},
   "source": [
    "### Gotcha With the HasTraits Class\n",
    "\n",
    "When defining a set of custom settings using the ``HasTraits`` or ``SettingsData`` class, you *MUST* specify a type for each attribute value.  If not then it is essentially ignored."
   ]
  },
  {
   "cell_type": "code",
   "execution_count": 15,
   "id": "88257f20",
   "metadata": {
    "execution": {
     "iopub.execute_input": "2022-03-23T01:19:45.964093Z",
     "iopub.status.busy": "2022-03-23T01:19:45.963755Z",
     "iopub.status.idle": "2022-03-23T01:19:45.976594Z",
     "shell.execute_reply": "2022-03-23T01:19:45.976180Z"
    }
   },
   "outputs": [
    {
     "ename": "NameError",
     "evalue": "name 'SettingsData' is not defined",
     "output_type": "error",
     "traceback": [
      "\u001b[0;31m---------------------------------------------------------------------------\u001b[0m",
      "\u001b[0;31mNameError\u001b[0m                                 Traceback (most recent call last)",
      "Input \u001b[0;32mIn [15]\u001b[0m, in \u001b[0;36m<cell line: 1>\u001b[0;34m()\u001b[0m\n\u001b[0;32m----> 1\u001b[0m \u001b[38;5;28;01mclass\u001b[39;00m \u001b[38;5;21;01mMySettings\u001b[39;00m(\u001b[43mSettingsData\u001b[49m):\n\u001b[1;32m      2\u001b[0m     a \u001b[38;5;241m=\u001b[39m Int(\u001b[38;5;241m1\u001b[39m)\n\u001b[1;32m      3\u001b[0m     b \u001b[38;5;241m=\u001b[39m \u001b[38;5;241m2\u001b[39m\n",
      "\u001b[0;31mNameError\u001b[0m: name 'SettingsData' is not defined"
     ]
    }
   ],
   "source": [
    "class MySettings(SettingsData):\n",
    "    a = Int(1)\n",
    "    b = 2\n",
    "\n",
    "mysets = MySettings()\n",
    "print(mysets)"
   ]
  },
  {
   "cell_type": "markdown",
   "id": "e2388808",
   "metadata": {},
   "source": [
    "However, if you create a custom class from a basic python object it will work:"
   ]
  },
  {
   "cell_type": "code",
   "execution_count": 16,
   "id": "62c82d10",
   "metadata": {
    "execution": {
     "iopub.execute_input": "2022-03-23T01:19:45.978846Z",
     "iopub.status.busy": "2022-03-23T01:19:45.978617Z",
     "iopub.status.idle": "2022-03-23T01:19:45.983390Z",
     "shell.execute_reply": "2022-03-23T01:19:45.982967Z"
    }
   },
   "outputs": [
    {
     "name": "stdout",
     "output_type": "stream",
     "text": [
      "1 2\n"
     ]
    }
   ],
   "source": [
    "class MySettings:\n",
    "    a = 1\n",
    "    b = 2\n",
    "\n",
    "mysets = MySettings()\n",
    "print(mysets.a, mysets.b)"
   ]
  },
  {
   "cell_type": "markdown",
   "id": "90449a20",
   "metadata": {},
   "source": [
    "### The SettingsAttr Class\n",
    "\n",
    "The problem with the ``HasTraits`` class is that there is are lot of helper methods attached to it.  This means that when we use the autocomplete functionality of our favorite IDEs (spyder and jupyter), we will have a hard time finding the attributes we set amongst the noise. For this reason we have created a wrapper class called ``SettingsAttr`` which works as follows:"
   ]
  },
  {
   "cell_type": "code",
   "execution_count": 17,
   "id": "08182377",
   "metadata": {
    "execution": {
     "iopub.execute_input": "2022-03-23T01:19:45.985291Z",
     "iopub.status.busy": "2022-03-23T01:19:45.985137Z",
     "iopub.status.idle": "2022-03-23T01:19:45.996913Z",
     "shell.execute_reply": "2022-03-23T01:19:45.996466Z"
    }
   },
   "outputs": [
    {
     "ename": "NameError",
     "evalue": "name 'SettingsAttr' is not defined",
     "output_type": "error",
     "traceback": [
      "\u001b[0;31m---------------------------------------------------------------------------\u001b[0m",
      "\u001b[0;31mNameError\u001b[0m                                 Traceback (most recent call last)",
      "Input \u001b[0;32mIn [17]\u001b[0m, in \u001b[0;36m<cell line: 1>\u001b[0;34m()\u001b[0m\n\u001b[0;32m----> 1\u001b[0m S \u001b[38;5;241m=\u001b[39m \u001b[43mSettingsAttr\u001b[49m(s)\n\u001b[1;32m      2\u001b[0m \u001b[38;5;28mprint\u001b[39m(S)\n",
      "\u001b[0;31mNameError\u001b[0m: name 'SettingsAttr' is not defined"
     ]
    }
   ],
   "source": [
    "S = SettingsAttr(s)\n",
    "print(S)"
   ]
  },
  {
   "cell_type": "markdown",
   "id": "5e40ac91",
   "metadata": {},
   "source": [
    "Importantly only the the user-created attributes show up, which can be test using the ``dir()`` command:"
   ]
  },
  {
   "cell_type": "code",
   "execution_count": 18,
   "id": "4c395f40",
   "metadata": {
    "execution": {
     "iopub.execute_input": "2022-03-23T01:19:45.999236Z",
     "iopub.status.busy": "2022-03-23T01:19:45.998901Z",
     "iopub.status.idle": "2022-03-23T01:19:46.011274Z",
     "shell.execute_reply": "2022-03-23T01:19:46.010864Z"
    }
   },
   "outputs": [
    {
     "ename": "NameError",
     "evalue": "name 'S' is not defined",
     "output_type": "error",
     "traceback": [
      "\u001b[0;31m---------------------------------------------------------------------------\u001b[0m",
      "\u001b[0;31mNameError\u001b[0m                                 Traceback (most recent call last)",
      "Input \u001b[0;32mIn [18]\u001b[0m, in \u001b[0;36m<cell line: 1>\u001b[0;34m()\u001b[0m\n\u001b[0;32m----> 1\u001b[0m \u001b[38;5;28mdir\u001b[39m(\u001b[43mS\u001b[49m)\n",
      "\u001b[0;31mNameError\u001b[0m: name 'S' is not defined"
     ]
    }
   ],
   "source": [
    "dir(S)"
   ]
  },
  {
   "cell_type": "markdown",
   "id": "26f22727",
   "metadata": {},
   "source": [
    "``SettingsAttr`` has as few additional features.  You can add a new batch of settings after instantiation as follows:"
   ]
  },
  {
   "cell_type": "code",
   "execution_count": 19,
   "id": "88ae111d",
   "metadata": {
    "execution": {
     "iopub.execute_input": "2022-03-23T01:19:46.013623Z",
     "iopub.status.busy": "2022-03-23T01:19:46.013288Z",
     "iopub.status.idle": "2022-03-23T01:19:46.025836Z",
     "shell.execute_reply": "2022-03-23T01:19:46.025397Z"
    }
   },
   "outputs": [
    {
     "ename": "NameError",
     "evalue": "name 'S' is not defined",
     "output_type": "error",
     "traceback": [
      "\u001b[0;31m---------------------------------------------------------------------------\u001b[0m",
      "\u001b[0;31mNameError\u001b[0m                                 Traceback (most recent call last)",
      "Input \u001b[0;32mIn [19]\u001b[0m, in \u001b[0;36m<cell line: 2>\u001b[0;34m()\u001b[0m\n\u001b[1;32m      1\u001b[0m s_new \u001b[38;5;241m=\u001b[39m {\u001b[38;5;124m'\u001b[39m\u001b[38;5;124ma\u001b[39m\u001b[38;5;124m'\u001b[39m: \u001b[38;5;241m5\u001b[39m, \u001b[38;5;124m'\u001b[39m\u001b[38;5;124me\u001b[39m\u001b[38;5;124m'\u001b[39m: \u001b[38;5;241m6\u001b[39m}\n\u001b[0;32m----> 2\u001b[0m \u001b[43mS\u001b[49m\u001b[38;5;241m.\u001b[39m_update(s_new)\n\u001b[1;32m      3\u001b[0m \u001b[38;5;28mprint\u001b[39m(S)\n",
      "\u001b[0;31mNameError\u001b[0m: name 'S' is not defined"
     ]
    }
   ],
   "source": [
    "s_new = {'a': 5, 'e': 6}\n",
    "S._update(s_new)\n",
    "print(S)"
   ]
  },
  {
   "cell_type": "markdown",
   "id": "ee915366",
   "metadata": {},
   "source": [
    "We can see the updated value of ``a``, as well as the newly added ``e``.  Because ``e`` contained an integer (6), the datatype of ``e`` will be forced to remain an integer:"
   ]
  },
  {
   "cell_type": "code",
   "execution_count": 20,
   "id": "edb44022",
   "metadata": {
    "execution": {
     "iopub.execute_input": "2022-03-23T01:19:46.028249Z",
     "iopub.status.busy": "2022-03-23T01:19:46.027888Z",
     "iopub.status.idle": "2022-03-23T01:19:46.040466Z",
     "shell.execute_reply": "2022-03-23T01:19:46.040041Z"
    }
   },
   "outputs": [
    {
     "ename": "NameError",
     "evalue": "name 'S' is not defined",
     "output_type": "error",
     "traceback": [
      "\u001b[0;31m---------------------------------------------------------------------------\u001b[0m",
      "\u001b[0;31mNameError\u001b[0m                                 Traceback (most recent call last)",
      "Input \u001b[0;32mIn [20]\u001b[0m, in \u001b[0;36m<cell line: 1>\u001b[0;34m()\u001b[0m\n\u001b[1;32m      1\u001b[0m \u001b[38;5;28;01mtry\u001b[39;00m:\n\u001b[0;32m----> 2\u001b[0m     \u001b[43mS\u001b[49m\u001b[38;5;241m.\u001b[39me \u001b[38;5;241m=\u001b[39m \u001b[38;5;241m5.5\u001b[39m\n\u001b[1;32m      3\u001b[0m \u001b[38;5;28;01mexcept\u001b[39;00m TraitError \u001b[38;5;28;01mas\u001b[39;00m e:\n\u001b[1;32m      4\u001b[0m     \u001b[38;5;28mprint\u001b[39m(e)\n",
      "\u001b[0;31mNameError\u001b[0m: name 'S' is not defined"
     ]
    }
   ],
   "source": [
    "try:\n",
    "    S.e = 5.5\n",
    "except TraitError as e:\n",
    "    print(e)"
   ]
  },
  {
   "cell_type": "markdown",
   "id": "4978da9c",
   "metadata": {},
   "source": [
    "Note that the ``_update`` method begins with an underscore.  This prevents it from appearing in the autocomplete menu to ensure it stays clean."
   ]
  },
  {
   "cell_type": "markdown",
   "id": "70b67789",
   "metadata": {},
   "source": [
    "For the sake of completeness, it should also be mentioned that the ``CustomSettings`` object which was passed to the ``SettingsAttr`` constructor was stored under ``_settings``.  The ``SettingsAttr`` class has overloaded ``__getattr__`` and ``__setattr__`` methods which dispatch the values to the ``_settings`` attribute:"
   ]
  },
  {
   "cell_type": "code",
   "execution_count": 21,
   "id": "1b26c08a",
   "metadata": {
    "execution": {
     "iopub.execute_input": "2022-03-23T01:19:46.042992Z",
     "iopub.status.busy": "2022-03-23T01:19:46.042645Z",
     "iopub.status.idle": "2022-03-23T01:19:46.055072Z",
     "shell.execute_reply": "2022-03-23T01:19:46.054660Z"
    }
   },
   "outputs": [
    {
     "ename": "NameError",
     "evalue": "name 'S' is not defined",
     "output_type": "error",
     "traceback": [
      "\u001b[0;31m---------------------------------------------------------------------------\u001b[0m",
      "\u001b[0;31mNameError\u001b[0m                                 Traceback (most recent call last)",
      "Input \u001b[0;32mIn [21]\u001b[0m, in \u001b[0;36m<cell line: 1>\u001b[0;34m()\u001b[0m\n\u001b[0;32m----> 1\u001b[0m \u001b[43mS\u001b[49m\u001b[38;5;241m.\u001b[39md \u001b[38;5;129;01mis\u001b[39;00m S\u001b[38;5;241m.\u001b[39m_settings\u001b[38;5;241m.\u001b[39md\n",
      "\u001b[0;31mNameError\u001b[0m: name 'S' is not defined"
     ]
    }
   ],
   "source": [
    "S.d is S._settings.d"
   ]
  },
  {
   "cell_type": "markdown",
   "id": "072212e7",
   "metadata": {},
   "source": [
    "Another aspect to keep in mind is that the ``_settings`` attribute is a ``HasTraits`` object.  This means that all values added to the settings must have an enforced datatype.  This is done on the fly, based on the type of value received.  For instance, once you set an attribute to string for instance, its type is set:"
   ]
  },
  {
   "cell_type": "code",
   "execution_count": 22,
   "id": "69d516e1",
   "metadata": {
    "execution": {
     "iopub.execute_input": "2022-03-23T01:19:46.057676Z",
     "iopub.status.busy": "2022-03-23T01:19:46.057311Z",
     "iopub.status.idle": "2022-03-23T01:19:46.070347Z",
     "shell.execute_reply": "2022-03-23T01:19:46.069919Z"
    }
   },
   "outputs": [
    {
     "ename": "NameError",
     "evalue": "name 'S' is not defined",
     "output_type": "error",
     "traceback": [
      "\u001b[0;31m---------------------------------------------------------------------------\u001b[0m",
      "\u001b[0;31mNameError\u001b[0m                                 Traceback (most recent call last)",
      "Input \u001b[0;32mIn [22]\u001b[0m, in \u001b[0;36m<cell line: 1>\u001b[0;34m()\u001b[0m\n\u001b[0;32m----> 1\u001b[0m \u001b[43mS\u001b[49m\u001b[38;5;241m.\u001b[39mf \u001b[38;5;241m=\u001b[39m \u001b[38;5;124m'\u001b[39m\u001b[38;5;124ma string\u001b[39m\u001b[38;5;124m'\u001b[39m\n\u001b[1;32m      2\u001b[0m \u001b[38;5;28;01mtry\u001b[39;00m:\n\u001b[1;32m      3\u001b[0m     S\u001b[38;5;241m.\u001b[39mf \u001b[38;5;241m=\u001b[39m \u001b[38;5;241m1.0\u001b[39m\n",
      "\u001b[0;31mNameError\u001b[0m: name 'S' is not defined"
     ]
    }
   ],
   "source": [
    "S.f = 'a string'\n",
    "try:\n",
    "    S.f = 1.0\n",
    "except TraitError as e:\n",
    "    print(e)\n",
    "print(S)"
   ]
  },
  {
   "cell_type": "markdown",
   "id": "7bbc0ac8",
   "metadata": {},
   "source": [
    "## Adding Documentation to a SettingsData and SettingsAttr Class\n",
    "\n",
    "One the main reasons for using a ``dataclass`` style object for holding settings is so that docstrings for each attribute can be defined and explained:"
   ]
  },
  {
   "cell_type": "code",
   "execution_count": 23,
   "id": "15a82bea",
   "metadata": {
    "execution": {
     "iopub.execute_input": "2022-03-23T01:19:46.072931Z",
     "iopub.status.busy": "2022-03-23T01:19:46.072504Z",
     "iopub.status.idle": "2022-03-23T01:19:46.086125Z",
     "shell.execute_reply": "2022-03-23T01:19:46.085658Z"
    }
   },
   "outputs": [
    {
     "ename": "NameError",
     "evalue": "name 'SettingsData' is not defined",
     "output_type": "error",
     "traceback": [
      "\u001b[0;31m---------------------------------------------------------------------------\u001b[0m",
      "\u001b[0;31mNameError\u001b[0m                                 Traceback (most recent call last)",
      "Input \u001b[0;32mIn [23]\u001b[0m, in \u001b[0;36m<cell line: 1>\u001b[0;34m()\u001b[0m\n\u001b[0;32m----> 1\u001b[0m \u001b[38;5;28;01mclass\u001b[39;00m \u001b[38;5;21;01mDocumentedSettingsData\u001b[39;00m(\u001b[43mSettingsData\u001b[49m):\n\u001b[1;32m      2\u001b[0m     \u001b[38;5;124mr\u001b[39m\u001b[38;5;124;03m\"\"\"\u001b[39;00m\n\u001b[1;32m      3\u001b[0m \u001b[38;5;124;03m    A class that holds the following settings.\u001b[39;00m\n\u001b[1;32m      4\u001b[0m \u001b[38;5;124;03m    \u001b[39;00m\n\u001b[0;32m   (...)\u001b[0m\n\u001b[1;32m     10\u001b[0m \u001b[38;5;124;03m        The id number of the object\u001b[39;00m\n\u001b[1;32m     11\u001b[0m \u001b[38;5;124;03m    \"\"\"\u001b[39;00m\n\u001b[1;32m     12\u001b[0m     name \u001b[38;5;241m=\u001b[39m Str(\u001b[38;5;124m'\u001b[39m\u001b[38;5;124mfoo\u001b[39m\u001b[38;5;124m'\u001b[39m)\n",
      "\u001b[0;31mNameError\u001b[0m: name 'SettingsData' is not defined"
     ]
    }
   ],
   "source": [
    "class DocumentedSettingsData(SettingsData):\n",
    "    r\"\"\"\n",
    "    A class that holds the following settings.\n",
    "    \n",
    "    Parameters\n",
    "    ----------\n",
    "    name : str\n",
    "        The name of the object\n",
    "    id_num : int\n",
    "        The id number of the object\n",
    "    \"\"\"\n",
    "    name = Str('foo')\n",
    "    id_num = Int(0)\n",
    "\n",
    "d = DocumentedSettingsData()"
   ]
  },
  {
   "cell_type": "code",
   "execution_count": 24,
   "id": "3143b16c",
   "metadata": {
    "execution": {
     "iopub.execute_input": "2022-03-23T01:19:46.089117Z",
     "iopub.status.busy": "2022-03-23T01:19:46.088237Z",
     "iopub.status.idle": "2022-03-23T01:19:46.100294Z",
     "shell.execute_reply": "2022-03-23T01:19:46.099876Z"
    }
   },
   "outputs": [
    {
     "ename": "NameError",
     "evalue": "name 'd' is not defined",
     "output_type": "error",
     "traceback": [
      "\u001b[0;31m---------------------------------------------------------------------------\u001b[0m",
      "\u001b[0;31mNameError\u001b[0m                                 Traceback (most recent call last)",
      "Input \u001b[0;32mIn [24]\u001b[0m, in \u001b[0;36m<cell line: 1>\u001b[0;34m()\u001b[0m\n\u001b[0;32m----> 1\u001b[0m \u001b[38;5;28mprint\u001b[39m(\u001b[43md\u001b[49m\u001b[38;5;241m.\u001b[39m\u001b[38;5;18m__doc__\u001b[39m)\n",
      "\u001b[0;31mNameError\u001b[0m: name 'd' is not defined"
     ]
    }
   ],
   "source": [
    "print(d.__doc__)"
   ]
  },
  {
   "cell_type": "markdown",
   "id": "4ba5e43b",
   "metadata": {},
   "source": [
    "Note that this docstring was written when we defined ``DocumentedSettingsData`` subclass and it attached to it, but we'll be interacting with the ``SettingsAttr`` class.  When a ``SettingsAttr`` is created is adopts the docstring of the received ``settings`` object.  This can be either a proper ``SettingsData/HasTraits`` class or a basic ``dataclass`` style object.  The docstring can only be set on initialization though, so any new attributes that are created by adding values to the object (i.e. ``D.zz_top = 'awesome'``) will not be documented."
   ]
  },
  {
   "cell_type": "code",
   "execution_count": 25,
   "id": "ec095d33",
   "metadata": {
    "execution": {
     "iopub.execute_input": "2022-03-23T01:19:46.102748Z",
     "iopub.status.busy": "2022-03-23T01:19:46.102453Z",
     "iopub.status.idle": "2022-03-23T01:19:46.113410Z",
     "shell.execute_reply": "2022-03-23T01:19:46.112936Z"
    }
   },
   "outputs": [
    {
     "ename": "NameError",
     "evalue": "name 'SettingsAttr' is not defined",
     "output_type": "error",
     "traceback": [
      "\u001b[0;31m---------------------------------------------------------------------------\u001b[0m",
      "\u001b[0;31mNameError\u001b[0m                                 Traceback (most recent call last)",
      "Input \u001b[0;32mIn [25]\u001b[0m, in \u001b[0;36m<cell line: 1>\u001b[0;34m()\u001b[0m\n\u001b[0;32m----> 1\u001b[0m D \u001b[38;5;241m=\u001b[39m \u001b[43mSettingsAttr\u001b[49m(d)\n\u001b[1;32m      2\u001b[0m \u001b[38;5;28mprint\u001b[39m(D\u001b[38;5;241m.\u001b[39m\u001b[38;5;18m__doc__\u001b[39m)\n",
      "\u001b[0;31mNameError\u001b[0m: name 'SettingsAttr' is not defined"
     ]
    }
   ],
   "source": [
    "D = SettingsAttr(d)\n",
    "print(D.__doc__)"
   ]
  },
  {
   "cell_type": "markdown",
   "id": "b24fd217",
   "metadata": {},
   "source": [
    "This machinery was designed with the idea of inheriting docstrings using the ``docrep`` package.  The following illustrates not only how the ``SettingsData`` class can be subclassed to add new settings (e.g. from ``GenericTransport`` to ``ReactiveTransport``), but also how to use the hightly under-rated ``docrep`` package to also inherit the docstrings:"
   ]
  },
  {
   "cell_type": "code",
   "execution_count": 26,
   "id": "920f3d6f",
   "metadata": {
    "execution": {
     "iopub.execute_input": "2022-03-23T01:19:46.115802Z",
     "iopub.status.busy": "2022-03-23T01:19:46.115607Z",
     "iopub.status.idle": "2022-03-23T01:19:46.131955Z",
     "shell.execute_reply": "2022-03-23T01:19:46.131500Z"
    }
   },
   "outputs": [
    {
     "ename": "NameError",
     "evalue": "name 'SettingsData' is not defined",
     "output_type": "error",
     "traceback": [
      "\u001b[0;31m---------------------------------------------------------------------------\u001b[0m",
      "\u001b[0;31mNameError\u001b[0m                                 Traceback (most recent call last)",
      "Input \u001b[0;32mIn [26]\u001b[0m, in \u001b[0;36m<cell line: 6>\u001b[0;34m()\u001b[0m\n\u001b[1;32m      2\u001b[0m docstr \u001b[38;5;241m=\u001b[39m docrep\u001b[38;5;241m.\u001b[39mDocstringProcessor()\n\u001b[1;32m      5\u001b[0m \u001b[38;5;66;03m# This docorator tells docrep to fetch the docstring from this class and make it available elsewhere:\u001b[39;00m\n\u001b[1;32m      6\u001b[0m \u001b[38;5;129m@docstr\u001b[39m\u001b[38;5;241m.\u001b[39mget_sections(base\u001b[38;5;241m=\u001b[39m\u001b[38;5;124m'\u001b[39m\u001b[38;5;124mDocumentSettingsData\u001b[39m\u001b[38;5;124m'\u001b[39m, sections\u001b[38;5;241m=\u001b[39m[\u001b[38;5;124m'\u001b[39m\u001b[38;5;124mParameters\u001b[39m\u001b[38;5;124m'\u001b[39m])\n\u001b[0;32m----> 7\u001b[0m \u001b[38;5;28;01mclass\u001b[39;00m \u001b[38;5;21;01mDocumentedSettingsData\u001b[39;00m(\u001b[43mSettingsData\u001b[49m):\n\u001b[1;32m      8\u001b[0m     \u001b[38;5;124mr\u001b[39m\u001b[38;5;124;03m\"\"\"\u001b[39;00m\n\u001b[1;32m      9\u001b[0m \u001b[38;5;124;03m    A class that holds the following settings.\u001b[39;00m\n\u001b[1;32m     10\u001b[0m \u001b[38;5;124;03m    \u001b[39;00m\n\u001b[0;32m   (...)\u001b[0m\n\u001b[1;32m     16\u001b[0m \u001b[38;5;124;03m        The id number of the object\u001b[39;00m\n\u001b[1;32m     17\u001b[0m \u001b[38;5;124;03m    \"\"\"\u001b[39;00m\n\u001b[1;32m     18\u001b[0m     name \u001b[38;5;241m=\u001b[39m Str(\u001b[38;5;124m'\u001b[39m\u001b[38;5;124mfoo\u001b[39m\u001b[38;5;124m'\u001b[39m)\n",
      "\u001b[0;31mNameError\u001b[0m: name 'SettingsData' is not defined"
     ]
    }
   ],
   "source": [
    "import docrep\n",
    "docstr = docrep.DocstringProcessor()\n",
    "\n",
    "\n",
    "# This docorator tells docrep to fetch the docstring from this class and make it available elsewhere:\n",
    "@docstr.get_sections(base='DocumentSettingsData', sections=['Parameters'])\n",
    "class DocumentedSettingsData(SettingsData):\n",
    "    r\"\"\"\n",
    "    A class that holds the following settings.\n",
    "    \n",
    "    Parameters\n",
    "    ----------\n",
    "    name : str\n",
    "        The name of the object\n",
    "    id_num : int\n",
    "        The id number of the object\n",
    "    \"\"\"\n",
    "    name = Str('foo')\n",
    "    id_num = Int(0)\n",
    "\n",
    "\n",
    "# This tells docrep to parse this docstring and insert text at the %\n",
    "@docstr.dedent\n",
    "class ChildSettingsData(DocumentedSettingsData):\n",
    "    r\"\"\"\n",
    "    A subclass of DocumentedSettingsData that holds some addtional settings\n",
    "    \n",
    "    Parameters\n",
    "    ----------\n",
    "    %(DocumentSettingsData.parameters)s\n",
    "    max_iter : int\n",
    "        The maximum number of iterations to do\n",
    "    \"\"\"\n",
    "    max_iter = Int(10)\n",
    "\n",
    "    \n",
    "E = ChildSettingsData()\n",
    "print(E.__doc__)"
   ]
  },
  {
   "cell_type": "markdown",
   "id": "91d52e07",
   "metadata": {},
   "source": [
    "And we can also see that ``max_iter`` was added to the values of ``name`` and ``id_num`` on the parent class:"
   ]
  },
  {
   "cell_type": "code",
   "execution_count": 27,
   "id": "69240fb7",
   "metadata": {
    "execution": {
     "iopub.execute_input": "2022-03-23T01:19:46.134438Z",
     "iopub.status.busy": "2022-03-23T01:19:46.134083Z",
     "iopub.status.idle": "2022-03-23T01:19:46.145760Z",
     "shell.execute_reply": "2022-03-23T01:19:46.145342Z"
    }
   },
   "outputs": [
    {
     "ename": "NameError",
     "evalue": "name 'E' is not defined",
     "output_type": "error",
     "traceback": [
      "\u001b[0;31m---------------------------------------------------------------------------\u001b[0m",
      "\u001b[0;31mNameError\u001b[0m                                 Traceback (most recent call last)",
      "Input \u001b[0;32mIn [27]\u001b[0m, in \u001b[0;36m<cell line: 1>\u001b[0;34m()\u001b[0m\n\u001b[0;32m----> 1\u001b[0m \u001b[43mE\u001b[49m\u001b[38;5;241m.\u001b[39mvisible_traits()\n",
      "\u001b[0;31mNameError\u001b[0m: name 'E' is not defined"
     ]
    }
   ],
   "source": [
    "E.visible_traits()"
   ]
  },
  {
   "cell_type": "markdown",
   "id": "e67cda03",
   "metadata": {},
   "source": [
    "Again, as mentioned above, this inherited docstring is adopted by the ``SettingsAttr``:"
   ]
  },
  {
   "cell_type": "code",
   "execution_count": 28,
   "id": "8578e554",
   "metadata": {
    "execution": {
     "iopub.execute_input": "2022-03-23T01:19:46.148772Z",
     "iopub.status.busy": "2022-03-23T01:19:46.147899Z",
     "iopub.status.idle": "2022-03-23T01:19:46.160162Z",
     "shell.execute_reply": "2022-03-23T01:19:46.159719Z"
    }
   },
   "outputs": [
    {
     "ename": "NameError",
     "evalue": "name 'SettingsAttr' is not defined",
     "output_type": "error",
     "traceback": [
      "\u001b[0;31m---------------------------------------------------------------------------\u001b[0m",
      "\u001b[0;31mNameError\u001b[0m                                 Traceback (most recent call last)",
      "Input \u001b[0;32mIn [28]\u001b[0m, in \u001b[0;36m<cell line: 1>\u001b[0;34m()\u001b[0m\n\u001b[0;32m----> 1\u001b[0m S \u001b[38;5;241m=\u001b[39m \u001b[43mSettingsAttr\u001b[49m(E)\n\u001b[1;32m      2\u001b[0m \u001b[38;5;28mprint\u001b[39m(S\u001b[38;5;241m.\u001b[39m\u001b[38;5;18m__doc__\u001b[39m)\n",
      "\u001b[0;31mNameError\u001b[0m: name 'SettingsAttr' is not defined"
     ]
    }
   ],
   "source": [
    "S = SettingsAttr(E)\n",
    "print(S.__doc__)"
   ]
  },
  {
   "cell_type": "markdown",
   "id": "59a22ce3",
   "metadata": {},
   "source": [
    "\n",
    "## Attaching to an OpenPNM Object\n",
    "\n",
    "The ``SettingsAttr`` wrapper class is so named because it is meant to be an attribute (i.e. attr) on OpenPNM objects.  These attached to the ``settings`` attribute:"
   ]
  },
  {
   "cell_type": "code",
   "execution_count": 29,
   "id": "906c4b44",
   "metadata": {
    "execution": {
     "iopub.execute_input": "2022-03-23T01:19:46.162629Z",
     "iopub.status.busy": "2022-03-23T01:19:46.162312Z",
     "iopub.status.idle": "2022-03-23T01:19:46.173400Z",
     "shell.execute_reply": "2022-03-23T01:19:46.172923Z"
    }
   },
   "outputs": [
    {
     "ename": "NameError",
     "evalue": "name 'alg' is not defined",
     "output_type": "error",
     "traceback": [
      "\u001b[0;31m---------------------------------------------------------------------------\u001b[0m",
      "\u001b[0;31mNameError\u001b[0m                                 Traceback (most recent call last)",
      "Input \u001b[0;32mIn [29]\u001b[0m, in \u001b[0;36m<cell line: 1>\u001b[0;34m()\u001b[0m\n\u001b[0;32m----> 1\u001b[0m \u001b[38;5;28misinstance\u001b[39m(\u001b[43malg\u001b[49m\u001b[38;5;241m.\u001b[39msets, SettingsAttr)\n",
      "\u001b[0;31mNameError\u001b[0m: name 'alg' is not defined"
     ]
    }
   ],
   "source": [
    "isinstance(alg.sets, SettingsAttr)"
   ]
  },
  {
   "cell_type": "markdown",
   "id": "2e3bba74",
   "metadata": {},
   "source": [
    "OpenPNM declares ``SettingsData`` classes with each file where class is defined, then this is attached upon initialization.  This is illustrated below:"
   ]
  },
  {
   "cell_type": "code",
   "execution_count": 30,
   "id": "ad0d0451",
   "metadata": {
    "execution": {
     "iopub.execute_input": "2022-03-23T01:19:46.176077Z",
     "iopub.status.busy": "2022-03-23T01:19:46.175681Z",
     "iopub.status.idle": "2022-03-23T01:19:46.190145Z",
     "shell.execute_reply": "2022-03-23T01:19:46.189706Z"
    }
   },
   "outputs": [
    {
     "ename": "NameError",
     "evalue": "name 'SettingsData' is not defined",
     "output_type": "error",
     "traceback": [
      "\u001b[0;31m---------------------------------------------------------------------------\u001b[0m",
      "\u001b[0;31mNameError\u001b[0m                                 Traceback (most recent call last)",
      "Input \u001b[0;32mIn [30]\u001b[0m, in \u001b[0;36m<cell line: 1>\u001b[0;34m()\u001b[0m\n\u001b[0;32m----> 1\u001b[0m \u001b[38;5;28;01mclass\u001b[39;00m \u001b[38;5;21;01mSpecificSettings\u001b[39;00m(\u001b[43mSettingsData\u001b[49m):\n\u001b[1;32m      2\u001b[0m     a \u001b[38;5;241m=\u001b[39m Int(\u001b[38;5;241m4\u001b[39m)\n\u001b[1;32m      5\u001b[0m \u001b[38;5;28;01mclass\u001b[39;00m \u001b[38;5;21;01mSomeAlg\u001b[39;00m:\n",
      "\u001b[0;31mNameError\u001b[0m: name 'SettingsData' is not defined"
     ]
    }
   ],
   "source": [
    "class SpecificSettings(SettingsData):\n",
    "    a = Int(4)\n",
    "    \n",
    "\n",
    "class SomeAlg:\n",
    "    def __init__(self, settings={}, **kwargs):\n",
    "        self.settings = SettingsAttr(SpecificSettings())\n",
    "        self.settings._update(settings)\n",
    "        \n",
    "\n",
    "alg = SomeAlg()\n",
    "print(alg.settings)"
   ]
  },
  {
   "cell_type": "markdown",
   "id": "adcfa88f",
   "metadata": {},
   "source": [
    "Or with some additional user-defined settings and overrides:"
   ]
  },
  {
   "cell_type": "code",
   "execution_count": 31,
   "id": "4ad72666",
   "metadata": {
    "execution": {
     "iopub.execute_input": "2022-03-23T01:19:46.193234Z",
     "iopub.status.busy": "2022-03-23T01:19:46.192300Z",
     "iopub.status.idle": "2022-03-23T01:19:46.205339Z",
     "shell.execute_reply": "2022-03-23T01:19:46.204925Z"
    }
   },
   "outputs": [
    {
     "ename": "NameError",
     "evalue": "name 'SomeAlg' is not defined",
     "output_type": "error",
     "traceback": [
      "\u001b[0;31m---------------------------------------------------------------------------\u001b[0m",
      "\u001b[0;31mNameError\u001b[0m                                 Traceback (most recent call last)",
      "Input \u001b[0;32mIn [31]\u001b[0m, in \u001b[0;36m<cell line: 2>\u001b[0;34m()\u001b[0m\n\u001b[1;32m      1\u001b[0m s \u001b[38;5;241m=\u001b[39m {\u001b[38;5;124m'\u001b[39m\u001b[38;5;124mname\u001b[39m\u001b[38;5;124m'\u001b[39m: \u001b[38;5;124m'\u001b[39m\u001b[38;5;124mbob\u001b[39m\u001b[38;5;124m'\u001b[39m, \u001b[38;5;124m'\u001b[39m\u001b[38;5;124ma\u001b[39m\u001b[38;5;124m'\u001b[39m: \u001b[38;5;241m3\u001b[39m}\n\u001b[0;32m----> 2\u001b[0m alg2 \u001b[38;5;241m=\u001b[39m \u001b[43mSomeAlg\u001b[49m(settings\u001b[38;5;241m=\u001b[39ms)\n\u001b[1;32m      3\u001b[0m \u001b[38;5;28mprint\u001b[39m(alg2\u001b[38;5;241m.\u001b[39msettings)\n",
      "\u001b[0;31mNameError\u001b[0m: name 'SomeAlg' is not defined"
     ]
    }
   ],
   "source": [
    "s = {'name': 'bob', 'a': 3}\n",
    "alg2 = SomeAlg(settings=s)\n",
    "print(alg2.settings)"
   ]
  }
 ],
 "metadata": {
  "kernelspec": {
   "display_name": "Python 3",
   "language": "python",
   "name": "python3"
  },
  "language_info": {
   "codemirror_mode": {
    "name": "ipython",
    "version": 3
   },
   "file_extension": ".py",
   "mimetype": "text/x-python",
   "name": "python",
   "nbconvert_exporter": "python",
   "pygments_lexer": "ipython3",
   "version": "3.8.12"
  }
 },
 "nbformat": 4,
 "nbformat_minor": 5
}
