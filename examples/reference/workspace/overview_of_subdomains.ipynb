{
 "cells": [
  {
   "cell_type": "markdown",
   "id": "e8a1ef84",
   "metadata": {},
   "source": [
    "# Overview of Subdomains\n",
    "\n",
    "Subdomains are a key feature of OpenPNM, but the can be a source of confusion. First, let's understand what subdomains are and why they are useful. The simplest scenario is a porous materials with 2 distince layers, each with their own pore size distribution. In OpenPNM you can handle this by creating two separate Geometry objects, with each assigned to one of the layers. Each Geometry object can then compute pore size distributions independently from their own different statistical distributions, and store the values corresponding the pores in its layer. A subdomain is thus a selection of pores (and/or throats) that are related to each other but distinct from the rest of the network. Geometry objects thus define subdomains by the pores and/or throats to which they are applied or assigned. \n",
    "\n",
    "One of the repercussion of supporing subdomains at the deepest possible layer in OpenPNM is that all users must deal with them, regardelss of whether they are actually using the feature.  In other words, even materials with one domain must also define Geometry that defines a single subdomain. \n",
    "\n",
    "This notebook explores how subdomains work in OpenPNM."
   ]
  },
  {
   "cell_type": "code",
   "execution_count": 1,
   "id": "7bca81d8",
   "metadata": {
    "execution": {
     "iopub.execute_input": "2022-04-20T03:07:32.450519Z",
     "iopub.status.busy": "2022-04-20T03:07:32.450075Z",
     "iopub.status.idle": "2022-04-20T03:07:34.206997Z",
     "shell.execute_reply": "2022-04-20T03:07:34.206328Z"
    }
   },
   "outputs": [],
   "source": [
    "import openpnm as op\n",
    "import numpy as np\n",
    "import matplotlib.pyplot as plt"
   ]
  },
  {
   "cell_type": "markdown",
   "id": "40d78e93",
   "metadata": {},
   "source": [
    "Create a simple 2D cubic network for easy visualization:"
   ]
  },
  {
   "cell_type": "code",
   "execution_count": 2,
   "id": "f63130f3",
   "metadata": {
    "execution": {
     "iopub.execute_input": "2022-04-20T03:07:34.210866Z",
     "iopub.status.busy": "2022-04-20T03:07:34.210377Z",
     "iopub.status.idle": "2022-04-20T03:07:34.279271Z",
     "shell.execute_reply": "2022-04-20T03:07:34.278844Z"
    }
   },
   "outputs": [
    {
     "data": {
      "image/png": "[encoded data removed]",
      "text/plain": [
       "<Figure size 432x288 with 1 Axes>"
      ]
     },
     "metadata": {
      "needs_background": "light"
     },
     "output_type": "display_data"
    }
   ],
   "source": [
    "pn = op.network.Cubic([4, 4, 1])\n",
    "fig, ax = plt.subplots(1, 1)\n",
    "ax = op.topotools.plot_connections(network=pn, c='k', ax=ax)\n",
    "plt.axis(False);"
   ]
  },
  {
   "cell_type": "markdown",
   "id": "f5201591",
   "metadata": {},
   "source": [
    "Label the pores on the left and right to indicate that the Network has two subdomains:"
   ]
  },
  {
   "cell_type": "code",
   "execution_count": 3,
   "id": "8fbcd4cb",
   "metadata": {
    "execution": {
     "iopub.execute_input": "2022-04-20T03:07:34.281968Z",
     "iopub.status.busy": "2022-04-20T03:07:34.281570Z",
     "iopub.status.idle": "2022-04-20T03:07:34.322527Z",
     "shell.execute_reply": "2022-04-20T03:07:34.322111Z"
    }
   },
   "outputs": [
    {
     "data": {
      "image/png": "[encoded data removed]",
      "text/plain": [
       "<Figure size 432x288 with 1 Axes>"
      ]
     },
     "execution_count": 3,
     "metadata": {},
     "output_type": "execute_result"
    }
   ],
   "source": [
    "pn.set_label(label='layer1', pores=range(8))\n",
    "pn.set_label(label='layer2', pores=range(8, 16))\n",
    "op.topotools.plot_coordinates(network=pn, pores=pn.pores('layer1'), c='r', markersize=100, ax=ax)\n",
    "op.topotools.plot_coordinates(network=pn, pores=pn.pores('layer2'), c='c', markersize=100, ax=ax)\n",
    "fig  # Re-show figure"
   ]
  },
  {
   "cell_type": "markdown",
   "id": "545ac388",
   "metadata": {},
   "source": [
    "## The Preferred Way to Work with Subdomains\n",
    "\n",
    "Create two Geometry objects, with one assigned to each set of pores (i.e. 'layer1' and 'layer2').  Let's also assign all the throats to ``geo1``. "
   ]
  },
  {
   "cell_type": "code",
   "execution_count": 4,
   "id": "cba40533",
   "metadata": {
    "execution": {
     "iopub.execute_input": "2022-04-20T03:07:34.325199Z",
     "iopub.status.busy": "2022-04-20T03:07:34.324800Z",
     "iopub.status.idle": "2022-04-20T03:07:34.846943Z",
     "shell.execute_reply": "2022-04-20T03:07:34.846221Z"
    }
   },
   "outputs": [
    {
     "ename": "AttributeError",
     "evalue": "module 'openpnm' has no attribute 'phases'",
     "output_type": "error",
     "traceback": [
      "\u001b[0;31m---------------------------------------------------------------------------\u001b[0m",
      "\u001b[0;31mAttributeError\u001b[0m                            Traceback (most recent call last)",
      "Input \u001b[0;32mIn [4]\u001b[0m, in \u001b[0;36m<cell line: 3>\u001b[0;34m()\u001b[0m\n\u001b[1;32m      1\u001b[0m geo1 \u001b[38;5;241m=\u001b[39m op\u001b[38;5;241m.\u001b[39mgeometry\u001b[38;5;241m.\u001b[39mGenericGeometry(network\u001b[38;5;241m=\u001b[39mpn, pores\u001b[38;5;241m=\u001b[39mpn\u001b[38;5;241m.\u001b[39mpores(\u001b[38;5;124m'\u001b[39m\u001b[38;5;124mlayer1\u001b[39m\u001b[38;5;124m'\u001b[39m), throats\u001b[38;5;241m=\u001b[39mpn\u001b[38;5;241m.\u001b[39mTs)\n\u001b[1;32m      2\u001b[0m geo2 \u001b[38;5;241m=\u001b[39m op\u001b[38;5;241m.\u001b[39mgeometry\u001b[38;5;241m.\u001b[39mGenericGeometry(network\u001b[38;5;241m=\u001b[39mpn, pores\u001b[38;5;241m=\u001b[39mpn\u001b[38;5;241m.\u001b[39mpores(\u001b[38;5;124m'\u001b[39m\u001b[38;5;124mlayer2\u001b[39m\u001b[38;5;124m'\u001b[39m))\n\u001b[0;32m----> 3\u001b[0m air \u001b[38;5;241m=\u001b[39m \u001b[43mop\u001b[49m\u001b[38;5;241;43m.\u001b[39;49m\u001b[43mphases\u001b[49m\u001b[38;5;241m.\u001b[39mAir(network\u001b[38;5;241m=\u001b[39mpn, name\u001b[38;5;241m=\u001b[39m\u001b[38;5;124m'\u001b[39m\u001b[38;5;124mair\u001b[39m\u001b[38;5;124m'\u001b[39m)\n",
      "\u001b[0;31mAttributeError\u001b[0m: module 'openpnm' has no attribute 'phases'"
     ]
    }
   ],
   "source": [
    "geo1 = op.geometry.GenericGeometry(network=pn, pores=pn.pores('layer1'), throats=pn.Ts)\n",
    "geo2 = op.geometry.GenericGeometry(network=pn, pores=pn.pores('layer2'))\n",
    "air = op.phases.Air(network=pn, name='air')"
   ]
  },
  {
   "cell_type": "markdown",
   "id": "e148a388",
   "metadata": {},
   "source": [
    "The \"preferred\" way to create Physics objects is to assign them to a specific Phase AND Geometry upon instantiation:"
   ]
  },
  {
   "cell_type": "code",
   "execution_count": 5,
   "id": "7f40acfc",
   "metadata": {
    "execution": {
     "iopub.execute_input": "2022-04-20T03:07:34.850824Z",
     "iopub.status.busy": "2022-04-20T03:07:34.850236Z",
     "iopub.status.idle": "2022-04-20T03:07:34.866690Z",
     "shell.execute_reply": "2022-04-20T03:07:34.866167Z"
    }
   },
   "outputs": [
    {
     "ename": "NameError",
     "evalue": "name 'air' is not defined",
     "output_type": "error",
     "traceback": [
      "\u001b[0;31m---------------------------------------------------------------------------\u001b[0m",
      "\u001b[0;31mNameError\u001b[0m                                 Traceback (most recent call last)",
      "Input \u001b[0;32mIn [5]\u001b[0m, in \u001b[0;36m<cell line: 1>\u001b[0;34m()\u001b[0m\n\u001b[0;32m----> 1\u001b[0m phys1 \u001b[38;5;241m=\u001b[39m op\u001b[38;5;241m.\u001b[39mphysics\u001b[38;5;241m.\u001b[39mGenericPhysics(network\u001b[38;5;241m=\u001b[39mpn, phase\u001b[38;5;241m=\u001b[39m\u001b[43mair\u001b[49m, geometry\u001b[38;5;241m=\u001b[39mgeo1)\n\u001b[1;32m      2\u001b[0m phys2 \u001b[38;5;241m=\u001b[39m op\u001b[38;5;241m.\u001b[39mphysics\u001b[38;5;241m.\u001b[39mGenericPhysics(network\u001b[38;5;241m=\u001b[39mpn, phase\u001b[38;5;241m=\u001b[39mair, geometry\u001b[38;5;241m=\u001b[39mgeo2)\n",
      "\u001b[0;31mNameError\u001b[0m: name 'air' is not defined"
     ]
    }
   ],
   "source": [
    "phys1 = op.physics.GenericPhysics(network=pn, phase=air, geometry=geo1)\n",
    "phys2 = op.physics.GenericPhysics(network=pn, phase=air, geometry=geo2)"
   ]
  },
  {
   "cell_type": "markdown",
   "id": "e7bc50bb",
   "metadata": {},
   "source": [
    "The ``project`` has a useful feature for studying the associations between Geometry, Phase, and Physics objects called the ``grid``. "
   ]
  },
  {
   "cell_type": "code",
   "execution_count": 6,
   "id": "cf7e8779",
   "metadata": {
    "execution": {
     "iopub.execute_input": "2022-04-20T03:07:34.869259Z",
     "iopub.status.busy": "2022-04-20T03:07:34.868959Z",
     "iopub.status.idle": "2022-04-20T03:07:34.874590Z",
     "shell.execute_reply": "2022-04-20T03:07:34.874100Z"
    }
   },
   "outputs": [
    {
     "name": "stdout",
     "output_type": "stream",
     "text": [
      "+--------+\n",
      "| net_01 |\n",
      "+--------+\n",
      "| geo_01 |\n",
      "| geo_02 |\n",
      "+--------+\n"
     ]
    }
   ],
   "source": [
    "proj = pn.project\n",
    "print(pn.project.grid)"
   ]
  },
  {
   "cell_type": "markdown",
   "id": "2aa43821",
   "metadata": {},
   "source": [
    "When creating Physics objects as done above, all the associations between which pores and throats belong to each Physics is taken care of automatically. Essentially, all the pores/throats of ``geo1`` are assigned to ``phys1`` and simlarly all the pores/throats of ``geo2`` are assigned to ``phys2``. However, it is possible to make these assigments manually post-instantiation as will be demonstrated below, but first let's talk about how these associations are tracked by OpenPNM. When a Geometry object is created, two label arrays are added to the Network with ``True`` indicating the locations where that Geometry applies.  Let's see this by printing the Network:"
   ]
  },
  {
   "cell_type": "code",
   "execution_count": 7,
   "id": "e5d7ccc8",
   "metadata": {
    "execution": {
     "iopub.execute_input": "2022-04-20T03:07:34.877521Z",
     "iopub.status.busy": "2022-04-20T03:07:34.877067Z",
     "iopub.status.idle": "2022-04-20T03:07:34.881704Z",
     "shell.execute_reply": "2022-04-20T03:07:34.880507Z"
    }
   },
   "outputs": [
    {
     "name": "stdout",
     "output_type": "stream",
     "text": [
      "――――――――――――――――――――――――――――――――――――――――――――――――――――――――――――――――――――――――――――――\n",
      "openpnm.network.Cubic : net_01\n",
      "――――――――――――――――――――――――――――――――――――――――――――――――――――――――――――――――――――――――――――――\n",
      "#     Properties                                    Valid Values\n",
      "――――――――――――――――――――――――――――――――――――――――――――――――――――――――――――――――――――――――――――――\n",
      "1     pore.coords                                      16 / 16   \n",
      "2     throat.conns                                     24 / 24   \n",
      "――――――――――――――――――――――――――――――――――――――――――――――――――――――――――――――――――――――――――――――\n",
      "#     Labels                                        Assigned Locations\n",
      "――――――――――――――――――――――――――――――――――――――――――――――――――――――――――――――――――――――――――――――\n",
      "1     pore.all                                      16        \n",
      "2     pore.back                                     4         \n",
      "3     pore.front                                    4         \n",
      "4     pore.geo_01                                   8         \n",
      "5     pore.geo_02                                   8         \n",
      "6     pore.internal                                 16        \n",
      "7     pore.layer1                                   8         \n",
      "8     pore.layer2                                   8         \n",
      "9     pore.left                                     4         \n",
      "10    pore.right                                    4         \n",
      "11    pore.surface                                  12        \n",
      "12    throat.all                                    24        \n",
      "13    throat.geo_01                                 24        \n",
      "14    throat.geo_02                                 0         \n",
      "15    throat.internal                               24        \n",
      "――――――――――――――――――――――――――――――――――――――――――――――――――――――――――――――――――――――――――――――\n",
      "Parameters                          Values\n",
      "――――――――――――――――――――――――――――――――――――――――――――――――――――――――――――――――――――――――――――――\n",
      "――――――――――――――――――――――――――――――――――――――――――――――――――――――――――――――――――――――――――――――\n"
     ]
    }
   ],
   "source": [
    "print(pn)"
   ]
  },
  {
   "cell_type": "markdown",
   "id": "e9863292",
   "metadata": {},
   "source": [
    "As can be seen, there is a label array called 'pore.geo_01' that is ``True`` in 8 locations.  We can see which locations using ``np.where``:"
   ]
  },
  {
   "cell_type": "code",
   "execution_count": 8,
   "id": "ef3d695d",
   "metadata": {
    "execution": {
     "iopub.execute_input": "2022-04-20T03:07:34.884292Z",
     "iopub.status.busy": "2022-04-20T03:07:34.884004Z",
     "iopub.status.idle": "2022-04-20T03:07:34.887308Z",
     "shell.execute_reply": "2022-04-20T03:07:34.886879Z"
    }
   },
   "outputs": [
    {
     "name": "stdout",
     "output_type": "stream",
     "text": [
      "[0 1 2 3 4 5 6 7]\n"
     ]
    }
   ],
   "source": [
    "print(np.where(pn['pore.geo_01'])[0])"
   ]
  },
  {
   "cell_type": "markdown",
   "id": "e42dee74",
   "metadata": {},
   "source": [
    "And similarly, for ``geo2``:"
   ]
  },
  {
   "cell_type": "code",
   "execution_count": 9,
   "id": "9aa67059",
   "metadata": {
    "execution": {
     "iopub.execute_input": "2022-04-20T03:07:34.889925Z",
     "iopub.status.busy": "2022-04-20T03:07:34.889497Z",
     "iopub.status.idle": "2022-04-20T03:07:34.894262Z",
     "shell.execute_reply": "2022-04-20T03:07:34.893774Z"
    }
   },
   "outputs": [
    {
     "name": "stdout",
     "output_type": "stream",
     "text": [
      "[ 8  9 10 11 12 13 14 15]\n"
     ]
    }
   ],
   "source": [
    "print(np.where(pn['pore.geo_02'])[0])"
   ]
  },
  {
   "cell_type": "markdown",
   "id": "557b69fb",
   "metadata": {},
   "source": [
    "These values are the locations in each array where ``True`` was found.  Note that they correspond to the pore locations used when creating ``geo1`` and ``geo2``.\n",
    "\n",
    "> NOTE: We **cannot** just change the values in these arrays to change the locations where ``geo1`` and ``geo2`` are applied.  There are several things that need to go on behind the scenes.  For instance, if we want to transfer half the throats from ``geo1`` to ``geo2``, OpenPNM must also move any numerical data on ``geo1``, which requires resizes the arrays on both objects. *Instead we must use the ``set_locations`` method.*"
   ]
  },
  {
   "cell_type": "markdown",
   "id": "1922fa4c",
   "metadata": {},
   "source": [
    "## Working with Subdomains Manually\n",
    "\n",
    "Let's recreate the above multidomain network to illustrate how to manually set locations and associations."
   ]
  },
  {
   "cell_type": "code",
   "execution_count": 10,
   "id": "d93d95c5",
   "metadata": {
    "execution": {
     "iopub.execute_input": "2022-04-20T03:07:34.897031Z",
     "iopub.status.busy": "2022-04-20T03:07:34.896743Z",
     "iopub.status.idle": "2022-04-20T03:07:34.922111Z",
     "shell.execute_reply": "2022-04-20T03:07:34.921564Z"
    }
   },
   "outputs": [
    {
     "ename": "AttributeError",
     "evalue": "module 'openpnm' has no attribute 'phases'",
     "output_type": "error",
     "traceback": [
      "\u001b[0;31m---------------------------------------------------------------------------\u001b[0m",
      "\u001b[0;31mAttributeError\u001b[0m                            Traceback (most recent call last)",
      "Input \u001b[0;32mIn [10]\u001b[0m, in \u001b[0;36m<cell line: 6>\u001b[0;34m()\u001b[0m\n\u001b[1;32m      4\u001b[0m geo1 \u001b[38;5;241m=\u001b[39m op\u001b[38;5;241m.\u001b[39mgeometry\u001b[38;5;241m.\u001b[39mGenericGeometry(network\u001b[38;5;241m=\u001b[39mpn, pores\u001b[38;5;241m=\u001b[39mpn\u001b[38;5;241m.\u001b[39mpores(\u001b[38;5;124m'\u001b[39m\u001b[38;5;124mlayer1\u001b[39m\u001b[38;5;124m'\u001b[39m))\n\u001b[1;32m      5\u001b[0m geo2 \u001b[38;5;241m=\u001b[39m op\u001b[38;5;241m.\u001b[39mgeometry\u001b[38;5;241m.\u001b[39mGenericGeometry(network\u001b[38;5;241m=\u001b[39mpn, pores\u001b[38;5;241m=\u001b[39mpn\u001b[38;5;241m.\u001b[39mpores(\u001b[38;5;124m'\u001b[39m\u001b[38;5;124mlayer2\u001b[39m\u001b[38;5;124m'\u001b[39m))\n\u001b[0;32m----> 6\u001b[0m air \u001b[38;5;241m=\u001b[39m \u001b[43mop\u001b[49m\u001b[38;5;241;43m.\u001b[39;49m\u001b[43mphases\u001b[49m\u001b[38;5;241m.\u001b[39mAir(network\u001b[38;5;241m=\u001b[39mpn, name\u001b[38;5;241m=\u001b[39m\u001b[38;5;124m'\u001b[39m\u001b[38;5;124mair\u001b[39m\u001b[38;5;124m'\u001b[39m)\n",
      "\u001b[0;31mAttributeError\u001b[0m: module 'openpnm' has no attribute 'phases'"
     ]
    }
   ],
   "source": [
    "pn = op.network.Cubic([4, 4, 1])\n",
    "pn.set_label(label='layer1', pores=range(8))\n",
    "pn.set_label(label='layer2', pores=range(8, 16))\n",
    "geo1 = op.geometry.GenericGeometry(network=pn, pores=pn.pores('layer1'))\n",
    "geo2 = op.geometry.GenericGeometry(network=pn, pores=pn.pores('layer2'))\n",
    "air = op.phases.Air(network=pn, name='air')"
   ]
  },
  {
   "cell_type": "markdown",
   "id": "8d867281",
   "metadata": {},
   "source": [
    "Next, create two Physics objects, but don't assign them to a Phase or a Geometry object.  Note that a warning is issued that the instantiation was not able to assign the Physics to any pores or throats.  We'll add these associations manually below:"
   ]
  },
  {
   "cell_type": "code",
   "execution_count": 11,
   "id": "0fed7b9f",
   "metadata": {
    "execution": {
     "iopub.execute_input": "2022-04-20T03:07:34.925242Z",
     "iopub.status.busy": "2022-04-20T03:07:34.924790Z",
     "iopub.status.idle": "2022-04-20T03:07:34.931894Z",
     "shell.execute_reply": "2022-04-20T03:07:34.931391Z"
    }
   },
   "outputs": [
    {
     "name": "stderr",
     "output_type": "stream",
     "text": [
      "------------------------------------------------------------\n",
      "    WARNING    : No Geometry provided, phys_01 will not be associated with any locations \n",
      "    SOURCE     : openpnm.physics._generic.__init__ \n",
      "    TIME STAMP : 2022-04-20 03:07:34,926    \n",
      "------------------------------------------------------------\n"
     ]
    },
    {
     "name": "stderr",
     "output_type": "stream",
     "text": [
      "------------------------------------------------------------\n",
      "    WARNING    : No Geometry provided, phys_02 will not be associated with any locations \n",
      "    SOURCE     : openpnm.physics._generic.__init__ \n",
      "    TIME STAMP : 2022-04-20 03:07:34,929    \n",
      "------------------------------------------------------------\n"
     ]
    }
   ],
   "source": [
    "phys1 = op.physics.GenericPhysics(network=pn)\n",
    "phys2 = op.physics.GenericPhysics(network=pn)"
   ]
  },
  {
   "cell_type": "markdown",
   "id": "5d668656",
   "metadata": {},
   "source": [
    "Physics objects have a ``phase`` attribute that points to the Phase with which it is currently associated.  Because we did not provide one when initializing ``phys1`` and ``phys2`` this will raise an exception:"
   ]
  },
  {
   "cell_type": "code",
   "execution_count": 12,
   "id": "f3deb770",
   "metadata": {
    "execution": {
     "iopub.execute_input": "2022-04-20T03:07:34.934398Z",
     "iopub.status.busy": "2022-04-20T03:07:34.934225Z",
     "iopub.status.idle": "2022-04-20T03:07:34.939254Z",
     "shell.execute_reply": "2022-04-20T03:07:34.938749Z"
    }
   },
   "outputs": [
    {
     "name": "stdout",
     "output_type": "stream",
     "text": [
      "Cannot find a phase associated with phys_01\n"
     ]
    }
   ],
   "source": [
    "try:\n",
    "    phys1.phase\n",
    "except Exception as e:\n",
    "    print(e)"
   ]
  },
  {
   "cell_type": "markdown",
   "id": "df2bf8ba",
   "metadata": {},
   "source": [
    "We can assign a ``air`` to ``phys1`` as follows, after which we can retrieve it using the ``phase`` attribute:"
   ]
  },
  {
   "cell_type": "code",
   "execution_count": 13,
   "id": "893199e8",
   "metadata": {
    "execution": {
     "iopub.execute_input": "2022-04-20T03:07:34.941904Z",
     "iopub.status.busy": "2022-04-20T03:07:34.941622Z",
     "iopub.status.idle": "2022-04-20T03:07:34.956657Z",
     "shell.execute_reply": "2022-04-20T03:07:34.956160Z"
    }
   },
   "outputs": [
    {
     "ename": "NameError",
     "evalue": "name 'air' is not defined",
     "output_type": "error",
     "traceback": [
      "\u001b[0;31m---------------------------------------------------------------------------\u001b[0m",
      "\u001b[0;31mNameError\u001b[0m                                 Traceback (most recent call last)",
      "Input \u001b[0;32mIn [13]\u001b[0m, in \u001b[0;36m<cell line: 1>\u001b[0;34m()\u001b[0m\n\u001b[0;32m----> 1\u001b[0m phys1\u001b[38;5;241m.\u001b[39mphase \u001b[38;5;241m=\u001b[39m \u001b[43mair\u001b[49m\n\u001b[1;32m      2\u001b[0m \u001b[38;5;28mprint\u001b[39m(phys1\u001b[38;5;241m.\u001b[39mphase\u001b[38;5;241m.\u001b[39mname)\n",
      "\u001b[0;31mNameError\u001b[0m: name 'air' is not defined"
     ]
    }
   ],
   "source": [
    "phys1.phase = air\n",
    "print(phys1.phase.name)"
   ]
  },
  {
   "cell_type": "markdown",
   "id": "d1eaa4f2",
   "metadata": {},
   "source": [
    "Physics objects also have ``geometry`` attribute which acts just like ``phase``.  We have not yet associated ``phys1`` with any locations so it will raise an error:"
   ]
  },
  {
   "cell_type": "code",
   "execution_count": 14,
   "id": "eb5c2baf",
   "metadata": {
    "execution": {
     "iopub.execute_input": "2022-04-20T03:07:34.959728Z",
     "iopub.status.busy": "2022-04-20T03:07:34.959459Z",
     "iopub.status.idle": "2022-04-20T03:07:34.964291Z",
     "shell.execute_reply": "2022-04-20T03:07:34.963821Z"
    }
   },
   "outputs": [
    {
     "name": "stdout",
     "output_type": "stream",
     "text": [
      "Cannot find a geometry associated with phys_01\n"
     ]
    }
   ],
   "source": [
    "try:\n",
    "    phys1.geometry\n",
    "except Exception as e:\n",
    "    print(e)"
   ]
  },
  {
   "cell_type": "markdown",
   "id": "ce6e8f63",
   "metadata": {},
   "source": [
    "We can assign a Geometry in the same manner as we did for Phase above.  This will connect ``phys1`` with the locations corresponding to ``geo1``:"
   ]
  },
  {
   "cell_type": "code",
   "execution_count": 15,
   "id": "7d3072a1",
   "metadata": {
    "execution": {
     "iopub.execute_input": "2022-04-20T03:07:34.966710Z",
     "iopub.status.busy": "2022-04-20T03:07:34.966538Z",
     "iopub.status.idle": "2022-04-20T03:07:35.186223Z",
     "shell.execute_reply": "2022-04-20T03:07:35.185482Z"
    }
   },
   "outputs": [
    {
     "ename": "Exception",
     "evalue": "Cannot set locations for a physics object that is not associated with a phase",
     "output_type": "error",
     "traceback": [
      "\u001b[0;31m---------------------------------------------------------------------------\u001b[0m",
      "\u001b[0;31mException\u001b[0m                                 Traceback (most recent call last)",
      "File \u001b[0;32m~/work/OpenPNM/OpenPNM/openpnm/physics/_generic.py:188\u001b[0m, in \u001b[0;36mGenericPhysics.set_geometry\u001b[0;34m(self, geometry, mode)\u001b[0m\n\u001b[1;32m    187\u001b[0m \u001b[38;5;28;01mtry\u001b[39;00m:\n\u001b[0;32m--> 188\u001b[0m     phase \u001b[38;5;241m=\u001b[39m \u001b[38;5;28;43mself\u001b[39;49m\u001b[38;5;241;43m.\u001b[39;49m\u001b[43mproject\u001b[49m\u001b[38;5;241;43m.\u001b[39;49m\u001b[43mfind_phase\u001b[49m\u001b[43m(\u001b[49m\u001b[38;5;28;43mself\u001b[39;49m\u001b[43m)\u001b[49m\n\u001b[1;32m    189\u001b[0m \u001b[38;5;28;01mexcept\u001b[39;00m \u001b[38;5;167;01mException\u001b[39;00m:\n",
      "File \u001b[0;32m~/work/OpenPNM/OpenPNM/openpnm/utils/_project.py:262\u001b[0m, in \u001b[0;36mProject.find_phase\u001b[0;34m(self, obj)\u001b[0m\n\u001b[1;32m    261\u001b[0m \u001b[38;5;66;03m# If all else fails, throw an exception\u001b[39;00m\n\u001b[0;32m--> 262\u001b[0m \u001b[38;5;28;01mraise\u001b[39;00m \u001b[38;5;167;01mException\u001b[39;00m(\u001b[38;5;124mf\u001b[39m\u001b[38;5;124m'\u001b[39m\u001b[38;5;124mCannot find a phase associated with \u001b[39m\u001b[38;5;132;01m{\u001b[39;00mobj\u001b[38;5;241m.\u001b[39mname\u001b[38;5;132;01m}\u001b[39;00m\u001b[38;5;124m'\u001b[39m)\n",
      "\u001b[0;31mException\u001b[0m: Cannot find a phase associated with phys_01",
      "\nDuring handling of the above exception, another exception occurred:\n",
      "\u001b[0;31mException\u001b[0m                                 Traceback (most recent call last)",
      "Input \u001b[0;32mIn [15]\u001b[0m, in \u001b[0;36m<cell line: 1>\u001b[0;34m()\u001b[0m\n\u001b[0;32m----> 1\u001b[0m phys1\u001b[38;5;241m.\u001b[39mgeometry \u001b[38;5;241m=\u001b[39m geo1\n\u001b[1;32m      2\u001b[0m \u001b[38;5;28mprint\u001b[39m(phys1\u001b[38;5;241m.\u001b[39mgeometry\u001b[38;5;241m.\u001b[39mname)\n\u001b[1;32m      3\u001b[0m \u001b[38;5;28mprint\u001b[39m(phys1\u001b[38;5;241m.\u001b[39mpores())\n",
      "File \u001b[0;32m~/work/OpenPNM/OpenPNM/openpnm/physics/_generic.py:145\u001b[0m, in \u001b[0;36mGenericPhysics._set_geo\u001b[0;34m(self, geo)\u001b[0m\n\u001b[1;32m    143\u001b[0m     \u001b[38;5;28mself\u001b[39m\u001b[38;5;241m.\u001b[39m_del_geo()\n\u001b[1;32m    144\u001b[0m     \u001b[38;5;28;01mreturn\u001b[39;00m\n\u001b[0;32m--> 145\u001b[0m \u001b[38;5;28;43mself\u001b[39;49m\u001b[38;5;241;43m.\u001b[39;49m\u001b[43mset_geometry\u001b[49m\u001b[43m(\u001b[49m\u001b[43mgeo\u001b[49m\u001b[43m,\u001b[49m\u001b[43m \u001b[49m\u001b[43mmode\u001b[49m\u001b[38;5;241;43m=\u001b[39;49m\u001b[38;5;124;43m'\u001b[39;49m\u001b[38;5;124;43madd\u001b[39;49m\u001b[38;5;124;43m'\u001b[39;49m\u001b[43m)\u001b[49m\n",
      "File \u001b[0;32m~/work/OpenPNM/OpenPNM/openpnm/physics/_generic.py:190\u001b[0m, in \u001b[0;36mGenericPhysics.set_geometry\u001b[0;34m(self, geometry, mode)\u001b[0m\n\u001b[1;32m    188\u001b[0m     phase \u001b[38;5;241m=\u001b[39m \u001b[38;5;28mself\u001b[39m\u001b[38;5;241m.\u001b[39mproject\u001b[38;5;241m.\u001b[39mfind_phase(\u001b[38;5;28mself\u001b[39m)\n\u001b[1;32m    189\u001b[0m \u001b[38;5;28;01mexcept\u001b[39;00m \u001b[38;5;167;01mException\u001b[39;00m:\n\u001b[0;32m--> 190\u001b[0m     \u001b[38;5;28;01mraise\u001b[39;00m \u001b[38;5;167;01mException\u001b[39;00m(\u001b[38;5;124m\"\u001b[39m\u001b[38;5;124mCannot set locations for a physics object\u001b[39m\u001b[38;5;124m\"\u001b[39m \u001b[38;5;241m+\u001b[39m\n\u001b[1;32m    191\u001b[0m                     \u001b[38;5;124m\"\u001b[39m\u001b[38;5;124m that is not associated with a phase\u001b[39m\u001b[38;5;124m\"\u001b[39m)\n\u001b[1;32m    193\u001b[0m \u001b[38;5;28;01mif\u001b[39;00m (geometry \u001b[38;5;129;01mis\u001b[39;00m \u001b[38;5;129;01mnot\u001b[39;00m \u001b[38;5;28;01mNone\u001b[39;00m) \u001b[38;5;129;01mand\u001b[39;00m (geometry \u001b[38;5;129;01mnot\u001b[39;00m \u001b[38;5;129;01min\u001b[39;00m \u001b[38;5;28mself\u001b[39m\u001b[38;5;241m.\u001b[39mproject):\n\u001b[1;32m    194\u001b[0m     \u001b[38;5;28;01mraise\u001b[39;00m \u001b[38;5;167;01mException\u001b[39;00m(\u001b[38;5;28mself\u001b[39m\u001b[38;5;241m.\u001b[39mname \u001b[38;5;241m+\u001b[39m \u001b[38;5;124m'\u001b[39m\u001b[38;5;124m not in same project as given geometry\u001b[39m\u001b[38;5;124m'\u001b[39m)\n",
      "\u001b[0;31mException\u001b[0m: Cannot set locations for a physics object that is not associated with a phase"
     ]
    }
   ],
   "source": [
    "phys1.geometry = geo1\n",
    "print(phys1.geometry.name)\n",
    "print(phys1.pores())"
   ]
  },
  {
   "cell_type": "code",
   "execution_count": 16,
   "id": "fab52a98",
   "metadata": {
    "execution": {
     "iopub.execute_input": "2022-04-20T03:07:35.189475Z",
     "iopub.status.busy": "2022-04-20T03:07:35.189253Z",
     "iopub.status.idle": "2022-04-20T03:07:35.195568Z",
     "shell.execute_reply": "2022-04-20T03:07:35.195087Z"
    }
   },
   "outputs": [
    {
     "data": {
      "text/plain": [
       "0"
      ]
     },
     "execution_count": 16,
     "metadata": {},
     "output_type": "execute_result"
    }
   ],
   "source": [
    "phys1.Np"
   ]
  },
  {
   "cell_type": "code",
   "execution_count": 17,
   "id": "7909a79d",
   "metadata": {
    "execution": {
     "iopub.execute_input": "2022-04-20T03:07:35.198583Z",
     "iopub.status.busy": "2022-04-20T03:07:35.198090Z",
     "iopub.status.idle": "2022-04-20T03:07:35.203398Z",
     "shell.execute_reply": "2022-04-20T03:07:35.202896Z"
    }
   },
   "outputs": [
    {
     "name": "stdout",
     "output_type": "stream",
     "text": [
      "Cannot set locations for a physics object that is not associated with a phase\n"
     ]
    }
   ],
   "source": [
    "try:\n",
    "    phys2.geometry = geo2\n",
    "except Exception as e:\n",
    "    print(e)"
   ]
  },
  {
   "cell_type": "code",
   "execution_count": 18,
   "id": "dd54e94c",
   "metadata": {
    "execution": {
     "iopub.execute_input": "2022-04-20T03:07:35.206359Z",
     "iopub.status.busy": "2022-04-20T03:07:35.205897Z",
     "iopub.status.idle": "2022-04-20T03:07:35.211837Z",
     "shell.execute_reply": "2022-04-20T03:07:35.211304Z"
    }
   },
   "outputs": [
    {
     "name": "stdout",
     "output_type": "stream",
     "text": [
      "+--------+---------+---------+\n",
      "| net_01 | ?       | ??      |\n",
      "+--------+---------+---------+\n",
      "| geo_01 | ---     | ---     |\n",
      "| geo_02 | ---     | ---     |\n",
      "| ?      | phys_01 | ---     |\n",
      "| ??     | ---     | phys_02 |\n",
      "| ---    | ---     | ---     |\n",
      "+--------+---------+---------+\n"
     ]
    }
   ],
   "source": [
    "proj = pn.project\n",
    "print(proj.grid)"
   ]
  },
  {
   "cell_type": "markdown",
   "id": "56c3926f",
   "metadata": {},
   "source": [
    "This shows that *phys_02* resides in the ? column indicating that it is not associated with a phase, and it resides in the ? row indicating it is not associated with a geometry either. Let's fix this below."
   ]
  },
  {
   "cell_type": "code",
   "execution_count": 19,
   "id": "db59de35",
   "metadata": {
    "execution": {
     "iopub.execute_input": "2022-04-20T03:07:35.214724Z",
     "iopub.status.busy": "2022-04-20T03:07:35.214447Z",
     "iopub.status.idle": "2022-04-20T03:07:35.230347Z",
     "shell.execute_reply": "2022-04-20T03:07:35.229823Z"
    }
   },
   "outputs": [
    {
     "ename": "NameError",
     "evalue": "name 'air' is not defined",
     "output_type": "error",
     "traceback": [
      "\u001b[0;31m---------------------------------------------------------------------------\u001b[0m",
      "\u001b[0;31mNameError\u001b[0m                                 Traceback (most recent call last)",
      "Input \u001b[0;32mIn [19]\u001b[0m, in \u001b[0;36m<cell line: 1>\u001b[0;34m()\u001b[0m\n\u001b[0;32m----> 1\u001b[0m phys2\u001b[38;5;241m.\u001b[39mphase \u001b[38;5;241m=\u001b[39m \u001b[43mair\u001b[49m\n\u001b[1;32m      2\u001b[0m phys2\u001b[38;5;241m.\u001b[39mgeometry \u001b[38;5;241m=\u001b[39m geo2\n",
      "\u001b[0;31mNameError\u001b[0m: name 'air' is not defined"
     ]
    }
   ],
   "source": [
    "phys2.phase = air\n",
    "phys2.geometry = geo2"
   ]
  },
  {
   "cell_type": "code",
   "execution_count": 20,
   "id": "c31e1697",
   "metadata": {
    "execution": {
     "iopub.execute_input": "2022-04-20T03:07:35.234047Z",
     "iopub.status.busy": "2022-04-20T03:07:35.233644Z",
     "iopub.status.idle": "2022-04-20T03:07:35.239288Z",
     "shell.execute_reply": "2022-04-20T03:07:35.238569Z"
    }
   },
   "outputs": [
    {
     "name": "stdout",
     "output_type": "stream",
     "text": [
      "+--------+---------+---------+\n",
      "| net_01 | ?       | ??      |\n",
      "+--------+---------+---------+\n",
      "| geo_01 | ---     | ---     |\n",
      "| geo_02 | ---     | ---     |\n",
      "| ?      | phys_01 | ---     |\n",
      "| ??     | ---     | phys_02 |\n",
      "| ---    | ---     | ---     |\n",
      "+--------+---------+---------+\n"
     ]
    }
   ],
   "source": [
    "print(pn.project.grid)"
   ]
  },
  {
   "cell_type": "markdown",
   "id": "2a0262be",
   "metadata": {},
   "source": [
    "Now we can see that *phys_02* is associated with *geo_02* and *air*.  We can also see there are some locations, either pores or throats, that are not yet associated with a geometry object, as indicated by *---* in the first column.  This is because we did not assign any throats to a Geometry yet.  Let's fix this below:"
   ]
  },
  {
   "cell_type": "code",
   "execution_count": 21,
   "id": "d281295e",
   "metadata": {
    "execution": {
     "iopub.execute_input": "2022-04-20T03:07:35.242094Z",
     "iopub.status.busy": "2022-04-20T03:07:35.241704Z",
     "iopub.status.idle": "2022-04-20T03:07:35.247343Z",
     "shell.execute_reply": "2022-04-20T03:07:35.246818Z"
    }
   },
   "outputs": [],
   "source": [
    "geo3 = op.geometry.GenericGeometry(network=pn, throats=range(12))"
   ]
  },
  {
   "cell_type": "code",
   "execution_count": 22,
   "id": "9124bafb",
   "metadata": {
    "execution": {
     "iopub.execute_input": "2022-04-20T03:07:35.250054Z",
     "iopub.status.busy": "2022-04-20T03:07:35.249617Z",
     "iopub.status.idle": "2022-04-20T03:07:35.254730Z",
     "shell.execute_reply": "2022-04-20T03:07:35.254294Z"
    }
   },
   "outputs": [
    {
     "name": "stdout",
     "output_type": "stream",
     "text": [
      "+--------+---------+---------+\n",
      "| net_01 | ?       | ??      |\n",
      "+--------+---------+---------+\n",
      "| geo_01 | ---     | ---     |\n",
      "| geo_02 | ---     | ---     |\n",
      "| geo_03 | ---     | ---     |\n",
      "| ?      | phys_01 | ---     |\n",
      "| ??     | ---     | phys_02 |\n",
      "| ---    | ---     | ---     |\n",
      "+--------+---------+---------+\n"
     ]
    }
   ],
   "source": [
    "print(pn.project.grid)"
   ]
  },
  {
   "cell_type": "markdown",
   "id": "8c5d9e09",
   "metadata": {},
   "source": [
    "Note that we only assigned 12 throats to ``geo3``, but there were 24 throats in the network. We can either create yet another Geometry, or we can use the ``set_locations`` method:"
   ]
  },
  {
   "cell_type": "code",
   "execution_count": 23,
   "id": "2e3cc25a",
   "metadata": {
    "execution": {
     "iopub.execute_input": "2022-04-20T03:07:35.257469Z",
     "iopub.status.busy": "2022-04-20T03:07:35.257026Z",
     "iopub.status.idle": "2022-04-20T03:07:35.262114Z",
     "shell.execute_reply": "2022-04-20T03:07:35.261602Z"
    }
   },
   "outputs": [],
   "source": [
    "geo3.set_locations(throats=range(12, 24))"
   ]
  },
  {
   "cell_type": "code",
   "execution_count": 24,
   "id": "c931afe2",
   "metadata": {
    "execution": {
     "iopub.execute_input": "2022-04-20T03:07:35.264995Z",
     "iopub.status.busy": "2022-04-20T03:07:35.264456Z",
     "iopub.status.idle": "2022-04-20T03:07:35.270574Z",
     "shell.execute_reply": "2022-04-20T03:07:35.270066Z"
    }
   },
   "outputs": [
    {
     "name": "stdout",
     "output_type": "stream",
     "text": [
      "+--------+---------+---------+\n",
      "| net_01 | ?       | ??      |\n",
      "+--------+---------+---------+\n",
      "| geo_01 | ---     | ---     |\n",
      "| geo_02 | ---     | ---     |\n",
      "| geo_03 | ---     | ---     |\n",
      "| ?      | phys_01 | ---     |\n",
      "| ??     | ---     | phys_02 |\n",
      "+--------+---------+---------+\n"
     ]
    }
   ],
   "source": [
    "print(pn.project.grid)"
   ]
  },
  {
   "cell_type": "markdown",
   "id": "dc1fd305",
   "metadata": {},
   "source": [
    "Now we can see that all locations are assigned to a Geometry, indicated by the lack of any rows in the first column containing *---*.  We still need to create a Physics object for these throats.  \n",
    "\n",
    "Again, let's not assign it to the throats during instantiation and do it manually afterward. But we will include a Phase:"
   ]
  },
  {
   "cell_type": "code",
   "execution_count": 25,
   "id": "06b85d72",
   "metadata": {
    "execution": {
     "iopub.execute_input": "2022-04-20T03:07:35.273385Z",
     "iopub.status.busy": "2022-04-20T03:07:35.273065Z",
     "iopub.status.idle": "2022-04-20T03:07:35.289717Z",
     "shell.execute_reply": "2022-04-20T03:07:35.289164Z"
    }
   },
   "outputs": [
    {
     "ename": "NameError",
     "evalue": "name 'air' is not defined",
     "output_type": "error",
     "traceback": [
      "\u001b[0;31m---------------------------------------------------------------------------\u001b[0m",
      "\u001b[0;31mNameError\u001b[0m                                 Traceback (most recent call last)",
      "Input \u001b[0;32mIn [25]\u001b[0m, in \u001b[0;36m<cell line: 1>\u001b[0;34m()\u001b[0m\n\u001b[0;32m----> 1\u001b[0m phys3 \u001b[38;5;241m=\u001b[39m op\u001b[38;5;241m.\u001b[39mphysics\u001b[38;5;241m.\u001b[39mGenericPhysics(network\u001b[38;5;241m=\u001b[39mpn, phase\u001b[38;5;241m=\u001b[39m\u001b[43mair\u001b[49m)\n",
      "\u001b[0;31mNameError\u001b[0m: name 'air' is not defined"
     ]
    }
   ],
   "source": [
    "phys3 = op.physics.GenericPhysics(network=pn, phase=air)"
   ]
  },
  {
   "cell_type": "code",
   "execution_count": 26,
   "id": "19af93cf",
   "metadata": {
    "execution": {
     "iopub.execute_input": "2022-04-20T03:07:35.292765Z",
     "iopub.status.busy": "2022-04-20T03:07:35.292291Z",
     "iopub.status.idle": "2022-04-20T03:07:35.298498Z",
     "shell.execute_reply": "2022-04-20T03:07:35.297981Z"
    }
   },
   "outputs": [
    {
     "name": "stdout",
     "output_type": "stream",
     "text": [
      "+--------+---------+---------+\n",
      "| net_01 | ?       | ??      |\n",
      "+--------+---------+---------+\n",
      "| geo_01 | ---     | ---     |\n",
      "| geo_02 | ---     | ---     |\n",
      "| geo_03 | ---     | ---     |\n",
      "| ?      | phys_01 | ---     |\n",
      "| ??     | ---     | phys_02 |\n",
      "+--------+---------+---------+\n"
     ]
    }
   ],
   "source": [
    "print(pn.project.grid)"
   ]
  },
  {
   "cell_type": "markdown",
   "id": "3334f6af",
   "metadata": {},
   "source": [
    "Because we included a Phase, this new Physics is in the appropriate column, but is in a *?* row since it is not yet associated with a Geometry. Instead of using the ``geometry`` attribute as we did above, let's use the ``set_geometry`` method, which is actually called behind the scenes when using the ``geometry`` attribute:"
   ]
  },
  {
   "cell_type": "code",
   "execution_count": 27,
   "id": "d2f553a8",
   "metadata": {
    "execution": {
     "iopub.execute_input": "2022-04-20T03:07:35.301386Z",
     "iopub.status.busy": "2022-04-20T03:07:35.301075Z",
     "iopub.status.idle": "2022-04-20T03:07:35.316064Z",
     "shell.execute_reply": "2022-04-20T03:07:35.315575Z"
    }
   },
   "outputs": [
    {
     "ename": "NameError",
     "evalue": "name 'phys3' is not defined",
     "output_type": "error",
     "traceback": [
      "\u001b[0;31m---------------------------------------------------------------------------\u001b[0m",
      "\u001b[0;31mNameError\u001b[0m                                 Traceback (most recent call last)",
      "Input \u001b[0;32mIn [27]\u001b[0m, in \u001b[0;36m<cell line: 1>\u001b[0;34m()\u001b[0m\n\u001b[0;32m----> 1\u001b[0m \u001b[43mphys3\u001b[49m\u001b[38;5;241m.\u001b[39mset_geometry(geo3)\n",
      "\u001b[0;31mNameError\u001b[0m: name 'phys3' is not defined"
     ]
    }
   ],
   "source": [
    "phys3.set_geometry(geo3)"
   ]
  },
  {
   "cell_type": "markdown",
   "id": "4d30a0c4",
   "metadata": {},
   "source": [
    "Now we can print the project's grid and see that everything is looking good:"
   ]
  },
  {
   "cell_type": "code",
   "execution_count": 28,
   "id": "007d5b9b",
   "metadata": {
    "execution": {
     "iopub.execute_input": "2022-04-20T03:07:35.318764Z",
     "iopub.status.busy": "2022-04-20T03:07:35.318446Z",
     "iopub.status.idle": "2022-04-20T03:07:35.322634Z",
     "shell.execute_reply": "2022-04-20T03:07:35.322244Z"
    }
   },
   "outputs": [
    {
     "name": "stdout",
     "output_type": "stream",
     "text": [
      "+--------+---------+---------+\n",
      "| net_01 | ?       | ??      |\n",
      "+--------+---------+---------+\n",
      "| geo_01 | ---     | ---     |\n",
      "| geo_02 | ---     | ---     |\n",
      "| geo_03 | ---     | ---     |\n",
      "| ?      | phys_01 | ---     |\n",
      "| ??     | ---     | phys_02 |\n",
      "+--------+---------+---------+\n"
     ]
    }
   ],
   "source": [
    "print(pn.project.grid)"
   ]
  }
 ],
 "metadata": {
  "kernelspec": {
   "display_name": "Python 3",
   "language": "python",
   "name": "python3"
  },
  "language_info": {
   "codemirror_mode": {
    "name": "ipython",
    "version": 3
   },
   "file_extension": ".py",
   "mimetype": "text/x-python",
   "name": "python",
   "nbconvert_exporter": "python",
   "pygments_lexer": "ipython3",
   "version": "3.8.13"
  }
 },
 "nbformat": 4,
 "nbformat_minor": 5
}
