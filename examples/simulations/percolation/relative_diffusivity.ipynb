{
 "cells": [
  {
   "cell_type": "markdown",
   "metadata": {},
   "source": [
    "# Relative Diffusivity\n",
    "\n",
    "## Generating the Network, adding Geometry and creating Phases\n",
    "\n",
    "This example is about calculation of relative diffusivity of phases in a multiphase transport. The term **relative** indicates the existence of another phase in the medium. The concept of relative property (permeability) in multiphase transport was applied in __[relative permeability example](https://github.com/PMEAL/OpenPNM/tree/examples_galore/examples/notebooks/algorithms/multiphase)__ for a flow problem. In this example the transport mechanism is defined as diffusion. Start by importing OpenPNM and some other useful packages:"
   ]
  },
  {
   "cell_type": "code",
   "execution_count": 1,
   "metadata": {
    "execution": {
     "iopub.execute_input": "2022-04-20T03:12:26.606779Z",
     "iopub.status.busy": "2022-04-20T03:12:26.606406Z",
     "iopub.status.idle": "2022-04-20T03:12:28.383543Z",
     "shell.execute_reply": "2022-04-20T03:12:28.382747Z"
    }
   },
   "outputs": [],
   "source": [
    "import numpy as np\n",
    "import openpnm as op\n",
    "%config InlineBackend.figure_formats = ['svg']\n",
    "import matplotlib.pyplot as plt\n",
    "%matplotlib inline\n",
    "ws = op.Workspace()\n",
    "np.random.seed(10)\n",
    "ws.settings[\"loglevel\"] = 40\n",
    "np.set_printoptions(precision=5)"
   ]
  },
  {
   "cell_type": "markdown",
   "metadata": {},
   "source": [
    "Next create a **Network** object with a cubic topology and lattice spacing of 25 microns and add boundary pores. A ``SpheresAndCylinders`` **Geometry** is then assgined to the network. This class applies randomly distributed pore and throat sizes to the internal pores. Note that based on the specific problem you can assign a separate geometry to boundary pores as well. The ``Boundary`` class is suitable for boundary pores because of its predifined properties for boundaries such as 0 volume and length. Once the geometry is defined, we then create two phases of ``air`` and ``water``."
   ]
  },
  {
   "cell_type": "code",
   "execution_count": 2,
   "metadata": {
    "execution": {
     "iopub.execute_input": "2022-04-20T03:12:28.387722Z",
     "iopub.status.busy": "2022-04-20T03:12:28.387536Z",
     "iopub.status.idle": "2022-04-20T03:12:29.037719Z",
     "shell.execute_reply": "2022-04-20T03:12:29.036767Z"
    }
   },
   "outputs": [
    {
     "ename": "AttributeError",
     "evalue": "module 'openpnm' has no attribute 'phases'",
     "output_type": "error",
     "traceback": [
      "\u001b[0;31m---------------------------------------------------------------------------\u001b[0m",
      "\u001b[0;31mAttributeError\u001b[0m                            Traceback (most recent call last)",
      "Input \u001b[0;32mIn [2]\u001b[0m, in \u001b[0;36m<cell line: 3>\u001b[0;34m()\u001b[0m\n\u001b[1;32m      1\u001b[0m pn \u001b[38;5;241m=\u001b[39m op\u001b[38;5;241m.\u001b[39mnetwork\u001b[38;5;241m.\u001b[39mCubic(shape\u001b[38;5;241m=\u001b[39m[\u001b[38;5;241m20\u001b[39m, \u001b[38;5;241m20\u001b[39m, \u001b[38;5;241m20\u001b[39m], spacing\u001b[38;5;241m=\u001b[39m\u001b[38;5;241m25e-6\u001b[39m)\n\u001b[1;32m      2\u001b[0m geom \u001b[38;5;241m=\u001b[39m op\u001b[38;5;241m.\u001b[39mgeometry\u001b[38;5;241m.\u001b[39mSpheresAndCylinders(network\u001b[38;5;241m=\u001b[39mpn, pores\u001b[38;5;241m=\u001b[39mpn\u001b[38;5;241m.\u001b[39mPs, throats\u001b[38;5;241m=\u001b[39mpn\u001b[38;5;241m.\u001b[39mTs)\n\u001b[0;32m----> 3\u001b[0m air \u001b[38;5;241m=\u001b[39m \u001b[43mop\u001b[49m\u001b[38;5;241;43m.\u001b[39;49m\u001b[43mphases\u001b[49m\u001b[38;5;241m.\u001b[39mAir(network\u001b[38;5;241m=\u001b[39mpn, name\u001b[38;5;241m=\u001b[39m\u001b[38;5;124m'\u001b[39m\u001b[38;5;124mair\u001b[39m\u001b[38;5;124m'\u001b[39m)\n\u001b[1;32m      4\u001b[0m water \u001b[38;5;241m=\u001b[39m op\u001b[38;5;241m.\u001b[39mphases\u001b[38;5;241m.\u001b[39mWater(network\u001b[38;5;241m=\u001b[39mpn, name\u001b[38;5;241m=\u001b[39m\u001b[38;5;124m'\u001b[39m\u001b[38;5;124mwater\u001b[39m\u001b[38;5;124m'\u001b[39m)\n",
      "\u001b[0;31mAttributeError\u001b[0m: module 'openpnm' has no attribute 'phases'"
     ]
    }
   ],
   "source": [
    "pn = op.network.Cubic(shape=[20, 20, 20], spacing=25e-6)\n",
    "geom = op.geometry.SpheresAndCylinders(network=pn, pores=pn.Ps, throats=pn.Ts)\n",
    "air = op.phases.Air(network=pn, name='air')\n",
    "water = op.phases.Water(network=pn, name='water')"
   ]
  },
  {
   "cell_type": "markdown",
   "metadata": {},
   "source": [
    "## Define the Pore-Scale Physics\n",
    "\n",
    "For this simulation the **Standard** physics object can be used as it contains capillary pressure for use in the percolation algorithm and diffusive conductance for use in the ``FickianDiffusion`` algorithm."
   ]
  },
  {
   "cell_type": "code",
   "execution_count": 3,
   "metadata": {
    "execution": {
     "iopub.execute_input": "2022-04-20T03:12:29.041996Z",
     "iopub.status.busy": "2022-04-20T03:12:29.041813Z",
     "iopub.status.idle": "2022-04-20T03:12:29.057367Z",
     "shell.execute_reply": "2022-04-20T03:12:29.056665Z"
    }
   },
   "outputs": [
    {
     "ename": "NameError",
     "evalue": "name 'air' is not defined",
     "output_type": "error",
     "traceback": [
      "\u001b[0;31m---------------------------------------------------------------------------\u001b[0m",
      "\u001b[0;31mNameError\u001b[0m                                 Traceback (most recent call last)",
      "Input \u001b[0;32mIn [3]\u001b[0m, in \u001b[0;36m<cell line: 1>\u001b[0;34m()\u001b[0m\n\u001b[0;32m----> 1\u001b[0m phys_air \u001b[38;5;241m=\u001b[39m op\u001b[38;5;241m.\u001b[39mphysics\u001b[38;5;241m.\u001b[39mStandard(network\u001b[38;5;241m=\u001b[39mpn, phase\u001b[38;5;241m=\u001b[39m\u001b[43mair\u001b[49m, geometry\u001b[38;5;241m=\u001b[39mgeom)\n\u001b[1;32m      2\u001b[0m phys_water \u001b[38;5;241m=\u001b[39m op\u001b[38;5;241m.\u001b[39mphysics\u001b[38;5;241m.\u001b[39mStandard(network\u001b[38;5;241m=\u001b[39mpn, phase\u001b[38;5;241m=\u001b[39mwater, geometry\u001b[38;5;241m=\u001b[39mgeom)\n",
      "\u001b[0;31mNameError\u001b[0m: name 'air' is not defined"
     ]
    }
   ],
   "source": [
    "phys_air = op.physics.Standard(network=pn, phase=air, geometry=geom)\n",
    "phys_water = op.physics.Standard(network=pn, phase=water, geometry=geom)"
   ]
  },
  {
   "cell_type": "markdown",
   "metadata": {},
   "source": [
    "## Set up and run the Percolation Algorithm\n",
    "In order to simulate a partially saturated material we first invade some non-wetting phase.  This will be accomplished using the ``InvasonPercolation`` or ``OrdinaryPercolation`` **Algorithm**. In both algorithms the invading phase invades the network based on the capillary pressure of the throats in the network. These two algorithms have difference in their percolation algorithm and results. The results that we are going to work with are the pores and throats occupancies and saturation of phases. These can be obtained from both methods. If we choose IP, occupancies can be directly extracted from the results for a saturation point. If we choose OP, occupancies and saturation can be extracted from the results for a capillary pressure point. Here, we choose OP algorithm to provide an example of how to work with OP results and saturation."
   ]
  },
  {
   "cell_type": "code",
   "execution_count": 4,
   "metadata": {
    "execution": {
     "iopub.execute_input": "2022-04-20T03:12:29.060925Z",
     "iopub.status.busy": "2022-04-20T03:12:29.060736Z",
     "iopub.status.idle": "2022-04-20T03:12:29.075748Z",
     "shell.execute_reply": "2022-04-20T03:12:29.075126Z"
    }
   },
   "outputs": [
    {
     "ename": "NameError",
     "evalue": "name 'water' is not defined",
     "output_type": "error",
     "traceback": [
      "\u001b[0;31m---------------------------------------------------------------------------\u001b[0m",
      "\u001b[0;31mNameError\u001b[0m                                 Traceback (most recent call last)",
      "Input \u001b[0;32mIn [4]\u001b[0m, in \u001b[0;36m<cell line: 1>\u001b[0;34m()\u001b[0m\n\u001b[0;32m----> 1\u001b[0m OP_1 \u001b[38;5;241m=\u001b[39m op\u001b[38;5;241m.\u001b[39malgorithms\u001b[38;5;241m.\u001b[39mOrdinaryPercolation(network\u001b[38;5;241m=\u001b[39mpn, phase\u001b[38;5;241m=\u001b[39m\u001b[43mwater\u001b[49m)\n\u001b[1;32m      2\u001b[0m OP_1\u001b[38;5;241m.\u001b[39mset_inlets(pn\u001b[38;5;241m.\u001b[39mpores(\u001b[38;5;124m'\u001b[39m\u001b[38;5;124mleft\u001b[39m\u001b[38;5;124m'\u001b[39m))\n\u001b[1;32m      3\u001b[0m OP_1\u001b[38;5;241m.\u001b[39mrun()\n",
      "\u001b[0;31mNameError\u001b[0m: name 'water' is not defined"
     ]
    }
   ],
   "source": [
    "OP_1 = op.algorithms.OrdinaryPercolation(network=pn, phase=water)\n",
    "OP_1.set_inlets(pn.pores('left'))\n",
    "OP_1.run()"
   ]
  },
  {
   "cell_type": "markdown",
   "metadata": {},
   "source": [
    "Note that the results of OP provides the array of occupancies (0 and 1) for the invading phase at a given capillary pressure. The air occupancies are then found as following:"
   ]
  },
  {
   "cell_type": "code",
   "execution_count": 5,
   "metadata": {
    "execution": {
     "iopub.execute_input": "2022-04-20T03:12:29.078693Z",
     "iopub.status.busy": "2022-04-20T03:12:29.078218Z",
     "iopub.status.idle": "2022-04-20T03:12:29.093945Z",
     "shell.execute_reply": "2022-04-20T03:12:29.093304Z"
    }
   },
   "outputs": [
    {
     "ename": "NameError",
     "evalue": "name 'water' is not defined",
     "output_type": "error",
     "traceback": [
      "\u001b[0;31m---------------------------------------------------------------------------\u001b[0m",
      "\u001b[0;31mNameError\u001b[0m                                 Traceback (most recent call last)",
      "Input \u001b[0;32mIn [5]\u001b[0m, in \u001b[0;36m<cell line: 1>\u001b[0;34m()\u001b[0m\n\u001b[0;32m----> 1\u001b[0m \u001b[43mwater\u001b[49m\u001b[38;5;241m.\u001b[39mupdate(OP_1\u001b[38;5;241m.\u001b[39mresults(Pc\u001b[38;5;241m=\u001b[39m\u001b[38;5;241m10000\u001b[39m))\n\u001b[1;32m      2\u001b[0m air[\u001b[38;5;124m'\u001b[39m\u001b[38;5;124mpore.occupancy\u001b[39m\u001b[38;5;124m'\u001b[39m] \u001b[38;5;241m=\u001b[39m \u001b[38;5;241m1\u001b[39m \u001b[38;5;241m-\u001b[39m water[\u001b[38;5;124m'\u001b[39m\u001b[38;5;124mpore.occupancy\u001b[39m\u001b[38;5;124m'\u001b[39m]\n\u001b[1;32m      3\u001b[0m air[\u001b[38;5;124m'\u001b[39m\u001b[38;5;124mthroat.occupancy\u001b[39m\u001b[38;5;124m'\u001b[39m] \u001b[38;5;241m=\u001b[39m \u001b[38;5;241m1\u001b[39m \u001b[38;5;241m-\u001b[39m water[\u001b[38;5;124m'\u001b[39m\u001b[38;5;124mthroat.occupancy\u001b[39m\u001b[38;5;124m'\u001b[39m]\n",
      "\u001b[0;31mNameError\u001b[0m: name 'water' is not defined"
     ]
    }
   ],
   "source": [
    "water.update(OP_1.results(Pc=10000))\n",
    "air['pore.occupancy'] = 1 - water['pore.occupancy']\n",
    "air['throat.occupancy'] = 1 - water['throat.occupancy']"
   ]
  },
  {
   "cell_type": "markdown",
   "metadata": {},
   "source": [
    "## Run a Fickian Diffusion Algorithm for each step of the invasion process\n",
    "\n",
    "We now need to model how the presence of the phases affects the diffusive conductivity of the network. Currently the **Physics** objects have a property called ``throat.diffusive_conductance`` but this model does not account for the occupancy of each phase and assumes that the phase occupies every pore-throat-pore conduit. OpenPNM has a number of multiphase models including a conduit conductance that multiplies the single phase conductance by a factor (default 0.000001) when the phase associated with the physics object is not present. The model has a mode which defaults to 'strict' which applies the conductivity reduction if any one of the connected pores or connecting throat is unoccupied."
   ]
  },
  {
   "cell_type": "code",
   "execution_count": 6,
   "metadata": {
    "execution": {
     "iopub.execute_input": "2022-04-20T03:12:29.097053Z",
     "iopub.status.busy": "2022-04-20T03:12:29.096740Z",
     "iopub.status.idle": "2022-04-20T03:12:29.114803Z",
     "shell.execute_reply": "2022-04-20T03:12:29.114214Z"
    }
   },
   "outputs": [
    {
     "ename": "NameError",
     "evalue": "name 'phys_air' is not defined",
     "output_type": "error",
     "traceback": [
      "\u001b[0;31m---------------------------------------------------------------------------\u001b[0m",
      "\u001b[0;31mNameError\u001b[0m                                 Traceback (most recent call last)",
      "Input \u001b[0;32mIn [6]\u001b[0m, in \u001b[0;36m<cell line: 2>\u001b[0;34m()\u001b[0m\n\u001b[1;32m      1\u001b[0m \u001b[38;5;28;01mimport\u001b[39;00m \u001b[38;5;21;01mopenpnm\u001b[39;00m\u001b[38;5;21;01m.\u001b[39;00m\u001b[38;5;21;01mmodels\u001b[39;00m\u001b[38;5;21;01m.\u001b[39;00m\u001b[38;5;21;01mphysics\u001b[39;00m \u001b[38;5;28;01mas\u001b[39;00m \u001b[38;5;21;01mpm\u001b[39;00m\n\u001b[0;32m----> 2\u001b[0m \u001b[43mphys_air\u001b[49m\u001b[38;5;241m.\u001b[39madd_model(model\u001b[38;5;241m=\u001b[39mpm\u001b[38;5;241m.\u001b[39mmultiphase\u001b[38;5;241m.\u001b[39mconduit_conductance,\n\u001b[1;32m      3\u001b[0m                    propname\u001b[38;5;241m=\u001b[39m\u001b[38;5;124m'\u001b[39m\u001b[38;5;124mthroat.conduit_diffusive_conductance\u001b[39m\u001b[38;5;124m'\u001b[39m,\n\u001b[1;32m      4\u001b[0m                    throat_conductance\u001b[38;5;241m=\u001b[39m\u001b[38;5;124m'\u001b[39m\u001b[38;5;124mthroat.diffusive_conductance\u001b[39m\u001b[38;5;124m'\u001b[39m)\n\u001b[1;32m      5\u001b[0m phys_water\u001b[38;5;241m.\u001b[39madd_model(model\u001b[38;5;241m=\u001b[39mpm\u001b[38;5;241m.\u001b[39mmultiphase\u001b[38;5;241m.\u001b[39mconduit_conductance,\n\u001b[1;32m      6\u001b[0m                      propname\u001b[38;5;241m=\u001b[39m\u001b[38;5;124m'\u001b[39m\u001b[38;5;124mthroat.conduit_diffusive_conductance\u001b[39m\u001b[38;5;124m'\u001b[39m,\n\u001b[1;32m      7\u001b[0m                      throat_conductance\u001b[38;5;241m=\u001b[39m\u001b[38;5;124m'\u001b[39m\u001b[38;5;124mthroat.diffusive_conductance\u001b[39m\u001b[38;5;124m'\u001b[39m)\n",
      "\u001b[0;31mNameError\u001b[0m: name 'phys_air' is not defined"
     ]
    }
   ],
   "source": [
    "import openpnm.models.physics as pm\n",
    "phys_air.add_model(model=pm.multiphase.conduit_conductance,\n",
    "                   propname='throat.conduit_diffusive_conductance',\n",
    "                   throat_conductance='throat.diffusive_conductance')\n",
    "phys_water.add_model(model=pm.multiphase.conduit_conductance,\n",
    "                     propname='throat.conduit_diffusive_conductance',\n",
    "                     throat_conductance='throat.diffusive_conductance')"
   ]
  },
  {
   "cell_type": "markdown",
   "metadata": {},
   "source": [
    "Now for each invasion step we cycle through the principle directions and create ``FickianDiffusion`` objects for each phase and calculate the effective diffusivity.  First we create some variables to store our data in for each principle direction (x, y, z). The boundary planes at each side of the domain are used as boundary pores for the Diffusion algorithm. The ```results``` method updates the two **Phase** objects with the occupancy at the given capillary pressure (Pc). The **Physics** objects are then regenerated to re-calculate the ```conduit_diffusive_conductance``` property. Note that for each pressure point, the saturation of a phase is found by ratio of the total volume of pores and throats that are occupied by that phase to the bulk volume of the network."
   ]
  },
  {
   "cell_type": "code",
   "execution_count": 7,
   "metadata": {
    "execution": {
     "iopub.execute_input": "2022-04-20T03:12:29.117646Z",
     "iopub.status.busy": "2022-04-20T03:12:29.117315Z",
     "iopub.status.idle": "2022-04-20T03:12:29.163153Z",
     "shell.execute_reply": "2022-04-20T03:12:29.162294Z"
    }
   },
   "outputs": [
    {
     "ename": "NameError",
     "evalue": "name 'OP_1' is not defined",
     "output_type": "error",
     "traceback": [
      "\u001b[0;31m---------------------------------------------------------------------------\u001b[0m",
      "\u001b[0;31mNameError\u001b[0m                                 Traceback (most recent call last)",
      "Input \u001b[0;32mIn [7]\u001b[0m, in \u001b[0;36m<cell line: 6>\u001b[0;34m()\u001b[0m\n\u001b[1;32m      4\u001b[0m sat\u001b[38;5;241m=\u001b[39m []\n\u001b[1;32m      5\u001b[0m tot_vol \u001b[38;5;241m=\u001b[39m np\u001b[38;5;241m.\u001b[39msum(pn[\u001b[38;5;124m\"\u001b[39m\u001b[38;5;124mpore.volume\u001b[39m\u001b[38;5;124m\"\u001b[39m]) \u001b[38;5;241m+\u001b[39m np\u001b[38;5;241m.\u001b[39msum(pn[\u001b[38;5;124m\"\u001b[39m\u001b[38;5;124mthroat.volume\u001b[39m\u001b[38;5;124m\"\u001b[39m])\n\u001b[0;32m----> 6\u001b[0m \u001b[38;5;28;01mfor\u001b[39;00m Pc \u001b[38;5;129;01min\u001b[39;00m np\u001b[38;5;241m.\u001b[39munique(\u001b[43mOP_1\u001b[49m[\u001b[38;5;124m'\u001b[39m\u001b[38;5;124mpore.invasion_pressure\u001b[39m\u001b[38;5;124m'\u001b[39m]):\n\u001b[1;32m      7\u001b[0m     water\u001b[38;5;241m.\u001b[39mupdate(OP_1\u001b[38;5;241m.\u001b[39mresults(Pc\u001b[38;5;241m=\u001b[39mPc))\n\u001b[1;32m      8\u001b[0m     air[\u001b[38;5;124m'\u001b[39m\u001b[38;5;124mpore.occupancy\u001b[39m\u001b[38;5;124m'\u001b[39m] \u001b[38;5;241m=\u001b[39m \u001b[38;5;241m1\u001b[39m \u001b[38;5;241m-\u001b[39m water[\u001b[38;5;124m'\u001b[39m\u001b[38;5;124mpore.occupancy\u001b[39m\u001b[38;5;124m'\u001b[39m]\n",
      "\u001b[0;31mNameError\u001b[0m: name 'OP_1' is not defined"
     ]
    }
   ],
   "source": [
    "bounds = [['front', 'back'], ['left', 'right'], ['top', 'bottom']]\n",
    "diff_air = {'0': [], '1': [], '2': []}\n",
    "diff_water = {'0': [], '1': [], '2': []}\n",
    "sat= []\n",
    "tot_vol = np.sum(pn[\"pore.volume\"]) + np.sum(pn[\"throat.volume\"])\n",
    "for Pc in np.unique(OP_1['pore.invasion_pressure']):\n",
    "    water.update(OP_1.results(Pc=Pc))\n",
    "    air['pore.occupancy'] = 1 - water['pore.occupancy']\n",
    "    air['throat.occupancy'] = 1 - water['throat.occupancy']\n",
    "    phys_air.regenerate_models()\n",
    "    phys_water.regenerate_models()\n",
    "    this_sat = 0\n",
    "    this_sat += np.sum(pn[\"pore.volume\"][water[\"pore.occupancy\"] == 1])\n",
    "    this_sat += np.sum(pn[\"throat.volume\"][water[\"throat.occupancy\"] == 1])\n",
    "    sat.append(this_sat)\n",
    "    for bound_increment in range(len(bounds)):\n",
    "        BC1_pores = pn.pores(labels=bounds[bound_increment][0])\n",
    "        BC2_pores = pn.pores(labels=bounds[bound_increment][1])\n",
    "        FD_1 = op.algorithms.FickianDiffusion(network=pn, phase=air)\n",
    "        FD_1.settings['conductance'] ='throat.conduit_diffusive_conductance'\n",
    "        FD_1.set_value_BC(values=0.6, pores=BC1_pores)\n",
    "        FD_1.set_value_BC(values=0.2, pores=BC2_pores)\n",
    "        FD_1.run()\n",
    "        R=FD_1.rate(pores=BC1_pores)\n",
    "        L=0.25e-3\n",
    "        A=2.5e-3\n",
    "        eff_diff = np.sum(R) * L / A / (0.6-0.2)\n",
    "        diff_air[str(bound_increment)].append(eff_diff)\n",
    "        FD_2 = op.algorithms.FickianDiffusion(network=pn, phase=water)\n",
    "        FD_2.settings['conductance'] ='throat.conduit_diffusive_conductance'\n",
    "        FD_2.set_value_BC(values=0.6, pores=BC1_pores)\n",
    "        FD_2.set_value_BC(values=0.2, pores=BC2_pores)\n",
    "        FD_2.run()\n",
    "        R=FD_2.rate(pores=BC1_pores)\n",
    "        eff_diff = np.sum(R) * L / A / (0.6-0.2)\n",
    "        diff_water[str(bound_increment)].append(eff_diff)\n",
    "        pn.project.purge_object(FD_1)\n",
    "        pn.project.purge_object(FD_2)"
   ]
  },
  {
   "cell_type": "markdown",
   "metadata": {},
   "source": [
    "## Plot the Relative Diffusivity Curves for each direction and Phase\n",
    "\n",
    "Now we convert the data to Numpy arrays for fast and easy plotting. The relative diffusivity values of each phase is the ratio of its effective diffusivity over its effective diffusivity for f"
   ]
  },
  {
   "cell_type": "code",
   "execution_count": 8,
   "metadata": {
    "execution": {
     "iopub.execute_input": "2022-04-20T03:12:29.166558Z",
     "iopub.status.busy": "2022-04-20T03:12:29.166063Z",
     "iopub.status.idle": "2022-04-20T03:12:29.187360Z",
     "shell.execute_reply": "2022-04-20T03:12:29.186832Z"
    }
   },
   "outputs": [
    {
     "ename": "IndexError",
     "evalue": "index 0 is out of bounds for axis 0 with size 0",
     "output_type": "error",
     "traceback": [
      "\u001b[0;31m---------------------------------------------------------------------------\u001b[0m",
      "\u001b[0;31mIndexError\u001b[0m                                Traceback (most recent call last)",
      "Input \u001b[0;32mIn [8]\u001b[0m, in \u001b[0;36m<cell line: 4>\u001b[0;34m()\u001b[0m\n\u001b[1;32m      2\u001b[0m sat \u001b[38;5;241m/\u001b[39m\u001b[38;5;241m=\u001b[39m tot_vol\n\u001b[1;32m      3\u001b[0m rel_diff_air_x    \u001b[38;5;241m=\u001b[39m  np\u001b[38;5;241m.\u001b[39masarray(diff_air[\u001b[38;5;124m'\u001b[39m\u001b[38;5;124m0\u001b[39m\u001b[38;5;124m'\u001b[39m])\n\u001b[0;32m----> 4\u001b[0m rel_diff_air_x   \u001b[38;5;241m/\u001b[39m\u001b[38;5;241m=\u001b[39m  \u001b[43mrel_diff_air_x\u001b[49m\u001b[43m[\u001b[49m\u001b[38;5;241;43m0\u001b[39;49m\u001b[43m]\u001b[49m\n\u001b[1;32m      5\u001b[0m rel_diff_air_y    \u001b[38;5;241m=\u001b[39m  np\u001b[38;5;241m.\u001b[39masarray(diff_air[\u001b[38;5;124m'\u001b[39m\u001b[38;5;124m1\u001b[39m\u001b[38;5;124m'\u001b[39m])\n\u001b[1;32m      6\u001b[0m rel_diff_air_y   \u001b[38;5;241m/\u001b[39m\u001b[38;5;241m=\u001b[39m  rel_diff_air_y[\u001b[38;5;241m0\u001b[39m]\n",
      "\u001b[0;31mIndexError\u001b[0m: index 0 is out of bounds for axis 0 with size 0"
     ]
    }
   ],
   "source": [
    "sat = np.asarray(sat)\n",
    "sat /= tot_vol\n",
    "rel_diff_air_x    =  np.asarray(diff_air['0'])\n",
    "rel_diff_air_x   /=  rel_diff_air_x[0]\n",
    "rel_diff_air_y    =  np.asarray(diff_air['1'])\n",
    "rel_diff_air_y   /=  rel_diff_air_y[0]\n",
    "rel_diff_air_z    =  np.asarray(diff_air['2'])\n",
    "rel_diff_air_z   /=  rel_diff_air_z[0]\n",
    "rel_diff_water_x  =  np.asarray(diff_water['0'])\n",
    "rel_diff_water_x /=  rel_diff_water_x[-1]\n",
    "rel_diff_water_y  =  np.asarray(diff_water['1'])\n",
    "rel_diff_water_y /=  rel_diff_water_y[-1]\n",
    "rel_diff_water_z  =  np.asarray(diff_water['2'])\n",
    "rel_diff_water_z /=  rel_diff_water_z[-1]"
   ]
  },
  {
   "cell_type": "markdown",
   "metadata": {},
   "source": [
    "Finally plot the relative diffusivity curves for both phases:"
   ]
  },
  {
   "cell_type": "code",
   "execution_count": 9,
   "metadata": {
    "execution": {
     "iopub.execute_input": "2022-04-20T03:12:29.190374Z",
     "iopub.status.busy": "2022-04-20T03:12:29.190101Z",
     "iopub.status.idle": "2022-04-20T03:12:29.300946Z",
     "shell.execute_reply": "2022-04-20T03:12:29.300472Z"
    }
   },
   "outputs": [
    {
     "ename": "NameError",
     "evalue": "name 'rel_diff_air_y' is not defined",
     "output_type": "error",
     "traceback": [
      "\u001b[0;31m---------------------------------------------------------------------------\u001b[0m",
      "\u001b[0;31mNameError\u001b[0m                                 Traceback (most recent call last)",
      "Input \u001b[0;32mIn [9]\u001b[0m, in \u001b[0;36m<cell line: 4>\u001b[0;34m()\u001b[0m\n\u001b[1;32m      2\u001b[0m ax \u001b[38;5;241m=\u001b[39m f\u001b[38;5;241m.\u001b[39madd_subplot(\u001b[38;5;241m111\u001b[39m)\n\u001b[1;32m      3\u001b[0m ax\u001b[38;5;241m.\u001b[39mplot(sat, rel_diff_air_x, \u001b[38;5;124m'\u001b[39m\u001b[38;5;124m^-r\u001b[39m\u001b[38;5;124m'\u001b[39m, label\u001b[38;5;241m=\u001b[39m\u001b[38;5;124m'\u001b[39m\u001b[38;5;124mDr_a_x\u001b[39m\u001b[38;5;124m'\u001b[39m)\n\u001b[0;32m----> 4\u001b[0m ax\u001b[38;5;241m.\u001b[39mplot(sat, \u001b[43mrel_diff_air_y\u001b[49m, \u001b[38;5;124m'\u001b[39m\u001b[38;5;124m^-g\u001b[39m\u001b[38;5;124m'\u001b[39m, label\u001b[38;5;241m=\u001b[39m\u001b[38;5;124m'\u001b[39m\u001b[38;5;124mDr_a_y\u001b[39m\u001b[38;5;124m'\u001b[39m)\n\u001b[1;32m      5\u001b[0m ax\u001b[38;5;241m.\u001b[39mplot(sat, rel_diff_air_z, \u001b[38;5;124m'\u001b[39m\u001b[38;5;124m^-b\u001b[39m\u001b[38;5;124m'\u001b[39m, label\u001b[38;5;241m=\u001b[39m\u001b[38;5;124m'\u001b[39m\u001b[38;5;124mDr_a_z\u001b[39m\u001b[38;5;124m'\u001b[39m)\n\u001b[1;32m      6\u001b[0m ax\u001b[38;5;241m.\u001b[39mplot(sat, rel_diff_water_x, \u001b[38;5;124m'\u001b[39m\u001b[38;5;124m*-r\u001b[39m\u001b[38;5;124m'\u001b[39m, label\u001b[38;5;241m=\u001b[39m\u001b[38;5;124m'\u001b[39m\u001b[38;5;124mDr_w_x\u001b[39m\u001b[38;5;124m'\u001b[39m)\n",
      "\u001b[0;31mNameError\u001b[0m: name 'rel_diff_air_y' is not defined"
     ]
    },
    {
     "data": {
      "image/svg+xml": [
       "<?xml version=\"1.0\" encoding=\"utf-8\" standalone=\"no\"?>\n",
       "<!DOCTYPE svg PUBLIC \"-//W3C//DTD SVG 1.1//EN\"\n",
       "  \"http://www.w3.org/Graphics/SVG/1.1/DTD/svg11.dtd\">\n",
       "<svg xmlns:xlink=\"http://www.w3.org/1999/xlink\" width=\"386.845312pt\" height=\"248.518125pt\" viewBox=\"0 0 386.845312 248.518125\" xmlns=\"http://www.w3.org/2000/svg\" version=\"1.1\">\n",
       " <metadata>\n",
       "  <rdf:RDF xmlns:dc=\"http://purl.org/dc/elements/1.1/\" xmlns:cc=\"http://creativecommons.org/ns#\" xmlns:rdf=\"http://www.w3.org/1999/02/22-rdf-syntax-ns#\">\n",
       "   <cc:Work>\n",
       "    <dc:type rdf:resource=\"http://purl.org/dc/dcmitype/StillImage\"/>\n",
       "    <dc:date>2022-04-20T03:12:29.278019</dc:date>\n",
       "    <dc:format>image/svg+xml</dc:format>\n",
       "    <dc:creator>\n",
       "     <cc:Agent>\n",
       "      <dc:title>Matplotlib v3.5.1, https://matplotlib.org/</dc:title>\n",
       "     </cc:Agent>\n",
       "    </dc:creator>\n",
       "   </cc:Work>\n",
       "  </rdf:RDF>\n",
       " </metadata>\n",
       " <defs>\n",
       "  <style type=\"text/css\">*{stroke-linejoin: round; stroke-linecap: butt}</style>\n",
       " </defs>\n",
       " <g id=\"figure_1\">\n",
       "  <g id=\"patch_1\">\n",
       "   <path d=\"M 0 248.518125 \n",
       "L 386.845312 248.518125 \n",
       "L 386.845312 0 \n",
       "L 0 0 \n",
       "L 0 248.518125 \n",
       "z\n",
       "\" style=\"fill: none\"/>\n",
       "  </g>\n",
       "  <g id=\"axes_1\">\n",
       "   <g id=\"patch_2\">\n",
       "    <path d=\"M 44.845313 224.64 \n",
       "L 379.645313 224.64 \n",
       "L 379.645313 7.2 \n",
       "L 44.845313 7.2 \n",
       "z\n",
       "\" style=\"fill: #ffffff\"/>\n",
       "   </g>\n",
       "   <g id=\"matplotlib.axis_1\">\n",
       "    <g id=\"xtick_1\">\n",
       "     <g id=\"line2d_1\">\n",
       "      <defs>\n",
       "       <path id=\"m10cf7c3a4e\" d=\"M 0 0 \n",
       "L 0 3.5 \n",
       "\" style=\"stroke: #000000; stroke-width: 0.8\"/>\n",
       "      </defs>\n",
       "      <g>\n",
       "       <use xlink:href=\"#m10cf7c3a4e\" x=\"90.499858\" y=\"224.64\" style=\"stroke: #000000; stroke-width: 0.8\"/>\n",
       "      </g>\n",
       "     </g>\n",
       "     <g id=\"text_1\">\n",
       "      <!-- −0.04 -->\n",
       "      <g transform=\"translate(75.177202 239.238437)scale(0.1 -0.1)\">\n",
       "       <defs>\n",
       "        <path id=\"DejaVuSans-2212\" d=\"M 678 2272 \n",
       "L 4684 2272 \n",
       "L 4684 1741 \n",
       "L 678 1741 \n",
       "L 678 2272 \n",
       "z\n",
       "\" transform=\"scale(0.015625)\"/>\n",
       "        <path id=\"DejaVuSans-30\" d=\"M 2034 4250 \n",
       "Q 1547 4250 1301 3770 \n",
       "Q 1056 3291 1056 2328 \n",
       "Q 1056 1369 1301 889 \n",
       "Q 1547 409 2034 409 \n",
       "Q 2525 409 2770 889 \n",
       "Q 3016 1369 3016 2328 \n",
       "Q 3016 3291 2770 3770 \n",
       "Q 2525 4250 2034 4250 \n",
       "z\n",
       "M 2034 4750 \n",
       "Q 2819 4750 3233 4129 \n",
       "Q 3647 3509 3647 2328 \n",
       "Q 3647 1150 3233 529 \n",
       "Q 2819 -91 2034 -91 \n",
       "Q 1250 -91 836 529 \n",
       "Q 422 1150 422 2328 \n",
       "Q 422 3509 836 4129 \n",
       "Q 1250 4750 2034 4750 \n",
       "z\n",
       "\" transform=\"scale(0.015625)\"/>\n",
       "        <path id=\"DejaVuSans-2e\" d=\"M 684 794 \n",
       "L 1344 794 \n",
       "L 1344 0 \n",
       "L 684 0 \n",
       "L 684 794 \n",
       "z\n",
       "\" transform=\"scale(0.015625)\"/>\n",
       "        <path id=\"DejaVuSans-34\" d=\"M 2419 4116 \n",
       "L 825 1625 \n",
       "L 2419 1625 \n",
       "L 2419 4116 \n",
       "z\n",
       "M 2253 4666 \n",
       "L 3047 4666 \n",
       "L 3047 1625 \n",
       "L 3713 1625 \n",
       "L 3713 1100 \n",
       "L 3047 1100 \n",
       "L 3047 0 \n",
       "L 2419 0 \n",
       "L 2419 1100 \n",
       "L 313 1100 \n",
       "L 313 1709 \n",
       "L 2253 4666 \n",
       "z\n",
       "\" transform=\"scale(0.015625)\"/>\n",
       "       </defs>\n",
       "       <use xlink:href=\"#DejaVuSans-2212\"/>\n",
       "       <use xlink:href=\"#DejaVuSans-30\" x=\"83.789062\"/>\n",
       "       <use xlink:href=\"#DejaVuSans-2e\" x=\"147.412109\"/>\n",
       "       <use xlink:href=\"#DejaVuSans-30\" x=\"179.199219\"/>\n",
       "       <use xlink:href=\"#DejaVuSans-34\" x=\"242.822266\"/>\n",
       "      </g>\n",
       "     </g>\n",
       "    </g>\n",
       "    <g id=\"xtick_2\">\n",
       "     <g id=\"line2d_2\">\n",
       "      <g>\n",
       "       <use xlink:href=\"#m10cf7c3a4e\" x=\"151.372585\" y=\"224.64\" style=\"stroke: #000000; stroke-width: 0.8\"/>\n",
       "      </g>\n",
       "     </g>\n",
       "     <g id=\"text_2\">\n",
       "      <!-- −0.02 -->\n",
       "      <g transform=\"translate(136.049929 239.238437)scale(0.1 -0.1)\">\n",
       "       <defs>\n",
       "        <path id=\"DejaVuSans-32\" d=\"M 1228 531 \n",
       "L 3431 531 \n",
       "L 3431 0 \n",
       "L 469 0 \n",
       "L 469 531 \n",
       "Q 828 903 1448 1529 \n",
       "Q 2069 2156 2228 2338 \n",
       "Q 2531 2678 2651 2914 \n",
       "Q 2772 3150 2772 3378 \n",
       "Q 2772 3750 2511 3984 \n",
       "Q 2250 4219 1831 4219 \n",
       "Q 1534 4219 1204 4116 \n",
       "Q 875 4013 500 3803 \n",
       "L 500 4441 \n",
       "Q 881 4594 1212 4672 \n",
       "Q 1544 4750 1819 4750 \n",
       "Q 2544 4750 2975 4387 \n",
       "Q 3406 4025 3406 3419 \n",
       "Q 3406 3131 3298 2873 \n",
       "Q 3191 2616 2906 2266 \n",
       "Q 2828 2175 2409 1742 \n",
       "Q 1991 1309 1228 531 \n",
       "z\n",
       "\" transform=\"scale(0.015625)\"/>\n",
       "       </defs>\n",
       "       <use xlink:href=\"#DejaVuSans-2212\"/>\n",
       "       <use xlink:href=\"#DejaVuSans-30\" x=\"83.789062\"/>\n",
       "       <use xlink:href=\"#DejaVuSans-2e\" x=\"147.412109\"/>\n",
       "       <use xlink:href=\"#DejaVuSans-30\" x=\"179.199219\"/>\n",
       "       <use xlink:href=\"#DejaVuSans-32\" x=\"242.822266\"/>\n",
       "      </g>\n",
       "     </g>\n",
       "    </g>\n",
       "    <g id=\"xtick_3\">\n",
       "     <g id=\"line2d_3\">\n",
       "      <g>\n",
       "       <use xlink:href=\"#m10cf7c3a4e\" x=\"212.245313\" y=\"224.64\" style=\"stroke: #000000; stroke-width: 0.8\"/>\n",
       "      </g>\n",
       "     </g>\n",
       "     <g id=\"text_3\">\n",
       "      <!-- 0.00 -->\n",
       "      <g transform=\"translate(201.1125 239.238437)scale(0.1 -0.1)\">\n",
       "       <use xlink:href=\"#DejaVuSans-30\"/>\n",
       "       <use xlink:href=\"#DejaVuSans-2e\" x=\"63.623047\"/>\n",
       "       <use xlink:href=\"#DejaVuSans-30\" x=\"95.410156\"/>\n",
       "       <use xlink:href=\"#DejaVuSans-30\" x=\"159.033203\"/>\n",
       "      </g>\n",
       "     </g>\n",
       "    </g>\n",
       "    <g id=\"xtick_4\">\n",
       "     <g id=\"line2d_4\">\n",
       "      <g>\n",
       "       <use xlink:href=\"#m10cf7c3a4e\" x=\"273.11804\" y=\"224.64\" style=\"stroke: #000000; stroke-width: 0.8\"/>\n",
       "      </g>\n",
       "     </g>\n",
       "     <g id=\"text_4\">\n",
       "      <!-- 0.02 -->\n",
       "      <g transform=\"translate(261.985227 239.238437)scale(0.1 -0.1)\">\n",
       "       <use xlink:href=\"#DejaVuSans-30\"/>\n",
       "       <use xlink:href=\"#DejaVuSans-2e\" x=\"63.623047\"/>\n",
       "       <use xlink:href=\"#DejaVuSans-30\" x=\"95.410156\"/>\n",
       "       <use xlink:href=\"#DejaVuSans-32\" x=\"159.033203\"/>\n",
       "      </g>\n",
       "     </g>\n",
       "    </g>\n",
       "    <g id=\"xtick_5\">\n",
       "     <g id=\"line2d_5\">\n",
       "      <g>\n",
       "       <use xlink:href=\"#m10cf7c3a4e\" x=\"333.990767\" y=\"224.64\" style=\"stroke: #000000; stroke-width: 0.8\"/>\n",
       "      </g>\n",
       "     </g>\n",
       "     <g id=\"text_5\">\n",
       "      <!-- 0.04 -->\n",
       "      <g transform=\"translate(322.857955 239.238437)scale(0.1 -0.1)\">\n",
       "       <use xlink:href=\"#DejaVuSans-30\"/>\n",
       "       <use xlink:href=\"#DejaVuSans-2e\" x=\"63.623047\"/>\n",
       "       <use xlink:href=\"#DejaVuSans-30\" x=\"95.410156\"/>\n",
       "       <use xlink:href=\"#DejaVuSans-34\" x=\"159.033203\"/>\n",
       "      </g>\n",
       "     </g>\n",
       "    </g>\n",
       "   </g>\n",
       "   <g id=\"matplotlib.axis_2\">\n",
       "    <g id=\"ytick_1\">\n",
       "     <g id=\"line2d_6\">\n",
       "      <defs>\n",
       "       <path id=\"ma2e1e00b41\" d=\"M 0 0 \n",
       "L -3.5 0 \n",
       "\" style=\"stroke: #000000; stroke-width: 0.8\"/>\n",
       "      </defs>\n",
       "      <g>\n",
       "       <use xlink:href=\"#ma2e1e00b41\" x=\"44.845313\" y=\"194.989091\" style=\"stroke: #000000; stroke-width: 0.8\"/>\n",
       "      </g>\n",
       "     </g>\n",
       "     <g id=\"text_6\">\n",
       "      <!-- −0.04 -->\n",
       "      <g transform=\"translate(7.2 198.78831)scale(0.1 -0.1)\">\n",
       "       <use xlink:href=\"#DejaVuSans-2212\"/>\n",
       "       <use xlink:href=\"#DejaVuSans-30\" x=\"83.789062\"/>\n",
       "       <use xlink:href=\"#DejaVuSans-2e\" x=\"147.412109\"/>\n",
       "       <use xlink:href=\"#DejaVuSans-30\" x=\"179.199219\"/>\n",
       "       <use xlink:href=\"#DejaVuSans-34\" x=\"242.822266\"/>\n",
       "      </g>\n",
       "     </g>\n",
       "    </g>\n",
       "    <g id=\"ytick_2\">\n",
       "     <g id=\"line2d_7\">\n",
       "      <g>\n",
       "       <use xlink:href=\"#ma2e1e00b41\" x=\"44.845313\" y=\"155.454545\" style=\"stroke: #000000; stroke-width: 0.8\"/>\n",
       "      </g>\n",
       "     </g>\n",
       "     <g id=\"text_7\">\n",
       "      <!-- −0.02 -->\n",
       "      <g transform=\"translate(7.2 159.253764)scale(0.1 -0.1)\">\n",
       "       <use xlink:href=\"#DejaVuSans-2212\"/>\n",
       "       <use xlink:href=\"#DejaVuSans-30\" x=\"83.789062\"/>\n",
       "       <use xlink:href=\"#DejaVuSans-2e\" x=\"147.412109\"/>\n",
       "       <use xlink:href=\"#DejaVuSans-30\" x=\"179.199219\"/>\n",
       "       <use xlink:href=\"#DejaVuSans-32\" x=\"242.822266\"/>\n",
       "      </g>\n",
       "     </g>\n",
       "    </g>\n",
       "    <g id=\"ytick_3\">\n",
       "     <g id=\"line2d_8\">\n",
       "      <g>\n",
       "       <use xlink:href=\"#ma2e1e00b41\" x=\"44.845313\" y=\"115.92\" style=\"stroke: #000000; stroke-width: 0.8\"/>\n",
       "      </g>\n",
       "     </g>\n",
       "     <g id=\"text_8\">\n",
       "      <!-- 0.00 -->\n",
       "      <g transform=\"translate(15.579688 119.719219)scale(0.1 -0.1)\">\n",
       "       <use xlink:href=\"#DejaVuSans-30\"/>\n",
       "       <use xlink:href=\"#DejaVuSans-2e\" x=\"63.623047\"/>\n",
       "       <use xlink:href=\"#DejaVuSans-30\" x=\"95.410156\"/>\n",
       "       <use xlink:href=\"#DejaVuSans-30\" x=\"159.033203\"/>\n",
       "      </g>\n",
       "     </g>\n",
       "    </g>\n",
       "    <g id=\"ytick_4\">\n",
       "     <g id=\"line2d_9\">\n",
       "      <g>\n",
       "       <use xlink:href=\"#ma2e1e00b41\" x=\"44.845313\" y=\"76.385455\" style=\"stroke: #000000; stroke-width: 0.8\"/>\n",
       "      </g>\n",
       "     </g>\n",
       "     <g id=\"text_9\">\n",
       "      <!-- 0.02 -->\n",
       "      <g transform=\"translate(15.579688 80.184673)scale(0.1 -0.1)\">\n",
       "       <use xlink:href=\"#DejaVuSans-30\"/>\n",
       "       <use xlink:href=\"#DejaVuSans-2e\" x=\"63.623047\"/>\n",
       "       <use xlink:href=\"#DejaVuSans-30\" x=\"95.410156\"/>\n",
       "       <use xlink:href=\"#DejaVuSans-32\" x=\"159.033203\"/>\n",
       "      </g>\n",
       "     </g>\n",
       "    </g>\n",
       "    <g id=\"ytick_5\">\n",
       "     <g id=\"line2d_10\">\n",
       "      <g>\n",
       "       <use xlink:href=\"#ma2e1e00b41\" x=\"44.845313\" y=\"36.850909\" style=\"stroke: #000000; stroke-width: 0.8\"/>\n",
       "      </g>\n",
       "     </g>\n",
       "     <g id=\"text_10\">\n",
       "      <!-- 0.04 -->\n",
       "      <g transform=\"translate(15.579688 40.650128)scale(0.1 -0.1)\">\n",
       "       <use xlink:href=\"#DejaVuSans-30\"/>\n",
       "       <use xlink:href=\"#DejaVuSans-2e\" x=\"63.623047\"/>\n",
       "       <use xlink:href=\"#DejaVuSans-30\" x=\"95.410156\"/>\n",
       "       <use xlink:href=\"#DejaVuSans-34\" x=\"159.033203\"/>\n",
       "      </g>\n",
       "     </g>\n",
       "    </g>\n",
       "   </g>\n",
       "   <g id=\"line2d_11\"/>\n",
       "   <g id=\"patch_3\">\n",
       "    <path d=\"M 44.845313 224.64 \n",
       "L 44.845313 7.2 \n",
       "\" style=\"fill: none; stroke: #000000; stroke-width: 0.8; stroke-linejoin: miter; stroke-linecap: square\"/>\n",
       "   </g>\n",
       "   <g id=\"patch_4\">\n",
       "    <path d=\"M 379.645313 224.64 \n",
       "L 379.645313 7.2 \n",
       "\" style=\"fill: none; stroke: #000000; stroke-width: 0.8; stroke-linejoin: miter; stroke-linecap: square\"/>\n",
       "   </g>\n",
       "   <g id=\"patch_5\">\n",
       "    <path d=\"M 44.845313 224.64 \n",
       "L 379.645313 224.64 \n",
       "\" style=\"fill: none; stroke: #000000; stroke-width: 0.8; stroke-linejoin: miter; stroke-linecap: square\"/>\n",
       "   </g>\n",
       "   <g id=\"patch_6\">\n",
       "    <path d=\"M 44.845313 7.2 \n",
       "L 379.645313 7.2 \n",
       "\" style=\"fill: none; stroke: #000000; stroke-width: 0.8; stroke-linejoin: miter; stroke-linecap: square\"/>\n",
       "   </g>\n",
       "  </g>\n",
       " </g>\n",
       "</svg>\n"
      ],
      "text/plain": [
       "<Figure size 432x288 with 1 Axes>"
      ]
     },
     "metadata": {
      "needs_background": "light"
     },
     "output_type": "display_data"
    }
   ],
   "source": [
    "f = plt.figure()\n",
    "ax = f.add_subplot(111)\n",
    "ax.plot(sat, rel_diff_air_x, '^-r', label='Dr_a_x')\n",
    "ax.plot(sat, rel_diff_air_y, '^-g', label='Dr_a_y')\n",
    "ax.plot(sat, rel_diff_air_z, '^-b', label='Dr_a_z')\n",
    "ax.plot(sat, rel_diff_water_x, '*-r', label='Dr_w_x')\n",
    "ax.plot(sat, rel_diff_water_y, '*-g', label='Dr_w_y')\n",
    "ax.plot(sat, rel_diff_water_z, '*-b', label='Dr_w_z')\n",
    "ax.set_xlabel('Snw')\n",
    "ax.set_ylabel('rel_diff')\n",
    "ax.set_title('Relative Diffusivity Curves')\n",
    "plt.legend();"
   ]
  }
 ],
 "metadata": {
  "@webio": {
   "lastCommId": null,
   "lastKernelId": null
  },
  "kernelspec": {
   "display_name": "Python 3",
   "language": "python",
   "name": "python3"
  },
  "language_info": {
   "codemirror_mode": {
    "name": "ipython",
    "version": 3
   },
   "file_extension": ".py",
   "mimetype": "text/x-python",
   "name": "python",
   "nbconvert_exporter": "python",
   "pygments_lexer": "ipython3",
   "version": "3.8.13"
  },
  "toc": {
   "base_numbering": 1,
   "nav_menu": {},
   "number_sections": true,
   "sideBar": true,
   "skip_h1_title": true,
   "title_cell": "Table of Contents",
   "title_sidebar": "Contents",
   "toc_cell": true,
   "toc_position": {},
   "toc_section_display": true,
   "toc_window_display": false
  }
 },
 "nbformat": 4,
 "nbformat_minor": 2
}
