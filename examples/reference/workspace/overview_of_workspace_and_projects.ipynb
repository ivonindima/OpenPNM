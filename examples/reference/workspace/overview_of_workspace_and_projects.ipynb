{
 "cells": [
  {
   "cell_type": "markdown",
   "metadata": {},
   "source": [
    "# The Workspace and Projects\n",
    "\n",
    "OpenPNM V2.0 implemented new ways to manage and control objects, specifically the *Workspace* and *Projects*. \n",
    "\n",
    "> You probably don't need to worry about these features until your simulations get large and complicated.\n",
    "\n",
    "The *Workspace* is equivalent to a web browser window, while a *Project* is like tabs inside the browser. Each *Project* is an isolated OpenPNM simulation with a single *Network* and all associated objects.  All *Projects* are stored in the same *Workspace*.  There can be only 1 *Workspace* open at a given time, so all new projects are registered in the same *Workspace*.  *Projects* and *Workspaces* can be saved and loaded.\n"
   ]
  },
  {
   "cell_type": "code",
   "execution_count": 1,
   "metadata": {
    "execution": {
     "iopub.execute_input": "2022-03-23T01:20:43.914274Z",
     "iopub.status.busy": "2022-03-23T01:20:43.914040Z",
     "iopub.status.idle": "2022-03-23T01:20:44.993753Z",
     "shell.execute_reply": "2022-03-23T01:20:44.993185Z"
    }
   },
   "outputs": [],
   "source": [
    "import openpnm as op"
   ]
  },
  {
   "cell_type": "markdown",
   "metadata": {},
   "source": [
    "## Usage of Projects and Workspace\n",
    "\n",
    "Initialize the *Workspace* and save in a variable called ``ws``, and print it to verify that it is currently empty:"
   ]
  },
  {
   "cell_type": "code",
   "execution_count": 2,
   "metadata": {
    "execution": {
     "iopub.execute_input": "2022-03-23T01:20:44.996985Z",
     "iopub.status.busy": "2022-03-23T01:20:44.996747Z",
     "iopub.status.idle": "2022-03-23T01:20:45.001458Z",
     "shell.execute_reply": "2022-03-23T01:20:44.999646Z"
    }
   },
   "outputs": [
    {
     "name": "stdout",
     "output_type": "stream",
     "text": [
      "――――――――――――――――――――――――――――――――――――――――――――――――――――――――――――――――――――――――――――――\n",
      "OpenPNM Version 2.8.2.dev117 Workspace\n",
      "――――――――――――――――――――――――――――――――――――――――――――――――――――――――――――――――――――――――――――――\n"
     ]
    }
   ],
   "source": [
    "ws = op.Workspace()\n",
    "print(ws)"
   ]
  },
  {
   "cell_type": "markdown",
   "metadata": {},
   "source": [
    "Next, create a new *Project* and print:"
   ]
  },
  {
   "cell_type": "code",
   "execution_count": 3,
   "metadata": {
    "execution": {
     "iopub.execute_input": "2022-03-23T01:20:45.003442Z",
     "iopub.status.busy": "2022-03-23T01:20:45.003299Z",
     "iopub.status.idle": "2022-03-23T01:20:45.010774Z",
     "shell.execute_reply": "2022-03-23T01:20:45.010306Z"
    }
   },
   "outputs": [
    {
     "data": {
      "text/plain": [
       "――――――――――――――――――――――――――――――――――――――――――――――――――――――――――――――――――――――――――――――\n",
       " Object Name     Object ID                                                        \n",
       "――――――――――――――――――――――――――――――――――――――――――――――――――――――――――――――――――――――――――――――\n",
       "――――――――――――――――――――――――――――――――――――――――――――――――――――――――――――――――――――――――――――――"
      ]
     },
     "execution_count": 3,
     "metadata": {},
     "output_type": "execute_result"
    }
   ],
   "source": [
    "proj = ws.new_project()\n",
    "proj"
   ]
  },
  {
   "cell_type": "markdown",
   "metadata": {},
   "source": [
    "The project is an empty list since there have been no objects created yet.  \n",
    "\n",
    "Now create a new network object with passing in ``proj`` into the initialization:"
   ]
  },
  {
   "cell_type": "code",
   "execution_count": 4,
   "metadata": {
    "execution": {
     "iopub.execute_input": "2022-03-23T01:20:45.013476Z",
     "iopub.status.busy": "2022-03-23T01:20:45.013092Z",
     "iopub.status.idle": "2022-03-23T01:20:45.017869Z",
     "shell.execute_reply": "2022-03-23T01:20:45.017461Z"
    }
   },
   "outputs": [],
   "source": [
    "pn = op.network.Cubic(shape=[4, 4, 4], project=proj)"
   ]
  },
  {
   "cell_type": "markdown",
   "metadata": {},
   "source": [
    "Now printing the *Project* via `print(proj)` will include the newly created network:"
   ]
  },
  {
   "cell_type": "code",
   "execution_count": 5,
   "metadata": {
    "execution": {
     "iopub.execute_input": "2022-03-23T01:20:45.020164Z",
     "iopub.status.busy": "2022-03-23T01:20:45.019798Z",
     "iopub.status.idle": "2022-03-23T01:20:45.022538Z",
     "shell.execute_reply": "2022-03-23T01:20:45.022054Z"
    }
   },
   "outputs": [
    {
     "name": "stdout",
     "output_type": "stream",
     "text": [
      "――――――――――――――――――――――――――――――――――――――――――――――――――――――――――――――――――――――――――――――\n",
      " Object Name     Object ID                                                        \n",
      "――――――――――――――――――――――――――――――――――――――――――――――――――――――――――――――――――――――――――――――\n",
      " net_01          <openpnm.network.Cubic at 0x7f3d199b5f40>                        \n",
      "――――――――――――――――――――――――――――――――――――――――――――――――――――――――――――――――――――――――――――――\n"
     ]
    }
   ],
   "source": [
    "print(proj)"
   ]
  },
  {
   "cell_type": "markdown",
   "metadata": {},
   "source": [
    "It is not necessary to create a project *before* creating a network.  Since a project can only have *one* network, then a new project is created each time a network is created if not specified as we did above:"
   ]
  },
  {
   "cell_type": "code",
   "execution_count": 6,
   "metadata": {
    "execution": {
     "iopub.execute_input": "2022-03-23T01:20:45.025277Z",
     "iopub.status.busy": "2022-03-23T01:20:45.024974Z",
     "iopub.status.idle": "2022-03-23T01:20:45.029160Z",
     "shell.execute_reply": "2022-03-23T01:20:45.028739Z"
    }
   },
   "outputs": [],
   "source": [
    "pn2 = op.network.Cubic(shape=[4, 4, 4])"
   ]
  },
  {
   "cell_type": "markdown",
   "metadata": {},
   "source": [
    "The project that each object belongs to can be found since each object has a ``project`` attribute. You can use this to see what other objects are defined in a project: "
   ]
  },
  {
   "cell_type": "code",
   "execution_count": 7,
   "metadata": {
    "execution": {
     "iopub.execute_input": "2022-03-23T01:20:45.031299Z",
     "iopub.status.busy": "2022-03-23T01:20:45.030931Z",
     "iopub.status.idle": "2022-03-23T01:20:45.034596Z",
     "shell.execute_reply": "2022-03-23T01:20:45.034039Z"
    },
    "scrolled": true
   },
   "outputs": [
    {
     "name": "stdout",
     "output_type": "stream",
     "text": [
      "――――――――――――――――――――――――――――――――――――――――――――――――――――――――――――――――――――――――――――――\n",
      " Object Name     Object ID                                                        \n",
      "――――――――――――――――――――――――――――――――――――――――――――――――――――――――――――――――――――――――――――――\n",
      " net_01          <openpnm.network.Cubic at 0x7f3d199b55e0>                        \n",
      "――――――――――――――――――――――――――――――――――――――――――――――――――――――――――――――――――――――――――――――\n"
     ]
    }
   ],
   "source": [
    "print(pn2.project)"
   ]
  },
  {
   "cell_type": "markdown",
   "metadata": {},
   "source": [
    "Finally, you can view all active projects by printing the workspace via:"
   ]
  },
  {
   "cell_type": "code",
   "execution_count": 8,
   "metadata": {
    "execution": {
     "iopub.execute_input": "2022-03-23T01:20:45.036754Z",
     "iopub.status.busy": "2022-03-23T01:20:45.036447Z",
     "iopub.status.idle": "2022-03-23T01:20:45.039132Z",
     "shell.execute_reply": "2022-03-23T01:20:45.038645Z"
    }
   },
   "outputs": [
    {
     "name": "stdout",
     "output_type": "stream",
     "text": [
      "――――――――――――――――――――――――――――――――――――――――――――――――――――――――――――――――――――――――――――――\n",
      "OpenPNM Version 2.8.2.dev117 Workspace\n",
      "――――――――――――――――――――――――――――――――――――――――――――――――――――――――――――――――――――――――――――――\n",
      " proj_01\n",
      "――――――――――――――――――――――――――――――――――――――――――――――――――――――――――――――――――――――――――――――\n",
      " Object Name     Object ID                                                        \n",
      "――――――――――――――――――――――――――――――――――――――――――――――――――――――――――――――――――――――――――――――\n",
      " net_01          <openpnm.network.Cubic at 0x7f3d199b5f40>                        \n",
      "――――――――――――――――――――――――――――――――――――――――――――――――――――――――――――――――――――――――――――――\n",
      " proj_02\n",
      "――――――――――――――――――――――――――――――――――――――――――――――――――――――――――――――――――――――――――――――\n",
      " Object Name     Object ID                                                        \n",
      "――――――――――――――――――――――――――――――――――――――――――――――――――――――――――――――――――――――――――――――\n",
      " net_01          <openpnm.network.Cubic at 0x7f3d199b55e0>                        \n",
      "――――――――――――――――――――――――――――――――――――――――――――――――――――――――――――――――――――――――――――――\n"
     ]
    }
   ],
   "source": [
    "print(ws)"
   ]
  },
  {
   "cell_type": "markdown",
   "metadata": {},
   "source": [
    "A project can be purged from the workspace via `ws.close_project(proj)`. Let's print workspace again,:"
   ]
  },
  {
   "cell_type": "code",
   "execution_count": 9,
   "metadata": {
    "execution": {
     "iopub.execute_input": "2022-03-23T01:20:45.042031Z",
     "iopub.status.busy": "2022-03-23T01:20:45.041711Z",
     "iopub.status.idle": "2022-03-23T01:20:45.044404Z",
     "shell.execute_reply": "2022-03-23T01:20:45.043936Z"
    }
   },
   "outputs": [
    {
     "name": "stdout",
     "output_type": "stream",
     "text": [
      "――――――――――――――――――――――――――――――――――――――――――――――――――――――――――――――――――――――――――――――\n",
      "OpenPNM Version 2.8.2.dev117 Workspace\n",
      "――――――――――――――――――――――――――――――――――――――――――――――――――――――――――――――――――――――――――――――\n",
      " proj_02\n",
      "――――――――――――――――――――――――――――――――――――――――――――――――――――――――――――――――――――――――――――――\n",
      " Object Name     Object ID                                                        \n",
      "――――――――――――――――――――――――――――――――――――――――――――――――――――――――――――――――――――――――――――――\n",
      " net_01          <openpnm.network.Cubic at 0x7f3d199b55e0>                        \n",
      "――――――――――――――――――――――――――――――――――――――――――――――――――――――――――――――――――――――――――――――\n"
     ]
    }
   ],
   "source": [
    "ws.close_project(proj)\n",
    "print(ws)"
   ]
  },
  {
   "cell_type": "markdown",
   "metadata": {},
   "source": [
    "## Design of Workspace and Project Classes\n",
    "\n",
    "It is worth describing the design of these classes to help explain how they work.  The workspace is a ``dict`` subclass while the project is a ``list`` subclass.  Each subclass has numerous methods added to aid in the management of the objects. \n",
    "\n",
    "In the Workspace ``dict`` each project object is stored by name in each 'key: value' pair.  Printing the workspace gives a nicely formatted output as shown above, but the basic command-line representation gives its true structure via running `ws` in the command-line:"
   ]
  },
  {
   "cell_type": "raw",
   "metadata": {},
   "source": [
    "{'sim_02': [<openpnm.network.Cubic object at 0x7f1fa5700830>]}\n"
   ]
  },
  {
   "cell_type": "markdown",
   "metadata": {},
   "source": [
    "Where the only project in the workspace is ``'sim_02'``, and it is a list that contains only a single Cubic network object."
   ]
  }
 ],
 "metadata": {
  "kernelspec": {
   "display_name": "Python 3",
   "language": "python",
   "name": "python3"
  },
  "language_info": {
   "codemirror_mode": {
    "name": "ipython",
    "version": 3
   },
   "file_extension": ".py",
   "mimetype": "text/x-python",
   "name": "python",
   "nbconvert_exporter": "python",
   "pygments_lexer": "ipython3",
   "version": "3.8.12"
  },
  "toc": {
   "base_numbering": 1,
   "nav_menu": {},
   "number_sections": false,
   "sideBar": true,
   "skip_h1_title": false,
   "title_cell": "Table of Contents",
   "title_sidebar": "Contents",
   "toc_cell": true,
   "toc_position": {},
   "toc_section_display": true,
   "toc_window_display": false
  }
 },
 "nbformat": 4,
 "nbformat_minor": 4
}
