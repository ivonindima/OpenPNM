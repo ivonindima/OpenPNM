{
 "cells": [
  {
   "cell_type": "markdown",
   "metadata": {},
   "source": [
    "# Maze Solver\n",
    "In this notebook, we write a maze solver by solving the Poisson equation with two Dirichlet boundary conditions imposed on the two faces that correspond to the start and end of the maze, respectively. \n",
    "\n",
    "The logic is pretty simple: once we have the solution, we just need to start off from one face and follow the gradient. Since the gradient in the deadends is almost close to 0, following the nonzero gradient should guide us toward the other side of the maze.\n",
    "\n",
    "We implement two different approaches:\n",
    "\n",
    "1. Direct numerical simulation\n",
    "Here, we first convert the image into a Cubic network, trim the pores that correspond to the walls, and finally run a basic `OhmicConduction` (or `FickianDiffusion`) on the resulting trimmed network.\n",
    "\n",
    "2. Network extraction\n",
    "Here, we first use the SNOW algorithm to extract the equivalent network of the maze. Note that the nodes in the equivalent network will not exactly give us the corners of the maze, but at least it gives us a rough idea, enough for solving the maze! Then, like the first approach, we run a basic `OhmicConduction` on the extracted network. The advantage of this approach is that it's way faster due to much fewer unknowns.\n",
    "\n",
    "Note: Inspired by this post by Jeremy Theler https://www.linkedin.com/posts/jeremytheler_how-to-solve-a-maze-without-ai-use-laplaces-activity-6831291311832760320-x9d5"
   ]
  },
  {
   "cell_type": "code",
   "execution_count": 1,
   "metadata": {
    "execution": {
     "iopub.execute_input": "2022-03-23T01:18:21.751481Z",
     "iopub.status.busy": "2022-03-23T01:18:21.751295Z",
     "iopub.status.idle": "2022-03-23T01:18:44.071111Z",
     "shell.execute_reply": "2022-03-23T01:18:44.070628Z"
    }
   },
   "outputs": [
    {
     "name": "stdout",
     "output_type": "stream",
     "text": [
      "Collecting porespy\r\n"
     ]
    },
    {
     "name": "stdout",
     "output_type": "stream",
     "text": [
      "  Downloading porespy-2.0.2-py3-none-any.whl (123 kB)\r\n",
      "\u001b[?25l     \u001b[90m━━━━━━━━━━━━━━━━━━━━━━━━━━━━━━━━━━━━━━━━\u001b[0m \u001b[32m0.0/123.6 KB\u001b[0m \u001b[31m?\u001b[0m eta \u001b[36m-:--:--\u001b[0m\r",
      "\u001b[2K     \u001b[90m━━━━━━━━━━━━━━━━━━━━━━━━━━━━━━━━━━━━━━━\u001b[0m \u001b[32m123.6/123.6 KB\u001b[0m \u001b[31m5.6 MB/s\u001b[0m eta \u001b[36m0:00:00\u001b[0m\r\n",
      "\u001b[?25hRequirement already satisfied: numpy in /usr/share/miniconda3/envs/test/lib/python3.8/site-packages (from porespy) (1.21.5)\r\n"
     ]
    },
    {
     "name": "stdout",
     "output_type": "stream",
     "text": [
      "Collecting scikit-fmm\r\n",
      "  Downloading scikit-fmm-2022.2.2.tar.gz (434 kB)\r\n",
      "\u001b[?25l     \u001b[90m━━━━━━━━━━━━━━━━━━━━━━━━━━━━━━━━━━━━━━━━\u001b[0m \u001b[32m0.0/434.5 KB\u001b[0m \u001b[31m?\u001b[0m eta \u001b[36m-:--:--\u001b[0m\r",
      "\u001b[2K     \u001b[90m━━━━━━━━━━━━━━━━━━━━━━━━━━━━━━━━━━━━━━\u001b[0m \u001b[32m434.5/434.5 KB\u001b[0m \u001b[31m24.3 MB/s\u001b[0m eta \u001b[36m0:00:00\u001b[0m\r\n",
      "\u001b[?25h"
     ]
    },
    {
     "name": "stdout",
     "output_type": "stream",
     "text": [
      "  Installing build dependencies ... \u001b[?25l-"
     ]
    },
    {
     "name": "stdout",
     "output_type": "stream",
     "text": [
      "\b \b\\"
     ]
    },
    {
     "name": "stdout",
     "output_type": "stream",
     "text": [
      "\b \b|"
     ]
    },
    {
     "name": "stdout",
     "output_type": "stream",
     "text": [
      "\b \b/"
     ]
    },
    {
     "name": "stdout",
     "output_type": "stream",
     "text": [
      "\b \b-"
     ]
    },
    {
     "name": "stdout",
     "output_type": "stream",
     "text": [
      "\b \b\\"
     ]
    },
    {
     "name": "stdout",
     "output_type": "stream",
     "text": [
      "\b \b|"
     ]
    },
    {
     "name": "stdout",
     "output_type": "stream",
     "text": [
      "\b \bdone\r\n"
     ]
    },
    {
     "name": "stdout",
     "output_type": "stream",
     "text": [
      "\u001b[?25h  Getting requirements to build wheel ... \u001b[?25l-"
     ]
    },
    {
     "name": "stdout",
     "output_type": "stream",
     "text": [
      "\b \b\\"
     ]
    },
    {
     "name": "stdout",
     "output_type": "stream",
     "text": [
      "\b \bdone"
     ]
    },
    {
     "name": "stdout",
     "output_type": "stream",
     "text": [
      "\r\n"
     ]
    },
    {
     "name": "stdout",
     "output_type": "stream",
     "text": [
      "\u001b[?25h  Preparing metadata (pyproject.toml) ... \u001b[?25l-"
     ]
    },
    {
     "name": "stdout",
     "output_type": "stream",
     "text": [
      "\b \b\\"
     ]
    },
    {
     "name": "stdout",
     "output_type": "stream",
     "text": [
      "\b \b|"
     ]
    },
    {
     "name": "stdout",
     "output_type": "stream",
     "text": [
      "\b \bdone\r\n",
      "\u001b[?25hCollecting pyfastnoisesimd"
     ]
    },
    {
     "name": "stdout",
     "output_type": "stream",
     "text": [
      "\r\n",
      "  Downloading pyfastnoisesimd-0.4.2-cp38-cp38-manylinux2010_x86_64.whl (3.5 MB)\r\n",
      "\u001b[?25l     \u001b[90m━━━━━━━━━━━━━━━━━━━━━━━━━━━━━━━━━━━━━━━━\u001b[0m \u001b[32m0.0/3.5 MB\u001b[0m \u001b[31m?\u001b[0m eta \u001b[36m-:--:--\u001b[0m"
     ]
    },
    {
     "name": "stdout",
     "output_type": "stream",
     "text": [
      "\r",
      "\u001b[2K     \u001b[91m━━━━━━━━━━━━━━━━━━━━━━━━━━━━━━━━━━━━━━━\u001b[0m\u001b[91m╸\u001b[0m \u001b[32m3.5/3.5 MB\u001b[0m \u001b[31m162.4 MB/s\u001b[0m eta \u001b[36m0:00:01\u001b[0m\r",
      "\u001b[2K     \u001b[90m━━━━━━━━━━━━━━━━━━━━━━━━━━━━━━━━━━━━━━━━\u001b[0m \u001b[32m3.5/3.5 MB\u001b[0m \u001b[31m87.7 MB/s\u001b[0m eta \u001b[36m0:00:00\u001b[0m\r\n",
      "\u001b[?25h"
     ]
    },
    {
     "name": "stdout",
     "output_type": "stream",
     "text": [
      "Collecting numpy-stl\r\n",
      "  Downloading numpy-stl-2.16.3.tar.gz (772 kB)\r\n",
      "\u001b[?25l     \u001b[90m━━━━━━━━━━━━━━━━━━━━━━━━━━━━━━━━━━━━━━━━\u001b[0m \u001b[32m0.0/772.1 KB\u001b[0m \u001b[31m?\u001b[0m eta \u001b[36m-:--:--\u001b[0m\r",
      "\u001b[2K     \u001b[90m━━━━━━━━━━━━━━━━━━━━━━━━━━━━━━━━━━━━━━\u001b[0m \u001b[32m772.1/772.1 KB\u001b[0m \u001b[31m99.1 MB/s\u001b[0m eta \u001b[36m0:00:00\u001b[0m\r\n",
      "\u001b[?25h"
     ]
    },
    {
     "name": "stdout",
     "output_type": "stream",
     "text": [
      "  Preparing metadata (setup.py) ... \u001b[?25l-"
     ]
    },
    {
     "name": "stdout",
     "output_type": "stream",
     "text": [
      "\b \b\\"
     ]
    },
    {
     "name": "stdout",
     "output_type": "stream",
     "text": [
      "\b \b|"
     ]
    },
    {
     "name": "stdout",
     "output_type": "stream",
     "text": [
      "\b \bdone\r\n",
      "\u001b[?25hCollecting loguru\r\n"
     ]
    },
    {
     "name": "stdout",
     "output_type": "stream",
     "text": [
      "  Downloading loguru-0.6.0-py3-none-any.whl (58 kB)\r\n",
      "\u001b[?25l     \u001b[90m━━━━━━━━━━━━━━━━━━━━━━━━━━━━━━━━━━━━━━━━\u001b[0m \u001b[32m0.0/58.3 KB\u001b[0m \u001b[31m?\u001b[0m eta \u001b[36m-:--:--\u001b[0m\r",
      "\u001b[2K     \u001b[90m━━━━━━━━━━━━━━━━━━━━━━━━━━━━━━━━━━━━━━━━\u001b[0m \u001b[32m58.3/58.3 KB\u001b[0m \u001b[31m19.7 MB/s\u001b[0m eta \u001b[36m0:00:00\u001b[0m\r\n",
      "\u001b[?25hRequirement already satisfied: imageio in /usr/share/miniconda3/envs/test/lib/python3.8/site-packages (from porespy) (2.16.1)\r\n",
      "Collecting pyevtk\r\n",
      "  Downloading pyevtk-1.4.1-py3-none-any.whl (18 kB)\r\n",
      "Requirement already satisfied: scipy in /usr/share/miniconda3/envs/test/lib/python3.8/site-packages (from porespy) (1.8.0)\r\n",
      "Requirement already satisfied: numba in /usr/share/miniconda3/envs/test/lib/python3.8/site-packages (from porespy) (0.55.1)\r\n",
      "Requirement already satisfied: pandas in /usr/share/miniconda3/envs/test/lib/python3.8/site-packages (from porespy) (1.4.1)\r\n",
      "Requirement already satisfied: psutil in /usr/share/miniconda3/envs/test/lib/python3.8/site-packages (from porespy) (5.9.0)\r\n",
      "Requirement already satisfied: scikit-image in /usr/share/miniconda3/envs/test/lib/python3.8/site-packages (from porespy) (0.19.2)\r\n",
      "Requirement already satisfied: jupyterlab-widgets in /usr/share/miniconda3/envs/test/lib/python3.8/site-packages (from porespy) (1.1.0)\r\n"
     ]
    },
    {
     "name": "stdout",
     "output_type": "stream",
     "text": [
      "Collecting dask\r\n",
      "  Downloading dask-2022.3.0-py3-none-any.whl (1.1 MB)\r\n",
      "\u001b[?25l     \u001b[90m━━━━━━━━━━━━━━━━━━━━━━━━━━━━━━━━━━━━━━━━\u001b[0m \u001b[32m0.0/1.1 MB\u001b[0m \u001b[31m?\u001b[0m eta \u001b[36m-:--:--\u001b[0m"
     ]
    },
    {
     "name": "stdout",
     "output_type": "stream",
     "text": [
      "\r",
      "\u001b[2K     \u001b[90m━━━━━━━━━━━━━━━━━━━━━━━━━━━━━━━━━━━━━━━━\u001b[0m \u001b[32m1.1/1.1 MB\u001b[0m \u001b[31m109.0 MB/s\u001b[0m eta \u001b[36m0:00:00\u001b[0m\r\n",
      "\u001b[?25hRequirement already satisfied: matplotlib in /usr/share/miniconda3/envs/test/lib/python3.8/site-packages (from porespy) (3.5.1)\r\n",
      "Requirement already satisfied: openpnm in /home/runner/work/OpenPNM/OpenPNM (from porespy) (2.8.2.dev117)\r\n"
     ]
    },
    {
     "name": "stdout",
     "output_type": "stream",
     "text": [
      "Collecting edt\r\n",
      "  Downloading edt-2.1.2-cp38-cp38-manylinux_2_17_x86_64.manylinux2014_x86_64.whl (2.0 MB)\r\n",
      "\u001b[?25l     \u001b[90m━━━━━━━━━━━━━━━━━━━━━━━━━━━━━━━━━━━━━━━━\u001b[0m \u001b[32m0.0/2.0 MB\u001b[0m \u001b[31m?\u001b[0m eta \u001b[36m-:--:--\u001b[0m"
     ]
    },
    {
     "name": "stdout",
     "output_type": "stream",
     "text": [
      "\r",
      "\u001b[2K     \u001b[90m━━━━━━━━━━━━━━━━━━━━━━━━━━━━━━━━━━━━━━━━\u001b[0m \u001b[32m2.0/2.0 MB\u001b[0m \u001b[31m117.0 MB/s\u001b[0m eta \u001b[36m0:00:00\u001b[0m\r\n",
      "\u001b[?25hRequirement already satisfied: transforms3d in /usr/share/miniconda3/envs/test/lib/python3.8/site-packages (from porespy) (0.3.1)\r\n",
      "Requirement already satisfied: tqdm in /usr/share/miniconda3/envs/test/lib/python3.8/site-packages (from porespy) (4.63.0)\r\n"
     ]
    },
    {
     "name": "stdout",
     "output_type": "stream",
     "text": [
      "Collecting trimesh\r\n",
      "  Downloading trimesh-3.10.5-py3-none-any.whl (641 kB)\r\n",
      "\u001b[?25l     \u001b[90m━━━━━━━━━━━━━━━━━━━━━━━━━━━━━━━━━━━━━━━━\u001b[0m \u001b[32m0.0/641.1 KB\u001b[0m \u001b[31m?\u001b[0m eta \u001b[36m-:--:--\u001b[0m\r",
      "\u001b[2K     \u001b[90m━━━━━━━━━━━━━━━━━━━━━━━━━━━━━━━━━━━━━\u001b[0m \u001b[32m641.1/641.1 KB\u001b[0m \u001b[31m103.9 MB/s\u001b[0m eta \u001b[36m0:00:00\u001b[0m\r\n",
      "\u001b[?25h"
     ]
    },
    {
     "name": "stdout",
     "output_type": "stream",
     "text": [
      "Requirement already satisfied: packaging>=20.0 in /usr/share/miniconda3/envs/test/lib/python3.8/site-packages (from dask->porespy) (21.3)\r\n",
      "Collecting toolz>=0.8.2\r\n",
      "  Downloading toolz-0.11.2-py3-none-any.whl (55 kB)\r\n",
      "\u001b[?25l     \u001b[90m━━━━━━━━━━━━━━━━━━━━━━━━━━━━━━━━━━━━━━━━\u001b[0m \u001b[32m0.0/55.8 KB\u001b[0m \u001b[31m?\u001b[0m eta \u001b[36m-:--:--\u001b[0m\r",
      "\u001b[2K     \u001b[90m━━━━━━━━━━━━━━━━━━━━━━━━━━━━━━━━━━━━━━━━\u001b[0m \u001b[32m55.8/55.8 KB\u001b[0m \u001b[31m5.9 MB/s\u001b[0m eta \u001b[36m0:00:00\u001b[0m\r\n",
      "\u001b[?25h"
     ]
    },
    {
     "name": "stdout",
     "output_type": "stream",
     "text": [
      "Collecting fsspec>=0.6.0\r\n",
      "  Downloading fsspec-2022.2.0-py3-none-any.whl (134 kB)\r\n",
      "\u001b[?25l     \u001b[90m━━━━━━━━━━━━━━━━━━━━━━━━━━━━━━━━━━━━━━━━\u001b[0m \u001b[32m0.0/134.9 KB\u001b[0m \u001b[31m?\u001b[0m eta \u001b[36m-:--:--\u001b[0m"
     ]
    },
    {
     "name": "stdout",
     "output_type": "stream",
     "text": [
      "\r",
      "\u001b[2K     \u001b[90m━━━━━━━━━━━━━━━━━━━━━━━━━━━━━━━━━━━━━━\u001b[0m \u001b[32m134.9/134.9 KB\u001b[0m \u001b[31m51.5 MB/s\u001b[0m eta \u001b[36m0:00:00\u001b[0m\r\n",
      "\u001b[?25hCollecting cloudpickle>=1.1.1\r\n",
      "  Downloading cloudpickle-2.0.0-py3-none-any.whl (25 kB)\r\n"
     ]
    },
    {
     "name": "stdout",
     "output_type": "stream",
     "text": [
      "Collecting pyyaml>=5.3.1\r\n"
     ]
    },
    {
     "name": "stdout",
     "output_type": "stream",
     "text": [
      "  Downloading PyYAML-6.0-cp38-cp38-manylinux_2_5_x86_64.manylinux1_x86_64.manylinux_2_12_x86_64.manylinux2010_x86_64.whl (701 kB)\r\n",
      "\u001b[?25l     \u001b[90m━━━━━━━━━━━━━━━━━━━━━━━━━━━━━━━━━━━━━━━━\u001b[0m \u001b[32m0.0/701.2 KB\u001b[0m \u001b[31m?\u001b[0m eta \u001b[36m-:--:--\u001b[0m\r",
      "\u001b[2K     \u001b[90m━━━━━━━━━━━━━━━━━━━━━━━━━━━━━━━━━━━━━\u001b[0m \u001b[32m701.2/701.2 KB\u001b[0m \u001b[31m105.0 MB/s\u001b[0m eta \u001b[36m0:00:00\u001b[0m\r\n",
      "\u001b[?25h"
     ]
    },
    {
     "name": "stdout",
     "output_type": "stream",
     "text": [
      "Collecting partd>=0.3.10\r\n",
      "  Downloading partd-1.2.0-py3-none-any.whl (19 kB)\r\n",
      "Requirement already satisfied: pillow>=8.3.2 in /usr/share/miniconda3/envs/test/lib/python3.8/site-packages (from imageio->porespy) (9.0.1)\r\n"
     ]
    },
    {
     "name": "stdout",
     "output_type": "stream",
     "text": [
      "Requirement already satisfied: python-dateutil>=2.7 in /usr/share/miniconda3/envs/test/lib/python3.8/site-packages (from matplotlib->porespy) (2.8.2)\r\n",
      "Requirement already satisfied: pyparsing>=2.2.1 in /usr/share/miniconda3/envs/test/lib/python3.8/site-packages (from matplotlib->porespy) (3.0.7)\r\n",
      "Requirement already satisfied: kiwisolver>=1.0.1 in /usr/share/miniconda3/envs/test/lib/python3.8/site-packages (from matplotlib->porespy) (1.4.0)\r\n",
      "Requirement already satisfied: cycler>=0.10 in /usr/share/miniconda3/envs/test/lib/python3.8/site-packages (from matplotlib->porespy) (0.11.0)\r\n",
      "Requirement already satisfied: fonttools>=4.22.0 in /usr/share/miniconda3/envs/test/lib/python3.8/site-packages (from matplotlib->porespy) (4.31.2)\r\n",
      "Requirement already satisfied: setuptools in /usr/share/miniconda3/envs/test/lib/python3.8/site-packages (from numba->porespy) (60.10.0)\r\n",
      "Requirement already satisfied: llvmlite<0.39,>=0.38.0rc1 in /usr/share/miniconda3/envs/test/lib/python3.8/site-packages (from numba->porespy) (0.38.0)"
     ]
    },
    {
     "name": "stdout",
     "output_type": "stream",
     "text": [
      "\r\n",
      "Collecting python-utils>=1.6.2\r\n",
      "  Downloading python_utils-3.1.0-py2.py3-none-any.whl (19 kB)\r\n"
     ]
    },
    {
     "name": "stdout",
     "output_type": "stream",
     "text": [
      "Requirement already satisfied: attr in /usr/share/miniconda3/envs/test/lib/python3.8/site-packages (from openpnm->porespy) (0.3.1)\r\n",
      "Requirement already satisfied: auto_all in /usr/share/miniconda3/envs/test/lib/python3.8/site-packages (from openpnm->porespy) (1.4.1)\r\n",
      "Requirement already satisfied: chemicals in /usr/share/miniconda3/envs/test/lib/python3.8/site-packages (from openpnm->porespy) (1.0.19)\r\n",
      "Requirement already satisfied: docrep>=0.3 in /usr/share/miniconda3/envs/test/lib/python3.8/site-packages (from openpnm->porespy) (0.3.2)\r\n",
      "Requirement already satisfied: flatdict in /usr/share/miniconda3/envs/test/lib/python3.8/site-packages (from openpnm->porespy) (4.0.1)\r\n",
      "Requirement already satisfied: gitpython in /usr/share/miniconda3/envs/test/lib/python3.8/site-packages (from openpnm->porespy) (3.1.27)\r\n",
      "Requirement already satisfied: h5py in /usr/share/miniconda3/envs/test/lib/python3.8/site-packages (from openpnm->porespy) (3.6.0)\r\n",
      "Requirement already satisfied: ipython in /usr/share/miniconda3/envs/test/lib/python3.8/site-packages (from openpnm->porespy) (8.1.1)\r\n",
      "Requirement already satisfied: jsonschema in /usr/share/miniconda3/envs/test/lib/python3.8/site-packages (from openpnm->porespy) (4.4.0)\r\n",
      "Requirement already satisfied: json-tricks in /usr/share/miniconda3/envs/test/lib/python3.8/site-packages (from openpnm->porespy) (3.15.5)\r\n",
      "Requirement already satisfied: networkx in /usr/share/miniconda3/envs/test/lib/python3.8/site-packages (from openpnm->porespy) (2.7.1)\r\n",
      "Requirement already satisfied: pypardiso in /usr/share/miniconda3/envs/test/lib/python3.8/site-packages (from openpnm->porespy) (0.4.0)\r\n",
      "Requirement already satisfied: sympy in /usr/share/miniconda3/envs/test/lib/python3.8/site-packages (from openpnm->porespy) (1.10.1)\r\n",
      "Requirement already satisfied: terminaltables in /usr/share/miniconda3/envs/test/lib/python3.8/site-packages (from openpnm->porespy) (3.1.10)\r\n",
      "Requirement already satisfied: traits in /usr/share/miniconda3/envs/test/lib/python3.8/site-packages (from openpnm->porespy) (6.3.2)\r\n",
      "Requirement already satisfied: pytz>=2020.1 in /usr/share/miniconda3/envs/test/lib/python3.8/site-packages (from pandas->porespy) (2022.1)\r\n"
     ]
    },
    {
     "name": "stdout",
     "output_type": "stream",
     "text": [
      "Requirement already satisfied: PyWavelets>=1.1.1 in /usr/share/miniconda3/envs/test/lib/python3.8/site-packages (from scikit-image->porespy) (1.3.0)\r\n",
      "Requirement already satisfied: tifffile>=2019.7.26 in /usr/share/miniconda3/envs/test/lib/python3.8/site-packages (from scikit-image->porespy) (2022.3.16)\r\n"
     ]
    },
    {
     "name": "stdout",
     "output_type": "stream",
     "text": [
      "Requirement already satisfied: six in /usr/share/miniconda3/envs/test/lib/python3.8/site-packages (from docrep>=0.3->openpnm->porespy) (1.16.0)\r\n"
     ]
    },
    {
     "name": "stdout",
     "output_type": "stream",
     "text": [
      "Collecting locket\r\n",
      "  Downloading locket-0.2.1-py2.py3-none-any.whl (4.1 kB)\r\n"
     ]
    },
    {
     "name": "stdout",
     "output_type": "stream",
     "text": [
      "Requirement already satisfied: fluids>=1.0.12 in /usr/share/miniconda3/envs/test/lib/python3.8/site-packages (from chemicals->openpnm->porespy) (1.0.19)\r\n",
      "Requirement already satisfied: gitdb<5,>=4.0.1 in /usr/share/miniconda3/envs/test/lib/python3.8/site-packages (from gitpython->openpnm->porespy) (4.0.9)\r\n"
     ]
    },
    {
     "name": "stdout",
     "output_type": "stream",
     "text": [
      "Requirement already satisfied: traitlets>=5 in /usr/share/miniconda3/envs/test/lib/python3.8/site-packages (from ipython->openpnm->porespy) (5.1.1)\r\n",
      "Requirement already satisfied: matplotlib-inline in /usr/share/miniconda3/envs/test/lib/python3.8/site-packages (from ipython->openpnm->porespy) (0.1.3)\r\n",
      "Requirement already satisfied: pygments>=2.4.0 in /usr/share/miniconda3/envs/test/lib/python3.8/site-packages (from ipython->openpnm->porespy) (2.11.2)\r\n",
      "Requirement already satisfied: prompt-toolkit!=3.0.0,!=3.0.1,<3.1.0,>=2.0.0 in /usr/share/miniconda3/envs/test/lib/python3.8/site-packages (from ipython->openpnm->porespy) (3.0.27)\r\n",
      "Requirement already satisfied: backcall in /usr/share/miniconda3/envs/test/lib/python3.8/site-packages (from ipython->openpnm->porespy) (0.2.0)\r\n",
      "Requirement already satisfied: jedi>=0.16 in /usr/share/miniconda3/envs/test/lib/python3.8/site-packages (from ipython->openpnm->porespy) (0.18.1)\r\n",
      "Requirement already satisfied: stack-data in /usr/share/miniconda3/envs/test/lib/python3.8/site-packages (from ipython->openpnm->porespy) (0.2.0)\r\n",
      "Requirement already satisfied: pickleshare in /usr/share/miniconda3/envs/test/lib/python3.8/site-packages (from ipython->openpnm->porespy) (0.7.5)\r\n",
      "Requirement already satisfied: pexpect>4.3 in /usr/share/miniconda3/envs/test/lib/python3.8/site-packages (from ipython->openpnm->porespy) (4.8.0)\r\n",
      "Requirement already satisfied: decorator in /usr/share/miniconda3/envs/test/lib/python3.8/site-packages (from ipython->openpnm->porespy) (5.1.1)\r\n",
      "Requirement already satisfied: importlib-resources>=1.4.0 in /usr/share/miniconda3/envs/test/lib/python3.8/site-packages (from jsonschema->openpnm->porespy) (5.4.0)\r\n",
      "Requirement already satisfied: pyrsistent!=0.17.0,!=0.17.1,!=0.17.2,>=0.14.0 in /usr/share/miniconda3/envs/test/lib/python3.8/site-packages (from jsonschema->openpnm->porespy) (0.18.1)\r\n",
      "Requirement already satisfied: attrs>=17.4.0 in /usr/share/miniconda3/envs/test/lib/python3.8/site-packages (from jsonschema->openpnm->porespy) (21.4.0)\r\n"
     ]
    },
    {
     "name": "stdout",
     "output_type": "stream",
     "text": [
      "Requirement already satisfied: mkl in /usr/share/miniconda3/envs/test/lib/python3.8/site-packages (from pypardiso->openpnm->porespy) (2022.0.2)\r\n",
      "Requirement already satisfied: mpmath>=0.19 in /usr/share/miniconda3/envs/test/lib/python3.8/site-packages (from sympy->openpnm->porespy) (1.2.1)\r\n"
     ]
    },
    {
     "name": "stdout",
     "output_type": "stream",
     "text": [
      "Requirement already satisfied: smmap<6,>=3.0.1 in /usr/share/miniconda3/envs/test/lib/python3.8/site-packages (from gitdb<5,>=4.0.1->gitpython->openpnm->porespy) (5.0.0)\r\n",
      "Requirement already satisfied: zipp>=3.1.0 in /usr/share/miniconda3/envs/test/lib/python3.8/site-packages (from importlib-resources>=1.4.0->jsonschema->openpnm->porespy) (3.7.0)\r\n",
      "Requirement already satisfied: parso<0.9.0,>=0.8.0 in /usr/share/miniconda3/envs/test/lib/python3.8/site-packages (from jedi>=0.16->ipython->openpnm->porespy) (0.8.3)\r\n",
      "Requirement already satisfied: ptyprocess>=0.5 in /usr/share/miniconda3/envs/test/lib/python3.8/site-packages (from pexpect>4.3->ipython->openpnm->porespy) (0.7.0)\r\n",
      "Requirement already satisfied: wcwidth in /usr/share/miniconda3/envs/test/lib/python3.8/site-packages (from prompt-toolkit!=3.0.0,!=3.0.1,<3.1.0,>=2.0.0->ipython->openpnm->porespy) (0.2.5)\r\n"
     ]
    },
    {
     "name": "stdout",
     "output_type": "stream",
     "text": [
      "Requirement already satisfied: tbb==2021.* in /usr/share/miniconda3/envs/test/lib/python3.8/site-packages (from mkl->pypardiso->openpnm->porespy) (2021.5.1)\r\n",
      "Requirement already satisfied: intel-openmp==2022.* in /usr/share/miniconda3/envs/test/lib/python3.8/site-packages (from mkl->pypardiso->openpnm->porespy) (2022.0.2)\r\n",
      "Requirement already satisfied: executing in /usr/share/miniconda3/envs/test/lib/python3.8/site-packages (from stack-data->ipython->openpnm->porespy) (0.8.3)\r\n",
      "Requirement already satisfied: asttokens in /usr/share/miniconda3/envs/test/lib/python3.8/site-packages (from stack-data->ipython->openpnm->porespy) (2.0.5)\r\n",
      "Requirement already satisfied: pure-eval in /usr/share/miniconda3/envs/test/lib/python3.8/site-packages (from stack-data->ipython->openpnm->porespy) (0.2.2)\r\n"
     ]
    },
    {
     "name": "stdout",
     "output_type": "stream",
     "text": [
      "Building wheels for collected packages: numpy-stl, scikit-fmm\r\n"
     ]
    },
    {
     "name": "stdout",
     "output_type": "stream",
     "text": [
      "  Building wheel for numpy-stl (setup.py) ... \u001b[?25l-"
     ]
    },
    {
     "name": "stdout",
     "output_type": "stream",
     "text": [
      "\b \b\\"
     ]
    },
    {
     "name": "stdout",
     "output_type": "stream",
     "text": [
      "\b \b|"
     ]
    },
    {
     "name": "stdout",
     "output_type": "stream",
     "text": [
      "\b \b/"
     ]
    },
    {
     "name": "stdout",
     "output_type": "stream",
     "text": [
      "\b \b-"
     ]
    },
    {
     "name": "stdout",
     "output_type": "stream",
     "text": [
      "\b \b\\"
     ]
    },
    {
     "name": "stdout",
     "output_type": "stream",
     "text": [
      "\b \bdone\r\n",
      "\u001b[?25h  Created wheel for numpy-stl: filename=numpy_stl-2.16.3-py3-none-any.whl size=18677 sha256=74ef62e9d8ea1113179156bf874d823de185a757b7f0cc414796f44a4bd71c2f\r\n",
      "  Stored in directory: /home/runner/.cache/pip/wheels/3a/81/67/18f4cc12b926f6a5eb1c39df40b2cb6ad19e1c7686eec73574"
     ]
    },
    {
     "name": "stdout",
     "output_type": "stream",
     "text": [
      "\r\n"
     ]
    },
    {
     "name": "stdout",
     "output_type": "stream",
     "text": [
      "  Building wheel for scikit-fmm (pyproject.toml) ... \u001b[?25l-"
     ]
    },
    {
     "name": "stdout",
     "output_type": "stream",
     "text": [
      "\b \b\\"
     ]
    },
    {
     "name": "stdout",
     "output_type": "stream",
     "text": [
      "\b \b|"
     ]
    },
    {
     "name": "stdout",
     "output_type": "stream",
     "text": [
      "\b \b/"
     ]
    },
    {
     "name": "stdout",
     "output_type": "stream",
     "text": [
      "\b \b-"
     ]
    },
    {
     "name": "stdout",
     "output_type": "stream",
     "text": [
      "\b \b\\"
     ]
    },
    {
     "name": "stdout",
     "output_type": "stream",
     "text": [
      "\b \b|"
     ]
    },
    {
     "name": "stdout",
     "output_type": "stream",
     "text": [
      "\b \b/"
     ]
    },
    {
     "name": "stdout",
     "output_type": "stream",
     "text": [
      "\b \b-"
     ]
    },
    {
     "name": "stdout",
     "output_type": "stream",
     "text": [
      "\b \b\\"
     ]
    },
    {
     "name": "stdout",
     "output_type": "stream",
     "text": [
      "\b \b|"
     ]
    },
    {
     "name": "stdout",
     "output_type": "stream",
     "text": [
      "\b \bdone\r\n",
      "\u001b[?25h  Created wheel for scikit-fmm: filename=scikit_fmm-2022.2.2-cp38-cp38-linux_x86_64.whl size=282006 sha256=e38554734690951db00d9e7b6761aded8bfa6d9ca3382f038d9a089b4a5d28a9\r\n",
      "  Stored in directory: /home/runner/.cache/pip/wheels/3b/05/28/1210d654ddc7ae9da3cbb73b0af7d7263fcef415249948791f\r\n",
      "Successfully built numpy-stl scikit-fmm\r\n"
     ]
    },
    {
     "name": "stdout",
     "output_type": "stream",
     "text": [
      "Installing collected packages: trimesh, toolz, scikit-fmm, pyyaml, python-utils, pyfastnoisesimd, pyevtk, loguru, locket, fsspec, edt, cloudpickle, partd, numpy-stl, dask, porespy\r\n"
     ]
    },
    {
     "name": "stdout",
     "output_type": "stream",
     "text": [
      "Successfully installed cloudpickle-2.0.0 dask-2022.3.0 edt-2.1.2 fsspec-2022.2.0 locket-0.2.1 loguru-0.6.0 numpy-stl-2.16.3 partd-1.2.0 porespy-2.0.2 pyevtk-1.4.1 pyfastnoisesimd-0.4.2 python-utils-3.1.0 pyyaml-6.0 scikit-fmm-2022.2.2 toolz-0.11.2 trimesh-3.10.5\r\n"
     ]
    }
   ],
   "source": [
    "# Install the required pmeal packages in the current Jupyter kernel\n",
    "import sys\n",
    "try:\n",
    "    import openpnm as op\n",
    "except:\n",
    "    !{sys.executable} -m pip install openpnm\n",
    "    import openpnm as op\n",
    "try:\n",
    "    import porespy as ps\n",
    "except:\n",
    "    !{sys.executable} -m pip install porespy\n",
    "    import porespy as ps"
   ]
  },
  {
   "cell_type": "code",
   "execution_count": 2,
   "metadata": {
    "execution": {
     "iopub.execute_input": "2022-03-23T01:18:44.074028Z",
     "iopub.status.busy": "2022-03-23T01:18:44.073720Z",
     "iopub.status.idle": "2022-03-23T01:18:44.120777Z",
     "shell.execute_reply": "2022-03-23T01:18:44.120368Z"
    }
   },
   "outputs": [],
   "source": [
    "import requests\n",
    "import numpy as np\n",
    "from scipy import ndimage\n",
    "import matplotlib.pyplot as plt\n",
    "import porespy as ps\n",
    "import openpnm as op\n",
    "from openpnm.utils import tic, toc\n",
    "from PIL import Image\n",
    "from io import BytesIO\n",
    "%config InlineBackend.figure_formats = ['svg']\n",
    "ws = op.Workspace()\n",
    "ws.settings[\"loglevel\"] = 60"
   ]
  },
  {
   "cell_type": "markdown",
   "metadata": {},
   "source": [
    "## Load maze samples"
   ]
  },
  {
   "cell_type": "code",
   "execution_count": 3,
   "metadata": {
    "execution": {
     "iopub.execute_input": "2022-03-23T01:18:44.123398Z",
     "iopub.status.busy": "2022-03-23T01:18:44.123097Z",
     "iopub.status.idle": "2022-03-23T01:18:44.125638Z",
     "shell.execute_reply": "2022-03-23T01:18:44.125319Z"
    }
   },
   "outputs": [],
   "source": [
    "im_size = 'medium'\n",
    "\n",
    "if im_size == 'small':\n",
    "    url = 'https://imgur.com/ZLbV4eh.png'\n",
    "elif im_size == 'medium':\n",
    "    url = 'https://imgur.com/A3Jx8SJ.png'\n",
    "else:\n",
    "    url = 'https://imgur.com/FLJ21e5.png'"
   ]
  },
  {
   "cell_type": "code",
   "execution_count": 4,
   "metadata": {
    "execution": {
     "iopub.execute_input": "2022-03-23T01:18:44.127691Z",
     "iopub.status.busy": "2022-03-23T01:18:44.127415Z",
     "iopub.status.idle": "2022-03-23T01:18:45.088088Z",
     "shell.execute_reply": "2022-03-23T01:18:45.087573Z"
    }
   },
   "outputs": [
    {
     "data": {
      "image/svg+xml": [
       "<?xml version=\"1.0\" encoding=\"utf-8\" standalone=\"no\"?>\n",
       "<!DOCTYPE svg PUBLIC \"-//W3C//DTD SVG 1.1//EN\"\n",
       "  \"http://www.w3.org/Graphics/SVG/1.1/DTD/svg11.dtd\">\n",
       "<svg xmlns:xlink=\"http://www.w3.org/1999/xlink\" width=\"286.2pt\" height=\"286.2pt\" viewBox=\"0 0 286.2 286.2\" xmlns=\"http://www.w3.org/2000/svg\" version=\"1.1\">\n",
       " <metadata>\n",
       "  <rdf:RDF xmlns:dc=\"http://purl.org/dc/elements/1.1/\" xmlns:cc=\"http://creativecommons.org/ns#\" xmlns:rdf=\"http://www.w3.org/1999/02/22-rdf-syntax-ns#\">\n",
       "   <cc:Work>\n",
       "    <dc:type rdf:resource=\"http://purl.org/dc/dcmitype/StillImage\"/>\n",
       "    <dc:date>2022-03-23T01:18:45.019637</dc:date>\n",
       "    <dc:format>image/svg+xml</dc:format>\n",
       "    <dc:creator>\n",
       "     <cc:Agent>\n",
       "      <dc:title>Matplotlib v3.5.1, https://matplotlib.org/</dc:title>\n",
       "     </cc:Agent>\n",
       "    </dc:creator>\n",
       "   </cc:Work>\n",
       "  </rdf:RDF>\n",
       " </metadata>\n",
       " <defs>\n",
       "  <style type=\"text/css\">*{stroke-linejoin: round; stroke-linecap: butt}</style>\n",
       " </defs>\n",
       " <g id=\"figure_1\">\n",
       "  <g id=\"patch_1\">\n",
       "   <path d=\"M 0 286.2 \n",
       "L 286.2 286.2 \n",
       "L 286.2 0 \n",
       "L 0 0 \n",
       "L 0 286.2 \n",
       "z\n",
       "\" style=\"fill: none\"/>\n",
       "  </g>\n",
       "  <g id=\"axes_1\">\n",
       "   <g clip-path=\"url(#p7e8ad5e352)\">\n",
       "    <image xlink:href=\"data:image/png;base64,\n",
       "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\" id=\"imagee5cb539ec6\" transform=\"matrix(0.339152 0 0 0.339152 7.2 7)\" style=\"image-rendering:crisp-edges;image-rendering:pixelated\" width=\"802\" height=\"802\"/>\n",
       "   </g>\n",
       "  </g>\n",
       " </g>\n",
       " <defs>\n",
       "  <clipPath id=\"p7e8ad5e352\">\n",
       "   <rect x=\"7.2\" y=\"7.2\" width=\"271.8\" height=\"271.8\"/>\n",
       "  </clipPath>\n",
       " </defs>\n",
       "</svg>\n"
      ],
      "text/plain": [
       "<Figure size 360x360 with 1 Axes>"
      ]
     },
     "metadata": {
      "needs_background": "light"
     },
     "output_type": "display_data"
    }
   ],
   "source": [
    "response = requests.get(url)\n",
    "img = Image.open(BytesIO(response.content))\n",
    "im = np.array(img.getdata()).reshape(img.size[0], img.size[1], 4)[:, :, 0]\n",
    "im = im == 255\n",
    "\n",
    "Nx, Ny, = im.shape\n",
    "\n",
    "fig, ax = plt.subplots(figsize=(5, 5))\n",
    "ax.imshow(im, cmap='Blues', interpolation=\"none\")\n",
    "ax.axis(\"off\");"
   ]
  },
  {
   "cell_type": "markdown",
   "metadata": {},
   "source": [
    "## Approach A: Direct numerical simulation"
   ]
  },
  {
   "cell_type": "markdown",
   "metadata": {},
   "source": [
    "## Thicken the walls to reduce number of unknowns"
   ]
  },
  {
   "cell_type": "code",
   "execution_count": 5,
   "metadata": {
    "execution": {
     "iopub.execute_input": "2022-03-23T01:18:45.090857Z",
     "iopub.status.busy": "2022-03-23T01:18:45.090596Z",
     "iopub.status.idle": "2022-03-23T01:18:45.159885Z",
     "shell.execute_reply": "2022-03-23T01:18:45.155417Z"
    }
   },
   "outputs": [
    {
     "name": "stderr",
     "output_type": "stream",
     "text": [
      "/tmp/ipykernel_2829/1691655960.py:8: DeprecationWarning: Please use `binary_dilation` from the `scipy.ndimage` namespace, the `scipy.ndimage.morphology` namespace is deprecated.\n",
      "  return ~ndimage.morphology.binary_dilation(~im, structure=strel)\n"
     ]
    }
   ],
   "source": [
    "# Structuring element for thickening walls\n",
    "strel = np.array([[1, 1, 1],\n",
    "                  [1, 1, 1],\n",
    "                  [1, 1, 1]])\n",
    "\n",
    "# Save some computation by thickening the walls\n",
    "def thicken_wall(im):\n",
    "    return ~ndimage.morphology.binary_dilation(~im, structure=strel)\n",
    "\n",
    "for _ in range(5):\n",
    "    im = thicken_wall(im)"
   ]
  },
  {
   "cell_type": "code",
   "execution_count": 6,
   "metadata": {
    "execution": {
     "iopub.execute_input": "2022-03-23T01:18:45.163314Z",
     "iopub.status.busy": "2022-03-23T01:18:45.162538Z",
     "iopub.status.idle": "2022-03-23T01:18:45.252790Z",
     "shell.execute_reply": "2022-03-23T01:18:45.252330Z"
    }
   },
   "outputs": [
    {
     "data": {
      "text/plain": [
       "(-0.5, 801.5, 801.5, -0.5)"
      ]
     },
     "execution_count": 6,
     "metadata": {},
     "output_type": "execute_result"
    },
    {
     "data": {
      "image/svg+xml": [
       "<?xml version=\"1.0\" encoding=\"utf-8\" standalone=\"no\"?>\n",
       "<!DOCTYPE svg PUBLIC \"-//W3C//DTD SVG 1.1//EN\"\n",
       "  \"http://www.w3.org/Graphics/SVG/1.1/DTD/svg11.dtd\">\n",
       "<svg xmlns:xlink=\"http://www.w3.org/1999/xlink\" width=\"286.2pt\" height=\"286.2pt\" viewBox=\"0 0 286.2 286.2\" xmlns=\"http://www.w3.org/2000/svg\" version=\"1.1\">\n",
       " <metadata>\n",
       "  <rdf:RDF xmlns:dc=\"http://purl.org/dc/elements/1.1/\" xmlns:cc=\"http://creativecommons.org/ns#\" xmlns:rdf=\"http://www.w3.org/1999/02/22-rdf-syntax-ns#\">\n",
       "   <cc:Work>\n",
       "    <dc:type rdf:resource=\"http://purl.org/dc/dcmitype/StillImage\"/>\n",
       "    <dc:date>2022-03-23T01:18:45.222738</dc:date>\n",
       "    <dc:format>image/svg+xml</dc:format>\n",
       "    <dc:creator>\n",
       "     <cc:Agent>\n",
       "      <dc:title>Matplotlib v3.5.1, https://matplotlib.org/</dc:title>\n",
       "     </cc:Agent>\n",
       "    </dc:creator>\n",
       "   </cc:Work>\n",
       "  </rdf:RDF>\n",
       " </metadata>\n",
       " <defs>\n",
       "  <style type=\"text/css\">*{stroke-linejoin: round; stroke-linecap: butt}</style>\n",
       " </defs>\n",
       " <g id=\"figure_1\">\n",
       "  <g id=\"patch_1\">\n",
       "   <path d=\"M 0 286.2 \n",
       "L 286.2 286.2 \n",
       "L 286.2 0 \n",
       "L 0 0 \n",
       "L 0 286.2 \n",
       "z\n",
       "\" style=\"fill: none\"/>\n",
       "  </g>\n",
       "  <g id=\"axes_1\">\n",
       "   <g clip-path=\"url(#p574a776cf4)\">\n",
       "    <image xlink:href=\"data:image/png;base64,\n",
       "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\" id=\"image1ffd1a3f6f\" transform=\"matrix(0.339152 0 0 0.339152 7.2 7)\" style=\"image-rendering:crisp-edges;image-rendering:pixelated\" width=\"802\" height=\"802\"/>\n",
       "   </g>\n",
       "  </g>\n",
       " </g>\n",
       " <defs>\n",
       "  <clipPath id=\"p574a776cf4\">\n",
       "   <rect x=\"7.2\" y=\"7.2\" width=\"271.8\" height=\"271.8\"/>\n",
       "  </clipPath>\n",
       " </defs>\n",
       "</svg>\n"
      ],
      "text/plain": [
       "<Figure size 360x360 with 1 Axes>"
      ]
     },
     "metadata": {
      "needs_background": "light"
     },
     "output_type": "display_data"
    }
   ],
   "source": [
    "fig, ax = plt.subplots(figsize=(5, 5))\n",
    "ax.imshow(im, cmap='Blues', interpolation=\"none\")\n",
    "ax.axis(\"off\")"
   ]
  },
  {
   "cell_type": "markdown",
   "metadata": {},
   "source": [
    "## Convert the maze into a Cubic network"
   ]
  },
  {
   "cell_type": "code",
   "execution_count": 7,
   "metadata": {
    "execution": {
     "iopub.execute_input": "2022-03-23T01:18:45.255581Z",
     "iopub.status.busy": "2022-03-23T01:18:45.255343Z",
     "iopub.status.idle": "2022-03-23T01:18:45.428154Z",
     "shell.execute_reply": "2022-03-23T01:18:45.427684Z"
    }
   },
   "outputs": [],
   "source": [
    "# Get top and bottom boundaries\n",
    "BP_top = np.zeros_like(im)\n",
    "BP_bot = np.zeros_like(im)\n",
    "BP_top[0, :] = True\n",
    "BP_bot[-1, :] = True\n",
    "BP_top *= im\n",
    "BP_bot *= im\n",
    "\n",
    "# Make a cubis network with same dimensions as image and assign the props\n",
    "net = op.network.Cubic(shape=[Nx, Ny, 1])\n",
    "net['pore.index'] = np.arange(0, net.Np)\n",
    "net['pore.BP_top'] = BP_top.flatten()\n",
    "net['pore.BP_bot'] = BP_bot.flatten()\n",
    "\n",
    "# Trim wall pores\n",
    "op.topotools.trim(network=net, pores=~im.flatten())"
   ]
  },
  {
   "cell_type": "markdown",
   "metadata": {},
   "source": [
    "## Solve the Poisson equation ($\\nabla^2 \\phi = 0$) on the maze"
   ]
  },
  {
   "cell_type": "code",
   "execution_count": 8,
   "metadata": {
    "execution": {
     "iopub.execute_input": "2022-03-23T01:18:45.431673Z",
     "iopub.status.busy": "2022-03-23T01:18:45.430861Z",
     "iopub.status.idle": "2022-03-23T01:18:45.874487Z",
     "shell.execute_reply": "2022-03-23T01:18:45.874103Z"
    }
   },
   "outputs": [
    {
     "ename": "AttributeError",
     "evalue": "module 'openpnm' has no attribute 'phases'",
     "output_type": "error",
     "traceback": [
      "\u001b[0;31m---------------------------------------------------------------------------\u001b[0m",
      "\u001b[0;31mAttributeError\u001b[0m                            Traceback (most recent call last)",
      "Input \u001b[0;32mIn [8]\u001b[0m, in \u001b[0;36m<cell line: 2>\u001b[0;34m()\u001b[0m\n\u001b[1;32m      1\u001b[0m \u001b[38;5;66;03m# Set up a dummy phase and apply uniform arbitrary conductance\u001b[39;00m\n\u001b[0;32m----> 2\u001b[0m phase \u001b[38;5;241m=\u001b[39m \u001b[43mop\u001b[49m\u001b[38;5;241;43m.\u001b[39;49m\u001b[43mphases\u001b[49m\u001b[38;5;241m.\u001b[39mGenericPhase(network\u001b[38;5;241m=\u001b[39mnet)\n\u001b[1;32m      3\u001b[0m phase[\u001b[38;5;124m'\u001b[39m\u001b[38;5;124mthroat.electrical_conductance\u001b[39m\u001b[38;5;124m'\u001b[39m] \u001b[38;5;241m=\u001b[39m \u001b[38;5;241m1.0\u001b[39m\n\u001b[1;32m      5\u001b[0m \u001b[38;5;66;03m# Run algorithm\u001b[39;00m\n",
      "\u001b[0;31mAttributeError\u001b[0m: module 'openpnm' has no attribute 'phases'"
     ]
    }
   ],
   "source": [
    "# Set up a dummy phase and apply uniform arbitrary conductance\n",
    "phase = op.phases.GenericPhase(network=net)\n",
    "phase['throat.electrical_conductance'] = 1.0\n",
    "\n",
    "# Run algorithm\n",
    "alg = op.algorithms.OhmicConduction(network=net, phase=phase)\n",
    "alg.set_value_BC(pores=net.pores('BP_top'), values=0.0)\n",
    "alg.set_value_BC(pores=net.pores('BP_bot'), values=1.0)\n",
    "tic()\n",
    "alg.run()\n",
    "dt = toc(quiet=True);\n",
    "print(f'Solve time: {dt:.3f} s')"
   ]
  },
  {
   "cell_type": "markdown",
   "metadata": {},
   "source": [
    "## Follow the gradient!"
   ]
  },
  {
   "cell_type": "code",
   "execution_count": 9,
   "metadata": {
    "execution": {
     "iopub.execute_input": "2022-03-23T01:18:45.877664Z",
     "iopub.status.busy": "2022-03-23T01:18:45.876910Z",
     "iopub.status.idle": "2022-03-23T01:18:45.893322Z",
     "shell.execute_reply": "2022-03-23T01:18:45.892972Z"
    }
   },
   "outputs": [
    {
     "ename": "NameError",
     "evalue": "name 'alg' is not defined",
     "output_type": "error",
     "traceback": [
      "\u001b[0;31m---------------------------------------------------------------------------\u001b[0m",
      "\u001b[0;31mNameError\u001b[0m                                 Traceback (most recent call last)",
      "Input \u001b[0;32mIn [9]\u001b[0m, in \u001b[0;36m<cell line: 3>\u001b[0;34m()\u001b[0m\n\u001b[1;32m      1\u001b[0m \u001b[38;5;66;03m# Calculate flux in throats and show in pores\u001b[39;00m\n\u001b[1;32m      2\u001b[0m \u001b[38;5;66;03m# Note: No need to calculate pore.rate as it auto interpolates from throat values\u001b[39;00m\n\u001b[0;32m----> 3\u001b[0m phase[\u001b[38;5;124m'\u001b[39m\u001b[38;5;124mthroat.rate\u001b[39m\u001b[38;5;124m'\u001b[39m] \u001b[38;5;241m=\u001b[39m \u001b[43malg\u001b[49m\u001b[38;5;241m.\u001b[39mrate(throats\u001b[38;5;241m=\u001b[39mnet\u001b[38;5;241m.\u001b[39mTs, mode\u001b[38;5;241m=\u001b[39m\u001b[38;5;124m'\u001b[39m\u001b[38;5;124msingle\u001b[39m\u001b[38;5;124m'\u001b[39m)\n\u001b[1;32m      4\u001b[0m rate_im \u001b[38;5;241m=\u001b[39m np\u001b[38;5;241m.\u001b[39mones([Nx, Ny])\u001b[38;5;241m.\u001b[39mflatten() \u001b[38;5;241m*\u001b[39m np\u001b[38;5;241m.\u001b[39mnan\n\u001b[1;32m      5\u001b[0m rate_im[net[\u001b[38;5;124m'\u001b[39m\u001b[38;5;124mpore.index\u001b[39m\u001b[38;5;124m'\u001b[39m]] \u001b[38;5;241m=\u001b[39m phase[\u001b[38;5;124m'\u001b[39m\u001b[38;5;124mpore.rate\u001b[39m\u001b[38;5;124m'\u001b[39m]\n",
      "\u001b[0;31mNameError\u001b[0m: name 'alg' is not defined"
     ]
    }
   ],
   "source": [
    "# Calculate flux in throats and show in pores\n",
    "# Note: No need to calculate pore.rate as it auto interpolates from throat values\n",
    "phase['throat.rate'] = alg.rate(throats=net.Ts, mode='single')\n",
    "rate_im = np.ones([Nx, Ny]).flatten() * np.nan\n",
    "rate_im[net['pore.index']] = phase['pore.rate']\n",
    "rate_im = rate_im.reshape([Nx, Ny])\n",
    "\n",
    "# Plot the maze solution\n",
    "fig, ax = plt.subplots(figsize=(5, 5))\n",
    "ax.imshow(rate_im, cmap='jet', interpolation=\"none\")\n",
    "ax.axis(\"off\");"
   ]
  },
  {
   "cell_type": "markdown",
   "metadata": {},
   "source": [
    "## Approach B: Network extraction"
   ]
  },
  {
   "cell_type": "markdown",
   "metadata": {},
   "source": [
    "## Network extraction using SNOW algorithm"
   ]
  },
  {
   "cell_type": "code",
   "execution_count": 10,
   "metadata": {
    "execution": {
     "iopub.execute_input": "2022-03-23T01:18:45.896257Z",
     "iopub.status.busy": "2022-03-23T01:18:45.895505Z",
     "iopub.status.idle": "2022-03-23T01:18:48.982259Z",
     "shell.execute_reply": "2022-03-23T01:18:48.981461Z"
    }
   },
   "outputs": [
    {
     "data": {
      "application/vnd.jupyter.widget-view+json": {
       "model_id": "20386907eaf34b58ba4e37720096a916",
       "version_major": 2,
       "version_minor": 0
      },
      "text/plain": [
       "Extracting pore and throat properties:   0%|          | 0/1488 [00:00<?, ?it/s]"
      ]
     },
     "metadata": {},
     "output_type": "display_data"
    },
    {
     "ename": "AttributeError",
     "evalue": "module 'openpnm.io' has no attribute 'PoreSpy'",
     "output_type": "error",
     "traceback": [
      "\u001b[0;31m---------------------------------------------------------------------------\u001b[0m",
      "\u001b[0;31mAttributeError\u001b[0m                            Traceback (most recent call last)",
      "Input \u001b[0;32mIn [10]\u001b[0m, in \u001b[0;36m<cell line: 4>\u001b[0;34m()\u001b[0m\n\u001b[1;32m      1\u001b[0m \u001b[38;5;66;03m# We need to pass image transpose since matrix xy coords is inverted\u001b[39;00m\n\u001b[1;32m      2\u001b[0m \u001b[38;5;66;03m# i.e., row is x and col is y, whereas in Cartesian convention, it's the opposite.\u001b[39;00m\n\u001b[1;32m      3\u001b[0m out \u001b[38;5;241m=\u001b[39m ps\u001b[38;5;241m.\u001b[39mnetworks\u001b[38;5;241m.\u001b[39msnow2(im\u001b[38;5;241m.\u001b[39mT) \n\u001b[0;32m----> 4\u001b[0m proj \u001b[38;5;241m=\u001b[39m \u001b[43mop\u001b[49m\u001b[38;5;241;43m.\u001b[39;49m\u001b[43mio\u001b[49m\u001b[38;5;241;43m.\u001b[39;49m\u001b[43mPoreSpy\u001b[49m\u001b[38;5;241m.\u001b[39mimport_data(out\u001b[38;5;241m.\u001b[39mnetwork)\n\u001b[1;32m      5\u001b[0m net \u001b[38;5;241m=\u001b[39m proj\u001b[38;5;241m.\u001b[39mnetwork\n",
      "\u001b[0;31mAttributeError\u001b[0m: module 'openpnm.io' has no attribute 'PoreSpy'"
     ]
    }
   ],
   "source": [
    "# We need to pass image transpose since matrix xy coords is inverted\n",
    "# i.e., row is x and col is y, whereas in Cartesian convention, it's the opposite.\n",
    "out = ps.networks.snow2(im.T) \n",
    "proj = op.io.PoreSpy.import_data(out.network)\n",
    "net = proj.network"
   ]
  },
  {
   "cell_type": "markdown",
   "metadata": {},
   "source": [
    "## Solve the Poisson equation ($\\nabla^2 \\phi = 0$) on the extracted network"
   ]
  },
  {
   "cell_type": "code",
   "execution_count": 11,
   "metadata": {
    "execution": {
     "iopub.execute_input": "2022-03-23T01:18:48.984925Z",
     "iopub.status.busy": "2022-03-23T01:18:48.984769Z",
     "iopub.status.idle": "2022-03-23T01:18:49.001381Z",
     "shell.execute_reply": "2022-03-23T01:18:49.000892Z"
    }
   },
   "outputs": [
    {
     "ename": "AttributeError",
     "evalue": "module 'openpnm' has no attribute 'phases'",
     "output_type": "error",
     "traceback": [
      "\u001b[0;31m---------------------------------------------------------------------------\u001b[0m",
      "\u001b[0;31mAttributeError\u001b[0m                            Traceback (most recent call last)",
      "Input \u001b[0;32mIn [11]\u001b[0m, in \u001b[0;36m<cell line: 2>\u001b[0;34m()\u001b[0m\n\u001b[1;32m      1\u001b[0m \u001b[38;5;66;03m# Set up a dummy phase and apply uniform arbitrary conductance\u001b[39;00m\n\u001b[0;32m----> 2\u001b[0m phase \u001b[38;5;241m=\u001b[39m \u001b[43mop\u001b[49m\u001b[38;5;241;43m.\u001b[39;49m\u001b[43mphases\u001b[49m\u001b[38;5;241m.\u001b[39mGenericPhase(network\u001b[38;5;241m=\u001b[39mnet)\n\u001b[1;32m      3\u001b[0m phase[\u001b[38;5;124m'\u001b[39m\u001b[38;5;124mthroat.electrical_conductance\u001b[39m\u001b[38;5;124m'\u001b[39m] \u001b[38;5;241m=\u001b[39m \u001b[38;5;241m1.0\u001b[39m\n\u001b[1;32m      5\u001b[0m \u001b[38;5;66;03m# Run algorithm\u001b[39;00m\n",
      "\u001b[0;31mAttributeError\u001b[0m: module 'openpnm' has no attribute 'phases'"
     ]
    }
   ],
   "source": [
    "# Set up a dummy phase and apply uniform arbitrary conductance\n",
    "phase = op.phases.GenericPhase(network=net)\n",
    "phase['throat.electrical_conductance'] = 1.0\n",
    "\n",
    "# Run algorithm\n",
    "alg = op.algorithms.OhmicConduction(network=net, phase=phase)\n",
    "alg.set_value_BC(pores=net.pores('ymin'), values=0.0)\n",
    "alg.set_value_BC(pores=net.pores('ymax'), values=1.0)\n",
    "tic()\n",
    "alg.run()\n",
    "dt = toc(quiet=True);\n",
    "print(f'Solve time: {dt:.3f} s')"
   ]
  },
  {
   "cell_type": "markdown",
   "metadata": {},
   "source": [
    "## Follow the gradient!"
   ]
  },
  {
   "cell_type": "code",
   "execution_count": 12,
   "metadata": {
    "execution": {
     "iopub.execute_input": "2022-03-23T01:18:49.004003Z",
     "iopub.status.busy": "2022-03-23T01:18:49.003856Z",
     "iopub.status.idle": "2022-03-23T01:18:49.019468Z",
     "shell.execute_reply": "2022-03-23T01:18:49.018973Z"
    }
   },
   "outputs": [
    {
     "ename": "NameError",
     "evalue": "name 'alg' is not defined",
     "output_type": "error",
     "traceback": [
      "\u001b[0;31m---------------------------------------------------------------------------\u001b[0m",
      "\u001b[0;31mNameError\u001b[0m                                 Traceback (most recent call last)",
      "Input \u001b[0;32mIn [12]\u001b[0m, in \u001b[0;36m<cell line: 2>\u001b[0;34m()\u001b[0m\n\u001b[1;32m      1\u001b[0m \u001b[38;5;66;03m# Get throat rate values\u001b[39;00m\n\u001b[0;32m----> 2\u001b[0m phase[\u001b[38;5;124m'\u001b[39m\u001b[38;5;124mthroat.rate\u001b[39m\u001b[38;5;124m'\u001b[39m] \u001b[38;5;241m=\u001b[39m \u001b[43malg\u001b[49m\u001b[38;5;241m.\u001b[39mrate(throats\u001b[38;5;241m=\u001b[39mnet\u001b[38;5;241m.\u001b[39mTs, mode\u001b[38;5;241m=\u001b[39m\u001b[38;5;124m'\u001b[39m\u001b[38;5;124msingle\u001b[39m\u001b[38;5;124m'\u001b[39m)\n\u001b[1;32m      4\u001b[0m \u001b[38;5;66;03m# Plot the maze solution (i.e., throat rates!)\u001b[39;00m\n\u001b[1;32m      5\u001b[0m fig, ax \u001b[38;5;241m=\u001b[39m plt\u001b[38;5;241m.\u001b[39msubplots(figsize\u001b[38;5;241m=\u001b[39m(\u001b[38;5;241m5\u001b[39m, \u001b[38;5;241m5\u001b[39m))\n",
      "\u001b[0;31mNameError\u001b[0m: name 'alg' is not defined"
     ]
    }
   ],
   "source": [
    "# Get throat rate values\n",
    "phase['throat.rate'] = alg.rate(throats=net.Ts, mode='single')\n",
    "\n",
    "# Plot the maze solution (i.e., throat rates!)\n",
    "fig, ax = plt.subplots(figsize=(5, 5))\n",
    "op.topotools.plot_connections(net, ax=ax,\n",
    "                              color_by=phase[\"throat.rate\"],\n",
    "                              linewidth=2, cmap=\"Wistia\")\n",
    "ax.imshow(im, interpolation=\"none\", cmap='Blues');\n",
    "ax.axis(\"off\");"
   ]
  }
 ],
 "metadata": {
  "kernelspec": {
   "display_name": "Python 3",
   "language": "python",
   "name": "python3"
  },
  "language_info": {
   "codemirror_mode": {
    "name": "ipython",
    "version": 3
   },
   "file_extension": ".py",
   "mimetype": "text/x-python",
   "name": "python",
   "nbconvert_exporter": "python",
   "pygments_lexer": "ipython3",
   "version": "3.8.12"
  },
  "widgets": {
   "application/vnd.jupyter.widget-state+json": {
    "state": {
     "0850fa578bd04d7d8a91739502887815": {
      "model_module": "@jupyter-widgets/base",
      "model_module_version": "1.2.0",
      "model_name": "LayoutModel",
      "state": {
       "_model_module": "@jupyter-widgets/base",
       "_model_module_version": "1.2.0",
       "_model_name": "LayoutModel",
       "_view_count": null,
       "_view_module": "@jupyter-widgets/base",
       "_view_module_version": "1.2.0",
       "_view_name": "LayoutView",
       "align_content": null,
       "align_items": null,
       "align_self": null,
       "border": null,
       "bottom": null,
       "display": null,
       "flex": null,
       "flex_flow": null,
       "grid_area": null,
       "grid_auto_columns": null,
       "grid_auto_flow": null,
       "grid_auto_rows": null,
       "grid_column": null,
       "grid_gap": null,
       "grid_row": null,
       "grid_template_areas": null,
       "grid_template_columns": null,
       "grid_template_rows": null,
       "height": null,
       "justify_content": null,
       "justify_items": null,
       "left": null,
       "margin": null,
       "max_height": null,
       "max_width": null,
       "min_height": null,
       "min_width": null,
       "object_fit": null,
       "object_position": null,
       "order": null,
       "overflow": null,
       "overflow_x": null,
       "overflow_y": null,
       "padding": null,
       "right": null,
       "top": null,
       "visibility": null,
       "width": null
      }
     },
     "0f051c2735e343cfb0e1cdeb0c2d9214": {
      "model_module": "@jupyter-widgets/base",
      "model_module_version": "1.2.0",
      "model_name": "LayoutModel",
      "state": {
       "_model_module": "@jupyter-widgets/base",
       "_model_module_version": "1.2.0",
       "_model_name": "LayoutModel",
       "_view_count": null,
       "_view_module": "@jupyter-widgets/base",
       "_view_module_version": "1.2.0",
       "_view_name": "LayoutView",
       "align_content": null,
       "align_items": null,
       "align_self": null,
       "border": null,
       "bottom": null,
       "display": null,
       "flex": null,
       "flex_flow": null,
       "grid_area": null,
       "grid_auto_columns": null,
       "grid_auto_flow": null,
       "grid_auto_rows": null,
       "grid_column": null,
       "grid_gap": null,
       "grid_row": null,
       "grid_template_areas": null,
       "grid_template_columns": null,
       "grid_template_rows": null,
       "height": null,
       "justify_content": null,
       "justify_items": null,
       "left": null,
       "margin": null,
       "max_height": null,
       "max_width": null,
       "min_height": null,
       "min_width": null,
       "object_fit": null,
       "object_position": null,
       "order": null,
       "overflow": null,
       "overflow_x": null,
       "overflow_y": null,
       "padding": null,
       "right": null,
       "top": null,
       "visibility": null,
       "width": null
      }
     },
     "125a25e4547344d3b4a46b0f8a8deff1": {
      "model_module": "@jupyter-widgets/controls",
      "model_module_version": "1.5.0",
      "model_name": "ProgressStyleModel",
      "state": {
       "_model_module": "@jupyter-widgets/controls",
       "_model_module_version": "1.5.0",
       "_model_name": "ProgressStyleModel",
       "_view_count": null,
       "_view_module": "@jupyter-widgets/base",
       "_view_module_version": "1.2.0",
       "_view_name": "StyleView",
       "bar_color": null,
       "description_width": ""
      }
     },
     "1ed4a0e0d5074c17b5b3716fdc41756b": {
      "model_module": "@jupyter-widgets/controls",
      "model_module_version": "1.5.0",
      "model_name": "DescriptionStyleModel",
      "state": {
       "_model_module": "@jupyter-widgets/controls",
       "_model_module_version": "1.5.0",
       "_model_name": "DescriptionStyleModel",
       "_view_count": null,
       "_view_module": "@jupyter-widgets/base",
       "_view_module_version": "1.2.0",
       "_view_name": "StyleView",
       "description_width": ""
      }
     },
     "20386907eaf34b58ba4e37720096a916": {
      "model_module": "@jupyter-widgets/controls",
      "model_module_version": "1.5.0",
      "model_name": "HBoxModel",
      "state": {
       "_dom_classes": [],
       "_model_module": "@jupyter-widgets/controls",
       "_model_module_version": "1.5.0",
       "_model_name": "HBoxModel",
       "_view_count": null,
       "_view_module": "@jupyter-widgets/controls",
       "_view_module_version": "1.5.0",
       "_view_name": "HBoxView",
       "box_style": "",
       "children": [
        "IPY_MODEL_e3288dbc012248f1af7296faa6c6e57c",
        "IPY_MODEL_f332c5016cbb449f9d6945f339ffb0f9",
        "IPY_MODEL_a7d0270013c0416189509920fc726104"
       ],
       "layout": "IPY_MODEL_c093755261ba44ef97922f2322eeb66d"
      }
     },
     "a5d498cc26ca44db88762f8755e2083f": {
      "model_module": "@jupyter-widgets/base",
      "model_module_version": "1.2.0",
      "model_name": "LayoutModel",
      "state": {
       "_model_module": "@jupyter-widgets/base",
       "_model_module_version": "1.2.0",
       "_model_name": "LayoutModel",
       "_view_count": null,
       "_view_module": "@jupyter-widgets/base",
       "_view_module_version": "1.2.0",
       "_view_name": "LayoutView",
       "align_content": null,
       "align_items": null,
       "align_self": null,
       "border": null,
       "bottom": null,
       "display": null,
       "flex": null,
       "flex_flow": null,
       "grid_area": null,
       "grid_auto_columns": null,
       "grid_auto_flow": null,
       "grid_auto_rows": null,
       "grid_column": null,
       "grid_gap": null,
       "grid_row": null,
       "grid_template_areas": null,
       "grid_template_columns": null,
       "grid_template_rows": null,
       "height": null,
       "justify_content": null,
       "justify_items": null,
       "left": null,
       "margin": null,
       "max_height": null,
       "max_width": null,
       "min_height": null,
       "min_width": null,
       "object_fit": null,
       "object_position": null,
       "order": null,
       "overflow": null,
       "overflow_x": null,
       "overflow_y": null,
       "padding": null,
       "right": null,
       "top": null,
       "visibility": null,
       "width": null
      }
     },
     "a7d0270013c0416189509920fc726104": {
      "model_module": "@jupyter-widgets/controls",
      "model_module_version": "1.5.0",
      "model_name": "HTMLModel",
      "state": {
       "_dom_classes": [],
       "_model_module": "@jupyter-widgets/controls",
       "_model_module_version": "1.5.0",
       "_model_name": "HTMLModel",
       "_view_count": null,
       "_view_module": "@jupyter-widgets/controls",
       "_view_module_version": "1.5.0",
       "_view_name": "HTMLView",
       "description": "",
       "description_tooltip": null,
       "layout": "IPY_MODEL_a5d498cc26ca44db88762f8755e2083f",
       "placeholder": "​",
       "style": "IPY_MODEL_1ed4a0e0d5074c17b5b3716fdc41756b",
       "value": " 1452/1488 [00:00&lt;00:00, 1771.13it/s]"
      }
     },
     "c093755261ba44ef97922f2322eeb66d": {
      "model_module": "@jupyter-widgets/base",
      "model_module_version": "1.2.0",
      "model_name": "LayoutModel",
      "state": {
       "_model_module": "@jupyter-widgets/base",
       "_model_module_version": "1.2.0",
       "_model_name": "LayoutModel",
       "_view_count": null,
       "_view_module": "@jupyter-widgets/base",
       "_view_module_version": "1.2.0",
       "_view_name": "LayoutView",
       "align_content": null,
       "align_items": null,
       "align_self": null,
       "border": null,
       "bottom": null,
       "display": null,
       "flex": null,
       "flex_flow": null,
       "grid_area": null,
       "grid_auto_columns": null,
       "grid_auto_flow": null,
       "grid_auto_rows": null,
       "grid_column": null,
       "grid_gap": null,
       "grid_row": null,
       "grid_template_areas": null,
       "grid_template_columns": null,
       "grid_template_rows": null,
       "height": null,
       "justify_content": null,
       "justify_items": null,
       "left": null,
       "margin": null,
       "max_height": null,
       "max_width": null,
       "min_height": null,
       "min_width": null,
       "object_fit": null,
       "object_position": null,
       "order": null,
       "overflow": null,
       "overflow_x": null,
       "overflow_y": null,
       "padding": null,
       "right": null,
       "top": null,
       "visibility": null,
       "width": null
      }
     },
     "e3288dbc012248f1af7296faa6c6e57c": {
      "model_module": "@jupyter-widgets/controls",
      "model_module_version": "1.5.0",
      "model_name": "HTMLModel",
      "state": {
       "_dom_classes": [],
       "_model_module": "@jupyter-widgets/controls",
       "_model_module_version": "1.5.0",
       "_model_name": "HTMLModel",
       "_view_count": null,
       "_view_module": "@jupyter-widgets/controls",
       "_view_module_version": "1.5.0",
       "_view_name": "HTMLView",
       "description": "",
       "description_tooltip": null,
       "layout": "IPY_MODEL_0f051c2735e343cfb0e1cdeb0c2d9214",
       "placeholder": "​",
       "style": "IPY_MODEL_eaaf33cb6f294a4ab13b1563a3ae3c2f",
       "value": "Extracting pore and throat properties:  98%"
      }
     },
     "eaaf33cb6f294a4ab13b1563a3ae3c2f": {
      "model_module": "@jupyter-widgets/controls",
      "model_module_version": "1.5.0",
      "model_name": "DescriptionStyleModel",
      "state": {
       "_model_module": "@jupyter-widgets/controls",
       "_model_module_version": "1.5.0",
       "_model_name": "DescriptionStyleModel",
       "_view_count": null,
       "_view_module": "@jupyter-widgets/base",
       "_view_module_version": "1.2.0",
       "_view_name": "StyleView",
       "description_width": ""
      }
     },
     "f332c5016cbb449f9d6945f339ffb0f9": {
      "model_module": "@jupyter-widgets/controls",
      "model_module_version": "1.5.0",
      "model_name": "FloatProgressModel",
      "state": {
       "_dom_classes": [],
       "_model_module": "@jupyter-widgets/controls",
       "_model_module_version": "1.5.0",
       "_model_name": "FloatProgressModel",
       "_view_count": null,
       "_view_module": "@jupyter-widgets/controls",
       "_view_module_version": "1.5.0",
       "_view_name": "ProgressView",
       "bar_style": "",
       "description": "",
       "description_tooltip": null,
       "layout": "IPY_MODEL_0850fa578bd04d7d8a91739502887815",
       "max": 1488.0,
       "min": 0.0,
       "orientation": "horizontal",
       "style": "IPY_MODEL_125a25e4547344d3b4a46b0f8a8deff1",
       "value": 1488.0
      }
     }
    },
    "version_major": 2,
    "version_minor": 0
   }
  }
 },
 "nbformat": 4,
 "nbformat_minor": 4
}
